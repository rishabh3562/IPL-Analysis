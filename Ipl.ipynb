{
 "cells": [
  {
   "cell_type": "markdown",
   "id": "7abf5319",
   "metadata": {
    "id": "tRsps3iavUmM",
    "papermill": {
     "duration": 0.022622,
     "end_time": "2025-03-14T14:32:45.585506",
     "exception": false,
     "start_time": "2025-03-14T14:32:45.562884",
     "status": "completed"
    },
    "tags": []
   },
   "source": [
    "# 📊 IPL Cricket Analysis & Match Predictions 🏏  "
   ]
  },
  {
   "cell_type": "markdown",
   "id": "67f5eb89",
   "metadata": {
    "id": "JFGJ3AJzvUmT",
    "papermill": {
     "duration": 0.020797,
     "end_time": "2025-03-14T14:32:45.627865",
     "exception": false,
     "start_time": "2025-03-14T14:32:45.607068",
     "status": "completed"
    },
    "tags": []
   },
   "source": [
    "1. [Introduction](#1-introduction)  \n",
    "2. [Data Loading & Merging](#2-data-loading-merging)  \n",
    "3. [Data Cleaning & Preprocessing](#3-data-cleaning-preprocessing)  \n",
    "4. [Feature Engineering](#4-feature-engineering)  \n",
    "5. [Exploratory Data Analysis (EDA)](#5-exploratory-data-analysis-eda)  \n",
    "6. [Model Building](#6-model-building)  \n",
    "7. [Results & Conclusions](#7-results-conclusions)  \n"
   ]
  },
  {
   "cell_type": "markdown",
   "id": "71684822",
   "metadata": {
    "id": "gnWRFtAXvUmW",
    "papermill": {
     "duration": 0.020371,
     "end_time": "2025-03-14T14:32:45.669047",
     "exception": false,
     "start_time": "2025-03-14T14:32:45.648676",
     "status": "completed"
    },
    "tags": []
   },
   "source": [
    "<a id=\"1-introduction\"></a>\n",
    "# 📌 1. Introduction  \n",
    "- Overview of the IPL dataset (matches + deliveries).  \n",
    "- Objectives: Perform basic EDA  "
   ]
  },
  {
   "cell_type": "markdown",
   "id": "346f8f2b",
   "metadata": {
    "id": "KuAAzEy-6Sfb",
    "papermill": {
     "duration": 0.019957,
     "end_time": "2025-03-14T14:32:45.709264",
     "exception": false,
     "start_time": "2025-03-14T14:32:45.689307",
     "status": "completed"
    },
    "tags": []
   },
   "source": [
    "## data set overview:\n",
    "\n",
    "[https://www.kaggle.com/datasets/patrickb1912/ipl-complete-dataset-20082020](https://www.kaggle.com/datasets/patrickb1912/ipl-complete-dataset-20082020)"
   ]
  },
  {
   "cell_type": "code",
   "execution_count": 1,
   "id": "3e103bf2",
   "metadata": {
    "execution": {
     "iopub.execute_input": "2025-03-14T14:32:45.751936Z",
     "iopub.status.busy": "2025-03-14T14:32:45.751478Z",
     "iopub.status.idle": "2025-03-14T14:32:51.938231Z",
     "shell.execute_reply": "2025-03-14T14:32:51.936521Z"
    },
    "id": "zaJRc352ueFj",
    "outputId": "a44ecab1-0e45-41e6-f5f4-72a49cd7cbee",
    "papermill": {
     "duration": 6.21033,
     "end_time": "2025-03-14T14:32:51.940201",
     "exception": false,
     "start_time": "2025-03-14T14:32:45.729871",
     "status": "completed"
    },
    "scrolled": true,
    "tags": []
   },
   "outputs": [
    {
     "name": "stdout",
     "output_type": "stream",
     "text": [
      "Requirement already satisfied: numpy in /usr/local/lib/python3.10/dist-packages (1.26.4)\r\n",
      "Requirement already satisfied: pandas in /usr/local/lib/python3.10/dist-packages (2.2.3)\r\n",
      "Requirement already satisfied: matplotlib in /usr/local/lib/python3.10/dist-packages (3.7.5)\r\n",
      "Requirement already satisfied: seaborn in /usr/local/lib/python3.10/dist-packages (0.12.2)\r\n",
      "Requirement already satisfied: scikit-learn in /usr/local/lib/python3.10/dist-packages (1.2.2)\r\n",
      "Requirement already satisfied: plotly in /usr/local/lib/python3.10/dist-packages (5.24.1)\r\n",
      "Requirement already satisfied: mkl_fft in /usr/local/lib/python3.10/dist-packages (from numpy) (1.3.8)\r\n",
      "Requirement already satisfied: mkl_random in /usr/local/lib/python3.10/dist-packages (from numpy) (1.2.4)\r\n",
      "Requirement already satisfied: mkl_umath in /usr/local/lib/python3.10/dist-packages (from numpy) (0.1.1)\r\n",
      "Requirement already satisfied: mkl in /usr/local/lib/python3.10/dist-packages (from numpy) (2025.0.1)\r\n",
      "Requirement already satisfied: tbb4py in /usr/local/lib/python3.10/dist-packages (from numpy) (2022.0.0)\r\n",
      "Requirement already satisfied: mkl-service in /usr/local/lib/python3.10/dist-packages (from numpy) (2.4.1)\r\n",
      "Requirement already satisfied: python-dateutil>=2.8.2 in /usr/local/lib/python3.10/dist-packages (from pandas) (2.9.0.post0)\r\n",
      "Requirement already satisfied: pytz>=2020.1 in /usr/local/lib/python3.10/dist-packages (from pandas) (2025.1)\r\n",
      "Requirement already satisfied: tzdata>=2022.7 in /usr/local/lib/python3.10/dist-packages (from pandas) (2025.1)\r\n",
      "Requirement already satisfied: contourpy>=1.0.1 in /usr/local/lib/python3.10/dist-packages (from matplotlib) (1.3.1)\r\n",
      "Requirement already satisfied: cycler>=0.10 in /usr/local/lib/python3.10/dist-packages (from matplotlib) (0.12.1)\r\n",
      "Requirement already satisfied: fonttools>=4.22.0 in /usr/local/lib/python3.10/dist-packages (from matplotlib) (4.55.3)\r\n",
      "Requirement already satisfied: kiwisolver>=1.0.1 in /usr/local/lib/python3.10/dist-packages (from matplotlib) (1.4.7)\r\n",
      "Requirement already satisfied: packaging>=20.0 in /usr/local/lib/python3.10/dist-packages (from matplotlib) (24.2)\r\n",
      "Requirement already satisfied: pillow>=6.2.0 in /usr/local/lib/python3.10/dist-packages (from matplotlib) (11.0.0)\r\n",
      "Requirement already satisfied: pyparsing>=2.3.1 in /usr/local/lib/python3.10/dist-packages (from matplotlib) (3.2.0)\r\n",
      "Requirement already satisfied: scipy>=1.3.2 in /usr/local/lib/python3.10/dist-packages (from scikit-learn) (1.13.1)\r\n",
      "Requirement already satisfied: joblib>=1.1.1 in /usr/local/lib/python3.10/dist-packages (from scikit-learn) (1.4.2)\r\n",
      "Requirement already satisfied: threadpoolctl>=2.0.0 in /usr/local/lib/python3.10/dist-packages (from scikit-learn) (3.5.0)\r\n",
      "Requirement already satisfied: tenacity>=6.2.0 in /usr/local/lib/python3.10/dist-packages (from plotly) (9.0.0)\r\n",
      "Requirement already satisfied: six>=1.5 in /usr/local/lib/python3.10/dist-packages (from python-dateutil>=2.8.2->pandas) (1.17.0)\r\n",
      "Requirement already satisfied: intel-openmp>=2024 in /usr/local/lib/python3.10/dist-packages (from mkl->numpy) (2024.2.0)\r\n",
      "Requirement already satisfied: tbb==2022.* in /usr/local/lib/python3.10/dist-packages (from mkl->numpy) (2022.0.0)\r\n",
      "Requirement already satisfied: tcmlib==1.* in /usr/local/lib/python3.10/dist-packages (from tbb==2022.*->mkl->numpy) (1.2.0)\r\n",
      "Requirement already satisfied: intel-cmplr-lib-rt in /usr/local/lib/python3.10/dist-packages (from mkl_umath->numpy) (2024.2.0)\r\n",
      "Requirement already satisfied: intel-cmplr-lib-ur==2024.2.0 in /usr/local/lib/python3.10/dist-packages (from intel-openmp>=2024->mkl->numpy) (2024.2.0)\r\n",
      "Note: you may need to restart the kernel to use updated packages.\n"
     ]
    }
   ],
   "source": [
    "pip install numpy pandas matplotlib seaborn scikit-learn plotly"
   ]
  },
  {
   "cell_type": "code",
   "execution_count": 2,
   "id": "2b922367",
   "metadata": {
    "_cell_guid": "b1076dfc-b9ad-4769-8c92-a6c4dae69d19",
    "_uuid": "8f2839f25d086af736a60e9eeb907d3b93b6e0e5",
    "execution": {
     "iopub.execute_input": "2025-03-14T14:32:51.982997Z",
     "iopub.status.busy": "2025-03-14T14:32:51.982600Z",
     "iopub.status.idle": "2025-03-14T14:32:53.037305Z",
     "shell.execute_reply": "2025-03-14T14:32:53.035803Z"
    },
    "id": "IMqDddccsrDw",
    "papermill": {
     "duration": 1.078389,
     "end_time": "2025-03-14T14:32:53.039273",
     "exception": false,
     "start_time": "2025-03-14T14:32:51.960884",
     "status": "completed"
    },
    "tags": []
   },
   "outputs": [
    {
     "name": "stdout",
     "output_type": "stream",
     "text": [
      "/kaggle/input/ipl-complete-dataset-20082020/matches.csv\n",
      "/kaggle/input/ipl-complete-dataset-20082020/deliveries.csv\n"
     ]
    }
   ],
   "source": [
    "# This Python 3 environment comes with many helpful analytics libraries installed\n",
    "# It is defined by the kaggle/python Docker image: https://github.com/kaggle/docker-python\n",
    "# For example, here's several helpful packages to load\n",
    "\n",
    "import numpy as np # linear algebra\n",
    "import pandas as pd # data processing, CSV file I/O (e.g. pd.read_csv)\n",
    "\n",
    "# Input data files are available in the read-only \"../input/\" directory\n",
    "# For example, running this (by clicking run or pressing Shift+Enter) will list all files under the input directory\n",
    "\n",
    "import os\n",
    "for dirname, _, filenames in os.walk('/kaggle/input'):\n",
    "    for filename in filenames:\n",
    "        print(os.path.join(dirname, filename))\n",
    "\n",
    "# You can write up to 20GB to the current directory (/kaggle/working/) that gets preserved as output when you create a version using \"Save & Run All\"\n",
    "# You can also write temporary files to /kaggle/temp/, but they won't be saved outside of the current session"
   ]
  },
  {
   "cell_type": "markdown",
   "id": "71bd7071",
   "metadata": {
    "id": "TG8PhxggvUmb",
    "papermill": {
     "duration": 0.021311,
     "end_time": "2025-03-14T14:32:53.082504",
     "exception": false,
     "start_time": "2025-03-14T14:32:53.061193",
     "status": "completed"
    },
    "tags": []
   },
   "source": [
    "<a id=\"2-data-loading-merging\"></a>\n",
    "# 📂 2. Data Loading & Merging  \n",
    "- Import datasets (`matches.csv` and `deliveries.csv`).  \n",
    "- Merge data using `match_id`.  \n",
    "- Display merged DataFrame structure.   \n"
   ]
  },
  {
   "cell_type": "markdown",
   "id": "b8e61e59",
   "metadata": {
    "id": "1y9285CuvUmc",
    "papermill": {
     "duration": 0.020809,
     "end_time": "2025-03-14T14:32:53.124165",
     "exception": false,
     "start_time": "2025-03-14T14:32:53.103356",
     "status": "completed"
    },
    "tags": []
   },
   "source": [
    "### imports "
   ]
  },
  {
   "cell_type": "code",
   "execution_count": 3,
   "id": "9b5e5419",
   "metadata": {
    "execution": {
     "iopub.execute_input": "2025-03-14T14:32:53.170421Z",
     "iopub.status.busy": "2025-03-14T14:32:53.169800Z",
     "iopub.status.idle": "2025-03-14T14:32:55.790501Z",
     "shell.execute_reply": "2025-03-14T14:32:55.789211Z"
    },
    "id": "zHh6T9wEvbUZ",
    "outputId": "bd487ada-227e-47a4-c470-f200627edf0c",
    "papermill": {
     "duration": 2.646462,
     "end_time": "2025-03-14T14:32:55.792570",
     "exception": false,
     "start_time": "2025-03-14T14:32:53.146108",
     "status": "completed"
    },
    "tags": []
   },
   "outputs": [
    {
     "name": "stdout",
     "output_type": "stream",
     "text": [
      "['matches.csv', 'deliveries.csv']\n"
     ]
    }
   ],
   "source": [
    "import os\n",
    "import pandas as pd\n",
    "import matplotlib.pyplot as plt\n",
    "import seaborn as sns\n",
    "import warnings\n",
    "from sklearn.model_selection import train_test_split\n",
    "from sklearn.ensemble import RandomForestClassifier\n",
    "from sklearn.metrics import accuracy_score, classification_report\n",
    "\n",
    "warnings.filterwarnings('ignore')\n",
    "sns.set_style('darkgrid')\n",
    "\n",
    "# List available files in dataset\n",
    "dataset_path = \"/kaggle/input/ipl-complete-dataset-20082020\"\n",
    "print(os.listdir(dataset_path))\n"
   ]
  },
  {
   "cell_type": "markdown",
   "id": "b95cb6d2",
   "metadata": {
    "id": "UJqUifHpvUmf",
    "papermill": {
     "duration": 0.021498,
     "end_time": "2025-03-14T14:32:55.835843",
     "exception": false,
     "start_time": "2025-03-14T14:32:55.814345",
     "status": "completed"
    },
    "tags": []
   },
   "source": [
    "### Loading data and merging it"
   ]
  },
  {
   "cell_type": "code",
   "execution_count": 4,
   "id": "a304b8ae",
   "metadata": {
    "execution": {
     "iopub.execute_input": "2025-03-14T14:32:55.881185Z",
     "iopub.status.busy": "2025-03-14T14:32:55.880513Z",
     "iopub.status.idle": "2025-03-14T14:32:57.039644Z",
     "shell.execute_reply": "2025-03-14T14:32:57.038310Z"
    },
    "id": "1MMFnoA64FD9",
    "papermill": {
     "duration": 1.184755,
     "end_time": "2025-03-14T14:32:57.042110",
     "exception": false,
     "start_time": "2025-03-14T14:32:55.857355",
     "status": "completed"
    },
    "tags": []
   },
   "outputs": [],
   "source": [
    "\n",
    "# Load datasets\n",
    "bowls = pd.read_csv(f\"{dataset_path}/deliveries.csv\")\n",
    "matches = pd.read_csv(f\"{dataset_path}/matches.csv\")\n",
    "\n",
    "# Merge season info into bowls dataset using 'match_id'\n",
    "\n",
    "df = bowls.merge(\n",
    "    matches,\n",
    "    left_on='match_id',\n",
    "    right_on='id',\n",
    "    how='left'\n",
    ")\n"
   ]
  },
  {
   "cell_type": "markdown",
   "id": "b0c4d613",
   "metadata": {
    "id": "m8TIYIzFvUmh",
    "papermill": {
     "duration": 0.022679,
     "end_time": "2025-03-14T14:32:57.088240",
     "exception": false,
     "start_time": "2025-03-14T14:32:57.065561",
     "status": "completed"
    },
    "tags": []
   },
   "source": [
    "<a id=\"3-data-cleaning-preprocessing\"></a>\n",
    "# 🧹 3. Data Cleaning & Preprocessing  \n",
    "- Handle missing values (e.g., `extras_type`, `winner`).  \n",
    "- Feature engineering (e.g., `adjusted_over_ball`).  \n",
    "- Validate cleaned data with sanity checks.  "
   ]
  },
  {
   "cell_type": "markdown",
   "id": "a304b306",
   "metadata": {
    "id": "2ZuMq7q7vUmh",
    "papermill": {
     "duration": 0.020714,
     "end_time": "2025-03-14T14:32:57.130193",
     "exception": false,
     "start_time": "2025-03-14T14:32:57.109479",
     "status": "completed"
    },
    "tags": []
   },
   "source": [
    "<a id=\"31-simple-values-fill\"></a>\n",
    "## 3.1 Simple Values Fill\n"
   ]
  },
  {
   "cell_type": "markdown",
   "id": "a59883b3",
   "metadata": {
    "id": "O9ZffCRmvUmi",
    "papermill": {
     "duration": 0.021899,
     "end_time": "2025-03-14T14:32:57.174282",
     "exception": false,
     "start_time": "2025-03-14T14:32:57.152383",
     "status": "completed"
    },
    "tags": []
   },
   "source": [
    "### 3.1.1 🔍 Count of Missing Values in Each Column before cleaning  \n",
    "<a id=\"3-1-1-count-missing-values\"></a>"
   ]
  },
  {
   "cell_type": "code",
   "execution_count": 5,
   "id": "58bc215a",
   "metadata": {
    "execution": {
     "iopub.execute_input": "2025-03-14T14:32:57.218777Z",
     "iopub.status.busy": "2025-03-14T14:32:57.218354Z",
     "iopub.status.idle": "2025-03-14T14:32:57.824548Z",
     "shell.execute_reply": "2025-03-14T14:32:57.823309Z"
    },
    "id": "Bkbyj4RQvUmi",
    "outputId": "05b77a18-7627-4d34-c2a0-352313cd540d",
    "papermill": {
     "duration": 0.631174,
     "end_time": "2025-03-14T14:32:57.826602",
     "exception": false,
     "start_time": "2025-03-14T14:32:57.195428",
     "status": "completed"
    },
    "tags": []
   },
   "outputs": [
    {
     "data": {
      "text/plain": [
       "extras_type         246795\n",
       "player_dismissed    247970\n",
       "dismissal_kind      247970\n",
       "fielder             251566\n",
       "city                 12397\n",
       "player_of_match        490\n",
       "winner                 490\n",
       "result_margin         4124\n",
       "target_runs            309\n",
       "target_overs           309\n",
       "method              257274\n",
       "dtype: int64"
      ]
     },
     "execution_count": 5,
     "metadata": {},
     "output_type": "execute_result"
    }
   ],
   "source": [
    "df.isnull().sum()[df.isnull().sum() > 0]"
   ]
  },
  {
   "cell_type": "markdown",
   "id": "34079788",
   "metadata": {
    "id": "vENBR_PhvUmj",
    "papermill": {
     "duration": 0.022108,
     "end_time": "2025-03-14T14:32:57.870324",
     "exception": false,
     "start_time": "2025-03-14T14:32:57.848216",
     "status": "completed"
    },
    "tags": []
   },
   "source": [
    "### 3.1.2 🧹 Handling Missing Values in df Data which are easy to replace  \n",
    "<a id=\"3-1-2-handling-missing-values\"></a>\n"
   ]
  },
  {
   "cell_type": "code",
   "execution_count": 6,
   "id": "eb289c30",
   "metadata": {
    "execution": {
     "iopub.execute_input": "2025-03-14T14:32:58.000611Z",
     "iopub.status.busy": "2025-03-14T14:32:58.000231Z",
     "iopub.status.idle": "2025-03-14T14:32:58.114267Z",
     "shell.execute_reply": "2025-03-14T14:32:58.113037Z"
    },
    "id": "TaQ8o57YzrjO",
    "outputId": "07efd6e2-7b05-4870-a7f3-42cc5bfce409",
    "papermill": {
     "duration": 0.138433,
     "end_time": "2025-03-14T14:32:58.116386",
     "exception": false,
     "start_time": "2025-03-14T14:32:57.977953",
     "status": "completed"
    },
    "tags": []
   },
   "outputs": [
    {
     "data": {
      "text/html": [
       "<div>\n",
       "<style scoped>\n",
       "    .dataframe tbody tr th:only-of-type {\n",
       "        vertical-align: middle;\n",
       "    }\n",
       "\n",
       "    .dataframe tbody tr th {\n",
       "        vertical-align: top;\n",
       "    }\n",
       "\n",
       "    .dataframe thead th {\n",
       "        text-align: right;\n",
       "    }\n",
       "</style>\n",
       "<table border=\"1\" class=\"dataframe\">\n",
       "  <thead>\n",
       "    <tr style=\"text-align: right;\">\n",
       "      <th></th>\n",
       "      <th>match_id</th>\n",
       "      <th>inning</th>\n",
       "      <th>batting_team</th>\n",
       "      <th>bowling_team</th>\n",
       "      <th>over</th>\n",
       "      <th>ball</th>\n",
       "      <th>batter</th>\n",
       "      <th>bowler</th>\n",
       "      <th>non_striker</th>\n",
       "      <th>batsman_runs</th>\n",
       "      <th>...</th>\n",
       "      <th>toss_decision</th>\n",
       "      <th>winner</th>\n",
       "      <th>result</th>\n",
       "      <th>result_margin</th>\n",
       "      <th>target_runs</th>\n",
       "      <th>target_overs</th>\n",
       "      <th>super_over</th>\n",
       "      <th>method</th>\n",
       "      <th>umpire1</th>\n",
       "      <th>umpire2</th>\n",
       "    </tr>\n",
       "  </thead>\n",
       "  <tbody>\n",
       "    <tr>\n",
       "      <th>0</th>\n",
       "      <td>335982</td>\n",
       "      <td>1</td>\n",
       "      <td>Kolkata Knight Riders</td>\n",
       "      <td>Royal Challengers Bangalore</td>\n",
       "      <td>0</td>\n",
       "      <td>1</td>\n",
       "      <td>SC Ganguly</td>\n",
       "      <td>P Kumar</td>\n",
       "      <td>BB McCullum</td>\n",
       "      <td>0</td>\n",
       "      <td>...</td>\n",
       "      <td>field</td>\n",
       "      <td>Kolkata Knight Riders</td>\n",
       "      <td>runs</td>\n",
       "      <td>140.0</td>\n",
       "      <td>223.0</td>\n",
       "      <td>20.0</td>\n",
       "      <td>N</td>\n",
       "      <td>Normal</td>\n",
       "      <td>Asad Rauf</td>\n",
       "      <td>RE Koertzen</td>\n",
       "    </tr>\n",
       "    <tr>\n",
       "      <th>1</th>\n",
       "      <td>335982</td>\n",
       "      <td>1</td>\n",
       "      <td>Kolkata Knight Riders</td>\n",
       "      <td>Royal Challengers Bangalore</td>\n",
       "      <td>0</td>\n",
       "      <td>2</td>\n",
       "      <td>BB McCullum</td>\n",
       "      <td>P Kumar</td>\n",
       "      <td>SC Ganguly</td>\n",
       "      <td>0</td>\n",
       "      <td>...</td>\n",
       "      <td>field</td>\n",
       "      <td>Kolkata Knight Riders</td>\n",
       "      <td>runs</td>\n",
       "      <td>140.0</td>\n",
       "      <td>223.0</td>\n",
       "      <td>20.0</td>\n",
       "      <td>N</td>\n",
       "      <td>Normal</td>\n",
       "      <td>Asad Rauf</td>\n",
       "      <td>RE Koertzen</td>\n",
       "    </tr>\n",
       "    <tr>\n",
       "      <th>2</th>\n",
       "      <td>335982</td>\n",
       "      <td>1</td>\n",
       "      <td>Kolkata Knight Riders</td>\n",
       "      <td>Royal Challengers Bangalore</td>\n",
       "      <td>0</td>\n",
       "      <td>3</td>\n",
       "      <td>BB McCullum</td>\n",
       "      <td>P Kumar</td>\n",
       "      <td>SC Ganguly</td>\n",
       "      <td>0</td>\n",
       "      <td>...</td>\n",
       "      <td>field</td>\n",
       "      <td>Kolkata Knight Riders</td>\n",
       "      <td>runs</td>\n",
       "      <td>140.0</td>\n",
       "      <td>223.0</td>\n",
       "      <td>20.0</td>\n",
       "      <td>N</td>\n",
       "      <td>Normal</td>\n",
       "      <td>Asad Rauf</td>\n",
       "      <td>RE Koertzen</td>\n",
       "    </tr>\n",
       "    <tr>\n",
       "      <th>3</th>\n",
       "      <td>335982</td>\n",
       "      <td>1</td>\n",
       "      <td>Kolkata Knight Riders</td>\n",
       "      <td>Royal Challengers Bangalore</td>\n",
       "      <td>0</td>\n",
       "      <td>4</td>\n",
       "      <td>BB McCullum</td>\n",
       "      <td>P Kumar</td>\n",
       "      <td>SC Ganguly</td>\n",
       "      <td>0</td>\n",
       "      <td>...</td>\n",
       "      <td>field</td>\n",
       "      <td>Kolkata Knight Riders</td>\n",
       "      <td>runs</td>\n",
       "      <td>140.0</td>\n",
       "      <td>223.0</td>\n",
       "      <td>20.0</td>\n",
       "      <td>N</td>\n",
       "      <td>Normal</td>\n",
       "      <td>Asad Rauf</td>\n",
       "      <td>RE Koertzen</td>\n",
       "    </tr>\n",
       "    <tr>\n",
       "      <th>4</th>\n",
       "      <td>335982</td>\n",
       "      <td>1</td>\n",
       "      <td>Kolkata Knight Riders</td>\n",
       "      <td>Royal Challengers Bangalore</td>\n",
       "      <td>0</td>\n",
       "      <td>5</td>\n",
       "      <td>BB McCullum</td>\n",
       "      <td>P Kumar</td>\n",
       "      <td>SC Ganguly</td>\n",
       "      <td>0</td>\n",
       "      <td>...</td>\n",
       "      <td>field</td>\n",
       "      <td>Kolkata Knight Riders</td>\n",
       "      <td>runs</td>\n",
       "      <td>140.0</td>\n",
       "      <td>223.0</td>\n",
       "      <td>20.0</td>\n",
       "      <td>N</td>\n",
       "      <td>Normal</td>\n",
       "      <td>Asad Rauf</td>\n",
       "      <td>RE Koertzen</td>\n",
       "    </tr>\n",
       "  </tbody>\n",
       "</table>\n",
       "<p>5 rows × 37 columns</p>\n",
       "</div>"
      ],
      "text/plain": [
       "   match_id  inning           batting_team                 bowling_team  over  \\\n",
       "0    335982       1  Kolkata Knight Riders  Royal Challengers Bangalore     0   \n",
       "1    335982       1  Kolkata Knight Riders  Royal Challengers Bangalore     0   \n",
       "2    335982       1  Kolkata Knight Riders  Royal Challengers Bangalore     0   \n",
       "3    335982       1  Kolkata Knight Riders  Royal Challengers Bangalore     0   \n",
       "4    335982       1  Kolkata Knight Riders  Royal Challengers Bangalore     0   \n",
       "\n",
       "   ball       batter   bowler  non_striker  batsman_runs  ...  toss_decision  \\\n",
       "0     1   SC Ganguly  P Kumar  BB McCullum             0  ...          field   \n",
       "1     2  BB McCullum  P Kumar   SC Ganguly             0  ...          field   \n",
       "2     3  BB McCullum  P Kumar   SC Ganguly             0  ...          field   \n",
       "3     4  BB McCullum  P Kumar   SC Ganguly             0  ...          field   \n",
       "4     5  BB McCullum  P Kumar   SC Ganguly             0  ...          field   \n",
       "\n",
       "                  winner result  result_margin target_runs target_overs  \\\n",
       "0  Kolkata Knight Riders   runs          140.0       223.0         20.0   \n",
       "1  Kolkata Knight Riders   runs          140.0       223.0         20.0   \n",
       "2  Kolkata Knight Riders   runs          140.0       223.0         20.0   \n",
       "3  Kolkata Knight Riders   runs          140.0       223.0         20.0   \n",
       "4  Kolkata Knight Riders   runs          140.0       223.0         20.0   \n",
       "\n",
       "  super_over  method    umpire1      umpire2  \n",
       "0          N  Normal  Asad Rauf  RE Koertzen  \n",
       "1          N  Normal  Asad Rauf  RE Koertzen  \n",
       "2          N  Normal  Asad Rauf  RE Koertzen  \n",
       "3          N  Normal  Asad Rauf  RE Koertzen  \n",
       "4          N  Normal  Asad Rauf  RE Koertzen  \n",
       "\n",
       "[5 rows x 37 columns]"
      ]
     },
     "execution_count": 6,
     "metadata": {},
     "output_type": "execute_result"
    }
   ],
   "source": [
    "df['dismissal_kind'].fillna('Not Out', inplace=True)  # Mark missing dismissals as \"Not Out\"\n",
    "df['extras_type'].fillna('None', inplace=True)  # Replace missing extra type with \"None\"\n",
    "df['fielder'].fillna('None', inplace=True)  # Set missing fielder values to \"None\"\n",
    "df['player_dismissed'].fillna('No Dismissal', inplace=True)  # Indicate no player was dismissed\n",
    "df['winner'].fillna('No Result', inplace=True)  # Assign \"No Result\" to matches with no winner\n",
    "df['method'].fillna('Normal', inplace=True)  # Assume DLS did not affect the match\n",
    "\n",
    "missing_winners = matches[matches['winner'].isnull()]  # Identify matches with missing winners\n",
    "missing_winners\n",
    "\n",
    "matches.loc[matches['result'] == 'no result', 'winner'] = matches['winner'].fillna('No Winner')  # Explicitly mark abandoned matches\n",
    "\n",
    "df.head()  # Display the first few rows of the cleaned dataset\n"
   ]
  },
  {
   "cell_type": "markdown",
   "id": "8531294c",
   "metadata": {
    "id": "wY-cYAF8vUmk",
    "papermill": {
     "duration": 0.02112,
     "end_time": "2025-03-14T14:32:58.159566",
     "exception": false,
     "start_time": "2025-03-14T14:32:58.138446",
     "status": "completed"
    },
    "tags": []
   },
   "source": [
    "### 3.1.3 🔍 Count of Missing Values in Column after partial cleaning  \n",
    "<a id=\"3-1-3-count-missing-values-after-cleaning\"></a>\n"
   ]
  },
  {
   "cell_type": "code",
   "execution_count": 7,
   "id": "74223e0c",
   "metadata": {
    "execution": {
     "iopub.execute_input": "2025-03-14T14:32:58.204214Z",
     "iopub.status.busy": "2025-03-14T14:32:58.203849Z",
     "iopub.status.idle": "2025-03-14T14:32:58.852553Z",
     "shell.execute_reply": "2025-03-14T14:32:58.851188Z"
    },
    "id": "q8qv9wTuvUmk",
    "outputId": "209c11c4-ef82-4964-857a-343dc0f55a07",
    "papermill": {
     "duration": 0.673531,
     "end_time": "2025-03-14T14:32:58.854737",
     "exception": false,
     "start_time": "2025-03-14T14:32:58.181206",
     "status": "completed"
    },
    "tags": []
   },
   "outputs": [
    {
     "data": {
      "text/plain": [
       "city               12397\n",
       "player_of_match      490\n",
       "result_margin       4124\n",
       "target_runs          309\n",
       "target_overs         309\n",
       "dtype: int64"
      ]
     },
     "execution_count": 7,
     "metadata": {},
     "output_type": "execute_result"
    }
   ],
   "source": [
    "df.isnull().sum()[df.isnull().sum() > 0]"
   ]
  },
  {
   "cell_type": "markdown",
   "id": "386f2291",
   "metadata": {
    "id": "t8SkpqM8vUml",
    "papermill": {
     "duration": 0.020997,
     "end_time": "2025-03-14T14:32:58.897223",
     "exception": false,
     "start_time": "2025-03-14T14:32:58.876226",
     "status": "completed"
    },
    "tags": []
   },
   "source": [
    "## 3.2 Handling missing values one by one  \n",
    "<a id=\"3-2-handling-missing-values-one-by-one\"></a>\n"
   ]
  },
  {
   "cell_type": "markdown",
   "id": "3b281bbb",
   "metadata": {
    "id": "mX9zk4v9vUml",
    "papermill": {
     "duration": 0.020501,
     "end_time": "2025-03-14T14:32:58.938847",
     "exception": false,
     "start_time": "2025-03-14T14:32:58.918346",
     "status": "completed"
    },
    "tags": []
   },
   "source": [
    "### 3.2.1 Count of Matches Without Player of the Match  \n",
    "<a id=\"3-2-1-count-matches-without-player\"></a>  "
   ]
  },
  {
   "cell_type": "code",
   "execution_count": 8,
   "id": "f1bb962e",
   "metadata": {
    "execution": {
     "iopub.execute_input": "2025-03-14T14:32:58.982123Z",
     "iopub.status.busy": "2025-03-14T14:32:58.981705Z",
     "iopub.status.idle": "2025-03-14T14:32:59.006280Z",
     "shell.execute_reply": "2025-03-14T14:32:59.004659Z"
    },
    "id": "pLnCxFjFvUml",
    "outputId": "460c3e88-d1e5-4ac7-fb94-2209254410f3",
    "papermill": {
     "duration": 0.048964,
     "end_time": "2025-03-14T14:32:59.008977",
     "exception": false,
     "start_time": "2025-03-14T14:32:58.960013",
     "status": "completed"
    },
    "tags": []
   },
   "outputs": [
    {
     "name": "stdout",
     "output_type": "stream",
     "text": [
      "5 matches have no player of the match.\n"
     ]
    },
    {
     "data": {
      "text/plain": [
       "array([ 501265,  829763,  829813, 1178424, 1359519])"
      ]
     },
     "execution_count": 8,
     "metadata": {},
     "output_type": "execute_result"
    }
   ],
   "source": [
    "missing_pom_matches = df[df['player_of_match'].isnull()]['match_id'].unique()\n",
    "print(len(missing_pom_matches), \"matches have no player of the match.\")\n",
    "missing_pom_matches"
   ]
  },
  {
   "cell_type": "markdown",
   "id": "b08b6662",
   "metadata": {
    "id": "eu-qjwmpvUmm",
    "papermill": {
     "duration": 0.021665,
     "end_time": "2025-03-14T14:32:59.052169",
     "exception": false,
     "start_time": "2025-03-14T14:32:59.030504",
     "status": "completed"
    },
    "tags": []
   },
   "source": [
    "### 3.2.2 Identifying Matches Without a Player of the Match  \n",
    "<a id=\"3-2-2-identify-matches-without-player\"></a>  "
   ]
  },
  {
   "cell_type": "code",
   "execution_count": 9,
   "id": "6814313c",
   "metadata": {
    "execution": {
     "iopub.execute_input": "2025-03-14T14:32:59.097439Z",
     "iopub.status.busy": "2025-03-14T14:32:59.097004Z",
     "iopub.status.idle": "2025-03-14T14:32:59.132955Z",
     "shell.execute_reply": "2025-03-14T14:32:59.131683Z"
    },
    "id": "kYHpdHVhvUmm",
    "outputId": "f3d744dc-2d70-4522-bc44-afdc35e423a7",
    "papermill": {
     "duration": 0.061751,
     "end_time": "2025-03-14T14:32:59.135170",
     "exception": false,
     "start_time": "2025-03-14T14:32:59.073419",
     "status": "completed"
    },
    "tags": []
   },
   "outputs": [
    {
     "data": {
      "text/html": [
       "<div>\n",
       "<style scoped>\n",
       "    .dataframe tbody tr th:only-of-type {\n",
       "        vertical-align: middle;\n",
       "    }\n",
       "\n",
       "    .dataframe tbody tr th {\n",
       "        vertical-align: top;\n",
       "    }\n",
       "\n",
       "    .dataframe thead th {\n",
       "        text-align: right;\n",
       "    }\n",
       "</style>\n",
       "<table border=\"1\" class=\"dataframe\">\n",
       "  <thead>\n",
       "    <tr style=\"text-align: right;\">\n",
       "      <th></th>\n",
       "      <th>match_id</th>\n",
       "      <th>player_of_match</th>\n",
       "      <th>result</th>\n",
       "      <th>winner</th>\n",
       "      <th>method</th>\n",
       "    </tr>\n",
       "  </thead>\n",
       "  <tbody>\n",
       "    <tr>\n",
       "      <th>57068</th>\n",
       "      <td>501265</td>\n",
       "      <td>NaN</td>\n",
       "      <td>no result</td>\n",
       "      <td>No Result</td>\n",
       "      <td>Normal</td>\n",
       "    </tr>\n",
       "    <tr>\n",
       "      <th>115599</th>\n",
       "      <td>829763</td>\n",
       "      <td>NaN</td>\n",
       "      <td>no result</td>\n",
       "      <td>No Result</td>\n",
       "      <td>Normal</td>\n",
       "    </tr>\n",
       "    <tr>\n",
       "      <th>121177</th>\n",
       "      <td>829813</td>\n",
       "      <td>NaN</td>\n",
       "      <td>no result</td>\n",
       "      <td>No Result</td>\n",
       "      <td>Normal</td>\n",
       "    </tr>\n",
       "    <tr>\n",
       "      <th>176392</th>\n",
       "      <td>1178424</td>\n",
       "      <td>NaN</td>\n",
       "      <td>no result</td>\n",
       "      <td>No Result</td>\n",
       "      <td>Normal</td>\n",
       "    </tr>\n",
       "    <tr>\n",
       "      <th>236750</th>\n",
       "      <td>1359519</td>\n",
       "      <td>NaN</td>\n",
       "      <td>no result</td>\n",
       "      <td>No Result</td>\n",
       "      <td>Normal</td>\n",
       "    </tr>\n",
       "  </tbody>\n",
       "</table>\n",
       "</div>"
      ],
      "text/plain": [
       "        match_id player_of_match     result     winner  method\n",
       "57068     501265             NaN  no result  No Result  Normal\n",
       "115599    829763             NaN  no result  No Result  Normal\n",
       "121177    829813             NaN  no result  No Result  Normal\n",
       "176392   1178424             NaN  no result  No Result  Normal\n",
       "236750   1359519             NaN  no result  No Result  Normal"
      ]
     },
     "execution_count": 9,
     "metadata": {},
     "output_type": "execute_result"
    }
   ],
   "source": [
    "missing_pom_matches = df[df['player_of_match'].isnull()]['match_id'].unique()\n",
    "df[df['match_id'].isin(missing_pom_matches)][['match_id','player_of_match', 'result', 'winner', 'method']].drop_duplicates()"
   ]
  },
  {
   "cell_type": "markdown",
   "id": "17f744d9",
   "metadata": {
    "id": "bLZxK6XmvUmn",
    "papermill": {
     "duration": 0.021158,
     "end_time": "2025-03-14T14:32:59.178210",
     "exception": false,
     "start_time": "2025-03-14T14:32:59.157052",
     "status": "completed"
    },
    "tags": []
   },
   "source": [
    "### 3.2.3 Assign \"No Player\" to Matches with \"No Result\"  \n",
    "<a id=\"3-234-assign-no-player-no-result\"></a>"
   ]
  },
  {
   "cell_type": "code",
   "execution_count": 10,
   "id": "18183799",
   "metadata": {
    "execution": {
     "iopub.execute_input": "2025-03-14T14:32:59.223119Z",
     "iopub.status.busy": "2025-03-14T14:32:59.222587Z",
     "iopub.status.idle": "2025-03-14T14:32:59.258451Z",
     "shell.execute_reply": "2025-03-14T14:32:59.256797Z"
    },
    "id": "pBNC7PnVvUmn",
    "papermill": {
     "duration": 0.061032,
     "end_time": "2025-03-14T14:32:59.260604",
     "exception": false,
     "start_time": "2025-03-14T14:32:59.199572",
     "status": "completed"
    },
    "tags": []
   },
   "outputs": [],
   "source": [
    "df.loc[df['match_id'].isin(missing_pom_matches) & (df['result'] == 'no result'), 'player_of_match'] = 'No Player'\n"
   ]
  },
  {
   "cell_type": "markdown",
   "id": "c993e986",
   "metadata": {
    "id": "OFbUoDffvUmo",
    "papermill": {
     "duration": 0.021916,
     "end_time": "2025-03-14T14:32:59.305000",
     "exception": false,
     "start_time": "2025-03-14T14:32:59.283084",
     "status": "completed"
    },
    "tags": []
   },
   "source": [
    "### 3.2.4 ✓ Verifying Matches Still Missing Player of the Match After Fixing  \n",
    "<a id=\"3-243-verify-missing-player-after-fixing\"></a>  "
   ]
  },
  {
   "cell_type": "code",
   "execution_count": 11,
   "id": "e165814a",
   "metadata": {
    "execution": {
     "iopub.execute_input": "2025-03-14T14:32:59.350587Z",
     "iopub.status.busy": "2025-03-14T14:32:59.350128Z",
     "iopub.status.idle": "2025-03-14T14:32:59.388920Z",
     "shell.execute_reply": "2025-03-14T14:32:59.387740Z"
    },
    "id": "3FoXv1fwvUmo",
    "outputId": "06e43e31-229c-4b0f-a712-d7184e5a1984",
    "papermill": {
     "duration": 0.064349,
     "end_time": "2025-03-14T14:32:59.390815",
     "exception": false,
     "start_time": "2025-03-14T14:32:59.326466",
     "status": "completed"
    },
    "tags": []
   },
   "outputs": [
    {
     "data": {
      "text/html": [
       "<div>\n",
       "<style scoped>\n",
       "    .dataframe tbody tr th:only-of-type {\n",
       "        vertical-align: middle;\n",
       "    }\n",
       "\n",
       "    .dataframe tbody tr th {\n",
       "        vertical-align: top;\n",
       "    }\n",
       "\n",
       "    .dataframe thead th {\n",
       "        text-align: right;\n",
       "    }\n",
       "</style>\n",
       "<table border=\"1\" class=\"dataframe\">\n",
       "  <thead>\n",
       "    <tr style=\"text-align: right;\">\n",
       "      <th></th>\n",
       "      <th>match_id</th>\n",
       "      <th>player_of_match</th>\n",
       "      <th>result</th>\n",
       "      <th>winner</th>\n",
       "      <th>method</th>\n",
       "    </tr>\n",
       "  </thead>\n",
       "  <tbody>\n",
       "    <tr>\n",
       "      <th>57068</th>\n",
       "      <td>501265</td>\n",
       "      <td>No Player</td>\n",
       "      <td>no result</td>\n",
       "      <td>No Result</td>\n",
       "      <td>Normal</td>\n",
       "    </tr>\n",
       "    <tr>\n",
       "      <th>115599</th>\n",
       "      <td>829763</td>\n",
       "      <td>No Player</td>\n",
       "      <td>no result</td>\n",
       "      <td>No Result</td>\n",
       "      <td>Normal</td>\n",
       "    </tr>\n",
       "    <tr>\n",
       "      <th>121177</th>\n",
       "      <td>829813</td>\n",
       "      <td>No Player</td>\n",
       "      <td>no result</td>\n",
       "      <td>No Result</td>\n",
       "      <td>Normal</td>\n",
       "    </tr>\n",
       "    <tr>\n",
       "      <th>176392</th>\n",
       "      <td>1178424</td>\n",
       "      <td>No Player</td>\n",
       "      <td>no result</td>\n",
       "      <td>No Result</td>\n",
       "      <td>Normal</td>\n",
       "    </tr>\n",
       "    <tr>\n",
       "      <th>236750</th>\n",
       "      <td>1359519</td>\n",
       "      <td>No Player</td>\n",
       "      <td>no result</td>\n",
       "      <td>No Result</td>\n",
       "      <td>Normal</td>\n",
       "    </tr>\n",
       "  </tbody>\n",
       "</table>\n",
       "</div>"
      ],
      "text/plain": [
       "        match_id player_of_match     result     winner  method\n",
       "57068     501265       No Player  no result  No Result  Normal\n",
       "115599    829763       No Player  no result  No Result  Normal\n",
       "121177    829813       No Player  no result  No Result  Normal\n",
       "176392   1178424       No Player  no result  No Result  Normal\n",
       "236750   1359519       No Player  no result  No Result  Normal"
      ]
     },
     "execution_count": 11,
     "metadata": {},
     "output_type": "execute_result"
    }
   ],
   "source": [
    "missing_pom_matches_after_fixing = df[df['player_of_match']=='No Player']['match_id'].unique()\n",
    "df[df['match_id'].isin(missing_pom_matches_after_fixing)][['match_id','player_of_match', 'result', 'winner', 'method']].drop_duplicates()\n"
   ]
  },
  {
   "cell_type": "markdown",
   "id": "1c65dadf",
   "metadata": {
    "id": "AT_76njbvUmp",
    "papermill": {
     "duration": 0.021455,
     "end_time": "2025-03-14T14:32:59.433966",
     "exception": false,
     "start_time": "2025-03-14T14:32:59.412511",
     "status": "completed"
    },
    "tags": []
   },
   "source": [
    "### 3.2.5 ✓ Mapping Venues to Cities & Identifying Null City Entries  \n",
    "<a id=\"3-2-5-mapping-venues-null-city\"></a>"
   ]
  },
  {
   "cell_type": "code",
   "execution_count": 12,
   "id": "eb0baed5",
   "metadata": {
    "execution": {
     "iopub.execute_input": "2025-03-14T14:32:59.479967Z",
     "iopub.status.busy": "2025-03-14T14:32:59.479544Z",
     "iopub.status.idle": "2025-03-14T14:32:59.583850Z",
     "shell.execute_reply": "2025-03-14T14:32:59.582400Z"
    },
    "id": "TIGdpbhBvUmp",
    "outputId": "894abeca-3f93-4d6c-a5fe-01cc7aaf3dce",
    "papermill": {
     "duration": 0.129798,
     "end_time": "2025-03-14T14:32:59.585653",
     "exception": false,
     "start_time": "2025-03-14T14:32:59.455855",
     "status": "completed"
    },
    "tags": []
   },
   "outputs": [
    {
     "data": {
      "text/plain": [
       "venue\n",
       "Dubai International Cricket Stadium    8080\n",
       "Sharjah Cricket Stadium                4317\n",
       "Name: count, dtype: int64"
      ]
     },
     "execution_count": 12,
     "metadata": {},
     "output_type": "execute_result"
    }
   ],
   "source": [
    "# Create a mapping of venue -> city from available data\n",
    "venue_city_map = df[['venue', 'city']].dropna().drop_duplicates().set_index('venue')['city'].to_dict()\n",
    "\n",
    "\n",
    "venue_of_null_cities=df[df['city'].isnull()][['venue','season','city','match_id']]\n",
    "venue_of_null_cities['venue'].value_counts()"
   ]
  },
  {
   "cell_type": "markdown",
   "id": "658f4e1d",
   "metadata": {
    "id": "yzJHHfKOvUmq",
    "papermill": {
     "duration": 0.021844,
     "end_time": "2025-03-14T14:32:59.630396",
     "exception": false,
     "start_time": "2025-03-14T14:32:59.608552",
     "status": "completed"
    },
    "tags": []
   },
   "source": [
    "### 3.2.6 Manually Fixing Missing City Names  \n",
    "<a id=\"3-2-6-fix-missing-city-names\"></a>"
   ]
  },
  {
   "cell_type": "code",
   "execution_count": 13,
   "id": "8399f09b",
   "metadata": {
    "execution": {
     "iopub.execute_input": "2025-03-14T14:32:59.688250Z",
     "iopub.status.busy": "2025-03-14T14:32:59.687620Z",
     "iopub.status.idle": "2025-03-14T14:33:02.152994Z",
     "shell.execute_reply": "2025-03-14T14:33:02.151505Z"
    },
    "id": "MaiLsiLmvUmq",
    "papermill": {
     "duration": 2.497579,
     "end_time": "2025-03-14T14:33:02.155205",
     "exception": false,
     "start_time": "2025-03-14T14:32:59.657626",
     "status": "completed"
    },
    "tags": []
   },
   "outputs": [],
   "source": [
    "#manually fixing the cities name\n",
    "venue_city_map.update({\n",
    "    'Dubai International Cricket Stadium': 'Dubai',\n",
    "    'Sharjah Cricket Stadium': 'Sharjah'\n",
    "})\n",
    "\n",
    "df['city'] = df.apply(lambda x: venue_city_map.get(x['venue'], x['city']), axis=1)\n"
   ]
  },
  {
   "cell_type": "markdown",
   "id": "b5aaf43b",
   "metadata": {
    "id": "w4CPEWEcvUmr",
    "papermill": {
     "duration": 0.023873,
     "end_time": "2025-03-14T14:33:02.202783",
     "exception": false,
     "start_time": "2025-03-14T14:33:02.178910",
     "status": "completed"
    },
    "tags": []
   },
   "source": [
    "### 3.2.7 Identifying Matches with Missing Result Margins  \n",
    "<a id=\"3-2-7-identify-missing-result-margins\"></a>  "
   ]
  },
  {
   "cell_type": "code",
   "execution_count": 14,
   "id": "d2120ea9",
   "metadata": {
    "execution": {
     "iopub.execute_input": "2025-03-14T14:33:02.247890Z",
     "iopub.status.busy": "2025-03-14T14:33:02.247395Z",
     "iopub.status.idle": "2025-03-14T14:33:02.257455Z",
     "shell.execute_reply": "2025-03-14T14:33:02.255873Z"
    },
    "id": "iOP7HjsZvUmr",
    "outputId": "804309b2-bc91-410d-c309-23d64c9e6f66",
    "papermill": {
     "duration": 0.035098,
     "end_time": "2025-03-14T14:33:02.259796",
     "exception": false,
     "start_time": "2025-03-14T14:33:02.224698",
     "status": "completed"
    },
    "tags": []
   },
   "outputs": [
    {
     "name": "stdout",
     "output_type": "stream",
     "text": [
      "[ 392190  419121  501265  598004  598017  729315  829741  829763  829813\n",
      " 1082625 1175365 1178424 1178426 1216493 1216512 1216517 1216547 1254077\n",
      " 1359519]\n"
     ]
    }
   ],
   "source": [
    "missing_result_margin_matches = df[df['result_margin'].isnull()]['match_id'].unique()\n",
    "print(missing_result_margin_matches)\n"
   ]
  },
  {
   "cell_type": "markdown",
   "id": "2e17d676",
   "metadata": {
    "id": "EiVStN1cvUms",
    "papermill": {
     "duration": 0.021702,
     "end_time": "2025-03-14T14:33:02.303510",
     "exception": false,
     "start_time": "2025-03-14T14:33:02.281808",
     "status": "completed"
    },
    "tags": []
   },
   "source": [
    "### 3.2.8 Inspecting Matches with Missing Result Margins  \n",
    "<a id=\"3-2-8-inspect-missing-result-margins\"></a>  \n"
   ]
  },
  {
   "cell_type": "code",
   "execution_count": 15,
   "id": "133c85d4",
   "metadata": {
    "execution": {
     "iopub.execute_input": "2025-03-14T14:33:02.348616Z",
     "iopub.status.busy": "2025-03-14T14:33:02.348187Z",
     "iopub.status.idle": "2025-03-14T14:33:02.362808Z",
     "shell.execute_reply": "2025-03-14T14:33:02.361572Z"
    },
    "id": "WllHPClZvUmt",
    "outputId": "5d900e65-25cd-42a1-8aa0-e040459692e7",
    "papermill": {
     "duration": 0.03959,
     "end_time": "2025-03-14T14:33:02.364970",
     "exception": false,
     "start_time": "2025-03-14T14:33:02.325380",
     "status": "completed"
    },
    "tags": []
   },
   "outputs": [
    {
     "data": {
      "text/html": [
       "<div>\n",
       "<style scoped>\n",
       "    .dataframe tbody tr th:only-of-type {\n",
       "        vertical-align: middle;\n",
       "    }\n",
       "\n",
       "    .dataframe tbody tr th {\n",
       "        vertical-align: top;\n",
       "    }\n",
       "\n",
       "    .dataframe thead th {\n",
       "        text-align: right;\n",
       "    }\n",
       "</style>\n",
       "<table border=\"1\" class=\"dataframe\">\n",
       "  <thead>\n",
       "    <tr style=\"text-align: right;\">\n",
       "      <th></th>\n",
       "      <th>id</th>\n",
       "      <th>result</th>\n",
       "      <th>result_margin</th>\n",
       "      <th>winner</th>\n",
       "    </tr>\n",
       "  </thead>\n",
       "  <tbody>\n",
       "    <tr>\n",
       "      <th>66</th>\n",
       "      <td>392190</td>\n",
       "      <td>tie</td>\n",
       "      <td>NaN</td>\n",
       "      <td>Rajasthan Royals</td>\n",
       "    </tr>\n",
       "    <tr>\n",
       "      <th>130</th>\n",
       "      <td>419121</td>\n",
       "      <td>tie</td>\n",
       "      <td>NaN</td>\n",
       "      <td>Kings XI Punjab</td>\n",
       "    </tr>\n",
       "    <tr>\n",
       "      <th>241</th>\n",
       "      <td>501265</td>\n",
       "      <td>no result</td>\n",
       "      <td>NaN</td>\n",
       "      <td>No Winner</td>\n",
       "    </tr>\n",
       "    <tr>\n",
       "      <th>328</th>\n",
       "      <td>598004</td>\n",
       "      <td>tie</td>\n",
       "      <td>NaN</td>\n",
       "      <td>Sunrisers Hyderabad</td>\n",
       "    </tr>\n",
       "    <tr>\n",
       "      <th>342</th>\n",
       "      <td>598017</td>\n",
       "      <td>tie</td>\n",
       "      <td>NaN</td>\n",
       "      <td>Royal Challengers Bangalore</td>\n",
       "    </tr>\n",
       "    <tr>\n",
       "      <th>416</th>\n",
       "      <td>729315</td>\n",
       "      <td>tie</td>\n",
       "      <td>NaN</td>\n",
       "      <td>Rajasthan Royals</td>\n",
       "    </tr>\n",
       "    <tr>\n",
       "      <th>475</th>\n",
       "      <td>829741</td>\n",
       "      <td>tie</td>\n",
       "      <td>NaN</td>\n",
       "      <td>Kings XI Punjab</td>\n",
       "    </tr>\n",
       "    <tr>\n",
       "      <th>485</th>\n",
       "      <td>829763</td>\n",
       "      <td>no result</td>\n",
       "      <td>NaN</td>\n",
       "      <td>No Winner</td>\n",
       "    </tr>\n",
       "    <tr>\n",
       "      <th>511</th>\n",
       "      <td>829813</td>\n",
       "      <td>no result</td>\n",
       "      <td>NaN</td>\n",
       "      <td>No Winner</td>\n",
       "    </tr>\n",
       "    <tr>\n",
       "      <th>610</th>\n",
       "      <td>1082625</td>\n",
       "      <td>tie</td>\n",
       "      <td>NaN</td>\n",
       "      <td>Mumbai Indians</td>\n",
       "    </tr>\n",
       "    <tr>\n",
       "      <th>705</th>\n",
       "      <td>1175365</td>\n",
       "      <td>tie</td>\n",
       "      <td>NaN</td>\n",
       "      <td>Delhi Capitals</td>\n",
       "    </tr>\n",
       "    <tr>\n",
       "      <th>744</th>\n",
       "      <td>1178424</td>\n",
       "      <td>no result</td>\n",
       "      <td>NaN</td>\n",
       "      <td>No Winner</td>\n",
       "    </tr>\n",
       "    <tr>\n",
       "      <th>746</th>\n",
       "      <td>1178426</td>\n",
       "      <td>tie</td>\n",
       "      <td>NaN</td>\n",
       "      <td>Mumbai Indians</td>\n",
       "    </tr>\n",
       "    <tr>\n",
       "      <th>757</th>\n",
       "      <td>1216493</td>\n",
       "      <td>tie</td>\n",
       "      <td>NaN</td>\n",
       "      <td>Delhi Capitals</td>\n",
       "    </tr>\n",
       "    <tr>\n",
       "      <th>765</th>\n",
       "      <td>1216547</td>\n",
       "      <td>tie</td>\n",
       "      <td>NaN</td>\n",
       "      <td>Royal Challengers Bangalore</td>\n",
       "    </tr>\n",
       "    <tr>\n",
       "      <th>790</th>\n",
       "      <td>1216512</td>\n",
       "      <td>tie</td>\n",
       "      <td>NaN</td>\n",
       "      <td>Kolkata Knight Riders</td>\n",
       "    </tr>\n",
       "    <tr>\n",
       "      <th>791</th>\n",
       "      <td>1216517</td>\n",
       "      <td>tie</td>\n",
       "      <td>NaN</td>\n",
       "      <td>Kings XI Punjab</td>\n",
       "    </tr>\n",
       "    <tr>\n",
       "      <th>835</th>\n",
       "      <td>1254077</td>\n",
       "      <td>tie</td>\n",
       "      <td>NaN</td>\n",
       "      <td>Delhi Capitals</td>\n",
       "    </tr>\n",
       "    <tr>\n",
       "      <th>994</th>\n",
       "      <td>1359519</td>\n",
       "      <td>no result</td>\n",
       "      <td>NaN</td>\n",
       "      <td>No Winner</td>\n",
       "    </tr>\n",
       "  </tbody>\n",
       "</table>\n",
       "</div>"
      ],
      "text/plain": [
       "          id     result  result_margin                       winner\n",
       "66    392190        tie            NaN             Rajasthan Royals\n",
       "130   419121        tie            NaN              Kings XI Punjab\n",
       "241   501265  no result            NaN                    No Winner\n",
       "328   598004        tie            NaN          Sunrisers Hyderabad\n",
       "342   598017        tie            NaN  Royal Challengers Bangalore\n",
       "416   729315        tie            NaN             Rajasthan Royals\n",
       "475   829741        tie            NaN              Kings XI Punjab\n",
       "485   829763  no result            NaN                    No Winner\n",
       "511   829813  no result            NaN                    No Winner\n",
       "610  1082625        tie            NaN               Mumbai Indians\n",
       "705  1175365        tie            NaN               Delhi Capitals\n",
       "744  1178424  no result            NaN                    No Winner\n",
       "746  1178426        tie            NaN               Mumbai Indians\n",
       "757  1216493        tie            NaN               Delhi Capitals\n",
       "765  1216547        tie            NaN  Royal Challengers Bangalore\n",
       "790  1216512        tie            NaN        Kolkata Knight Riders\n",
       "791  1216517        tie            NaN              Kings XI Punjab\n",
       "835  1254077        tie            NaN               Delhi Capitals\n",
       "994  1359519  no result            NaN                    No Winner"
      ]
     },
     "execution_count": 15,
     "metadata": {},
     "output_type": "execute_result"
    }
   ],
   "source": [
    "matches[matches['id'].isin(missing_result_margin_matches)][['id', 'result', 'result_margin', 'winner']]\n"
   ]
  },
  {
   "cell_type": "code",
   "execution_count": 16,
   "id": "6e194a13",
   "metadata": {
    "execution": {
     "iopub.execute_input": "2025-03-14T14:33:02.412769Z",
     "iopub.status.busy": "2025-03-14T14:33:02.412321Z",
     "iopub.status.idle": "2025-03-14T14:33:02.423311Z",
     "shell.execute_reply": "2025-03-14T14:33:02.422208Z"
    },
    "id": "xipu0q8QvUmt",
    "outputId": "8cd5ccd4-7ed8-44f7-a6ed-50c24d3b912a",
    "papermill": {
     "duration": 0.036951,
     "end_time": "2025-03-14T14:33:02.425138",
     "exception": false,
     "start_time": "2025-03-14T14:33:02.388187",
     "status": "completed"
    },
    "tags": []
   },
   "outputs": [
    {
     "data": {
      "text/plain": [
       "result\n",
       "tie          3634\n",
       "no result     490\n",
       "Name: count, dtype: int64"
      ]
     },
     "execution_count": 16,
     "metadata": {},
     "output_type": "execute_result"
    }
   ],
   "source": [
    "df[df['result_margin'].isnull()]['result'].value_counts()\n"
   ]
  },
  {
   "cell_type": "markdown",
   "id": "e317fcc4",
   "metadata": {
    "id": "iQOLJ9iuvUmu",
    "papermill": {
     "duration": 0.024135,
     "end_time": "2025-03-14T14:33:02.472683",
     "exception": false,
     "start_time": "2025-03-14T14:33:02.448548",
     "status": "completed"
    },
    "tags": []
   },
   "source": [
    "### 3.2.9 Filling Missing Result Margins Based on Match Result  \n",
    "<a id=\"3-2-9-fill-missing-result-margins\"></a>  "
   ]
  },
  {
   "cell_type": "code",
   "execution_count": 17,
   "id": "cfa09d37",
   "metadata": {
    "execution": {
     "iopub.execute_input": "2025-03-14T14:33:02.521265Z",
     "iopub.status.busy": "2025-03-14T14:33:02.520894Z",
     "iopub.status.idle": "2025-03-14T14:33:02.588391Z",
     "shell.execute_reply": "2025-03-14T14:33:02.587229Z"
    },
    "id": "fJXlDJklvUmu",
    "papermill": {
     "duration": 0.093924,
     "end_time": "2025-03-14T14:33:02.590832",
     "exception": false,
     "start_time": "2025-03-14T14:33:02.496908",
     "status": "completed"
    },
    "tags": []
   },
   "outputs": [],
   "source": [
    "df['result_margin'].fillna(\n",
    "    df['result'].apply(lambda x: 'Not Applicable' if x in ['tie', 'no result'] else x),\n",
    "    inplace=True\n",
    ")\n"
   ]
  },
  {
   "cell_type": "markdown",
   "id": "2708e746",
   "metadata": {
    "id": "txF8rwxavUmu",
    "papermill": {
     "duration": 0.022554,
     "end_time": "2025-03-14T14:33:02.636355",
     "exception": false,
     "start_time": "2025-03-14T14:33:02.613801",
     "status": "completed"
    },
    "tags": []
   },
   "source": [
    "### 3.2.10 Verifying if Any Result Margins Are Still Missing  \n",
    "<a id=\"3-2-10-verify-missing-result-margins\"></a>  \n"
   ]
  },
  {
   "cell_type": "code",
   "execution_count": 18,
   "id": "573fe3f3",
   "metadata": {
    "execution": {
     "iopub.execute_input": "2025-03-14T14:33:02.686777Z",
     "iopub.status.busy": "2025-03-14T14:33:02.686304Z",
     "iopub.status.idle": "2025-03-14T14:33:02.701739Z",
     "shell.execute_reply": "2025-03-14T14:33:02.700425Z"
    },
    "id": "UWuT21gSvUnD",
    "outputId": "cf87ae29-d694-4916-9455-198028e3d1e2",
    "papermill": {
     "duration": 0.043015,
     "end_time": "2025-03-14T14:33:02.703598",
     "exception": false,
     "start_time": "2025-03-14T14:33:02.660583",
     "status": "completed"
    },
    "tags": []
   },
   "outputs": [
    {
     "data": {
      "text/plain": [
       "Series([], Name: count, dtype: int64)"
      ]
     },
     "execution_count": 18,
     "metadata": {},
     "output_type": "execute_result"
    }
   ],
   "source": [
    "df[df['result_margin'].isnull()]['result'].value_counts()\n"
   ]
  },
  {
   "cell_type": "markdown",
   "id": "3086d996",
   "metadata": {
    "id": "0kGQXwF2vUnD",
    "papermill": {
     "duration": 0.02299,
     "end_time": "2025-03-14T14:33:02.750276",
     "exception": false,
     "start_time": "2025-03-14T14:33:02.727286",
     "status": "completed"
    },
    "tags": []
   },
   "source": [
    "### 3.2.11 ✓ Checking Missing Target Runs by Match Result  \n",
    "<a id=\"3-2-11-check-missing-target-runs\"></a>  "
   ]
  },
  {
   "cell_type": "code",
   "execution_count": 19,
   "id": "abf0dcc9",
   "metadata": {
    "execution": {
     "iopub.execute_input": "2025-03-14T14:33:02.800306Z",
     "iopub.status.busy": "2025-03-14T14:33:02.799939Z",
     "iopub.status.idle": "2025-03-14T14:33:02.810367Z",
     "shell.execute_reply": "2025-03-14T14:33:02.809312Z"
    },
    "id": "iKvRoyrgvUnE",
    "outputId": "3c0ef085-dc4e-4ea2-8f9f-69a16d653760",
    "papermill": {
     "duration": 0.037738,
     "end_time": "2025-03-14T14:33:02.812161",
     "exception": false,
     "start_time": "2025-03-14T14:33:02.774423",
     "status": "completed"
    },
    "tags": []
   },
   "outputs": [
    {
     "data": {
      "text/plain": [
       "result\n",
       "no result    309\n",
       "Name: count, dtype: int64"
      ]
     },
     "execution_count": 19,
     "metadata": {},
     "output_type": "execute_result"
    }
   ],
   "source": [
    "df[df['target_runs'].isnull()][['match_id', 'result', 'winner']]['result'].value_counts()\n"
   ]
  },
  {
   "cell_type": "markdown",
   "id": "fd3beecf",
   "metadata": {
    "id": "6zwzkdBXvUnE",
    "papermill": {
     "duration": 0.023649,
     "end_time": "2025-03-14T14:33:02.859546",
     "exception": false,
     "start_time": "2025-03-14T14:33:02.835897",
     "status": "completed"
    },
    "tags": []
   },
   "source": [
    "### 3.2.12 ✓ Filling Missing Target Runs and Overs with -1  \n",
    "<a id=\"3-2-12-fill-missing-target-runs-overs\"></a>"
   ]
  },
  {
   "cell_type": "code",
   "execution_count": 20,
   "id": "8e8e23fc",
   "metadata": {
    "execution": {
     "iopub.execute_input": "2025-03-14T14:33:02.908224Z",
     "iopub.status.busy": "2025-03-14T14:33:02.907832Z",
     "iopub.status.idle": "2025-03-14T14:33:02.915764Z",
     "shell.execute_reply": "2025-03-14T14:33:02.914654Z"
    },
    "id": "NWmXZroivUnE",
    "papermill": {
     "duration": 0.034211,
     "end_time": "2025-03-14T14:33:02.917829",
     "exception": false,
     "start_time": "2025-03-14T14:33:02.883618",
     "status": "completed"
    },
    "tags": []
   },
   "outputs": [],
   "source": [
    "df['target_runs'].fillna(-1, inplace=True)\n",
    "df['target_overs'].fillna(-1, inplace=True)\n"
   ]
  },
  {
   "cell_type": "markdown",
   "id": "c473db1d",
   "metadata": {
    "id": "emr9mvxuvUnF",
    "papermill": {
     "duration": 0.022561,
     "end_time": "2025-03-14T14:33:02.963655",
     "exception": false,
     "start_time": "2025-03-14T14:33:02.941094",
     "status": "completed"
    },
    "tags": []
   },
   "source": [
    "### 3.2.13 Verify if Any Target Runs are Still Missing After Imputation  \n",
    "<a id=\"3-2-13-verify-missing-target-runs\"></a>  "
   ]
  },
  {
   "cell_type": "code",
   "execution_count": 21,
   "id": "fe433f98",
   "metadata": {
    "execution": {
     "iopub.execute_input": "2025-03-14T14:33:03.013068Z",
     "iopub.status.busy": "2025-03-14T14:33:03.012656Z",
     "iopub.status.idle": "2025-03-14T14:33:03.021781Z",
     "shell.execute_reply": "2025-03-14T14:33:03.020664Z"
    },
    "id": "2F01ExEvvUnF",
    "outputId": "0acf0620-21d4-473d-e4c8-a864a795fffe",
    "papermill": {
     "duration": 0.036947,
     "end_time": "2025-03-14T14:33:03.023836",
     "exception": false,
     "start_time": "2025-03-14T14:33:02.986889",
     "status": "completed"
    },
    "tags": []
   },
   "outputs": [
    {
     "data": {
      "text/plain": [
       "Series([], Name: count, dtype: int64)"
      ]
     },
     "execution_count": 21,
     "metadata": {},
     "output_type": "execute_result"
    }
   ],
   "source": [
    "df[df['target_runs'].isnull()][['match_id', 'result', 'winner']]['result'].value_counts()\n"
   ]
  },
  {
   "cell_type": "code",
   "execution_count": 22,
   "id": "0f9e0509",
   "metadata": {
    "execution": {
     "iopub.execute_input": "2025-03-14T14:33:03.070952Z",
     "iopub.status.busy": "2025-03-14T14:33:03.070558Z",
     "iopub.status.idle": "2025-03-14T14:33:03.726688Z",
     "shell.execute_reply": "2025-03-14T14:33:03.725453Z"
    },
    "id": "W7oREhEQvUnG",
    "outputId": "8a8f4e62-a116-4315-e263-4c4c735ab1ae",
    "papermill": {
     "duration": 0.681765,
     "end_time": "2025-03-14T14:33:03.728701",
     "exception": false,
     "start_time": "2025-03-14T14:33:03.046936",
     "status": "completed"
    },
    "tags": []
   },
   "outputs": [
    {
     "data": {
      "text/plain": [
       "Series([], dtype: int64)"
      ]
     },
     "execution_count": 22,
     "metadata": {},
     "output_type": "execute_result"
    }
   ],
   "source": [
    "df.isnull().sum()[df.isnull().sum() > 0]"
   ]
  },
  {
   "cell_type": "markdown",
   "id": "9874de51",
   "metadata": {
    "id": "I0RjYQqUvUnG",
    "papermill": {
     "duration": 0.022653,
     "end_time": "2025-03-14T14:33:03.774880",
     "exception": false,
     "start_time": "2025-03-14T14:33:03.752227",
     "status": "completed"
    },
    "tags": []
   },
   "source": [
    "## 3.3 What We Did in This Section  \n",
    "<a id=\"3-3-summary\"></a>\n"
   ]
  },
  {
   "cell_type": "markdown",
   "id": "ebaf16b0",
   "metadata": {
    "id": "qJ7dcmQzvUnH",
    "papermill": {
     "duration": 0.02357,
     "end_time": "2025-03-14T14:33:03.821814",
     "exception": false,
     "start_time": "2025-03-14T14:33:03.798244",
     "status": "completed"
    },
    "tags": []
   },
   "source": [
    "Here's how we handled missing values in different columns:  \n",
    "\n",
    "### **1. `player_of_match` (406 missing values)**  \n",
    "✅ **Replaced with \"No Player\"** for matches where no award was given.  \n",
    "```python\n",
    "matches.loc[matches['result'] == 'no result', 'player_of_match'] = 'No Player'\n",
    "```\n",
    "\n",
    "### **2. `result_margin` (4124 missing values)**  \n",
    "✅ **Replaced with \"Not Applicable\"** for matches that ended in a **tie** or **no result**.  \n",
    "```python\n",
    "df['result_margin'].fillna(\n",
    "    df['result'].apply(lambda x: 'Not Applicable' if x in ['tie', 'no result'] else x),\n",
    "    inplace=True\n",
    ")\n",
    "```\n",
    "\n",
    "### **3. `target_runs` & `target_overs` (309 missing values each)**  \n",
    "✅ **Replaced NaN with `-1`**  \n",
    "```python\n",
    "df['target_runs'].fillna(-1, inplace=True)\n",
    "df['target_overs'].fillna(-1, inplace=True)\n",
    "```\n",
    "**Reason:**  \n",
    "- `0` could be misinterpreted as a valid score.  \n",
    "- `-1` clearly signifies \"No Target Set\" due to a match being abandoned.  \n",
    "- Created a new column `df['no_result'] = df['target_runs'] == -1` to help models distinguish these cases.  \n",
    "\n",
    "### **4. `method` (D/L method, 3646 missing values)**  \n",
    "✅ **Replaced with \"Normal\"** assuming that missing values indicate matches were played under normal conditions (not affected by rain/DLS).  \n",
    "```python\n",
    "df['method'].fillna('Normal', inplace=True)\n",
    "```\n",
    "\n",
    "### **5. `winner` (Matches with no result)**  \n",
    "✅ **Replaced with \"No Winner\"** for abandoned matches.  \n",
    "```python\n",
    "matches.loc[matches['result'] == 'no result', 'winner'] = matches['winner'].fillna('No Winner')\n",
    "```\n",
    "\n",
    "### **6. `dismissal_kind`, `extras_type`, `fielder`, `player_dismissed` (Handling missing categorical data)**  \n",
    "✅ **Replaced missing values with meaningful defaults:**  \n",
    "```python\n",
    "df['dismissal_kind'].fillna('Not Out', inplace=True)\n",
    "df['extras_type'].fillna('None', inplace=True)\n",
    "df['fielder'].fillna('None', inplace=True)\n",
    "df['player_dismissed'].fillna('No Dismissal', inplace=True)\n",
    "```\n",
    "\n",
    "### **7. `city` (Manually fixed missing values)**  \n",
    "✅ **Used venue-city mapping to assign missing city values.**  \n",
    "```python\n",
    "# Manually fixing the cities' names\n",
    "venue_city_map.update({\n",
    "    'Dubai International Cricket Stadium': 'Dubai',\n",
    "    'Sharjah Cricket Stadium': 'Sharjah'\n",
    "})\n",
    "df['city'] = df.apply(lambda x:e_city_map.get(x['venue'], x['city']), axis=1)\n",
    "```\n",
    "\n",
    "---  \n",
    "### **Final Notes:**  \n",
    "- We **replaced missing values with meaningful defaults** where applicable (e.g., `winner`, `player_of_match`, `result_margin`).  \n",
    "- We **used `-1` for numerical columns** where missing values could be misleading (`target_runs`, `target_overs`).  \n",
    "- We **mapped missing `city` values using venue names** to ensure accuracy.  \n",
    "- Consider adding categorical flags (e.g., `df['no_result'] = df['target_run\n",
    "\n",
    "Would you like to apply similar handling to any other columns? 🚀"
   ]
  },
  {
   "cell_type": "markdown",
   "id": "bbaaa9e6",
   "metadata": {
    "id": "xWw-nV0AvUnI",
    "papermill": {
     "duration": 0.023229,
     "end_time": "2025-03-14T14:33:03.869618",
     "exception": false,
     "start_time": "2025-03-14T14:33:03.846389",
     "status": "completed"
    },
    "tags": []
   },
   "source": [
    "<a id=\"4-feature-engineering\"></a>\n",
    "# ⚙️ 4. Feature Engineering  \n",
    "- Create `is_legal` flag for valid deliveries.  \n",
    "- Generate `adjusted_over_ball` to track legal balls.  \n",
    "- Add season-level features (e.g., `match_number_in_season`).  "
   ]
  },
  {
   "cell_type": "markdown",
   "id": "ba090b7a",
   "metadata": {
    "id": "EnzpfQgOvUnI",
    "papermill": {
     "duration": 0.023557,
     "end_time": "2025-03-14T14:33:03.917008",
     "exception": false,
     "start_time": "2025-03-14T14:33:03.893451",
     "status": "completed"
    },
    "tags": []
   },
   "source": [
    "## Adjusted Over Ball Calculation\n",
    "\n",
    "In cricket, an over consists of 6 legal deliveries. However, extra deliveries (like wides and no balls) can show up in your data as separate entries. To reflect the actual count of legal balls, we:\n",
    "\n",
    "1. **Mark Legal Deliveries:**  \n",
    "   Use the `extras_type` column to determine if a delivery is legal.  \n",
    "   - If `extras_type` is `'wides'` or `'noballs'`, mark it as illegal.\n",
    "\n",
    "2. **Compute Cumulative Legal Ball Count:**  \n",
    "   For each match, inning, and over, compute the cumulative count of legal balls.\n",
    "\n",
    "3. **Create Adjusted Over Ball Indicator:**  \n",
    "   Combine the over number with the legal ball count (dividing by 10) to get a decimal representation.  \n",
    "   - For instance, over 5, 3rd legal ball becomes `5.3`.\n",
    "\n",
    "```python\n",
    "# Mark legal deliveries (assuming 'wides' and 'noballs' indicate extras)\n",
    "df['is_legal'] = df['extras_type'].apply(lambda x: x not in ['wides', 'noballs'])\n",
    "\n",
    "# Compute the cumulative count of legal balls per match, inning, and over\n",
    "df['legal_ball'] = df.apply(lambda x: x['ball'] if x['extras_type'] not in ['wides', 'noballs'] else None, axis=1)\n",
    "df['legal_ball'] = df['legal_ball'].fillna(method='ffill').astype(int)  # Fill missing legal balls\n",
    "df['legal_ball'] = df.groupby(['match_id', 'inning', 'over'])['legal_ball'].rank(method=\"dense\").astype(int)\n",
    "\n",
    "# Create the adjusted over_ball feature\n",
    "df['all_balls_over_ball'] = df['over'] + (df['ball'] / 10)\n",
    "df['adjusted_over_ball'] = df['over'] + (df['legal_ball'] / 10)\n",
    "```\n",
    "\n",
    "This cell will add three new columns to your DataFrame:\n",
    "- **`is_legal`**: A boolean indicating if the delivery is legal.\n",
    "- **`legal_ball`**: The cumulative count of legal balls in each over.\n",
    "- **`adjusted_over_ball`**: The combined over-ball representation using only legal deliveries.\n",
    "\n",
    "---\n"
   ]
  },
  {
   "cell_type": "code",
   "execution_count": 23,
   "id": "ce5b732e",
   "metadata": {
    "execution": {
     "iopub.execute_input": "2025-03-14T14:33:03.965692Z",
     "iopub.status.busy": "2025-03-14T14:33:03.965314Z",
     "iopub.status.idle": "2025-03-14T14:33:04.309789Z",
     "shell.execute_reply": "2025-03-14T14:33:04.308158Z"
    },
    "id": "8Bq3lrUpvUnI",
    "outputId": "844b6aef-2302-4f24-cd65-44d6aa67aea2",
    "papermill": {
     "duration": 0.371368,
     "end_time": "2025-03-14T14:33:04.311882",
     "exception": false,
     "start_time": "2025-03-14T14:33:03.940514",
     "status": "completed"
    },
    "tags": []
   },
   "outputs": [
    {
     "name": "stdout",
     "output_type": "stream",
     "text": [
      "<class 'pandas.core.frame.DataFrame'>\n",
      "RangeIndex: 260920 entries, 0 to 260919\n",
      "Data columns (total 37 columns):\n",
      " #   Column            Non-Null Count   Dtype  \n",
      "---  ------            --------------   -----  \n",
      " 0   match_id          260920 non-null  int64  \n",
      " 1   inning            260920 non-null  int64  \n",
      " 2   batting_team      260920 non-null  object \n",
      " 3   bowling_team      260920 non-null  object \n",
      " 4   over              260920 non-null  int64  \n",
      " 5   ball              260920 non-null  int64  \n",
      " 6   batter            260920 non-null  object \n",
      " 7   bowler            260920 non-null  object \n",
      " 8   non_striker       260920 non-null  object \n",
      " 9   batsman_runs      260920 non-null  int64  \n",
      " 10  extra_runs        260920 non-null  int64  \n",
      " 11  total_runs        260920 non-null  int64  \n",
      " 12  extras_type       260920 non-null  object \n",
      " 13  is_wicket         260920 non-null  int64  \n",
      " 14  player_dismissed  260920 non-null  object \n",
      " 15  dismissal_kind    260920 non-null  object \n",
      " 16  fielder           260920 non-null  object \n",
      " 17  id                260920 non-null  int64  \n",
      " 18  season            260920 non-null  object \n",
      " 19  city              260920 non-null  object \n",
      " 20  date              260920 non-null  object \n",
      " 21  match_type        260920 non-null  object \n",
      " 22  player_of_match   260920 non-null  object \n",
      " 23  venue             260920 non-null  object \n",
      " 24  team1             260920 non-null  object \n",
      " 25  team2             260920 non-null  object \n",
      " 26  toss_winner       260920 non-null  object \n",
      " 27  toss_decision     260920 non-null  object \n",
      " 28  winner            260920 non-null  object \n",
      " 29  result            260920 non-null  object \n",
      " 30  result_margin     260920 non-null  object \n",
      " 31  target_runs       260920 non-null  float64\n",
      " 32  target_overs      260920 non-null  float64\n",
      " 33  super_over        260920 non-null  object \n",
      " 34  method            260920 non-null  object \n",
      " 35  umpire1           260920 non-null  object \n",
      " 36  umpire2           260920 non-null  object \n",
      "dtypes: float64(2), int64(9), object(26)\n",
      "memory usage: 73.7+ MB\n"
     ]
    }
   ],
   "source": [
    "df.info()"
   ]
  },
  {
   "cell_type": "code",
   "execution_count": 24,
   "id": "35f1048d",
   "metadata": {
    "execution": {
     "iopub.execute_input": "2025-03-14T14:33:04.361761Z",
     "iopub.status.busy": "2025-03-14T14:33:04.361297Z",
     "iopub.status.idle": "2025-03-14T14:33:04.384465Z",
     "shell.execute_reply": "2025-03-14T14:33:04.383075Z"
    },
    "id": "6RFdwjjyvUnJ",
    "outputId": "8ee4bbcb-017b-492a-9d91-9b1dee8d5a7b",
    "papermill": {
     "duration": 0.050236,
     "end_time": "2025-03-14T14:33:04.386589",
     "exception": false,
     "start_time": "2025-03-14T14:33:04.336353",
     "status": "completed"
    },
    "tags": []
   },
   "outputs": [
    {
     "data": {
      "text/plain": [
       "extras_type\n",
       "None       246795\n",
       "wides        8380\n",
       "legbyes      4001\n",
       "noballs      1069\n",
       "byes          673\n",
       "penalty         2\n",
       "Name: count, dtype: int64"
      ]
     },
     "execution_count": 24,
     "metadata": {},
     "output_type": "execute_result"
    }
   ],
   "source": [
    "df[\"extras_type\"].value_counts()"
   ]
  },
  {
   "cell_type": "markdown",
   "id": "9d3e6d0d",
   "metadata": {
    "id": "__on5Em8vUnK",
    "papermill": {
     "duration": 0.023727,
     "end_time": "2025-03-14T14:33:04.435287",
     "exception": false,
     "start_time": "2025-03-14T14:33:04.411560",
     "status": "completed"
    },
    "tags": []
   },
   "source": [
    "### ✅ Add Column to Identify Legal Deliveries"
   ]
  },
  {
   "cell_type": "code",
   "execution_count": 25,
   "id": "1208ee82",
   "metadata": {
    "execution": {
     "iopub.execute_input": "2025-03-14T14:33:04.486897Z",
     "iopub.status.busy": "2025-03-14T14:33:04.486437Z",
     "iopub.status.idle": "2025-03-14T14:33:06.931418Z",
     "shell.execute_reply": "2025-03-14T14:33:06.930173Z"
    },
    "id": "ILZK9bTAvUnL",
    "papermill": {
     "duration": 2.474606,
     "end_time": "2025-03-14T14:33:06.934067",
     "exception": false,
     "start_time": "2025-03-14T14:33:04.459461",
     "status": "completed"
    },
    "tags": []
   },
   "outputs": [],
   "source": [
    "df['is_legal'] = df['extras_type'].apply(lambda x: x not in ['wides', 'noballs'])\n",
    "df['legal_ball'] = df.apply(lambda x: x['ball'] if x['extras_type'] not in ['wides', 'noballs'] else None, axis=1)\n",
    "df['legal_ball'] = df['legal_ball'].fillna(method='ffill').astype(int)  # Fill missing legal balls\n",
    "df['legal_ball'] = df.groupby(['match_id', 'inning', 'over'])['legal_ball'].rank(method=\"dense\").astype(int)"
   ]
  },
  {
   "cell_type": "markdown",
   "id": "be6b2005",
   "metadata": {
    "id": "9CxiD8jMvUnL",
    "papermill": {
     "duration": 0.023377,
     "end_time": "2025-03-14T14:33:06.982550",
     "exception": false,
     "start_time": "2025-03-14T14:33:06.959173",
     "status": "completed"
    },
    "tags": []
   },
   "source": [
    "### ✅ Adjust Over Ball Count for Legal and All Deliveries"
   ]
  },
  {
   "cell_type": "code",
   "execution_count": 26,
   "id": "e5866fe3",
   "metadata": {
    "execution": {
     "iopub.execute_input": "2025-03-14T14:33:07.034616Z",
     "iopub.status.busy": "2025-03-14T14:33:07.034200Z",
     "iopub.status.idle": "2025-03-14T14:33:07.050851Z",
     "shell.execute_reply": "2025-03-14T14:33:07.049657Z"
    },
    "id": "s4s7jkG6vUnM",
    "papermill": {
     "duration": 0.046199,
     "end_time": "2025-03-14T14:33:07.053211",
     "exception": false,
     "start_time": "2025-03-14T14:33:07.007012",
     "status": "completed"
    },
    "tags": []
   },
   "outputs": [],
   "source": [
    "df['all_balls_over_ball'] = df['over'] + (df['ball'] / 10)\n",
    "df['adjusted_over_ball'] = df['over'] + (df['legal_ball'] / 10)\n"
   ]
  },
  {
   "cell_type": "code",
   "execution_count": 27,
   "id": "bfe1dc0e",
   "metadata": {
    "execution": {
     "iopub.execute_input": "2025-03-14T14:33:07.104394Z",
     "iopub.status.busy": "2025-03-14T14:33:07.104039Z",
     "iopub.status.idle": "2025-03-14T14:33:07.441502Z",
     "shell.execute_reply": "2025-03-14T14:33:07.440068Z"
    },
    "id": "OSzT7nffvUnM",
    "outputId": "a7af1136-ce11-4f38-bb2a-fc4deeb48af9",
    "papermill": {
     "duration": 0.366552,
     "end_time": "2025-03-14T14:33:07.444228",
     "exception": false,
     "start_time": "2025-03-14T14:33:07.077676",
     "status": "completed"
    },
    "tags": []
   },
   "outputs": [
    {
     "name": "stdout",
     "output_type": "stream",
     "text": [
      "<class 'pandas.core.frame.DataFrame'>\n",
      "RangeIndex: 260920 entries, 0 to 260919\n",
      "Data columns (total 41 columns):\n",
      " #   Column               Non-Null Count   Dtype  \n",
      "---  ------               --------------   -----  \n",
      " 0   match_id             260920 non-null  int64  \n",
      " 1   inning               260920 non-null  int64  \n",
      " 2   batting_team         260920 non-null  object \n",
      " 3   bowling_team         260920 non-null  object \n",
      " 4   over                 260920 non-null  int64  \n",
      " 5   ball                 260920 non-null  int64  \n",
      " 6   batter               260920 non-null  object \n",
      " 7   bowler               260920 non-null  object \n",
      " 8   non_striker          260920 non-null  object \n",
      " 9   batsman_runs         260920 non-null  int64  \n",
      " 10  extra_runs           260920 non-null  int64  \n",
      " 11  total_runs           260920 non-null  int64  \n",
      " 12  extras_type          260920 non-null  object \n",
      " 13  is_wicket            260920 non-null  int64  \n",
      " 14  player_dismissed     260920 non-null  object \n",
      " 15  dismissal_kind       260920 non-null  object \n",
      " 16  fielder              260920 non-null  object \n",
      " 17  id                   260920 non-null  int64  \n",
      " 18  season               260920 non-null  object \n",
      " 19  city                 260920 non-null  object \n",
      " 20  date                 260920 non-null  object \n",
      " 21  match_type           260920 non-null  object \n",
      " 22  player_of_match      260920 non-null  object \n",
      " 23  venue                260920 non-null  object \n",
      " 24  team1                260920 non-null  object \n",
      " 25  team2                260920 non-null  object \n",
      " 26  toss_winner          260920 non-null  object \n",
      " 27  toss_decision        260920 non-null  object \n",
      " 28  winner               260920 non-null  object \n",
      " 29  result               260920 non-null  object \n",
      " 30  result_margin        260920 non-null  object \n",
      " 31  target_runs          260920 non-null  float64\n",
      " 32  target_overs         260920 non-null  float64\n",
      " 33  super_over           260920 non-null  object \n",
      " 34  method               260920 non-null  object \n",
      " 35  umpire1              260920 non-null  object \n",
      " 36  umpire2              260920 non-null  object \n",
      " 37  is_legal             260920 non-null  bool   \n",
      " 38  legal_ball           260920 non-null  int64  \n",
      " 39  all_balls_over_ball  260920 non-null  float64\n",
      " 40  adjusted_over_ball   260920 non-null  float64\n",
      "dtypes: bool(1), float64(4), int64(10), object(26)\n",
      "memory usage: 79.9+ MB\n"
     ]
    }
   ],
   "source": [
    "df.info()"
   ]
  },
  {
   "cell_type": "code",
   "execution_count": 28,
   "id": "fcebefbd",
   "metadata": {
    "execution": {
     "iopub.execute_input": "2025-03-14T14:33:07.498951Z",
     "iopub.status.busy": "2025-03-14T14:33:07.498554Z",
     "iopub.status.idle": "2025-03-14T14:33:07.520371Z",
     "shell.execute_reply": "2025-03-14T14:33:07.519032Z"
    },
    "id": "ujpVVXKLvUnN",
    "outputId": "689be906-d36f-4b9d-f055-4ee6ac035ba1",
    "papermill": {
     "duration": 0.053306,
     "end_time": "2025-03-14T14:33:07.522443",
     "exception": false,
     "start_time": "2025-03-14T14:33:07.469137",
     "status": "completed"
    },
    "tags": []
   },
   "outputs": [
    {
     "data": {
      "text/html": [
       "<div>\n",
       "<style scoped>\n",
       "    .dataframe tbody tr th:only-of-type {\n",
       "        vertical-align: middle;\n",
       "    }\n",
       "\n",
       "    .dataframe tbody tr th {\n",
       "        vertical-align: top;\n",
       "    }\n",
       "\n",
       "    .dataframe thead th {\n",
       "        text-align: right;\n",
       "    }\n",
       "</style>\n",
       "<table border=\"1\" class=\"dataframe\">\n",
       "  <thead>\n",
       "    <tr style=\"text-align: right;\">\n",
       "      <th></th>\n",
       "      <th>batter</th>\n",
       "      <th>match_id</th>\n",
       "      <th>inning</th>\n",
       "      <th>over</th>\n",
       "      <th>ball</th>\n",
       "      <th>extras_type</th>\n",
       "      <th>is_legal</th>\n",
       "      <th>legal_ball</th>\n",
       "      <th>adjusted_over_ball</th>\n",
       "      <th>all_balls_over_ball</th>\n",
       "    </tr>\n",
       "  </thead>\n",
       "  <tbody>\n",
       "    <tr>\n",
       "      <th>0</th>\n",
       "      <td>SC Ganguly</td>\n",
       "      <td>335982</td>\n",
       "      <td>1</td>\n",
       "      <td>0</td>\n",
       "      <td>1</td>\n",
       "      <td>legbyes</td>\n",
       "      <td>True</td>\n",
       "      <td>1</td>\n",
       "      <td>0.1</td>\n",
       "      <td>0.1</td>\n",
       "    </tr>\n",
       "    <tr>\n",
       "      <th>1</th>\n",
       "      <td>BB McCullum</td>\n",
       "      <td>335982</td>\n",
       "      <td>1</td>\n",
       "      <td>0</td>\n",
       "      <td>2</td>\n",
       "      <td>None</td>\n",
       "      <td>True</td>\n",
       "      <td>2</td>\n",
       "      <td>0.2</td>\n",
       "      <td>0.2</td>\n",
       "    </tr>\n",
       "    <tr>\n",
       "      <th>2</th>\n",
       "      <td>BB McCullum</td>\n",
       "      <td>335982</td>\n",
       "      <td>1</td>\n",
       "      <td>0</td>\n",
       "      <td>3</td>\n",
       "      <td>wides</td>\n",
       "      <td>False</td>\n",
       "      <td>2</td>\n",
       "      <td>0.2</td>\n",
       "      <td>0.3</td>\n",
       "    </tr>\n",
       "  </tbody>\n",
       "</table>\n",
       "</div>"
      ],
      "text/plain": [
       "        batter  match_id  inning  over  ball extras_type  is_legal  \\\n",
       "0   SC Ganguly    335982       1     0     1     legbyes      True   \n",
       "1  BB McCullum    335982       1     0     2        None      True   \n",
       "2  BB McCullum    335982       1     0     3       wides     False   \n",
       "\n",
       "   legal_ball  adjusted_over_ball  all_balls_over_ball  \n",
       "0           1                 0.1                  0.1  \n",
       "1           2                 0.2                  0.2  \n",
       "2           2                 0.2                  0.3  "
      ]
     },
     "execution_count": 28,
     "metadata": {},
     "output_type": "execute_result"
    }
   ],
   "source": [
    "# Display a sample to see the new columns\n",
    "df[['batter','match_id', 'inning', 'over', 'ball', 'extras_type', 'is_legal','legal_ball', 'adjusted_over_ball','all_balls_over_ball']].head(3)"
   ]
  },
  {
   "cell_type": "code",
   "execution_count": 29,
   "id": "1d5da04c",
   "metadata": {
    "execution": {
     "iopub.execute_input": "2025-03-14T14:33:07.576362Z",
     "iopub.status.busy": "2025-03-14T14:33:07.576012Z",
     "iopub.status.idle": "2025-03-14T14:33:07.602636Z",
     "shell.execute_reply": "2025-03-14T14:33:07.601541Z"
    },
    "id": "Kem1UHInvUnO",
    "outputId": "ac288b71-d801-4db7-9fef-17cc481e4231",
    "papermill": {
     "duration": 0.056344,
     "end_time": "2025-03-14T14:33:07.604503",
     "exception": false,
     "start_time": "2025-03-14T14:33:07.548159",
     "status": "completed"
    },
    "tags": []
   },
   "outputs": [
    {
     "data": {
      "text/html": [
       "<div>\n",
       "<style scoped>\n",
       "    .dataframe tbody tr th:only-of-type {\n",
       "        vertical-align: middle;\n",
       "    }\n",
       "\n",
       "    .dataframe tbody tr th {\n",
       "        vertical-align: top;\n",
       "    }\n",
       "\n",
       "    .dataframe thead th {\n",
       "        text-align: right;\n",
       "    }\n",
       "</style>\n",
       "<table border=\"1\" class=\"dataframe\">\n",
       "  <thead>\n",
       "    <tr style=\"text-align: right;\">\n",
       "      <th></th>\n",
       "      <th>batter</th>\n",
       "      <th>bowler</th>\n",
       "      <th>match_id</th>\n",
       "      <th>inning</th>\n",
       "      <th>over</th>\n",
       "      <th>ball</th>\n",
       "      <th>extras_type</th>\n",
       "      <th>is_legal</th>\n",
       "      <th>legal_ball</th>\n",
       "      <th>adjusted_over_ball</th>\n",
       "      <th>all_balls_over_ball</th>\n",
       "    </tr>\n",
       "  </thead>\n",
       "  <tbody>\n",
       "    <tr>\n",
       "      <th>2</th>\n",
       "      <td>BB McCullum</td>\n",
       "      <td>P Kumar</td>\n",
       "      <td>335982</td>\n",
       "      <td>1</td>\n",
       "      <td>0</td>\n",
       "      <td>3</td>\n",
       "      <td>wides</td>\n",
       "      <td>False</td>\n",
       "      <td>2</td>\n",
       "      <td>0.2</td>\n",
       "      <td>0.3</td>\n",
       "    </tr>\n",
       "    <tr>\n",
       "      <th>19</th>\n",
       "      <td>BB McCullum</td>\n",
       "      <td>AA Noffke</td>\n",
       "      <td>335982</td>\n",
       "      <td>1</td>\n",
       "      <td>3</td>\n",
       "      <td>1</td>\n",
       "      <td>wides</td>\n",
       "      <td>False</td>\n",
       "      <td>5</td>\n",
       "      <td>3.5</td>\n",
       "      <td>3.1</td>\n",
       "    </tr>\n",
       "    <tr>\n",
       "      <th>78</th>\n",
       "      <td>BB McCullum</td>\n",
       "      <td>JH Kallis</td>\n",
       "      <td>335982</td>\n",
       "      <td>1</td>\n",
       "      <td>12</td>\n",
       "      <td>5</td>\n",
       "      <td>wides</td>\n",
       "      <td>False</td>\n",
       "      <td>4</td>\n",
       "      <td>12.4</td>\n",
       "      <td>12.5</td>\n",
       "    </tr>\n",
       "  </tbody>\n",
       "</table>\n",
       "</div>"
      ],
      "text/plain": [
       "         batter     bowler  match_id  inning  over  ball extras_type  \\\n",
       "2   BB McCullum    P Kumar    335982       1     0     3       wides   \n",
       "19  BB McCullum  AA Noffke    335982       1     3     1       wides   \n",
       "78  BB McCullum  JH Kallis    335982       1    12     5       wides   \n",
       "\n",
       "    is_legal  legal_ball  adjusted_over_ball  all_balls_over_ball  \n",
       "2      False           2                 0.2                  0.3  \n",
       "19     False           5                 3.5                  3.1  \n",
       "78     False           4                12.4                 12.5  "
      ]
     },
     "execution_count": 29,
     "metadata": {},
     "output_type": "execute_result"
    }
   ],
   "source": [
    "ill=df[df['is_legal']==False]\n",
    "ill[['batter','bowler','match_id', 'inning', 'over', 'ball', 'extras_type', 'is_legal','legal_ball', 'adjusted_over_ball','all_balls_over_ball']].head(3)"
   ]
  },
  {
   "cell_type": "markdown",
   "id": "6e369f29",
   "metadata": {
    "id": "PjjCYMW9vUnO",
    "papermill": {
     "duration": 0.022819,
     "end_time": "2025-03-14T14:33:07.650760",
     "exception": false,
     "start_time": "2025-03-14T14:33:07.627941",
     "status": "completed"
    },
    "tags": []
   },
   "source": [
    "\n",
    "## Match Numbering within a Season\n",
    "\n",
    "To track matches within a season and overall match numbers, we:\n",
    "\n",
    "1. **Determine Match Order within a Season:**  \n",
    "   - Rank matches in each season based on match ID.\n",
    "\n",
    "2. **Count Total Matches in a Season:**  \n",
    "   - Compute the total number of matches per season.\n",
    "\n",
    "3. **Assign Overall Match Number:**  \n",
    "   - Rank all matches across all seasons based on match ID.\n",
    "\n",
    "```python\n",
    "# Sort by season and date to ensure correct match order\n",
    "df['match_number_of_that_season'] = df.groupby('season')['match_id'].rank(method='dense').astype(int)\n",
    "\n",
    "# Count total matches in each season\n",
    "df['matches_in_that_season'] = df['season'].map(df.groupby('season')['match_id'].nunique())\n",
    "\n",
    "# Assign overall match number\n",
    "df['match_number_in_total'] = df['match_id'].rank(method='dense').astype(int)\n",
    "```"
   ]
  },
  {
   "cell_type": "markdown",
   "id": "b4ad1ce0",
   "metadata": {
    "id": "yc7LK1FpvUnP",
    "papermill": {
     "duration": 0.022785,
     "end_time": "2025-03-14T14:33:07.696673",
     "exception": false,
     "start_time": "2025-03-14T14:33:07.673888",
     "status": "completed"
    },
    "tags": []
   },
   "source": [
    "### ✅ Assign Match Numbers for Season and Overall Rankings"
   ]
  },
  {
   "cell_type": "code",
   "execution_count": 30,
   "id": "ba94a900",
   "metadata": {
    "execution": {
     "iopub.execute_input": "2025-03-14T14:33:07.743812Z",
     "iopub.status.busy": "2025-03-14T14:33:07.743434Z",
     "iopub.status.idle": "2025-03-14T14:33:07.812302Z",
     "shell.execute_reply": "2025-03-14T14:33:07.810887Z"
    },
    "id": "cHnAUoIVvUnP",
    "papermill": {
     "duration": 0.09497,
     "end_time": "2025-03-14T14:33:07.814616",
     "exception": false,
     "start_time": "2025-03-14T14:33:07.719646",
     "status": "completed"
    },
    "tags": []
   },
   "outputs": [],
   "source": [
    "# Sort by season and date to ensure correct match order\n",
    "df['match_number_of_that_season'] = df.groupby('season')['match_id'].rank(method='dense').astype(int)\n",
    "\n",
    "df['matches_in_that_season'] = df['season'].map(df.groupby('season')['match_id'].nunique())\n",
    "\n",
    "df['match_number_in_total'] = df['match_id'].rank(method='dense').astype(int)\n"
   ]
  },
  {
   "cell_type": "markdown",
   "id": "3119c113",
   "metadata": {
    "id": "KU562kPvvUnP",
    "papermill": {
     "duration": 0.022881,
     "end_time": "2025-03-14T14:33:07.860656",
     "exception": false,
     "start_time": "2025-03-14T14:33:07.837775",
     "status": "completed"
    },
    "tags": []
   },
   "source": [
    "### ✅ Verify Match Numbering for Each Season and Overall"
   ]
  },
  {
   "cell_type": "code",
   "execution_count": 31,
   "id": "bb8034ba",
   "metadata": {
    "execution": {
     "iopub.execute_input": "2025-03-14T14:33:07.908335Z",
     "iopub.status.busy": "2025-03-14T14:33:07.907893Z",
     "iopub.status.idle": "2025-03-14T14:33:08.019460Z",
     "shell.execute_reply": "2025-03-14T14:33:08.018202Z"
    },
    "id": "w7iSldbIvUnQ",
    "outputId": "c012dcd8-592a-4d1e-b2ab-780773a5898e",
    "papermill": {
     "duration": 0.13816,
     "end_time": "2025-03-14T14:33:08.021653",
     "exception": false,
     "start_time": "2025-03-14T14:33:07.883493",
     "status": "completed"
    },
    "tags": []
   },
   "outputs": [
    {
     "data": {
      "text/html": [
       "<div>\n",
       "<style scoped>\n",
       "    .dataframe tbody tr th:only-of-type {\n",
       "        vertical-align: middle;\n",
       "    }\n",
       "\n",
       "    .dataframe tbody tr th {\n",
       "        vertical-align: top;\n",
       "    }\n",
       "\n",
       "    .dataframe thead th {\n",
       "        text-align: right;\n",
       "    }\n",
       "</style>\n",
       "<table border=\"1\" class=\"dataframe\">\n",
       "  <thead>\n",
       "    <tr style=\"text-align: right;\">\n",
       "      <th></th>\n",
       "      <th>season</th>\n",
       "      <th>match_id</th>\n",
       "      <th>match_number_of_that_season</th>\n",
       "      <th>match_number_in_total</th>\n",
       "      <th>matches_in_that_season</th>\n",
       "    </tr>\n",
       "  </thead>\n",
       "  <tbody>\n",
       "    <tr>\n",
       "      <th>0</th>\n",
       "      <td>2007/08</td>\n",
       "      <td>335982</td>\n",
       "      <td>1</td>\n",
       "      <td>1</td>\n",
       "      <td>58</td>\n",
       "    </tr>\n",
       "    <tr>\n",
       "      <th>225</th>\n",
       "      <td>2007/08</td>\n",
       "      <td>335983</td>\n",
       "      <td>2</td>\n",
       "      <td>2</td>\n",
       "      <td>58</td>\n",
       "    </tr>\n",
       "    <tr>\n",
       "      <th>473</th>\n",
       "      <td>2007/08</td>\n",
       "      <td>335984</td>\n",
       "      <td>3</td>\n",
       "      <td>3</td>\n",
       "      <td>58</td>\n",
       "    </tr>\n",
       "    <tr>\n",
       "      <th>692</th>\n",
       "      <td>2007/08</td>\n",
       "      <td>335985</td>\n",
       "      <td>4</td>\n",
       "      <td>4</td>\n",
       "      <td>58</td>\n",
       "    </tr>\n",
       "    <tr>\n",
       "      <th>938</th>\n",
       "      <td>2007/08</td>\n",
       "      <td>335986</td>\n",
       "      <td>5</td>\n",
       "      <td>5</td>\n",
       "      <td>58</td>\n",
       "    </tr>\n",
       "    <tr>\n",
       "      <th>...</th>\n",
       "      <td>...</td>\n",
       "      <td>...</td>\n",
       "      <td>...</td>\n",
       "      <td>...</td>\n",
       "      <td>...</td>\n",
       "    </tr>\n",
       "    <tr>\n",
       "      <th>259789</th>\n",
       "      <td>2024</td>\n",
       "      <td>1426307</td>\n",
       "      <td>67</td>\n",
       "      <td>1091</td>\n",
       "      <td>71</td>\n",
       "    </tr>\n",
       "    <tr>\n",
       "      <th>260036</th>\n",
       "      <td>2024</td>\n",
       "      <td>1426309</td>\n",
       "      <td>68</td>\n",
       "      <td>1092</td>\n",
       "      <td>71</td>\n",
       "    </tr>\n",
       "    <tr>\n",
       "      <th>260244</th>\n",
       "      <td>2024</td>\n",
       "      <td>1426310</td>\n",
       "      <td>69</td>\n",
       "      <td>1093</td>\n",
       "      <td>71</td>\n",
       "    </tr>\n",
       "    <tr>\n",
       "      <th>260485</th>\n",
       "      <td>2024</td>\n",
       "      <td>1426311</td>\n",
       "      <td>70</td>\n",
       "      <td>1094</td>\n",
       "      <td>71</td>\n",
       "    </tr>\n",
       "    <tr>\n",
       "      <th>260736</th>\n",
       "      <td>2024</td>\n",
       "      <td>1426312</td>\n",
       "      <td>71</td>\n",
       "      <td>1095</td>\n",
       "      <td>71</td>\n",
       "    </tr>\n",
       "  </tbody>\n",
       "</table>\n",
       "<p>1095 rows × 5 columns</p>\n",
       "</div>"
      ],
      "text/plain": [
       "         season  match_id  match_number_of_that_season  match_number_in_total  \\\n",
       "0       2007/08    335982                            1                      1   \n",
       "225     2007/08    335983                            2                      2   \n",
       "473     2007/08    335984                            3                      3   \n",
       "692     2007/08    335985                            4                      4   \n",
       "938     2007/08    335986                            5                      5   \n",
       "...         ...       ...                          ...                    ...   \n",
       "259789     2024   1426307                           67                   1091   \n",
       "260036     2024   1426309                           68                   1092   \n",
       "260244     2024   1426310                           69                   1093   \n",
       "260485     2024   1426311                           70                   1094   \n",
       "260736     2024   1426312                           71                   1095   \n",
       "\n",
       "        matches_in_that_season  \n",
       "0                           58  \n",
       "225                         58  \n",
       "473                         58  \n",
       "692                         58  \n",
       "938                         58  \n",
       "...                        ...  \n",
       "259789                      71  \n",
       "260036                      71  \n",
       "260244                      71  \n",
       "260485                      71  \n",
       "260736                      71  \n",
       "\n",
       "[1095 rows x 5 columns]"
      ]
     },
     "execution_count": 31,
     "metadata": {},
     "output_type": "execute_result"
    }
   ],
   "source": [
    "df.groupby('season')['match_number_of_that_season'].max()\n",
    "df.groupby('season')['matches_in_that_season'].first()\n",
    "df[['season', 'match_id', 'match_number_of_that_season', 'match_number_in_total', 'matches_in_that_season']].drop_duplicates().sort_values(by=['season', 'match_number_of_that_season'])\n"
   ]
  },
  {
   "cell_type": "markdown",
   "id": "7883643f",
   "metadata": {
    "id": "nXbGx8JGvUnQ",
    "papermill": {
     "duration": 0.024063,
     "end_time": "2025-03-14T14:33:08.070612",
     "exception": false,
     "start_time": "2025-03-14T14:33:08.046549",
     "status": "completed"
    },
    "tags": []
   },
   "source": [
    "### ✅ Identify Missing Match Numbers in a Given Season"
   ]
  },
  {
   "cell_type": "code",
   "execution_count": 32,
   "id": "fd7d14c3",
   "metadata": {
    "execution": {
     "iopub.execute_input": "2025-03-14T14:33:08.123072Z",
     "iopub.status.busy": "2025-03-14T14:33:08.122587Z",
     "iopub.status.idle": "2025-03-14T14:33:08.160170Z",
     "shell.execute_reply": "2025-03-14T14:33:08.158566Z"
    },
    "id": "4bM4keocvUnR",
    "outputId": "fdcf6809-3bb8-4f1e-b0b7-70a8daecff97",
    "papermill": {
     "duration": 0.066771,
     "end_time": "2025-03-14T14:33:08.162025",
     "exception": false,
     "start_time": "2025-03-14T14:33:08.095254",
     "status": "completed"
    },
    "tags": []
   },
   "outputs": [
    {
     "name": "stdout",
     "output_type": "stream",
     "text": [
      "Missing match numbers in 2024 season: set()\n"
     ]
    }
   ],
   "source": [
    "season = '2024'  # Change this for other seasons\n",
    "\n",
    "# Get the match numbers for the given season\n",
    "match_numbers = df[df['season'] == season]['match_number_of_that_season']\n",
    "\n",
    "# Create a complete range of expected match numbers\n",
    "expected_numbers = set(range(1, match_numbers.max() + 1))\n",
    "\n",
    "# Find missing match numbers\n",
    "missing_matches = expected_numbers - set(match_numbers)\n",
    "\n",
    "print(f\"Missing match numbers in {season} season:\", missing_matches)\n"
   ]
  },
  {
   "cell_type": "code",
   "execution_count": 33,
   "id": "eb9bad37",
   "metadata": {
    "execution": {
     "iopub.execute_input": "2025-03-14T14:33:08.211634Z",
     "iopub.status.busy": "2025-03-14T14:33:08.211291Z",
     "iopub.status.idle": "2025-03-14T14:33:08.247032Z",
     "shell.execute_reply": "2025-03-14T14:33:08.245777Z"
    },
    "id": "nu-8zGbqvUnS",
    "outputId": "41ffb664-5559-41b0-8717-04eb096fe14f",
    "papermill": {
     "duration": 0.06238,
     "end_time": "2025-03-14T14:33:08.248899",
     "exception": false,
     "start_time": "2025-03-14T14:33:08.186519",
     "status": "completed"
    },
    "tags": []
   },
   "outputs": [
    {
     "data": {
      "text/plain": [
       "Index([ 1,  2,  3,  4,  5,  6,  7,  8,  9, 10, 11, 12, 13, 14, 15, 16, 17, 18,\n",
       "       19, 20, 21, 22, 23, 24, 25, 26, 27, 28, 29, 30, 31, 32, 33, 34, 35, 36,\n",
       "       37, 38, 39, 40, 41, 42, 43, 44, 45, 46, 47, 48, 49, 50, 51, 52, 53, 54,\n",
       "       55, 56, 57, 58, 59, 60, 61, 62, 63, 64, 65, 66, 67, 68, 69, 70, 71],\n",
       "      dtype='int64', name='match_number_of_that_season')"
      ]
     },
     "execution_count": 33,
     "metadata": {},
     "output_type": "execute_result"
    }
   ],
   "source": [
    "#verification of the new columns added\n",
    "df[df['season']=='2024']['match_number_of_that_season'].value_counts().index.sort_values()"
   ]
  },
  {
   "cell_type": "markdown",
   "id": "776a7e97",
   "metadata": {
    "id": "hgZ3JIGyvUnS",
    "papermill": {
     "duration": 0.023974,
     "end_time": "2025-03-14T14:33:08.296498",
     "exception": false,
     "start_time": "2025-03-14T14:33:08.272524",
     "status": "completed"
    },
    "tags": []
   },
   "source": [
    "# Comprehensive Documentation of Processed Cricket Dataset"
   ]
  },
  {
   "cell_type": "markdown",
   "id": "7b1dd2f4",
   "metadata": {
    "id": "oorRD4GgvUnS",
    "jp-MarkdownHeadingCollapsed": true,
    "papermill": {
     "duration": 0.023215,
     "end_time": "2025-03-14T14:33:08.343350",
     "exception": false,
     "start_time": "2025-03-14T14:33:08.320135",
     "status": "completed"
    },
    "tags": []
   },
   "source": [
    "\n",
    "\n",
    "---\n",
    "\n",
    "## **Dataset Documentation**  \n",
    "\n",
    "### **Match & Inning Details**  \n",
    "| Column Name       | Description |\n",
    "|------------------|-------------|\n",
    "| `match_id`        | Unique ID for each match. |\n",
    "| `season`         | Season (year) in which the match was played. |\n",
    "| `venue`          | Stadium where the match was held. |\n",
    "| `date`           | Date of the match. |\n",
    "| `match_type`     | Format of the match (T20, ODI, Test). |\n",
    "| `inning`         | Inning number (1st or 2nd, possibly more in Super Overs). |\n",
    "\n",
    "### **Team & Toss Information**  \n",
    "| Column Name       | Description |\n",
    "|------------------|-------------|\n",
    "| `batting_team`   | Team currently batting. |\n",
    "| `bowling_team`   | Team currently bowling. |\n",
    "| `team1`          | One of the teams playing the match. |\n",
    "| `team2`          | Opposing team in the match. |\n",
    "| `toss_winner`    | Team that won the toss. |\n",
    "| `toss_decision`  | Decision made by toss-winning team (`bat` or `field`). |\n",
    "| `winner`         | Team that won the match. |\n",
    "\n",
    "### **Over & Ball Tracking**  \n",
    "| Column Name       | Description |\n",
    "|------------------|-------------|\n",
    "| `over`           | Over number (0-19 in T20, 0-49 in ODIs). |\n",
    "| `ball`           | Ball number within an over (1-6, can exceed due to extras). |\n",
    "| `is_legal`       | Boolean indicating if the ball was legal (excludes wides and no-balls). |\n",
    "| `legal_ball`     | Count of legal deliveries within an over. |\n",
    "| `all_balls_over_ball` | Over and ball combined as a decimal (includes all balls, even extras). |\n",
    "| `adjusted_over_ball` | Over and ball combined as a decimal, considering only legal deliveries. |\n",
    "\n",
    "### **Player Details**  \n",
    "| Column Name       | Description |\n",
    "|------------------|-------------|\n",
    "| `batter`         | Batsman on strike. |\n",
    "| `bowler`         | Bowler delivering the ball. |\n",
    "| `non_striker`    | Batsman at the non-striker’s end. |\n",
    "\n",
    "### **Runs & Extras**  \n",
    "| Column Name       | Description |\n",
    "|------------------|-------------|\n",
    "| `batsman_runs`   | Runs scored by the batsman. |\n",
    "| `extra_runs`     | Additional runs (wides, no-balls, leg byes, etc.). |\n",
    "| `total_runs`     | Sum of batsman’s runs and extras in that ball. |\n",
    "| `extras_type`    | Type of extra (e.g., `wide`, `legbye`, `noball`). |\n",
    "\n",
    "### **Wicket Details**  \n",
    "| Column Name       | Description |\n",
    "|------------------|-------------|\n",
    "| `is_wicket`      | Indicates if a wicket fell (1 for wicket, 0 otherwise). |\n",
    "| `player_dismissed` | Name of the dismissed player (if any). |\n",
    "| `dismissal_kind` | Type of dismissal (e.g., `bowled`, `caught`). |\n",
    "| `fielder`        | Fielder involved in the dismissal (if applicable). |\n",
    "\n",
    "### **Match-Level Aggregations**  \n",
    "| Column Name       | Description |\n",
    "|------------------|-------------|\n",
    "| `match_number_of_that_season` | Match number within that season. |\n",
    "| `matches_in_that_season` | Total matches played in that season. |\n",
    "| `match_number_in_total` | Overall match number in the dataset. |\n",
    "\n",
    "### **Other Columns**  \n",
    "| Column Name       | Description |\n",
    "|------------------|-------------|\n",
    "| `id`             | Duplicate of `match_id` (retained from merge). |\n",
    "| `player_of_match` | Player awarded as Man of the Match. |\n",
    "| `result`         | Outcome of the match (`win`, `tie`, `no result`). |\n",
    "| `result_margin`  | Margin of victory (runs or wickets). |\n",
    "| `target_runs`    | Target score set for the chasing team. |\n",
    "| `target_overs`   | Number of overs available to chase the target. |\n",
    "| `super_over`     | Indicates if a Super Over was played. |\n",
    "| `method`         | Method used for result determination (e.g., Duckworth-Lewis). |ll relevant feature engineering steps. 🚀 Let me know if you need any refinements!"
   ]
  },
  {
   "cell_type": "markdown",
   "id": "d9f069c7",
   "metadata": {
    "id": "QCMvvwzrzM67",
    "papermill": {
     "duration": 0.024787,
     "end_time": "2025-03-14T14:33:08.391913",
     "exception": false,
     "start_time": "2025-03-14T14:33:08.367126",
     "status": "completed"
    },
    "tags": []
   },
   "source": [
    "<a id=\"5-exploratory-data-analysis-eda\"></a>\n",
    "# 📊 5. Exploratory Data Analysis (EDA)  \n",
    "- Seasonal trends: Total runs and wickets per year.  \n",
    "- Team performance analysis (wins, toss decisions).  \n",
    "- Interactive visualizations with Plotly.  "
   ]
  },
  {
   "cell_type": "markdown",
   "id": "d88d7f5c",
   "metadata": {
    "id": "Oh52Cw-TvUnU",
    "papermill": {
     "duration": 0.024558,
     "end_time": "2025-03-14T14:33:08.440161",
     "exception": false,
     "start_time": "2025-03-14T14:33:08.415603",
     "status": "completed"
    },
    "tags": []
   },
   "source": [
    "## Group by season to analyze total runs & wickets"
   ]
  },
  {
   "cell_type": "code",
   "execution_count": 34,
   "id": "b2b20659",
   "metadata": {
    "execution": {
     "iopub.execute_input": "2025-03-14T14:33:08.489318Z",
     "iopub.status.busy": "2025-03-14T14:33:08.488981Z",
     "iopub.status.idle": "2025-03-14T14:33:08.516985Z",
     "shell.execute_reply": "2025-03-14T14:33:08.515654Z"
    },
    "id": "eudRQtC_vUnU",
    "outputId": "a1ef68a6-9eeb-489a-9f7f-e3137bd22e59",
    "papermill": {
     "duration": 0.054894,
     "end_time": "2025-03-14T14:33:08.518806",
     "exception": false,
     "start_time": "2025-03-14T14:33:08.463912",
     "status": "completed"
    },
    "tags": []
   },
   "outputs": [
    {
     "data": {
      "text/html": [
       "<div>\n",
       "<style scoped>\n",
       "    .dataframe tbody tr th:only-of-type {\n",
       "        vertical-align: middle;\n",
       "    }\n",
       "\n",
       "    .dataframe tbody tr th {\n",
       "        vertical-align: top;\n",
       "    }\n",
       "\n",
       "    .dataframe thead th {\n",
       "        text-align: right;\n",
       "    }\n",
       "</style>\n",
       "<table border=\"1\" class=\"dataframe\">\n",
       "  <thead>\n",
       "    <tr style=\"text-align: right;\">\n",
       "      <th></th>\n",
       "      <th>total_runs</th>\n",
       "      <th>is_wicket</th>\n",
       "    </tr>\n",
       "    <tr>\n",
       "      <th>season</th>\n",
       "      <th></th>\n",
       "      <th></th>\n",
       "    </tr>\n",
       "  </thead>\n",
       "  <tbody>\n",
       "    <tr>\n",
       "      <th>2007/08</th>\n",
       "      <td>17937</td>\n",
       "      <td>690</td>\n",
       "    </tr>\n",
       "    <tr>\n",
       "      <th>2009</th>\n",
       "      <td>16353</td>\n",
       "      <td>698</td>\n",
       "    </tr>\n",
       "    <tr>\n",
       "      <th>2009/10</th>\n",
       "      <td>18883</td>\n",
       "      <td>725</td>\n",
       "    </tr>\n",
       "    <tr>\n",
       "      <th>2011</th>\n",
       "      <td>21154</td>\n",
       "      <td>813</td>\n",
       "    </tr>\n",
       "    <tr>\n",
       "      <th>2012</th>\n",
       "      <td>22453</td>\n",
       "      <td>858</td>\n",
       "    </tr>\n",
       "    <tr>\n",
       "      <th>2013</th>\n",
       "      <td>22602</td>\n",
       "      <td>912</td>\n",
       "    </tr>\n",
       "    <tr>\n",
       "      <th>2014</th>\n",
       "      <td>18931</td>\n",
       "      <td>674</td>\n",
       "    </tr>\n",
       "    <tr>\n",
       "      <th>2015</th>\n",
       "      <td>18353</td>\n",
       "      <td>691</td>\n",
       "    </tr>\n",
       "    <tr>\n",
       "      <th>2016</th>\n",
       "      <td>18862</td>\n",
       "      <td>666</td>\n",
       "    </tr>\n",
       "    <tr>\n",
       "      <th>2017</th>\n",
       "      <td>18786</td>\n",
       "      <td>711</td>\n",
       "    </tr>\n",
       "    <tr>\n",
       "      <th>2018</th>\n",
       "      <td>19901</td>\n",
       "      <td>722</td>\n",
       "    </tr>\n",
       "    <tr>\n",
       "      <th>2019</th>\n",
       "      <td>19434</td>\n",
       "      <td>685</td>\n",
       "    </tr>\n",
       "    <tr>\n",
       "      <th>2020/21</th>\n",
       "      <td>19416</td>\n",
       "      <td>677</td>\n",
       "    </tr>\n",
       "    <tr>\n",
       "      <th>2021</th>\n",
       "      <td>18637</td>\n",
       "      <td>717</td>\n",
       "    </tr>\n",
       "    <tr>\n",
       "      <th>2022</th>\n",
       "      <td>24395</td>\n",
       "      <td>912</td>\n",
       "    </tr>\n",
       "    <tr>\n",
       "      <th>2023</th>\n",
       "      <td>25688</td>\n",
       "      <td>916</td>\n",
       "    </tr>\n",
       "    <tr>\n",
       "      <th>2024</th>\n",
       "      <td>25971</td>\n",
       "      <td>883</td>\n",
       "    </tr>\n",
       "  </tbody>\n",
       "</table>\n",
       "</div>"
      ],
      "text/plain": [
       "         total_runs  is_wicket\n",
       "season                        \n",
       "2007/08       17937        690\n",
       "2009          16353        698\n",
       "2009/10       18883        725\n",
       "2011          21154        813\n",
       "2012          22453        858\n",
       "2013          22602        912\n",
       "2014          18931        674\n",
       "2015          18353        691\n",
       "2016          18862        666\n",
       "2017          18786        711\n",
       "2018          19901        722\n",
       "2019          19434        685\n",
       "2020/21       19416        677\n",
       "2021          18637        717\n",
       "2022          24395        912\n",
       "2023          25688        916\n",
       "2024          25971        883"
      ]
     },
     "execution_count": 34,
     "metadata": {},
     "output_type": "execute_result"
    }
   ],
   "source": [
    "season_stats = df.groupby('season')[['total_runs', 'is_wicket']].sum()\n",
    "season_stats"
   ]
  },
  {
   "cell_type": "markdown",
   "id": "ff5d45e9",
   "metadata": {
    "id": "20jl_bXyvUnV",
    "papermill": {
     "duration": 0.024352,
     "end_time": "2025-03-14T14:33:08.567655",
     "exception": false,
     "start_time": "2025-03-14T14:33:08.543303",
     "status": "completed"
    },
    "tags": []
   },
   "source": [
    "### 📊 Total Runs Per Season (Plotly Bar Chart)"
   ]
  },
  {
   "cell_type": "code",
   "execution_count": 35,
   "id": "df98179b",
   "metadata": {
    "execution": {
     "iopub.execute_input": "2025-03-14T14:33:08.619030Z",
     "iopub.status.busy": "2025-03-14T14:33:08.618547Z",
     "iopub.status.idle": "2025-03-14T14:33:12.093007Z",
     "shell.execute_reply": "2025-03-14T14:33:12.091816Z"
    },
    "id": "1Q1ny8atvUnV",
    "outputId": "3aabafd7-0eb7-4a23-9d15-da9cf56deb5a",
    "papermill": {
     "duration": 3.501667,
     "end_time": "2025-03-14T14:33:12.095249",
     "exception": false,
     "start_time": "2025-03-14T14:33:08.593582",
     "status": "completed"
    },
    "tags": []
   },
   "outputs": [
    {
     "data": {
      "text/html": [
       "<html>\n",
       "<head><meta charset=\"utf-8\" /></head>\n",
       "<body>\n",
       "    <div>            <script src=\"https://cdnjs.cloudflare.com/ajax/libs/mathjax/2.7.5/MathJax.js?config=TeX-AMS-MML_SVG\"></script><script type=\"text/javascript\">if (window.MathJax && window.MathJax.Hub && window.MathJax.Hub.Config) {window.MathJax.Hub.Config({SVG: {font: \"STIX-Web\"}});}</script>                <script type=\"text/javascript\">window.PlotlyConfig = {MathJaxConfig: 'local'};</script>\n",
       "        <script charset=\"utf-8\" src=\"https://cdn.plot.ly/plotly-2.35.2.min.js\"></script>                <div id=\"2860ce01-9e43-4787-96ed-5e9e377490fd\" class=\"plotly-graph-div\" style=\"height:525px; width:100%;\"></div>            <script type=\"text/javascript\">                                    window.PLOTLYENV=window.PLOTLYENV || {};                                    if (document.getElementById(\"2860ce01-9e43-4787-96ed-5e9e377490fd\")) {                    Plotly.newPlot(                        \"2860ce01-9e43-4787-96ed-5e9e377490fd\",                        [{\"alignmentgroup\":\"True\",\"hovertemplate\":\"season=%{x}\\u003cbr\\u003eCount=%{marker.color}\\u003cextra\\u003e\\u003c\\u002fextra\\u003e\",\"legendgroup\":\"\",\"marker\":{\"color\":[17937,16353,18883,21154,22453,22602,18931,18353,18862,18786,19901,19434,19416,18637,24395,25688,25971],\"coloraxis\":\"coloraxis\",\"pattern\":{\"shape\":\"\"}},\"name\":\"\",\"offsetgroup\":\"\",\"orientation\":\"v\",\"showlegend\":false,\"textposition\":\"auto\",\"texttemplate\":\"%{y}\",\"x\":[\"2007\\u002f08\",\"2009\",\"2009\\u002f10\",\"2011\",\"2012\",\"2013\",\"2014\",\"2015\",\"2016\",\"2017\",\"2018\",\"2019\",\"2020\\u002f21\",\"2021\",\"2022\",\"2023\",\"2024\"],\"xaxis\":\"x\",\"y\":[17937,16353,18883,21154,22453,22602,18931,18353,18862,18786,19901,19434,19416,18637,24395,25688,25971],\"yaxis\":\"y\",\"type\":\"bar\"}],                        {\"template\":{\"data\":{\"barpolar\":[{\"marker\":{\"line\":{\"color\":\"rgb(17,17,17)\",\"width\":0.5},\"pattern\":{\"fillmode\":\"overlay\",\"size\":10,\"solidity\":0.2}},\"type\":\"barpolar\"}],\"bar\":[{\"error_x\":{\"color\":\"#f2f5fa\"},\"error_y\":{\"color\":\"#f2f5fa\"},\"marker\":{\"line\":{\"color\":\"rgb(17,17,17)\",\"width\":0.5},\"pattern\":{\"fillmode\":\"overlay\",\"size\":10,\"solidity\":0.2}},\"type\":\"bar\"}],\"carpet\":[{\"aaxis\":{\"endlinecolor\":\"#A2B1C6\",\"gridcolor\":\"#506784\",\"linecolor\":\"#506784\",\"minorgridcolor\":\"#506784\",\"startlinecolor\":\"#A2B1C6\"},\"baxis\":{\"endlinecolor\":\"#A2B1C6\",\"gridcolor\":\"#506784\",\"linecolor\":\"#506784\",\"minorgridcolor\":\"#506784\",\"startlinecolor\":\"#A2B1C6\"},\"type\":\"carpet\"}],\"choropleth\":[{\"colorbar\":{\"outlinewidth\":0,\"ticks\":\"\"},\"type\":\"choropleth\"}],\"contourcarpet\":[{\"colorbar\":{\"outlinewidth\":0,\"ticks\":\"\"},\"type\":\"contourcarpet\"}],\"contour\":[{\"colorbar\":{\"outlinewidth\":0,\"ticks\":\"\"},\"colorscale\":[[0.0,\"#0d0887\"],[0.1111111111111111,\"#46039f\"],[0.2222222222222222,\"#7201a8\"],[0.3333333333333333,\"#9c179e\"],[0.4444444444444444,\"#bd3786\"],[0.5555555555555556,\"#d8576b\"],[0.6666666666666666,\"#ed7953\"],[0.7777777777777778,\"#fb9f3a\"],[0.8888888888888888,\"#fdca26\"],[1.0,\"#f0f921\"]],\"type\":\"contour\"}],\"heatmapgl\":[{\"colorbar\":{\"outlinewidth\":0,\"ticks\":\"\"},\"colorscale\":[[0.0,\"#0d0887\"],[0.1111111111111111,\"#46039f\"],[0.2222222222222222,\"#7201a8\"],[0.3333333333333333,\"#9c179e\"],[0.4444444444444444,\"#bd3786\"],[0.5555555555555556,\"#d8576b\"],[0.6666666666666666,\"#ed7953\"],[0.7777777777777778,\"#fb9f3a\"],[0.8888888888888888,\"#fdca26\"],[1.0,\"#f0f921\"]],\"type\":\"heatmapgl\"}],\"heatmap\":[{\"colorbar\":{\"outlinewidth\":0,\"ticks\":\"\"},\"colorscale\":[[0.0,\"#0d0887\"],[0.1111111111111111,\"#46039f\"],[0.2222222222222222,\"#7201a8\"],[0.3333333333333333,\"#9c179e\"],[0.4444444444444444,\"#bd3786\"],[0.5555555555555556,\"#d8576b\"],[0.6666666666666666,\"#ed7953\"],[0.7777777777777778,\"#fb9f3a\"],[0.8888888888888888,\"#fdca26\"],[1.0,\"#f0f921\"]],\"type\":\"heatmap\"}],\"histogram2dcontour\":[{\"colorbar\":{\"outlinewidth\":0,\"ticks\":\"\"},\"colorscale\":[[0.0,\"#0d0887\"],[0.1111111111111111,\"#46039f\"],[0.2222222222222222,\"#7201a8\"],[0.3333333333333333,\"#9c179e\"],[0.4444444444444444,\"#bd3786\"],[0.5555555555555556,\"#d8576b\"],[0.6666666666666666,\"#ed7953\"],[0.7777777777777778,\"#fb9f3a\"],[0.8888888888888888,\"#fdca26\"],[1.0,\"#f0f921\"]],\"type\":\"histogram2dcontour\"}],\"histogram2d\":[{\"colorbar\":{\"outlinewidth\":0,\"ticks\":\"\"},\"colorscale\":[[0.0,\"#0d0887\"],[0.1111111111111111,\"#46039f\"],[0.2222222222222222,\"#7201a8\"],[0.3333333333333333,\"#9c179e\"],[0.4444444444444444,\"#bd3786\"],[0.5555555555555556,\"#d8576b\"],[0.6666666666666666,\"#ed7953\"],[0.7777777777777778,\"#fb9f3a\"],[0.8888888888888888,\"#fdca26\"],[1.0,\"#f0f921\"]],\"type\":\"histogram2d\"}],\"histogram\":[{\"marker\":{\"pattern\":{\"fillmode\":\"overlay\",\"size\":10,\"solidity\":0.2}},\"type\":\"histogram\"}],\"mesh3d\":[{\"colorbar\":{\"outlinewidth\":0,\"ticks\":\"\"},\"type\":\"mesh3d\"}],\"parcoords\":[{\"line\":{\"colorbar\":{\"outlinewidth\":0,\"ticks\":\"\"}},\"type\":\"parcoords\"}],\"pie\":[{\"automargin\":true,\"type\":\"pie\"}],\"scatter3d\":[{\"line\":{\"colorbar\":{\"outlinewidth\":0,\"ticks\":\"\"}},\"marker\":{\"colorbar\":{\"outlinewidth\":0,\"ticks\":\"\"}},\"type\":\"scatter3d\"}],\"scattercarpet\":[{\"marker\":{\"colorbar\":{\"outlinewidth\":0,\"ticks\":\"\"}},\"type\":\"scattercarpet\"}],\"scattergeo\":[{\"marker\":{\"colorbar\":{\"outlinewidth\":0,\"ticks\":\"\"}},\"type\":\"scattergeo\"}],\"scattergl\":[{\"marker\":{\"line\":{\"color\":\"#283442\"}},\"type\":\"scattergl\"}],\"scattermapbox\":[{\"marker\":{\"colorbar\":{\"outlinewidth\":0,\"ticks\":\"\"}},\"type\":\"scattermapbox\"}],\"scatterpolargl\":[{\"marker\":{\"colorbar\":{\"outlinewidth\":0,\"ticks\":\"\"}},\"type\":\"scatterpolargl\"}],\"scatterpolar\":[{\"marker\":{\"colorbar\":{\"outlinewidth\":0,\"ticks\":\"\"}},\"type\":\"scatterpolar\"}],\"scatter\":[{\"marker\":{\"line\":{\"color\":\"#283442\"}},\"type\":\"scatter\"}],\"scatterternary\":[{\"marker\":{\"colorbar\":{\"outlinewidth\":0,\"ticks\":\"\"}},\"type\":\"scatterternary\"}],\"surface\":[{\"colorbar\":{\"outlinewidth\":0,\"ticks\":\"\"},\"colorscale\":[[0.0,\"#0d0887\"],[0.1111111111111111,\"#46039f\"],[0.2222222222222222,\"#7201a8\"],[0.3333333333333333,\"#9c179e\"],[0.4444444444444444,\"#bd3786\"],[0.5555555555555556,\"#d8576b\"],[0.6666666666666666,\"#ed7953\"],[0.7777777777777778,\"#fb9f3a\"],[0.8888888888888888,\"#fdca26\"],[1.0,\"#f0f921\"]],\"type\":\"surface\"}],\"table\":[{\"cells\":{\"fill\":{\"color\":\"#506784\"},\"line\":{\"color\":\"rgb(17,17,17)\"}},\"header\":{\"fill\":{\"color\":\"#2a3f5f\"},\"line\":{\"color\":\"rgb(17,17,17)\"}},\"type\":\"table\"}]},\"layout\":{\"annotationdefaults\":{\"arrowcolor\":\"#f2f5fa\",\"arrowhead\":0,\"arrowwidth\":1},\"autotypenumbers\":\"strict\",\"coloraxis\":{\"colorbar\":{\"outlinewidth\":0,\"ticks\":\"\"}},\"colorscale\":{\"diverging\":[[0,\"#8e0152\"],[0.1,\"#c51b7d\"],[0.2,\"#de77ae\"],[0.3,\"#f1b6da\"],[0.4,\"#fde0ef\"],[0.5,\"#f7f7f7\"],[0.6,\"#e6f5d0\"],[0.7,\"#b8e186\"],[0.8,\"#7fbc41\"],[0.9,\"#4d9221\"],[1,\"#276419\"]],\"sequential\":[[0.0,\"#0d0887\"],[0.1111111111111111,\"#46039f\"],[0.2222222222222222,\"#7201a8\"],[0.3333333333333333,\"#9c179e\"],[0.4444444444444444,\"#bd3786\"],[0.5555555555555556,\"#d8576b\"],[0.6666666666666666,\"#ed7953\"],[0.7777777777777778,\"#fb9f3a\"],[0.8888888888888888,\"#fdca26\"],[1.0,\"#f0f921\"]],\"sequentialminus\":[[0.0,\"#0d0887\"],[0.1111111111111111,\"#46039f\"],[0.2222222222222222,\"#7201a8\"],[0.3333333333333333,\"#9c179e\"],[0.4444444444444444,\"#bd3786\"],[0.5555555555555556,\"#d8576b\"],[0.6666666666666666,\"#ed7953\"],[0.7777777777777778,\"#fb9f3a\"],[0.8888888888888888,\"#fdca26\"],[1.0,\"#f0f921\"]]},\"colorway\":[\"#636efa\",\"#EF553B\",\"#00cc96\",\"#ab63fa\",\"#FFA15A\",\"#19d3f3\",\"#FF6692\",\"#B6E880\",\"#FF97FF\",\"#FECB52\"],\"font\":{\"color\":\"#f2f5fa\"},\"geo\":{\"bgcolor\":\"rgb(17,17,17)\",\"lakecolor\":\"rgb(17,17,17)\",\"landcolor\":\"rgb(17,17,17)\",\"showlakes\":true,\"showland\":true,\"subunitcolor\":\"#506784\"},\"hoverlabel\":{\"align\":\"left\"},\"hovermode\":\"closest\",\"mapbox\":{\"style\":\"dark\"},\"paper_bgcolor\":\"rgb(17,17,17)\",\"plot_bgcolor\":\"rgb(17,17,17)\",\"polar\":{\"angularaxis\":{\"gridcolor\":\"#506784\",\"linecolor\":\"#506784\",\"ticks\":\"\"},\"bgcolor\":\"rgb(17,17,17)\",\"radialaxis\":{\"gridcolor\":\"#506784\",\"linecolor\":\"#506784\",\"ticks\":\"\"}},\"scene\":{\"xaxis\":{\"backgroundcolor\":\"rgb(17,17,17)\",\"gridcolor\":\"#506784\",\"gridwidth\":2,\"linecolor\":\"#506784\",\"showbackground\":true,\"ticks\":\"\",\"zerolinecolor\":\"#C8D4E3\"},\"yaxis\":{\"backgroundcolor\":\"rgb(17,17,17)\",\"gridcolor\":\"#506784\",\"gridwidth\":2,\"linecolor\":\"#506784\",\"showbackground\":true,\"ticks\":\"\",\"zerolinecolor\":\"#C8D4E3\"},\"zaxis\":{\"backgroundcolor\":\"rgb(17,17,17)\",\"gridcolor\":\"#506784\",\"gridwidth\":2,\"linecolor\":\"#506784\",\"showbackground\":true,\"ticks\":\"\",\"zerolinecolor\":\"#C8D4E3\"}},\"shapedefaults\":{\"line\":{\"color\":\"#f2f5fa\"}},\"sliderdefaults\":{\"bgcolor\":\"#C8D4E3\",\"bordercolor\":\"rgb(17,17,17)\",\"borderwidth\":1,\"tickwidth\":0},\"ternary\":{\"aaxis\":{\"gridcolor\":\"#506784\",\"linecolor\":\"#506784\",\"ticks\":\"\"},\"baxis\":{\"gridcolor\":\"#506784\",\"linecolor\":\"#506784\",\"ticks\":\"\"},\"bgcolor\":\"rgb(17,17,17)\",\"caxis\":{\"gridcolor\":\"#506784\",\"linecolor\":\"#506784\",\"ticks\":\"\"}},\"title\":{\"x\":0.05},\"updatemenudefaults\":{\"bgcolor\":\"#506784\",\"borderwidth\":0},\"xaxis\":{\"automargin\":true,\"gridcolor\":\"#283442\",\"linecolor\":\"#506784\",\"ticks\":\"\",\"title\":{\"standoff\":15},\"zerolinecolor\":\"#283442\",\"zerolinewidth\":2},\"yaxis\":{\"automargin\":true,\"gridcolor\":\"#283442\",\"linecolor\":\"#506784\",\"ticks\":\"\",\"title\":{\"standoff\":15},\"zerolinecolor\":\"#283442\",\"zerolinewidth\":2}}},\"xaxis\":{\"anchor\":\"y\",\"domain\":[0.0,1.0],\"title\":{\"text\":\"season\",\"font\":{\"size\":14}},\"tickangle\":-45},\"yaxis\":{\"anchor\":\"x\",\"domain\":[0.0,1.0],\"title\":{\"text\":\"Count\",\"font\":{\"size\":14}}},\"coloraxis\":{\"colorbar\":{\"title\":{\"text\":\"Count\"}},\"colorscale\":[[0.0,\"#440154\"],[0.1111111111111111,\"#482878\"],[0.2222222222222222,\"#3e4989\"],[0.3333333333333333,\"#31688e\"],[0.4444444444444444,\"#26828e\"],[0.5555555555555556,\"#1f9e89\"],[0.6666666666666666,\"#35b779\"],[0.7777777777777778,\"#6ece58\"],[0.8888888888888888,\"#b5de2b\"],[1.0,\"#fde725\"]]},\"legend\":{\"tracegroupgap\":0},\"title\":{\"text\":\"Total Runs Per Season\",\"font\":{\"size\":16}},\"barmode\":\"relative\"},                        {\"responsive\": true}                    ).then(function(){\n",
       "                            \n",
       "var gd = document.getElementById('2860ce01-9e43-4787-96ed-5e9e377490fd');\n",
       "var x = new MutationObserver(function (mutations, observer) {{\n",
       "        var display = window.getComputedStyle(gd).display;\n",
       "        if (!display || display === 'none') {{\n",
       "            console.log([gd, 'removed!']);\n",
       "            Plotly.purge(gd);\n",
       "            observer.disconnect();\n",
       "        }}\n",
       "}});\n",
       "\n",
       "// Listen for the removal of the full notebook cells\n",
       "var notebookContainer = gd.closest('#notebook-container');\n",
       "if (notebookContainer) {{\n",
       "    x.observe(notebookContainer, {childList: true});\n",
       "}}\n",
       "\n",
       "// Listen for the clearing of the current output cell\n",
       "var outputEl = gd.closest('.output');\n",
       "if (outputEl) {{\n",
       "    x.observe(outputEl, {childList: true});\n",
       "}}\n",
       "\n",
       "                        })                };                            </script>        </div>\n",
       "</body>\n",
       "</html>"
      ]
     },
     "metadata": {},
     "output_type": "display_data"
    }
   ],
   "source": [
    "import plotly.express as px\n",
    "\n",
    "fig = px.bar(season_stats,\n",
    "             x=season_stats.index,\n",
    "             y='total_runs',\n",
    "             title=\"Total Runs Per Season\",\n",
    "             labels={'total_runs': 'Count', 'index': 'Season'},\n",
    "             color='total_runs',\n",
    "             color_continuous_scale='viridis',\n",
    "             text_auto=True)  # Adds numbers on bars\n",
    "\n",
    "fig.update_layout(xaxis_tickangle=-45,\n",
    "                  title_font_size=16,\n",
    "                  xaxis_title_font_size=14,\n",
    "                  yaxis_title_font_size=14,\n",
    "                  template=\"plotly_dark\")\n",
    "\n",
    "fig.show()\n"
   ]
  },
  {
   "cell_type": "markdown",
   "id": "9bd1c0fd",
   "metadata": {
    "id": "8xrxMRenvUnV",
    "papermill": {
     "duration": 0.025627,
     "end_time": "2025-03-14T14:33:12.147881",
     "exception": false,
     "start_time": "2025-03-14T14:33:12.122254",
     "status": "completed"
    },
    "tags": []
   },
   "source": [
    "### 📊 Total Wickets Per Season (Plotly Bar Chart)"
   ]
  },
  {
   "cell_type": "code",
   "execution_count": 36,
   "id": "aba46124",
   "metadata": {
    "execution": {
     "iopub.execute_input": "2025-03-14T14:33:12.200918Z",
     "iopub.status.busy": "2025-03-14T14:33:12.200502Z",
     "iopub.status.idle": "2025-03-14T14:33:12.433287Z",
     "shell.execute_reply": "2025-03-14T14:33:12.432148Z"
    },
    "id": "FzeO977YvUnW",
    "outputId": "a2de383e-cb82-4664-a21f-fd1e25bb2ee4",
    "papermill": {
     "duration": 0.261564,
     "end_time": "2025-03-14T14:33:12.435203",
     "exception": false,
     "start_time": "2025-03-14T14:33:12.173639",
     "status": "completed"
    },
    "tags": []
   },
   "outputs": [
    {
     "data": {
      "text/html": [
       "<html>\n",
       "<head><meta charset=\"utf-8\" /></head>\n",
       "<body>\n",
       "    <div>            <script src=\"https://cdnjs.cloudflare.com/ajax/libs/mathjax/2.7.5/MathJax.js?config=TeX-AMS-MML_SVG\"></script><script type=\"text/javascript\">if (window.MathJax && window.MathJax.Hub && window.MathJax.Hub.Config) {window.MathJax.Hub.Config({SVG: {font: \"STIX-Web\"}});}</script>                <script type=\"text/javascript\">window.PlotlyConfig = {MathJaxConfig: 'local'};</script>\n",
       "        <script charset=\"utf-8\" src=\"https://cdn.plot.ly/plotly-2.35.2.min.js\"></script>                <div id=\"ce27f182-e487-4baf-8960-c31e31f357f5\" class=\"plotly-graph-div\" style=\"height:525px; width:100%;\"></div>            <script type=\"text/javascript\">                                    window.PLOTLYENV=window.PLOTLYENV || {};                                    if (document.getElementById(\"ce27f182-e487-4baf-8960-c31e31f357f5\")) {                    Plotly.newPlot(                        \"ce27f182-e487-4baf-8960-c31e31f357f5\",                        [{\"alignmentgroup\":\"True\",\"hovertemplate\":\"season=%{x}\\u003cbr\\u003eCount=%{marker.color}\\u003cextra\\u003e\\u003c\\u002fextra\\u003e\",\"legendgroup\":\"\",\"marker\":{\"color\":[690,698,725,813,858,912,674,691,666,711,722,685,677,717,912,916,883],\"coloraxis\":\"coloraxis\",\"pattern\":{\"shape\":\"\"}},\"name\":\"\",\"offsetgroup\":\"\",\"orientation\":\"v\",\"showlegend\":false,\"textposition\":\"auto\",\"texttemplate\":\"%{y}\",\"x\":[\"2007\\u002f08\",\"2009\",\"2009\\u002f10\",\"2011\",\"2012\",\"2013\",\"2014\",\"2015\",\"2016\",\"2017\",\"2018\",\"2019\",\"2020\\u002f21\",\"2021\",\"2022\",\"2023\",\"2024\"],\"xaxis\":\"x\",\"y\":[690,698,725,813,858,912,674,691,666,711,722,685,677,717,912,916,883],\"yaxis\":\"y\",\"type\":\"bar\"}],                        {\"template\":{\"data\":{\"barpolar\":[{\"marker\":{\"line\":{\"color\":\"rgb(17,17,17)\",\"width\":0.5},\"pattern\":{\"fillmode\":\"overlay\",\"size\":10,\"solidity\":0.2}},\"type\":\"barpolar\"}],\"bar\":[{\"error_x\":{\"color\":\"#f2f5fa\"},\"error_y\":{\"color\":\"#f2f5fa\"},\"marker\":{\"line\":{\"color\":\"rgb(17,17,17)\",\"width\":0.5},\"pattern\":{\"fillmode\":\"overlay\",\"size\":10,\"solidity\":0.2}},\"type\":\"bar\"}],\"carpet\":[{\"aaxis\":{\"endlinecolor\":\"#A2B1C6\",\"gridcolor\":\"#506784\",\"linecolor\":\"#506784\",\"minorgridcolor\":\"#506784\",\"startlinecolor\":\"#A2B1C6\"},\"baxis\":{\"endlinecolor\":\"#A2B1C6\",\"gridcolor\":\"#506784\",\"linecolor\":\"#506784\",\"minorgridcolor\":\"#506784\",\"startlinecolor\":\"#A2B1C6\"},\"type\":\"carpet\"}],\"choropleth\":[{\"colorbar\":{\"outlinewidth\":0,\"ticks\":\"\"},\"type\":\"choropleth\"}],\"contourcarpet\":[{\"colorbar\":{\"outlinewidth\":0,\"ticks\":\"\"},\"type\":\"contourcarpet\"}],\"contour\":[{\"colorbar\":{\"outlinewidth\":0,\"ticks\":\"\"},\"colorscale\":[[0.0,\"#0d0887\"],[0.1111111111111111,\"#46039f\"],[0.2222222222222222,\"#7201a8\"],[0.3333333333333333,\"#9c179e\"],[0.4444444444444444,\"#bd3786\"],[0.5555555555555556,\"#d8576b\"],[0.6666666666666666,\"#ed7953\"],[0.7777777777777778,\"#fb9f3a\"],[0.8888888888888888,\"#fdca26\"],[1.0,\"#f0f921\"]],\"type\":\"contour\"}],\"heatmapgl\":[{\"colorbar\":{\"outlinewidth\":0,\"ticks\":\"\"},\"colorscale\":[[0.0,\"#0d0887\"],[0.1111111111111111,\"#46039f\"],[0.2222222222222222,\"#7201a8\"],[0.3333333333333333,\"#9c179e\"],[0.4444444444444444,\"#bd3786\"],[0.5555555555555556,\"#d8576b\"],[0.6666666666666666,\"#ed7953\"],[0.7777777777777778,\"#fb9f3a\"],[0.8888888888888888,\"#fdca26\"],[1.0,\"#f0f921\"]],\"type\":\"heatmapgl\"}],\"heatmap\":[{\"colorbar\":{\"outlinewidth\":0,\"ticks\":\"\"},\"colorscale\":[[0.0,\"#0d0887\"],[0.1111111111111111,\"#46039f\"],[0.2222222222222222,\"#7201a8\"],[0.3333333333333333,\"#9c179e\"],[0.4444444444444444,\"#bd3786\"],[0.5555555555555556,\"#d8576b\"],[0.6666666666666666,\"#ed7953\"],[0.7777777777777778,\"#fb9f3a\"],[0.8888888888888888,\"#fdca26\"],[1.0,\"#f0f921\"]],\"type\":\"heatmap\"}],\"histogram2dcontour\":[{\"colorbar\":{\"outlinewidth\":0,\"ticks\":\"\"},\"colorscale\":[[0.0,\"#0d0887\"],[0.1111111111111111,\"#46039f\"],[0.2222222222222222,\"#7201a8\"],[0.3333333333333333,\"#9c179e\"],[0.4444444444444444,\"#bd3786\"],[0.5555555555555556,\"#d8576b\"],[0.6666666666666666,\"#ed7953\"],[0.7777777777777778,\"#fb9f3a\"],[0.8888888888888888,\"#fdca26\"],[1.0,\"#f0f921\"]],\"type\":\"histogram2dcontour\"}],\"histogram2d\":[{\"colorbar\":{\"outlinewidth\":0,\"ticks\":\"\"},\"colorscale\":[[0.0,\"#0d0887\"],[0.1111111111111111,\"#46039f\"],[0.2222222222222222,\"#7201a8\"],[0.3333333333333333,\"#9c179e\"],[0.4444444444444444,\"#bd3786\"],[0.5555555555555556,\"#d8576b\"],[0.6666666666666666,\"#ed7953\"],[0.7777777777777778,\"#fb9f3a\"],[0.8888888888888888,\"#fdca26\"],[1.0,\"#f0f921\"]],\"type\":\"histogram2d\"}],\"histogram\":[{\"marker\":{\"pattern\":{\"fillmode\":\"overlay\",\"size\":10,\"solidity\":0.2}},\"type\":\"histogram\"}],\"mesh3d\":[{\"colorbar\":{\"outlinewidth\":0,\"ticks\":\"\"},\"type\":\"mesh3d\"}],\"parcoords\":[{\"line\":{\"colorbar\":{\"outlinewidth\":0,\"ticks\":\"\"}},\"type\":\"parcoords\"}],\"pie\":[{\"automargin\":true,\"type\":\"pie\"}],\"scatter3d\":[{\"line\":{\"colorbar\":{\"outlinewidth\":0,\"ticks\":\"\"}},\"marker\":{\"colorbar\":{\"outlinewidth\":0,\"ticks\":\"\"}},\"type\":\"scatter3d\"}],\"scattercarpet\":[{\"marker\":{\"colorbar\":{\"outlinewidth\":0,\"ticks\":\"\"}},\"type\":\"scattercarpet\"}],\"scattergeo\":[{\"marker\":{\"colorbar\":{\"outlinewidth\":0,\"ticks\":\"\"}},\"type\":\"scattergeo\"}],\"scattergl\":[{\"marker\":{\"line\":{\"color\":\"#283442\"}},\"type\":\"scattergl\"}],\"scattermapbox\":[{\"marker\":{\"colorbar\":{\"outlinewidth\":0,\"ticks\":\"\"}},\"type\":\"scattermapbox\"}],\"scatterpolargl\":[{\"marker\":{\"colorbar\":{\"outlinewidth\":0,\"ticks\":\"\"}},\"type\":\"scatterpolargl\"}],\"scatterpolar\":[{\"marker\":{\"colorbar\":{\"outlinewidth\":0,\"ticks\":\"\"}},\"type\":\"scatterpolar\"}],\"scatter\":[{\"marker\":{\"line\":{\"color\":\"#283442\"}},\"type\":\"scatter\"}],\"scatterternary\":[{\"marker\":{\"colorbar\":{\"outlinewidth\":0,\"ticks\":\"\"}},\"type\":\"scatterternary\"}],\"surface\":[{\"colorbar\":{\"outlinewidth\":0,\"ticks\":\"\"},\"colorscale\":[[0.0,\"#0d0887\"],[0.1111111111111111,\"#46039f\"],[0.2222222222222222,\"#7201a8\"],[0.3333333333333333,\"#9c179e\"],[0.4444444444444444,\"#bd3786\"],[0.5555555555555556,\"#d8576b\"],[0.6666666666666666,\"#ed7953\"],[0.7777777777777778,\"#fb9f3a\"],[0.8888888888888888,\"#fdca26\"],[1.0,\"#f0f921\"]],\"type\":\"surface\"}],\"table\":[{\"cells\":{\"fill\":{\"color\":\"#506784\"},\"line\":{\"color\":\"rgb(17,17,17)\"}},\"header\":{\"fill\":{\"color\":\"#2a3f5f\"},\"line\":{\"color\":\"rgb(17,17,17)\"}},\"type\":\"table\"}]},\"layout\":{\"annotationdefaults\":{\"arrowcolor\":\"#f2f5fa\",\"arrowhead\":0,\"arrowwidth\":1},\"autotypenumbers\":\"strict\",\"coloraxis\":{\"colorbar\":{\"outlinewidth\":0,\"ticks\":\"\"}},\"colorscale\":{\"diverging\":[[0,\"#8e0152\"],[0.1,\"#c51b7d\"],[0.2,\"#de77ae\"],[0.3,\"#f1b6da\"],[0.4,\"#fde0ef\"],[0.5,\"#f7f7f7\"],[0.6,\"#e6f5d0\"],[0.7,\"#b8e186\"],[0.8,\"#7fbc41\"],[0.9,\"#4d9221\"],[1,\"#276419\"]],\"sequential\":[[0.0,\"#0d0887\"],[0.1111111111111111,\"#46039f\"],[0.2222222222222222,\"#7201a8\"],[0.3333333333333333,\"#9c179e\"],[0.4444444444444444,\"#bd3786\"],[0.5555555555555556,\"#d8576b\"],[0.6666666666666666,\"#ed7953\"],[0.7777777777777778,\"#fb9f3a\"],[0.8888888888888888,\"#fdca26\"],[1.0,\"#f0f921\"]],\"sequentialminus\":[[0.0,\"#0d0887\"],[0.1111111111111111,\"#46039f\"],[0.2222222222222222,\"#7201a8\"],[0.3333333333333333,\"#9c179e\"],[0.4444444444444444,\"#bd3786\"],[0.5555555555555556,\"#d8576b\"],[0.6666666666666666,\"#ed7953\"],[0.7777777777777778,\"#fb9f3a\"],[0.8888888888888888,\"#fdca26\"],[1.0,\"#f0f921\"]]},\"colorway\":[\"#636efa\",\"#EF553B\",\"#00cc96\",\"#ab63fa\",\"#FFA15A\",\"#19d3f3\",\"#FF6692\",\"#B6E880\",\"#FF97FF\",\"#FECB52\"],\"font\":{\"color\":\"#f2f5fa\"},\"geo\":{\"bgcolor\":\"rgb(17,17,17)\",\"lakecolor\":\"rgb(17,17,17)\",\"landcolor\":\"rgb(17,17,17)\",\"showlakes\":true,\"showland\":true,\"subunitcolor\":\"#506784\"},\"hoverlabel\":{\"align\":\"left\"},\"hovermode\":\"closest\",\"mapbox\":{\"style\":\"dark\"},\"paper_bgcolor\":\"rgb(17,17,17)\",\"plot_bgcolor\":\"rgb(17,17,17)\",\"polar\":{\"angularaxis\":{\"gridcolor\":\"#506784\",\"linecolor\":\"#506784\",\"ticks\":\"\"},\"bgcolor\":\"rgb(17,17,17)\",\"radialaxis\":{\"gridcolor\":\"#506784\",\"linecolor\":\"#506784\",\"ticks\":\"\"}},\"scene\":{\"xaxis\":{\"backgroundcolor\":\"rgb(17,17,17)\",\"gridcolor\":\"#506784\",\"gridwidth\":2,\"linecolor\":\"#506784\",\"showbackground\":true,\"ticks\":\"\",\"zerolinecolor\":\"#C8D4E3\"},\"yaxis\":{\"backgroundcolor\":\"rgb(17,17,17)\",\"gridcolor\":\"#506784\",\"gridwidth\":2,\"linecolor\":\"#506784\",\"showbackground\":true,\"ticks\":\"\",\"zerolinecolor\":\"#C8D4E3\"},\"zaxis\":{\"backgroundcolor\":\"rgb(17,17,17)\",\"gridcolor\":\"#506784\",\"gridwidth\":2,\"linecolor\":\"#506784\",\"showbackground\":true,\"ticks\":\"\",\"zerolinecolor\":\"#C8D4E3\"}},\"shapedefaults\":{\"line\":{\"color\":\"#f2f5fa\"}},\"sliderdefaults\":{\"bgcolor\":\"#C8D4E3\",\"bordercolor\":\"rgb(17,17,17)\",\"borderwidth\":1,\"tickwidth\":0},\"ternary\":{\"aaxis\":{\"gridcolor\":\"#506784\",\"linecolor\":\"#506784\",\"ticks\":\"\"},\"baxis\":{\"gridcolor\":\"#506784\",\"linecolor\":\"#506784\",\"ticks\":\"\"},\"bgcolor\":\"rgb(17,17,17)\",\"caxis\":{\"gridcolor\":\"#506784\",\"linecolor\":\"#506784\",\"ticks\":\"\"}},\"title\":{\"x\":0.05},\"updatemenudefaults\":{\"bgcolor\":\"#506784\",\"borderwidth\":0},\"xaxis\":{\"automargin\":true,\"gridcolor\":\"#283442\",\"linecolor\":\"#506784\",\"ticks\":\"\",\"title\":{\"standoff\":15},\"zerolinecolor\":\"#283442\",\"zerolinewidth\":2},\"yaxis\":{\"automargin\":true,\"gridcolor\":\"#283442\",\"linecolor\":\"#506784\",\"ticks\":\"\",\"title\":{\"standoff\":15},\"zerolinecolor\":\"#283442\",\"zerolinewidth\":2}}},\"xaxis\":{\"anchor\":\"y\",\"domain\":[0.0,1.0],\"title\":{\"text\":\"season\",\"font\":{\"size\":14}},\"tickangle\":-45},\"yaxis\":{\"anchor\":\"x\",\"domain\":[0.0,1.0],\"title\":{\"text\":\"Count\",\"font\":{\"size\":14}}},\"coloraxis\":{\"colorbar\":{\"title\":{\"text\":\"Count\"}},\"colorscale\":[[0.0,\"#000004\"],[0.1111111111111111,\"#180f3d\"],[0.2222222222222222,\"#440f76\"],[0.3333333333333333,\"#721f81\"],[0.4444444444444444,\"#9e2f7f\"],[0.5555555555555556,\"#cd4071\"],[0.6666666666666666,\"#f1605d\"],[0.7777777777777778,\"#fd9668\"],[0.8888888888888888,\"#feca8d\"],[1.0,\"#fcfdbf\"]]},\"legend\":{\"tracegroupgap\":0},\"title\":{\"text\":\"Total Wickets Per Season\",\"font\":{\"size\":16}},\"barmode\":\"relative\"},                        {\"responsive\": true}                    ).then(function(){\n",
       "                            \n",
       "var gd = document.getElementById('ce27f182-e487-4baf-8960-c31e31f357f5');\n",
       "var x = new MutationObserver(function (mutations, observer) {{\n",
       "        var display = window.getComputedStyle(gd).display;\n",
       "        if (!display || display === 'none') {{\n",
       "            console.log([gd, 'removed!']);\n",
       "            Plotly.purge(gd);\n",
       "            observer.disconnect();\n",
       "        }}\n",
       "}});\n",
       "\n",
       "// Listen for the removal of the full notebook cells\n",
       "var notebookContainer = gd.closest('#notebook-container');\n",
       "if (notebookContainer) {{\n",
       "    x.observe(notebookContainer, {childList: true});\n",
       "}}\n",
       "\n",
       "// Listen for the clearing of the current output cell\n",
       "var outputEl = gd.closest('.output');\n",
       "if (outputEl) {{\n",
       "    x.observe(outputEl, {childList: true});\n",
       "}}\n",
       "\n",
       "                        })                };                            </script>        </div>\n",
       "</body>\n",
       "</html>"
      ]
     },
     "metadata": {},
     "output_type": "display_data"
    }
   ],
   "source": [
    "import plotly.express as px\n",
    "\n",
    "fig = px.bar(season_stats,\n",
    "             x=season_stats.index,\n",
    "             y='is_wicket',\n",
    "             title=\"Total Wickets Per Season\",\n",
    "             labels={'is_wicket': 'Count', 'index': 'Season'},\n",
    "             color='is_wicket',\n",
    "             color_continuous_scale='magma',\n",
    "             text_auto=True)  # Adds numbers on bars\n",
    "\n",
    "fig.update_layout(xaxis_tickangle=-45,\n",
    "                  title_font_size=16,\n",
    "                  xaxis_title_font_size=14,\n",
    "                  yaxis_title_font_size=14,\n",
    "                  template=\"plotly_dark\")\n",
    "\n",
    "fig.show()\n"
   ]
  },
  {
   "cell_type": "markdown",
   "id": "7793f5d1",
   "metadata": {
    "id": "3n2ktE3pvUnY",
    "papermill": {
     "duration": 0.028463,
     "end_time": "2025-03-14T14:33:12.489894",
     "exception": false,
     "start_time": "2025-03-14T14:33:12.461431",
     "status": "completed"
    },
    "tags": []
   },
   "source": [
    "### ✅ Most Common Dismissal Types (Pie Chart)"
   ]
  },
  {
   "cell_type": "code",
   "execution_count": 37,
   "id": "fa03147f",
   "metadata": {
    "execution": {
     "iopub.execute_input": "2025-03-14T14:33:12.546119Z",
     "iopub.status.busy": "2025-03-14T14:33:12.545693Z",
     "iopub.status.idle": "2025-03-14T14:33:12.629303Z",
     "shell.execute_reply": "2025-03-14T14:33:12.627964Z"
    },
    "id": "ukVzGZZUyrs4",
    "outputId": "985109ef-e279-4526-9c81-9920f4f89e2f",
    "papermill": {
     "duration": 0.113945,
     "end_time": "2025-03-14T14:33:12.631261",
     "exception": false,
     "start_time": "2025-03-14T14:33:12.517316",
     "status": "completed"
    },
    "tags": []
   },
   "outputs": [
    {
     "data": {
      "text/html": [
       "<html>\n",
       "<head><meta charset=\"utf-8\" /></head>\n",
       "<body>\n",
       "    <div>            <script src=\"https://cdnjs.cloudflare.com/ajax/libs/mathjax/2.7.5/MathJax.js?config=TeX-AMS-MML_SVG\"></script><script type=\"text/javascript\">if (window.MathJax && window.MathJax.Hub && window.MathJax.Hub.Config) {window.MathJax.Hub.Config({SVG: {font: \"STIX-Web\"}});}</script>                <script type=\"text/javascript\">window.PlotlyConfig = {MathJaxConfig: 'local'};</script>\n",
       "        <script charset=\"utf-8\" src=\"https://cdn.plot.ly/plotly-2.35.2.min.js\"></script>                <div id=\"fb31a602-507d-4232-902f-b2547151cad2\" class=\"plotly-graph-div\" style=\"height:525px; width:100%;\"></div>            <script type=\"text/javascript\">                                    window.PLOTLYENV=window.PLOTLYENV || {};                                    if (document.getElementById(\"fb31a602-507d-4232-902f-b2547151cad2\")) {                    Plotly.newPlot(                        \"fb31a602-507d-4232-902f-b2547151cad2\",                        [{\"domain\":{\"x\":[0.0,1.0],\"y\":[0.0,1.0]},\"hole\":0.3,\"hovertemplate\":\"Dismissal Type=%{label}\\u003cbr\\u003eCount=%{value}\\u003cextra\\u003e\\u003c\\u002fextra\\u003e\",\"labels\":[\"caught\",\"bowled\",\"run out\",\"lbw\",\"caught and bowled\",\"stumped\",\"retired hurt\",\"hit wicket\",\"obstructing the field\",\"retired out\"],\"legendgroup\":\"\",\"name\":\"\",\"showlegend\":true,\"values\":[8063,2212,1114,800,367,358,15,15,3,3],\"type\":\"pie\",\"pull\":[0.05,0.05,0.05,0.05,0.05,0.05,0.05,0.05,0.05,0.05],\"textinfo\":\"percent+label\"}],                        {\"template\":{\"data\":{\"histogram2dcontour\":[{\"type\":\"histogram2dcontour\",\"colorbar\":{\"outlinewidth\":0,\"ticks\":\"\"},\"colorscale\":[[0.0,\"#0d0887\"],[0.1111111111111111,\"#46039f\"],[0.2222222222222222,\"#7201a8\"],[0.3333333333333333,\"#9c179e\"],[0.4444444444444444,\"#bd3786\"],[0.5555555555555556,\"#d8576b\"],[0.6666666666666666,\"#ed7953\"],[0.7777777777777778,\"#fb9f3a\"],[0.8888888888888888,\"#fdca26\"],[1.0,\"#f0f921\"]]}],\"choropleth\":[{\"type\":\"choropleth\",\"colorbar\":{\"outlinewidth\":0,\"ticks\":\"\"}}],\"histogram2d\":[{\"type\":\"histogram2d\",\"colorbar\":{\"outlinewidth\":0,\"ticks\":\"\"},\"colorscale\":[[0.0,\"#0d0887\"],[0.1111111111111111,\"#46039f\"],[0.2222222222222222,\"#7201a8\"],[0.3333333333333333,\"#9c179e\"],[0.4444444444444444,\"#bd3786\"],[0.5555555555555556,\"#d8576b\"],[0.6666666666666666,\"#ed7953\"],[0.7777777777777778,\"#fb9f3a\"],[0.8888888888888888,\"#fdca26\"],[1.0,\"#f0f921\"]]}],\"heatmap\":[{\"type\":\"heatmap\",\"colorbar\":{\"outlinewidth\":0,\"ticks\":\"\"},\"colorscale\":[[0.0,\"#0d0887\"],[0.1111111111111111,\"#46039f\"],[0.2222222222222222,\"#7201a8\"],[0.3333333333333333,\"#9c179e\"],[0.4444444444444444,\"#bd3786\"],[0.5555555555555556,\"#d8576b\"],[0.6666666666666666,\"#ed7953\"],[0.7777777777777778,\"#fb9f3a\"],[0.8888888888888888,\"#fdca26\"],[1.0,\"#f0f921\"]]}],\"heatmapgl\":[{\"type\":\"heatmapgl\",\"colorbar\":{\"outlinewidth\":0,\"ticks\":\"\"},\"colorscale\":[[0.0,\"#0d0887\"],[0.1111111111111111,\"#46039f\"],[0.2222222222222222,\"#7201a8\"],[0.3333333333333333,\"#9c179e\"],[0.4444444444444444,\"#bd3786\"],[0.5555555555555556,\"#d8576b\"],[0.6666666666666666,\"#ed7953\"],[0.7777777777777778,\"#fb9f3a\"],[0.8888888888888888,\"#fdca26\"],[1.0,\"#f0f921\"]]}],\"contourcarpet\":[{\"type\":\"contourcarpet\",\"colorbar\":{\"outlinewidth\":0,\"ticks\":\"\"}}],\"contour\":[{\"type\":\"contour\",\"colorbar\":{\"outlinewidth\":0,\"ticks\":\"\"},\"colorscale\":[[0.0,\"#0d0887\"],[0.1111111111111111,\"#46039f\"],[0.2222222222222222,\"#7201a8\"],[0.3333333333333333,\"#9c179e\"],[0.4444444444444444,\"#bd3786\"],[0.5555555555555556,\"#d8576b\"],[0.6666666666666666,\"#ed7953\"],[0.7777777777777778,\"#fb9f3a\"],[0.8888888888888888,\"#fdca26\"],[1.0,\"#f0f921\"]]}],\"surface\":[{\"type\":\"surface\",\"colorbar\":{\"outlinewidth\":0,\"ticks\":\"\"},\"colorscale\":[[0.0,\"#0d0887\"],[0.1111111111111111,\"#46039f\"],[0.2222222222222222,\"#7201a8\"],[0.3333333333333333,\"#9c179e\"],[0.4444444444444444,\"#bd3786\"],[0.5555555555555556,\"#d8576b\"],[0.6666666666666666,\"#ed7953\"],[0.7777777777777778,\"#fb9f3a\"],[0.8888888888888888,\"#fdca26\"],[1.0,\"#f0f921\"]]}],\"mesh3d\":[{\"type\":\"mesh3d\",\"colorbar\":{\"outlinewidth\":0,\"ticks\":\"\"}}],\"scatter\":[{\"fillpattern\":{\"fillmode\":\"overlay\",\"size\":10,\"solidity\":0.2},\"type\":\"scatter\"}],\"parcoords\":[{\"type\":\"parcoords\",\"line\":{\"colorbar\":{\"outlinewidth\":0,\"ticks\":\"\"}}}],\"scatterpolargl\":[{\"type\":\"scatterpolargl\",\"marker\":{\"colorbar\":{\"outlinewidth\":0,\"ticks\":\"\"}}}],\"bar\":[{\"error_x\":{\"color\":\"#2a3f5f\"},\"error_y\":{\"color\":\"#2a3f5f\"},\"marker\":{\"line\":{\"color\":\"#E5ECF6\",\"width\":0.5},\"pattern\":{\"fillmode\":\"overlay\",\"size\":10,\"solidity\":0.2}},\"type\":\"bar\"}],\"scattergeo\":[{\"type\":\"scattergeo\",\"marker\":{\"colorbar\":{\"outlinewidth\":0,\"ticks\":\"\"}}}],\"scatterpolar\":[{\"type\":\"scatterpolar\",\"marker\":{\"colorbar\":{\"outlinewidth\":0,\"ticks\":\"\"}}}],\"histogram\":[{\"marker\":{\"pattern\":{\"fillmode\":\"overlay\",\"size\":10,\"solidity\":0.2}},\"type\":\"histogram\"}],\"scattergl\":[{\"type\":\"scattergl\",\"marker\":{\"colorbar\":{\"outlinewidth\":0,\"ticks\":\"\"}}}],\"scatter3d\":[{\"type\":\"scatter3d\",\"line\":{\"colorbar\":{\"outlinewidth\":0,\"ticks\":\"\"}},\"marker\":{\"colorbar\":{\"outlinewidth\":0,\"ticks\":\"\"}}}],\"scattermapbox\":[{\"type\":\"scattermapbox\",\"marker\":{\"colorbar\":{\"outlinewidth\":0,\"ticks\":\"\"}}}],\"scatterternary\":[{\"type\":\"scatterternary\",\"marker\":{\"colorbar\":{\"outlinewidth\":0,\"ticks\":\"\"}}}],\"scattercarpet\":[{\"type\":\"scattercarpet\",\"marker\":{\"colorbar\":{\"outlinewidth\":0,\"ticks\":\"\"}}}],\"carpet\":[{\"aaxis\":{\"endlinecolor\":\"#2a3f5f\",\"gridcolor\":\"white\",\"linecolor\":\"white\",\"minorgridcolor\":\"white\",\"startlinecolor\":\"#2a3f5f\"},\"baxis\":{\"endlinecolor\":\"#2a3f5f\",\"gridcolor\":\"white\",\"linecolor\":\"white\",\"minorgridcolor\":\"white\",\"startlinecolor\":\"#2a3f5f\"},\"type\":\"carpet\"}],\"table\":[{\"cells\":{\"fill\":{\"color\":\"#EBF0F8\"},\"line\":{\"color\":\"white\"}},\"header\":{\"fill\":{\"color\":\"#C8D4E3\"},\"line\":{\"color\":\"white\"}},\"type\":\"table\"}],\"barpolar\":[{\"marker\":{\"line\":{\"color\":\"#E5ECF6\",\"width\":0.5},\"pattern\":{\"fillmode\":\"overlay\",\"size\":10,\"solidity\":0.2}},\"type\":\"barpolar\"}],\"pie\":[{\"automargin\":true,\"type\":\"pie\"}]},\"layout\":{\"autotypenumbers\":\"strict\",\"colorway\":[\"#636efa\",\"#EF553B\",\"#00cc96\",\"#ab63fa\",\"#FFA15A\",\"#19d3f3\",\"#FF6692\",\"#B6E880\",\"#FF97FF\",\"#FECB52\"],\"font\":{\"color\":\"#2a3f5f\"},\"hovermode\":\"closest\",\"hoverlabel\":{\"align\":\"left\"},\"paper_bgcolor\":\"white\",\"plot_bgcolor\":\"#E5ECF6\",\"polar\":{\"bgcolor\":\"#E5ECF6\",\"angularaxis\":{\"gridcolor\":\"white\",\"linecolor\":\"white\",\"ticks\":\"\"},\"radialaxis\":{\"gridcolor\":\"white\",\"linecolor\":\"white\",\"ticks\":\"\"}},\"ternary\":{\"bgcolor\":\"#E5ECF6\",\"aaxis\":{\"gridcolor\":\"white\",\"linecolor\":\"white\",\"ticks\":\"\"},\"baxis\":{\"gridcolor\":\"white\",\"linecolor\":\"white\",\"ticks\":\"\"},\"caxis\":{\"gridcolor\":\"white\",\"linecolor\":\"white\",\"ticks\":\"\"}},\"coloraxis\":{\"colorbar\":{\"outlinewidth\":0,\"ticks\":\"\"}},\"colorscale\":{\"sequential\":[[0.0,\"#0d0887\"],[0.1111111111111111,\"#46039f\"],[0.2222222222222222,\"#7201a8\"],[0.3333333333333333,\"#9c179e\"],[0.4444444444444444,\"#bd3786\"],[0.5555555555555556,\"#d8576b\"],[0.6666666666666666,\"#ed7953\"],[0.7777777777777778,\"#fb9f3a\"],[0.8888888888888888,\"#fdca26\"],[1.0,\"#f0f921\"]],\"sequentialminus\":[[0.0,\"#0d0887\"],[0.1111111111111111,\"#46039f\"],[0.2222222222222222,\"#7201a8\"],[0.3333333333333333,\"#9c179e\"],[0.4444444444444444,\"#bd3786\"],[0.5555555555555556,\"#d8576b\"],[0.6666666666666666,\"#ed7953\"],[0.7777777777777778,\"#fb9f3a\"],[0.8888888888888888,\"#fdca26\"],[1.0,\"#f0f921\"]],\"diverging\":[[0,\"#8e0152\"],[0.1,\"#c51b7d\"],[0.2,\"#de77ae\"],[0.3,\"#f1b6da\"],[0.4,\"#fde0ef\"],[0.5,\"#f7f7f7\"],[0.6,\"#e6f5d0\"],[0.7,\"#b8e186\"],[0.8,\"#7fbc41\"],[0.9,\"#4d9221\"],[1,\"#276419\"]]},\"xaxis\":{\"gridcolor\":\"white\",\"linecolor\":\"white\",\"ticks\":\"\",\"title\":{\"standoff\":15},\"zerolinecolor\":\"white\",\"automargin\":true,\"zerolinewidth\":2},\"yaxis\":{\"gridcolor\":\"white\",\"linecolor\":\"white\",\"ticks\":\"\",\"title\":{\"standoff\":15},\"zerolinecolor\":\"white\",\"automargin\":true,\"zerolinewidth\":2},\"scene\":{\"xaxis\":{\"backgroundcolor\":\"#E5ECF6\",\"gridcolor\":\"white\",\"linecolor\":\"white\",\"showbackground\":true,\"ticks\":\"\",\"zerolinecolor\":\"white\",\"gridwidth\":2},\"yaxis\":{\"backgroundcolor\":\"#E5ECF6\",\"gridcolor\":\"white\",\"linecolor\":\"white\",\"showbackground\":true,\"ticks\":\"\",\"zerolinecolor\":\"white\",\"gridwidth\":2},\"zaxis\":{\"backgroundcolor\":\"#E5ECF6\",\"gridcolor\":\"white\",\"linecolor\":\"white\",\"showbackground\":true,\"ticks\":\"\",\"zerolinecolor\":\"white\",\"gridwidth\":2}},\"shapedefaults\":{\"line\":{\"color\":\"#2a3f5f\"}},\"annotationdefaults\":{\"arrowcolor\":\"#2a3f5f\",\"arrowhead\":0,\"arrowwidth\":1},\"geo\":{\"bgcolor\":\"white\",\"landcolor\":\"#E5ECF6\",\"subunitcolor\":\"white\",\"showland\":true,\"showlakes\":true,\"lakecolor\":\"white\"},\"title\":{\"x\":0.05},\"mapbox\":{\"style\":\"light\"}}},\"legend\":{\"tracegroupgap\":0},\"title\":{\"text\":\"Distribution of Dismissal Types\"},\"piecolorway\":[\"rgb(102, 197, 204)\",\"rgb(246, 207, 113)\",\"rgb(248, 156, 116)\",\"rgb(220, 176, 242)\",\"rgb(135, 197, 95)\",\"rgb(158, 185, 243)\",\"rgb(254, 136, 177)\",\"rgb(201, 219, 116)\",\"rgb(139, 224, 164)\",\"rgb(180, 151, 231)\",\"rgb(179, 179, 179)\"]},                        {\"responsive\": true}                    ).then(function(){\n",
       "                            \n",
       "var gd = document.getElementById('fb31a602-507d-4232-902f-b2547151cad2');\n",
       "var x = new MutationObserver(function (mutations, observer) {{\n",
       "        var display = window.getComputedStyle(gd).display;\n",
       "        if (!display || display === 'none') {{\n",
       "            console.log([gd, 'removed!']);\n",
       "            Plotly.purge(gd);\n",
       "            observer.disconnect();\n",
       "        }}\n",
       "}});\n",
       "\n",
       "// Listen for the removal of the full notebook cells\n",
       "var notebookContainer = gd.closest('#notebook-container');\n",
       "if (notebookContainer) {{\n",
       "    x.observe(notebookContainer, {childList: true});\n",
       "}}\n",
       "\n",
       "// Listen for the clearing of the current output cell\n",
       "var outputEl = gd.closest('.output');\n",
       "if (outputEl) {{\n",
       "    x.observe(outputEl, {childList: true});\n",
       "}}\n",
       "\n",
       "                        })                };                            </script>        </div>\n",
       "</body>\n",
       "</html>"
      ]
     },
     "metadata": {},
     "output_type": "display_data"
    }
   ],
   "source": [
    "import plotly.express as px\n",
    "\n",
    "dismissal_counts = df['dismissal_kind'].value_counts()[1:].reset_index()\n",
    "dismissal_counts.columns = ['Dismissal Type', 'Count']\n",
    "\n",
    "fig = px.pie(dismissal_counts,\n",
    "             names='Dismissal Type',\n",
    "             values='Count',\n",
    "             title='Distribution of Dismissal Types',\n",
    "             color_discrete_sequence=px.colors.qualitative.Pastel,\n",
    "             hole=0.3)\n",
    "\n",
    "fig.update_traces(textinfo='percent+label', pull=[0.05]*len(dismissal_counts))\n",
    "fig.show()\n"
   ]
  },
  {
   "cell_type": "markdown",
   "id": "2422a80c",
   "metadata": {
    "id": "-qyJoYyjvUnZ",
    "jp-MarkdownHeadingCollapsed": true,
    "papermill": {
     "duration": 0.024654,
     "end_time": "2025-03-14T14:33:12.681148",
     "exception": false,
     "start_time": "2025-03-14T14:33:12.656494",
     "status": "completed"
    },
    "tags": []
   },
   "source": [
    "### ⚡ Team Analysis"
   ]
  },
  {
   "cell_type": "markdown",
   "id": "bc0df881",
   "metadata": {
    "id": "u4tuvDj-vUnZ",
    "papermill": {
     "duration": 0.02435,
     "end_time": "2025-03-14T14:33:12.729950",
     "exception": false,
     "start_time": "2025-03-14T14:33:12.705600",
     "status": "completed"
    },
    "tags": []
   },
   "source": [
    "## ✅ Win Percentage of Teams Across Seasons"
   ]
  },
  {
   "cell_type": "code",
   "execution_count": 38,
   "id": "5cb1595e",
   "metadata": {
    "execution": {
     "iopub.execute_input": "2025-03-14T14:33:12.780677Z",
     "iopub.status.busy": "2025-03-14T14:33:12.780258Z",
     "iopub.status.idle": "2025-03-14T14:33:12.947667Z",
     "shell.execute_reply": "2025-03-14T14:33:12.946303Z"
    },
    "id": "RnawO18cvUnZ",
    "outputId": "8f72fb98-d6e4-46b9-ac23-e89ed1e26ca8",
    "papermill": {
     "duration": 0.19551,
     "end_time": "2025-03-14T14:33:12.949841",
     "exception": false,
     "start_time": "2025-03-14T14:33:12.754331",
     "status": "completed"
    },
    "tags": []
   },
   "outputs": [
    {
     "data": {
      "text/html": [
       "<div>\n",
       "<style scoped>\n",
       "    .dataframe tbody tr th:only-of-type {\n",
       "        vertical-align: middle;\n",
       "    }\n",
       "\n",
       "    .dataframe tbody tr th {\n",
       "        vertical-align: top;\n",
       "    }\n",
       "\n",
       "    .dataframe thead th {\n",
       "        text-align: right;\n",
       "    }\n",
       "</style>\n",
       "<table border=\"1\" class=\"dataframe\">\n",
       "  <thead>\n",
       "    <tr style=\"text-align: right;\">\n",
       "      <th></th>\n",
       "      <th>season</th>\n",
       "      <th>team</th>\n",
       "      <th>matches_played</th>\n",
       "      <th>matches_won</th>\n",
       "      <th>win_percentage</th>\n",
       "    </tr>\n",
       "  </thead>\n",
       "  <tbody>\n",
       "    <tr>\n",
       "      <th>0</th>\n",
       "      <td>2007/08</td>\n",
       "      <td>Chennai Super Kings</td>\n",
       "      <td>16</td>\n",
       "      <td>9</td>\n",
       "      <td>56.250000</td>\n",
       "    </tr>\n",
       "    <tr>\n",
       "      <th>1</th>\n",
       "      <td>2007/08</td>\n",
       "      <td>Deccan Chargers</td>\n",
       "      <td>14</td>\n",
       "      <td>2</td>\n",
       "      <td>14.285714</td>\n",
       "    </tr>\n",
       "    <tr>\n",
       "      <th>2</th>\n",
       "      <td>2007/08</td>\n",
       "      <td>Delhi Daredevils</td>\n",
       "      <td>14</td>\n",
       "      <td>7</td>\n",
       "      <td>50.000000</td>\n",
       "    </tr>\n",
       "    <tr>\n",
       "      <th>3</th>\n",
       "      <td>2007/08</td>\n",
       "      <td>Kings XI Punjab</td>\n",
       "      <td>15</td>\n",
       "      <td>10</td>\n",
       "      <td>66.666667</td>\n",
       "    </tr>\n",
       "    <tr>\n",
       "      <th>4</th>\n",
       "      <td>2007/08</td>\n",
       "      <td>Kolkata Knight Riders</td>\n",
       "      <td>13</td>\n",
       "      <td>6</td>\n",
       "      <td>46.153846</td>\n",
       "    </tr>\n",
       "  </tbody>\n",
       "</table>\n",
       "</div>"
      ],
      "text/plain": [
       "    season                   team  matches_played  matches_won  win_percentage\n",
       "0  2007/08    Chennai Super Kings              16            9       56.250000\n",
       "1  2007/08        Deccan Chargers              14            2       14.285714\n",
       "2  2007/08       Delhi Daredevils              14            7       50.000000\n",
       "3  2007/08        Kings XI Punjab              15           10       66.666667\n",
       "4  2007/08  Kolkata Knight Riders              13            6       46.153846"
      ]
     },
     "execution_count": 38,
     "metadata": {},
     "output_type": "execute_result"
    }
   ],
   "source": [
    "# Matches played by each team per season\n",
    "matches_played_team1 = df.groupby(['season', 'team1'])['id'].nunique().reset_index()\n",
    "matches_played_team1.columns = ['season', 'team', 'matches_played']\n",
    "\n",
    "matches_played_team2 = df.groupby(['season', 'team2'])['id'].nunique().reset_index()\n",
    "matches_played_team2.columns = ['season', 'team', 'matches_played']\n",
    "\n",
    "# Combine both (some teams appear as team1, some as team2)\n",
    "matches_played = pd.concat([matches_played_team1, matches_played_team2])\n",
    "matches_played = matches_played.groupby(['season', 'team'], as_index=False).sum()\n",
    "\n",
    "# Matches won by each team per season\n",
    "matches_won = df.groupby(['season', 'winner'])['id'].nunique().reset_index()\n",
    "matches_won.columns = ['season', 'team', 'matches_won']\n",
    "\n",
    "# Merge both DataFrames\n",
    "win_percentage_df = pd.merge(matches_played, matches_won, on=['season', 'team'], how='left').fillna(0)\n",
    "\n",
    "# Compute win percentage\n",
    "win_percentage_df['win_percentage'] = (win_percentage_df['matches_won'] / win_percentage_df['matches_played']) * 100\n",
    "\n",
    "win_percentage_df.head()\n"
   ]
  },
  {
   "cell_type": "markdown",
   "id": "83d78110",
   "metadata": {
    "id": "-tCzIJpmvUna",
    "papermill": {
     "duration": 0.025364,
     "end_time": "2025-03-14T14:33:13.000925",
     "exception": false,
     "start_time": "2025-03-14T14:33:12.975561",
     "status": "completed"
    },
    "tags": []
   },
   "source": [
    "### 📈 Win Percentage of Teams Per Season (Plotly Line Chart)"
   ]
  },
  {
   "cell_type": "code",
   "execution_count": 39,
   "id": "375fe63c",
   "metadata": {
    "execution": {
     "iopub.execute_input": "2025-03-14T14:33:13.067540Z",
     "iopub.status.busy": "2025-03-14T14:33:13.067201Z",
     "iopub.status.idle": "2025-03-14T14:33:13.247780Z",
     "shell.execute_reply": "2025-03-14T14:33:13.246807Z"
    },
    "id": "eapLVedKvUna",
    "outputId": "98f0cc4e-5550-4815-e3f5-06c75a0815e2",
    "papermill": {
     "duration": 0.216453,
     "end_time": "2025-03-14T14:33:13.250161",
     "exception": false,
     "start_time": "2025-03-14T14:33:13.033708",
     "status": "completed"
    },
    "tags": []
   },
   "outputs": [
    {
     "data": {
      "text/html": [
       "<html>\n",
       "<head><meta charset=\"utf-8\" /></head>\n",
       "<body>\n",
       "    <div>            <script src=\"https://cdnjs.cloudflare.com/ajax/libs/mathjax/2.7.5/MathJax.js?config=TeX-AMS-MML_SVG\"></script><script type=\"text/javascript\">if (window.MathJax && window.MathJax.Hub && window.MathJax.Hub.Config) {window.MathJax.Hub.Config({SVG: {font: \"STIX-Web\"}});}</script>                <script type=\"text/javascript\">window.PlotlyConfig = {MathJaxConfig: 'local'};</script>\n",
       "        <script charset=\"utf-8\" src=\"https://cdn.plot.ly/plotly-2.35.2.min.js\"></script>                <div id=\"83f5b4cc-8222-4971-98d0-460d4490f320\" class=\"plotly-graph-div\" style=\"height:525px; width:100%;\"></div>            <script type=\"text/javascript\">                                    window.PLOTLYENV=window.PLOTLYENV || {};                                    if (document.getElementById(\"83f5b4cc-8222-4971-98d0-460d4490f320\")) {                    Plotly.newPlot(                        \"83f5b4cc-8222-4971-98d0-460d4490f320\",                        [{\"hovertemplate\":\"team=Chennai Super Kings\\u003cbr\\u003eseason=%{x}\\u003cbr\\u003ewin_percentage=%{y}\\u003cextra\\u003e\\u003c\\u002fextra\\u003e\",\"legendgroup\":\"Chennai Super Kings\",\"line\":{\"color\":\"#636efa\",\"dash\":\"solid\"},\"marker\":{\"symbol\":\"circle\"},\"mode\":\"lines+markers\",\"name\":\"Chennai Super Kings\",\"orientation\":\"v\",\"showlegend\":true,\"x\":[\"2007\\u002f08\",\"2009\",\"2009\\u002f10\",\"2011\",\"2012\",\"2013\",\"2014\",\"2015\",\"2018\",\"2019\",\"2020\\u002f21\",\"2021\",\"2022\",\"2023\",\"2024\"],\"xaxis\":\"x\",\"y\":[56.25,57.14285714285714,56.25,68.75,55.55555555555556,66.66666666666666,62.5,58.82352941176471,68.75,58.82352941176471,42.857142857142854,68.75,28.57142857142857,62.5,50.0],\"yaxis\":\"y\",\"type\":\"scatter\"},{\"hovertemplate\":\"team=Deccan Chargers\\u003cbr\\u003eseason=%{x}\\u003cbr\\u003ewin_percentage=%{y}\\u003cextra\\u003e\\u003c\\u002fextra\\u003e\",\"legendgroup\":\"Deccan Chargers\",\"line\":{\"color\":\"#EF553B\",\"dash\":\"solid\"},\"marker\":{\"symbol\":\"circle\"},\"mode\":\"lines+markers\",\"name\":\"Deccan Chargers\",\"orientation\":\"v\",\"showlegend\":true,\"x\":[\"2007\\u002f08\",\"2009\",\"2009\\u002f10\",\"2011\",\"2012\"],\"xaxis\":\"x\",\"y\":[14.285714285714285,56.25,50.0,42.857142857142854,26.666666666666668],\"yaxis\":\"y\",\"type\":\"scatter\"},{\"hovertemplate\":\"team=Delhi Daredevils\\u003cbr\\u003eseason=%{x}\\u003cbr\\u003ewin_percentage=%{y}\\u003cextra\\u003e\\u003c\\u002fextra\\u003e\",\"legendgroup\":\"Delhi Daredevils\",\"line\":{\"color\":\"#00cc96\",\"dash\":\"solid\"},\"marker\":{\"symbol\":\"circle\"},\"mode\":\"lines+markers\",\"name\":\"Delhi Daredevils\",\"orientation\":\"v\",\"showlegend\":true,\"x\":[\"2007\\u002f08\",\"2009\",\"2009\\u002f10\",\"2011\",\"2012\",\"2013\",\"2014\",\"2015\",\"2016\",\"2017\",\"2018\"],\"xaxis\":\"x\",\"y\":[50.0,66.66666666666666,50.0,28.57142857142857,61.111111111111114,18.75,14.285714285714285,35.714285714285715,50.0,42.857142857142854,35.714285714285715],\"yaxis\":\"y\",\"type\":\"scatter\"},{\"hovertemplate\":\"team=Kings XI Punjab\\u003cbr\\u003eseason=%{x}\\u003cbr\\u003ewin_percentage=%{y}\\u003cextra\\u003e\\u003c\\u002fextra\\u003e\",\"legendgroup\":\"Kings XI Punjab\",\"line\":{\"color\":\"#ab63fa\",\"dash\":\"solid\"},\"marker\":{\"symbol\":\"circle\"},\"mode\":\"lines+markers\",\"name\":\"Kings XI Punjab\",\"orientation\":\"v\",\"showlegend\":true,\"x\":[\"2007\\u002f08\",\"2009\",\"2009\\u002f10\",\"2011\",\"2012\",\"2013\",\"2014\",\"2015\",\"2016\",\"2017\",\"2018\",\"2019\",\"2020\\u002f21\"],\"xaxis\":\"x\",\"y\":[66.66666666666666,50.0,28.57142857142857,50.0,50.0,50.0,70.58823529411765,21.428571428571427,28.57142857142857,50.0,42.857142857142854,42.857142857142854,42.857142857142854],\"yaxis\":\"y\",\"type\":\"scatter\"},{\"hovertemplate\":\"team=Kolkata Knight Riders\\u003cbr\\u003eseason=%{x}\\u003cbr\\u003ewin_percentage=%{y}\\u003cextra\\u003e\\u003c\\u002fextra\\u003e\",\"legendgroup\":\"Kolkata Knight Riders\",\"line\":{\"color\":\"#FFA15A\",\"dash\":\"solid\"},\"marker\":{\"symbol\":\"circle\"},\"mode\":\"lines+markers\",\"name\":\"Kolkata Knight Riders\",\"orientation\":\"v\",\"showlegend\":true,\"x\":[\"2007\\u002f08\",\"2009\",\"2009\\u002f10\",\"2011\",\"2012\",\"2013\",\"2014\",\"2015\",\"2016\",\"2017\",\"2018\",\"2019\",\"2020\\u002f21\",\"2021\",\"2022\",\"2023\",\"2024\"],\"xaxis\":\"x\",\"y\":[46.15384615384615,23.076923076923077,50.0,53.333333333333336,70.58823529411765,37.5,68.75,53.84615384615385,53.333333333333336,56.25,56.25,42.857142857142854,50.0,52.94117647058824,42.857142857142854,42.857142857142854,78.57142857142857],\"yaxis\":\"y\",\"type\":\"scatter\"},{\"hovertemplate\":\"team=Mumbai Indians\\u003cbr\\u003eseason=%{x}\\u003cbr\\u003ewin_percentage=%{y}\\u003cextra\\u003e\\u003c\\u002fextra\\u003e\",\"legendgroup\":\"Mumbai Indians\",\"line\":{\"color\":\"#19d3f3\",\"dash\":\"solid\"},\"marker\":{\"symbol\":\"circle\"},\"mode\":\"lines+markers\",\"name\":\"Mumbai Indians\",\"orientation\":\"v\",\"showlegend\":true,\"x\":[\"2007\\u002f08\",\"2009\",\"2009\\u002f10\",\"2011\",\"2012\",\"2013\",\"2014\",\"2015\",\"2016\",\"2017\",\"2018\",\"2019\",\"2020\\u002f21\",\"2021\",\"2022\",\"2023\",\"2024\"],\"xaxis\":\"x\",\"y\":[50.0,38.46153846153847,68.75,62.5,58.82352941176471,68.42105263157895,46.666666666666664,62.5,50.0,70.58823529411765,42.857142857142854,68.75,68.75,50.0,28.57142857142857,56.25,28.57142857142857],\"yaxis\":\"y\",\"type\":\"scatter\"},{\"hovertemplate\":\"team=Rajasthan Royals\\u003cbr\\u003eseason=%{x}\\u003cbr\\u003ewin_percentage=%{y}\\u003cextra\\u003e\\u003c\\u002fextra\\u003e\",\"legendgroup\":\"Rajasthan Royals\",\"line\":{\"color\":\"#FF6692\",\"dash\":\"solid\"},\"marker\":{\"symbol\":\"circle\"},\"mode\":\"lines+markers\",\"name\":\"Rajasthan Royals\",\"orientation\":\"v\",\"showlegend\":true,\"x\":[\"2007\\u002f08\",\"2009\",\"2009\\u002f10\",\"2011\",\"2012\",\"2013\",\"2014\",\"2015\",\"2018\",\"2019\",\"2020\\u002f21\",\"2021\",\"2022\",\"2023\",\"2024\"],\"xaxis\":\"x\",\"y\":[81.25,46.15384615384615,42.857142857142854,46.15384615384615,43.75,61.111111111111114,50.0,50.0,46.666666666666664,35.714285714285715,42.857142857142854,35.714285714285715,58.82352941176471,50.0,60.0],\"yaxis\":\"y\",\"type\":\"scatter\"},{\"hovertemplate\":\"team=Royal Challengers Bangalore\\u003cbr\\u003eseason=%{x}\\u003cbr\\u003ewin_percentage=%{y}\\u003cextra\\u003e\\u003c\\u002fextra\\u003e\",\"legendgroup\":\"Royal Challengers Bangalore\",\"line\":{\"color\":\"#B6E880\",\"dash\":\"solid\"},\"marker\":{\"symbol\":\"circle\"},\"mode\":\"lines+markers\",\"name\":\"Royal Challengers Bangalore\",\"orientation\":\"v\",\"showlegend\":true,\"x\":[\"2007\\u002f08\",\"2009\",\"2009\\u002f10\",\"2011\",\"2012\",\"2013\",\"2014\",\"2015\",\"2016\",\"2017\",\"2018\",\"2019\",\"2020\\u002f21\",\"2021\",\"2022\",\"2023\"],\"xaxis\":\"x\",\"y\":[28.57142857142857,56.25,50.0,62.5,53.333333333333336,56.25,35.714285714285715,50.0,56.25,23.076923076923077,42.857142857142854,35.714285714285715,46.666666666666664,60.0,56.25,50.0],\"yaxis\":\"y\",\"type\":\"scatter\"},{\"hovertemplate\":\"team=Kochi Tuskers Kerala\\u003cbr\\u003eseason=%{x}\\u003cbr\\u003ewin_percentage=%{y}\\u003cextra\\u003e\\u003c\\u002fextra\\u003e\",\"legendgroup\":\"Kochi Tuskers Kerala\",\"line\":{\"color\":\"#FF97FF\",\"dash\":\"solid\"},\"marker\":{\"symbol\":\"circle\"},\"mode\":\"lines+markers\",\"name\":\"Kochi Tuskers Kerala\",\"orientation\":\"v\",\"showlegend\":true,\"x\":[\"2011\"],\"xaxis\":\"x\",\"y\":[42.857142857142854],\"yaxis\":\"y\",\"type\":\"scatter\"},{\"hovertemplate\":\"team=Pune Warriors\\u003cbr\\u003eseason=%{x}\\u003cbr\\u003ewin_percentage=%{y}\\u003cextra\\u003e\\u003c\\u002fextra\\u003e\",\"legendgroup\":\"Pune Warriors\",\"line\":{\"color\":\"#FECB52\",\"dash\":\"solid\"},\"marker\":{\"symbol\":\"circle\"},\"mode\":\"lines+markers\",\"name\":\"Pune Warriors\",\"orientation\":\"v\",\"showlegend\":true,\"x\":[\"2011\",\"2012\",\"2013\"],\"xaxis\":\"x\",\"y\":[28.57142857142857,25.0,25.0],\"yaxis\":\"y\",\"type\":\"scatter\"},{\"hovertemplate\":\"team=Sunrisers Hyderabad\\u003cbr\\u003eseason=%{x}\\u003cbr\\u003ewin_percentage=%{y}\\u003cextra\\u003e\\u003c\\u002fextra\\u003e\",\"legendgroup\":\"Sunrisers Hyderabad\",\"line\":{\"color\":\"#636efa\",\"dash\":\"solid\"},\"marker\":{\"symbol\":\"circle\"},\"mode\":\"lines+markers\",\"name\":\"Sunrisers Hyderabad\",\"orientation\":\"v\",\"showlegend\":true,\"x\":[\"2013\",\"2014\",\"2015\",\"2016\",\"2017\",\"2018\",\"2019\",\"2020\\u002f21\",\"2021\",\"2022\",\"2023\",\"2024\"],\"xaxis\":\"x\",\"y\":[58.82352941176471,42.857142857142854,50.0,64.70588235294117,57.14285714285714,58.82352941176471,40.0,50.0,21.428571428571427,42.857142857142854,28.57142857142857,56.25],\"yaxis\":\"y\",\"type\":\"scatter\"},{\"hovertemplate\":\"team=Gujarat Lions\\u003cbr\\u003eseason=%{x}\\u003cbr\\u003ewin_percentage=%{y}\\u003cextra\\u003e\\u003c\\u002fextra\\u003e\",\"legendgroup\":\"Gujarat Lions\",\"line\":{\"color\":\"#EF553B\",\"dash\":\"solid\"},\"marker\":{\"symbol\":\"circle\"},\"mode\":\"lines+markers\",\"name\":\"Gujarat Lions\",\"orientation\":\"v\",\"showlegend\":true,\"x\":[\"2016\",\"2017\"],\"xaxis\":\"x\",\"y\":[56.25,28.57142857142857],\"yaxis\":\"y\",\"type\":\"scatter\"},{\"hovertemplate\":\"team=Rising Pune Supergiants\\u003cbr\\u003eseason=%{x}\\u003cbr\\u003ewin_percentage=%{y}\\u003cextra\\u003e\\u003c\\u002fextra\\u003e\",\"legendgroup\":\"Rising Pune Supergiants\",\"line\":{\"color\":\"#00cc96\",\"dash\":\"solid\"},\"marker\":{\"symbol\":\"circle\"},\"mode\":\"lines+markers\",\"name\":\"Rising Pune Supergiants\",\"orientation\":\"v\",\"showlegend\":true,\"x\":[\"2016\"],\"xaxis\":\"x\",\"y\":[35.714285714285715],\"yaxis\":\"y\",\"type\":\"scatter\"},{\"hovertemplate\":\"team=Rising Pune Supergiant\\u003cbr\\u003eseason=%{x}\\u003cbr\\u003ewin_percentage=%{y}\\u003cextra\\u003e\\u003c\\u002fextra\\u003e\",\"legendgroup\":\"Rising Pune Supergiant\",\"line\":{\"color\":\"#ab63fa\",\"dash\":\"solid\"},\"marker\":{\"symbol\":\"circle\"},\"mode\":\"lines+markers\",\"name\":\"Rising Pune Supergiant\",\"orientation\":\"v\",\"showlegend\":true,\"x\":[\"2017\"],\"xaxis\":\"x\",\"y\":[62.5],\"yaxis\":\"y\",\"type\":\"scatter\"},{\"hovertemplate\":\"team=Delhi Capitals\\u003cbr\\u003eseason=%{x}\\u003cbr\\u003ewin_percentage=%{y}\\u003cextra\\u003e\\u003c\\u002fextra\\u003e\",\"legendgroup\":\"Delhi Capitals\",\"line\":{\"color\":\"#FFA15A\",\"dash\":\"solid\"},\"marker\":{\"symbol\":\"circle\"},\"mode\":\"lines+markers\",\"name\":\"Delhi Capitals\",\"orientation\":\"v\",\"showlegend\":true,\"x\":[\"2019\",\"2020\\u002f21\",\"2021\",\"2022\",\"2023\",\"2024\"],\"xaxis\":\"x\",\"y\":[62.5,52.94117647058824,62.5,50.0,35.714285714285715,50.0],\"yaxis\":\"y\",\"type\":\"scatter\"},{\"hovertemplate\":\"team=Punjab Kings\\u003cbr\\u003eseason=%{x}\\u003cbr\\u003ewin_percentage=%{y}\\u003cextra\\u003e\\u003c\\u002fextra\\u003e\",\"legendgroup\":\"Punjab Kings\",\"line\":{\"color\":\"#19d3f3\",\"dash\":\"solid\"},\"marker\":{\"symbol\":\"circle\"},\"mode\":\"lines+markers\",\"name\":\"Punjab Kings\",\"orientation\":\"v\",\"showlegend\":true,\"x\":[\"2021\",\"2022\",\"2023\",\"2024\"],\"xaxis\":\"x\",\"y\":[42.857142857142854,50.0,42.857142857142854,35.714285714285715],\"yaxis\":\"y\",\"type\":\"scatter\"},{\"hovertemplate\":\"team=Gujarat Titans\\u003cbr\\u003eseason=%{x}\\u003cbr\\u003ewin_percentage=%{y}\\u003cextra\\u003e\\u003c\\u002fextra\\u003e\",\"legendgroup\":\"Gujarat Titans\",\"line\":{\"color\":\"#FF6692\",\"dash\":\"solid\"},\"marker\":{\"symbol\":\"circle\"},\"mode\":\"lines+markers\",\"name\":\"Gujarat Titans\",\"orientation\":\"v\",\"showlegend\":true,\"x\":[\"2022\",\"2023\",\"2024\"],\"xaxis\":\"x\",\"y\":[75.0,64.70588235294117,41.66666666666667],\"yaxis\":\"y\",\"type\":\"scatter\"},{\"hovertemplate\":\"team=Lucknow Super Giants\\u003cbr\\u003eseason=%{x}\\u003cbr\\u003ewin_percentage=%{y}\\u003cextra\\u003e\\u003c\\u002fextra\\u003e\",\"legendgroup\":\"Lucknow Super Giants\",\"line\":{\"color\":\"#B6E880\",\"dash\":\"solid\"},\"marker\":{\"symbol\":\"circle\"},\"mode\":\"lines+markers\",\"name\":\"Lucknow Super Giants\",\"orientation\":\"v\",\"showlegend\":true,\"x\":[\"2022\",\"2023\",\"2024\"],\"xaxis\":\"x\",\"y\":[60.0,53.333333333333336,50.0],\"yaxis\":\"y\",\"type\":\"scatter\"},{\"hovertemplate\":\"team=Royal Challengers Bengaluru\\u003cbr\\u003eseason=%{x}\\u003cbr\\u003ewin_percentage=%{y}\\u003cextra\\u003e\\u003c\\u002fextra\\u003e\",\"legendgroup\":\"Royal Challengers Bengaluru\",\"line\":{\"color\":\"#FF97FF\",\"dash\":\"solid\"},\"marker\":{\"symbol\":\"circle\"},\"mode\":\"lines+markers\",\"name\":\"Royal Challengers Bengaluru\",\"orientation\":\"v\",\"showlegend\":true,\"x\":[\"2024\"],\"xaxis\":\"x\",\"y\":[46.666666666666664],\"yaxis\":\"y\",\"type\":\"scatter\"}],                        {\"template\":{\"data\":{\"barpolar\":[{\"marker\":{\"line\":{\"color\":\"rgb(17,17,17)\",\"width\":0.5},\"pattern\":{\"fillmode\":\"overlay\",\"size\":10,\"solidity\":0.2}},\"type\":\"barpolar\"}],\"bar\":[{\"error_x\":{\"color\":\"#f2f5fa\"},\"error_y\":{\"color\":\"#f2f5fa\"},\"marker\":{\"line\":{\"color\":\"rgb(17,17,17)\",\"width\":0.5},\"pattern\":{\"fillmode\":\"overlay\",\"size\":10,\"solidity\":0.2}},\"type\":\"bar\"}],\"carpet\":[{\"aaxis\":{\"endlinecolor\":\"#A2B1C6\",\"gridcolor\":\"#506784\",\"linecolor\":\"#506784\",\"minorgridcolor\":\"#506784\",\"startlinecolor\":\"#A2B1C6\"},\"baxis\":{\"endlinecolor\":\"#A2B1C6\",\"gridcolor\":\"#506784\",\"linecolor\":\"#506784\",\"minorgridcolor\":\"#506784\",\"startlinecolor\":\"#A2B1C6\"},\"type\":\"carpet\"}],\"choropleth\":[{\"colorbar\":{\"outlinewidth\":0,\"ticks\":\"\"},\"type\":\"choropleth\"}],\"contourcarpet\":[{\"colorbar\":{\"outlinewidth\":0,\"ticks\":\"\"},\"type\":\"contourcarpet\"}],\"contour\":[{\"colorbar\":{\"outlinewidth\":0,\"ticks\":\"\"},\"colorscale\":[[0.0,\"#0d0887\"],[0.1111111111111111,\"#46039f\"],[0.2222222222222222,\"#7201a8\"],[0.3333333333333333,\"#9c179e\"],[0.4444444444444444,\"#bd3786\"],[0.5555555555555556,\"#d8576b\"],[0.6666666666666666,\"#ed7953\"],[0.7777777777777778,\"#fb9f3a\"],[0.8888888888888888,\"#fdca26\"],[1.0,\"#f0f921\"]],\"type\":\"contour\"}],\"heatmapgl\":[{\"colorbar\":{\"outlinewidth\":0,\"ticks\":\"\"},\"colorscale\":[[0.0,\"#0d0887\"],[0.1111111111111111,\"#46039f\"],[0.2222222222222222,\"#7201a8\"],[0.3333333333333333,\"#9c179e\"],[0.4444444444444444,\"#bd3786\"],[0.5555555555555556,\"#d8576b\"],[0.6666666666666666,\"#ed7953\"],[0.7777777777777778,\"#fb9f3a\"],[0.8888888888888888,\"#fdca26\"],[1.0,\"#f0f921\"]],\"type\":\"heatmapgl\"}],\"heatmap\":[{\"colorbar\":{\"outlinewidth\":0,\"ticks\":\"\"},\"colorscale\":[[0.0,\"#0d0887\"],[0.1111111111111111,\"#46039f\"],[0.2222222222222222,\"#7201a8\"],[0.3333333333333333,\"#9c179e\"],[0.4444444444444444,\"#bd3786\"],[0.5555555555555556,\"#d8576b\"],[0.6666666666666666,\"#ed7953\"],[0.7777777777777778,\"#fb9f3a\"],[0.8888888888888888,\"#fdca26\"],[1.0,\"#f0f921\"]],\"type\":\"heatmap\"}],\"histogram2dcontour\":[{\"colorbar\":{\"outlinewidth\":0,\"ticks\":\"\"},\"colorscale\":[[0.0,\"#0d0887\"],[0.1111111111111111,\"#46039f\"],[0.2222222222222222,\"#7201a8\"],[0.3333333333333333,\"#9c179e\"],[0.4444444444444444,\"#bd3786\"],[0.5555555555555556,\"#d8576b\"],[0.6666666666666666,\"#ed7953\"],[0.7777777777777778,\"#fb9f3a\"],[0.8888888888888888,\"#fdca26\"],[1.0,\"#f0f921\"]],\"type\":\"histogram2dcontour\"}],\"histogram2d\":[{\"colorbar\":{\"outlinewidth\":0,\"ticks\":\"\"},\"colorscale\":[[0.0,\"#0d0887\"],[0.1111111111111111,\"#46039f\"],[0.2222222222222222,\"#7201a8\"],[0.3333333333333333,\"#9c179e\"],[0.4444444444444444,\"#bd3786\"],[0.5555555555555556,\"#d8576b\"],[0.6666666666666666,\"#ed7953\"],[0.7777777777777778,\"#fb9f3a\"],[0.8888888888888888,\"#fdca26\"],[1.0,\"#f0f921\"]],\"type\":\"histogram2d\"}],\"histogram\":[{\"marker\":{\"pattern\":{\"fillmode\":\"overlay\",\"size\":10,\"solidity\":0.2}},\"type\":\"histogram\"}],\"mesh3d\":[{\"colorbar\":{\"outlinewidth\":0,\"ticks\":\"\"},\"type\":\"mesh3d\"}],\"parcoords\":[{\"line\":{\"colorbar\":{\"outlinewidth\":0,\"ticks\":\"\"}},\"type\":\"parcoords\"}],\"pie\":[{\"automargin\":true,\"type\":\"pie\"}],\"scatter3d\":[{\"line\":{\"colorbar\":{\"outlinewidth\":0,\"ticks\":\"\"}},\"marker\":{\"colorbar\":{\"outlinewidth\":0,\"ticks\":\"\"}},\"type\":\"scatter3d\"}],\"scattercarpet\":[{\"marker\":{\"colorbar\":{\"outlinewidth\":0,\"ticks\":\"\"}},\"type\":\"scattercarpet\"}],\"scattergeo\":[{\"marker\":{\"colorbar\":{\"outlinewidth\":0,\"ticks\":\"\"}},\"type\":\"scattergeo\"}],\"scattergl\":[{\"marker\":{\"line\":{\"color\":\"#283442\"}},\"type\":\"scattergl\"}],\"scattermapbox\":[{\"marker\":{\"colorbar\":{\"outlinewidth\":0,\"ticks\":\"\"}},\"type\":\"scattermapbox\"}],\"scatterpolargl\":[{\"marker\":{\"colorbar\":{\"outlinewidth\":0,\"ticks\":\"\"}},\"type\":\"scatterpolargl\"}],\"scatterpolar\":[{\"marker\":{\"colorbar\":{\"outlinewidth\":0,\"ticks\":\"\"}},\"type\":\"scatterpolar\"}],\"scatter\":[{\"marker\":{\"line\":{\"color\":\"#283442\"}},\"type\":\"scatter\"}],\"scatterternary\":[{\"marker\":{\"colorbar\":{\"outlinewidth\":0,\"ticks\":\"\"}},\"type\":\"scatterternary\"}],\"surface\":[{\"colorbar\":{\"outlinewidth\":0,\"ticks\":\"\"},\"colorscale\":[[0.0,\"#0d0887\"],[0.1111111111111111,\"#46039f\"],[0.2222222222222222,\"#7201a8\"],[0.3333333333333333,\"#9c179e\"],[0.4444444444444444,\"#bd3786\"],[0.5555555555555556,\"#d8576b\"],[0.6666666666666666,\"#ed7953\"],[0.7777777777777778,\"#fb9f3a\"],[0.8888888888888888,\"#fdca26\"],[1.0,\"#f0f921\"]],\"type\":\"surface\"}],\"table\":[{\"cells\":{\"fill\":{\"color\":\"#506784\"},\"line\":{\"color\":\"rgb(17,17,17)\"}},\"header\":{\"fill\":{\"color\":\"#2a3f5f\"},\"line\":{\"color\":\"rgb(17,17,17)\"}},\"type\":\"table\"}]},\"layout\":{\"annotationdefaults\":{\"arrowcolor\":\"#f2f5fa\",\"arrowhead\":0,\"arrowwidth\":1},\"autotypenumbers\":\"strict\",\"coloraxis\":{\"colorbar\":{\"outlinewidth\":0,\"ticks\":\"\"}},\"colorscale\":{\"diverging\":[[0,\"#8e0152\"],[0.1,\"#c51b7d\"],[0.2,\"#de77ae\"],[0.3,\"#f1b6da\"],[0.4,\"#fde0ef\"],[0.5,\"#f7f7f7\"],[0.6,\"#e6f5d0\"],[0.7,\"#b8e186\"],[0.8,\"#7fbc41\"],[0.9,\"#4d9221\"],[1,\"#276419\"]],\"sequential\":[[0.0,\"#0d0887\"],[0.1111111111111111,\"#46039f\"],[0.2222222222222222,\"#7201a8\"],[0.3333333333333333,\"#9c179e\"],[0.4444444444444444,\"#bd3786\"],[0.5555555555555556,\"#d8576b\"],[0.6666666666666666,\"#ed7953\"],[0.7777777777777778,\"#fb9f3a\"],[0.8888888888888888,\"#fdca26\"],[1.0,\"#f0f921\"]],\"sequentialminus\":[[0.0,\"#0d0887\"],[0.1111111111111111,\"#46039f\"],[0.2222222222222222,\"#7201a8\"],[0.3333333333333333,\"#9c179e\"],[0.4444444444444444,\"#bd3786\"],[0.5555555555555556,\"#d8576b\"],[0.6666666666666666,\"#ed7953\"],[0.7777777777777778,\"#fb9f3a\"],[0.8888888888888888,\"#fdca26\"],[1.0,\"#f0f921\"]]},\"colorway\":[\"#636efa\",\"#EF553B\",\"#00cc96\",\"#ab63fa\",\"#FFA15A\",\"#19d3f3\",\"#FF6692\",\"#B6E880\",\"#FF97FF\",\"#FECB52\"],\"font\":{\"color\":\"#f2f5fa\"},\"geo\":{\"bgcolor\":\"rgb(17,17,17)\",\"lakecolor\":\"rgb(17,17,17)\",\"landcolor\":\"rgb(17,17,17)\",\"showlakes\":true,\"showland\":true,\"subunitcolor\":\"#506784\"},\"hoverlabel\":{\"align\":\"left\"},\"hovermode\":\"closest\",\"mapbox\":{\"style\":\"dark\"},\"paper_bgcolor\":\"rgb(17,17,17)\",\"plot_bgcolor\":\"rgb(17,17,17)\",\"polar\":{\"angularaxis\":{\"gridcolor\":\"#506784\",\"linecolor\":\"#506784\",\"ticks\":\"\"},\"bgcolor\":\"rgb(17,17,17)\",\"radialaxis\":{\"gridcolor\":\"#506784\",\"linecolor\":\"#506784\",\"ticks\":\"\"}},\"scene\":{\"xaxis\":{\"backgroundcolor\":\"rgb(17,17,17)\",\"gridcolor\":\"#506784\",\"gridwidth\":2,\"linecolor\":\"#506784\",\"showbackground\":true,\"ticks\":\"\",\"zerolinecolor\":\"#C8D4E3\"},\"yaxis\":{\"backgroundcolor\":\"rgb(17,17,17)\",\"gridcolor\":\"#506784\",\"gridwidth\":2,\"linecolor\":\"#506784\",\"showbackground\":true,\"ticks\":\"\",\"zerolinecolor\":\"#C8D4E3\"},\"zaxis\":{\"backgroundcolor\":\"rgb(17,17,17)\",\"gridcolor\":\"#506784\",\"gridwidth\":2,\"linecolor\":\"#506784\",\"showbackground\":true,\"ticks\":\"\",\"zerolinecolor\":\"#C8D4E3\"}},\"shapedefaults\":{\"line\":{\"color\":\"#f2f5fa\"}},\"sliderdefaults\":{\"bgcolor\":\"#C8D4E3\",\"bordercolor\":\"rgb(17,17,17)\",\"borderwidth\":1,\"tickwidth\":0},\"ternary\":{\"aaxis\":{\"gridcolor\":\"#506784\",\"linecolor\":\"#506784\",\"ticks\":\"\"},\"baxis\":{\"gridcolor\":\"#506784\",\"linecolor\":\"#506784\",\"ticks\":\"\"},\"bgcolor\":\"rgb(17,17,17)\",\"caxis\":{\"gridcolor\":\"#506784\",\"linecolor\":\"#506784\",\"ticks\":\"\"}},\"title\":{\"x\":0.05},\"updatemenudefaults\":{\"bgcolor\":\"#506784\",\"borderwidth\":0},\"xaxis\":{\"automargin\":true,\"gridcolor\":\"#283442\",\"linecolor\":\"#506784\",\"ticks\":\"\",\"title\":{\"standoff\":15},\"zerolinecolor\":\"#283442\",\"zerolinewidth\":2},\"yaxis\":{\"automargin\":true,\"gridcolor\":\"#283442\",\"linecolor\":\"#506784\",\"ticks\":\"\",\"title\":{\"standoff\":15},\"zerolinecolor\":\"#283442\",\"zerolinewidth\":2}}},\"xaxis\":{\"anchor\":\"y\",\"domain\":[0.0,1.0],\"title\":{\"text\":\"Season\"}},\"yaxis\":{\"anchor\":\"x\",\"domain\":[0.0,1.0],\"title\":{\"text\":\"Win Percentage\"}},\"legend\":{\"title\":{\"text\":\"Team\"},\"tracegroupgap\":0},\"title\":{\"text\":\"Win Percentage of Teams Per Season\"}},                        {\"responsive\": true}                    ).then(function(){\n",
       "                            \n",
       "var gd = document.getElementById('83f5b4cc-8222-4971-98d0-460d4490f320');\n",
       "var x = new MutationObserver(function (mutations, observer) {{\n",
       "        var display = window.getComputedStyle(gd).display;\n",
       "        if (!display || display === 'none') {{\n",
       "            console.log([gd, 'removed!']);\n",
       "            Plotly.purge(gd);\n",
       "            observer.disconnect();\n",
       "        }}\n",
       "}});\n",
       "\n",
       "// Listen for the removal of the full notebook cells\n",
       "var notebookContainer = gd.closest('#notebook-container');\n",
       "if (notebookContainer) {{\n",
       "    x.observe(notebookContainer, {childList: true});\n",
       "}}\n",
       "\n",
       "// Listen for the clearing of the current output cell\n",
       "var outputEl = gd.closest('.output');\n",
       "if (outputEl) {{\n",
       "    x.observe(outputEl, {childList: true});\n",
       "}}\n",
       "\n",
       "                        })                };                            </script>        </div>\n",
       "</body>\n",
       "</html>"
      ]
     },
     "metadata": {},
     "output_type": "display_data"
    }
   ],
   "source": [
    "import plotly.express as px\n",
    "\n",
    "# Convert season to string for better x-axis readability\n",
    "win_percentage_df['season'] = win_percentage_df['season'].astype(str)\n",
    "\n",
    "fig = px.line(win_percentage_df,\n",
    "              x='season',\n",
    "              y='win_percentage',\n",
    "              color='team',\n",
    "              markers=True,\n",
    "              title='Win Percentage of Teams Per Season')\n",
    "\n",
    "fig.update_layout(xaxis_title=\"Season\",\n",
    "                  yaxis_title=\"Win Percentage\",\n",
    "                  legend_title=\"Team\",\n",
    "                  template=\"plotly_dark\")\n",
    "\n",
    "fig.show()\n"
   ]
  },
  {
   "cell_type": "markdown",
   "id": "57357789",
   "metadata": {
    "id": "lLJaaNg5vUnb",
    "papermill": {
     "duration": 0.0269,
     "end_time": "2025-03-14T14:33:13.304952",
     "exception": false,
     "start_time": "2025-03-14T14:33:13.278052",
     "status": "completed"
    },
    "tags": []
   },
   "source": [
    "### 📊 Win Percentage of Teams in Latest Season"
   ]
  },
  {
   "cell_type": "code",
   "execution_count": 40,
   "id": "0c27a877",
   "metadata": {
    "execution": {
     "iopub.execute_input": "2025-03-14T14:33:13.361669Z",
     "iopub.status.busy": "2025-03-14T14:33:13.361059Z",
     "iopub.status.idle": "2025-03-14T14:33:13.441187Z",
     "shell.execute_reply": "2025-03-14T14:33:13.439920Z"
    },
    "id": "5lW1uNrXvUnb",
    "outputId": "1f16d557-fe33-4dcb-f54e-5b156d235a37",
    "papermill": {
     "duration": 0.11079,
     "end_time": "2025-03-14T14:33:13.443282",
     "exception": false,
     "start_time": "2025-03-14T14:33:13.332492",
     "status": "completed"
    },
    "tags": []
   },
   "outputs": [
    {
     "data": {
      "text/html": [
       "<html>\n",
       "<head><meta charset=\"utf-8\" /></head>\n",
       "<body>\n",
       "    <div>            <script src=\"https://cdnjs.cloudflare.com/ajax/libs/mathjax/2.7.5/MathJax.js?config=TeX-AMS-MML_SVG\"></script><script type=\"text/javascript\">if (window.MathJax && window.MathJax.Hub && window.MathJax.Hub.Config) {window.MathJax.Hub.Config({SVG: {font: \"STIX-Web\"}});}</script>                <script type=\"text/javascript\">window.PlotlyConfig = {MathJaxConfig: 'local'};</script>\n",
       "        <script charset=\"utf-8\" src=\"https://cdn.plot.ly/plotly-2.35.2.min.js\"></script>                <div id=\"9fe19a22-4912-4359-8188-f88acaaa80ad\" class=\"plotly-graph-div\" style=\"height:525px; width:100%;\"></div>            <script type=\"text/javascript\">                                    window.PLOTLYENV=window.PLOTLYENV || {};                                    if (document.getElementById(\"9fe19a22-4912-4359-8188-f88acaaa80ad\")) {                    Plotly.newPlot(                        \"9fe19a22-4912-4359-8188-f88acaaa80ad\",                        [{\"alignmentgroup\":\"True\",\"hovertemplate\":\"team=%{x}\\u003cbr\\u003ewin_percentage=%{marker.color}\\u003cextra\\u003e\\u003c\\u002fextra\\u003e\",\"legendgroup\":\"\",\"marker\":{\"color\":[50.0,50.0,41.66666666666667,78.57142857142857,50.0,28.57142857142857,35.714285714285715,60.0,46.666666666666664,56.25],\"coloraxis\":\"coloraxis\",\"pattern\":{\"shape\":\"\"}},\"name\":\"\",\"offsetgroup\":\"\",\"orientation\":\"v\",\"showlegend\":false,\"text\":[50.0,50.0,41.66666666666667,78.57142857142857,50.0,28.57142857142857,35.714285714285715,60.0,46.666666666666664,56.25],\"textposition\":\"outside\",\"x\":[\"Chennai Super Kings\",\"Delhi Capitals\",\"Gujarat Titans\",\"Kolkata Knight Riders\",\"Lucknow Super Giants\",\"Mumbai Indians\",\"Punjab Kings\",\"Rajasthan Royals\",\"Royal Challengers Bengaluru\",\"Sunrisers Hyderabad\"],\"xaxis\":\"x\",\"y\":[50.0,50.0,41.66666666666667,78.57142857142857,50.0,28.57142857142857,35.714285714285715,60.0,46.666666666666664,56.25],\"yaxis\":\"y\",\"type\":\"bar\",\"texttemplate\":\"%{text:.1f}%\"}],                        {\"template\":{\"data\":{\"histogram2dcontour\":[{\"type\":\"histogram2dcontour\",\"colorbar\":{\"outlinewidth\":0,\"ticks\":\"\"},\"colorscale\":[[0.0,\"#0d0887\"],[0.1111111111111111,\"#46039f\"],[0.2222222222222222,\"#7201a8\"],[0.3333333333333333,\"#9c179e\"],[0.4444444444444444,\"#bd3786\"],[0.5555555555555556,\"#d8576b\"],[0.6666666666666666,\"#ed7953\"],[0.7777777777777778,\"#fb9f3a\"],[0.8888888888888888,\"#fdca26\"],[1.0,\"#f0f921\"]]}],\"choropleth\":[{\"type\":\"choropleth\",\"colorbar\":{\"outlinewidth\":0,\"ticks\":\"\"}}],\"histogram2d\":[{\"type\":\"histogram2d\",\"colorbar\":{\"outlinewidth\":0,\"ticks\":\"\"},\"colorscale\":[[0.0,\"#0d0887\"],[0.1111111111111111,\"#46039f\"],[0.2222222222222222,\"#7201a8\"],[0.3333333333333333,\"#9c179e\"],[0.4444444444444444,\"#bd3786\"],[0.5555555555555556,\"#d8576b\"],[0.6666666666666666,\"#ed7953\"],[0.7777777777777778,\"#fb9f3a\"],[0.8888888888888888,\"#fdca26\"],[1.0,\"#f0f921\"]]}],\"heatmap\":[{\"type\":\"heatmap\",\"colorbar\":{\"outlinewidth\":0,\"ticks\":\"\"},\"colorscale\":[[0.0,\"#0d0887\"],[0.1111111111111111,\"#46039f\"],[0.2222222222222222,\"#7201a8\"],[0.3333333333333333,\"#9c179e\"],[0.4444444444444444,\"#bd3786\"],[0.5555555555555556,\"#d8576b\"],[0.6666666666666666,\"#ed7953\"],[0.7777777777777778,\"#fb9f3a\"],[0.8888888888888888,\"#fdca26\"],[1.0,\"#f0f921\"]]}],\"heatmapgl\":[{\"type\":\"heatmapgl\",\"colorbar\":{\"outlinewidth\":0,\"ticks\":\"\"},\"colorscale\":[[0.0,\"#0d0887\"],[0.1111111111111111,\"#46039f\"],[0.2222222222222222,\"#7201a8\"],[0.3333333333333333,\"#9c179e\"],[0.4444444444444444,\"#bd3786\"],[0.5555555555555556,\"#d8576b\"],[0.6666666666666666,\"#ed7953\"],[0.7777777777777778,\"#fb9f3a\"],[0.8888888888888888,\"#fdca26\"],[1.0,\"#f0f921\"]]}],\"contourcarpet\":[{\"type\":\"contourcarpet\",\"colorbar\":{\"outlinewidth\":0,\"ticks\":\"\"}}],\"contour\":[{\"type\":\"contour\",\"colorbar\":{\"outlinewidth\":0,\"ticks\":\"\"},\"colorscale\":[[0.0,\"#0d0887\"],[0.1111111111111111,\"#46039f\"],[0.2222222222222222,\"#7201a8\"],[0.3333333333333333,\"#9c179e\"],[0.4444444444444444,\"#bd3786\"],[0.5555555555555556,\"#d8576b\"],[0.6666666666666666,\"#ed7953\"],[0.7777777777777778,\"#fb9f3a\"],[0.8888888888888888,\"#fdca26\"],[1.0,\"#f0f921\"]]}],\"surface\":[{\"type\":\"surface\",\"colorbar\":{\"outlinewidth\":0,\"ticks\":\"\"},\"colorscale\":[[0.0,\"#0d0887\"],[0.1111111111111111,\"#46039f\"],[0.2222222222222222,\"#7201a8\"],[0.3333333333333333,\"#9c179e\"],[0.4444444444444444,\"#bd3786\"],[0.5555555555555556,\"#d8576b\"],[0.6666666666666666,\"#ed7953\"],[0.7777777777777778,\"#fb9f3a\"],[0.8888888888888888,\"#fdca26\"],[1.0,\"#f0f921\"]]}],\"mesh3d\":[{\"type\":\"mesh3d\",\"colorbar\":{\"outlinewidth\":0,\"ticks\":\"\"}}],\"scatter\":[{\"fillpattern\":{\"fillmode\":\"overlay\",\"size\":10,\"solidity\":0.2},\"type\":\"scatter\"}],\"parcoords\":[{\"type\":\"parcoords\",\"line\":{\"colorbar\":{\"outlinewidth\":0,\"ticks\":\"\"}}}],\"scatterpolargl\":[{\"type\":\"scatterpolargl\",\"marker\":{\"colorbar\":{\"outlinewidth\":0,\"ticks\":\"\"}}}],\"bar\":[{\"error_x\":{\"color\":\"#2a3f5f\"},\"error_y\":{\"color\":\"#2a3f5f\"},\"marker\":{\"line\":{\"color\":\"#E5ECF6\",\"width\":0.5},\"pattern\":{\"fillmode\":\"overlay\",\"size\":10,\"solidity\":0.2}},\"type\":\"bar\"}],\"scattergeo\":[{\"type\":\"scattergeo\",\"marker\":{\"colorbar\":{\"outlinewidth\":0,\"ticks\":\"\"}}}],\"scatterpolar\":[{\"type\":\"scatterpolar\",\"marker\":{\"colorbar\":{\"outlinewidth\":0,\"ticks\":\"\"}}}],\"histogram\":[{\"marker\":{\"pattern\":{\"fillmode\":\"overlay\",\"size\":10,\"solidity\":0.2}},\"type\":\"histogram\"}],\"scattergl\":[{\"type\":\"scattergl\",\"marker\":{\"colorbar\":{\"outlinewidth\":0,\"ticks\":\"\"}}}],\"scatter3d\":[{\"type\":\"scatter3d\",\"line\":{\"colorbar\":{\"outlinewidth\":0,\"ticks\":\"\"}},\"marker\":{\"colorbar\":{\"outlinewidth\":0,\"ticks\":\"\"}}}],\"scattermapbox\":[{\"type\":\"scattermapbox\",\"marker\":{\"colorbar\":{\"outlinewidth\":0,\"ticks\":\"\"}}}],\"scatterternary\":[{\"type\":\"scatterternary\",\"marker\":{\"colorbar\":{\"outlinewidth\":0,\"ticks\":\"\"}}}],\"scattercarpet\":[{\"type\":\"scattercarpet\",\"marker\":{\"colorbar\":{\"outlinewidth\":0,\"ticks\":\"\"}}}],\"carpet\":[{\"aaxis\":{\"endlinecolor\":\"#2a3f5f\",\"gridcolor\":\"white\",\"linecolor\":\"white\",\"minorgridcolor\":\"white\",\"startlinecolor\":\"#2a3f5f\"},\"baxis\":{\"endlinecolor\":\"#2a3f5f\",\"gridcolor\":\"white\",\"linecolor\":\"white\",\"minorgridcolor\":\"white\",\"startlinecolor\":\"#2a3f5f\"},\"type\":\"carpet\"}],\"table\":[{\"cells\":{\"fill\":{\"color\":\"#EBF0F8\"},\"line\":{\"color\":\"white\"}},\"header\":{\"fill\":{\"color\":\"#C8D4E3\"},\"line\":{\"color\":\"white\"}},\"type\":\"table\"}],\"barpolar\":[{\"marker\":{\"line\":{\"color\":\"#E5ECF6\",\"width\":0.5},\"pattern\":{\"fillmode\":\"overlay\",\"size\":10,\"solidity\":0.2}},\"type\":\"barpolar\"}],\"pie\":[{\"automargin\":true,\"type\":\"pie\"}]},\"layout\":{\"autotypenumbers\":\"strict\",\"colorway\":[\"#636efa\",\"#EF553B\",\"#00cc96\",\"#ab63fa\",\"#FFA15A\",\"#19d3f3\",\"#FF6692\",\"#B6E880\",\"#FF97FF\",\"#FECB52\"],\"font\":{\"color\":\"#2a3f5f\"},\"hovermode\":\"closest\",\"hoverlabel\":{\"align\":\"left\"},\"paper_bgcolor\":\"white\",\"plot_bgcolor\":\"#E5ECF6\",\"polar\":{\"bgcolor\":\"#E5ECF6\",\"angularaxis\":{\"gridcolor\":\"white\",\"linecolor\":\"white\",\"ticks\":\"\"},\"radialaxis\":{\"gridcolor\":\"white\",\"linecolor\":\"white\",\"ticks\":\"\"}},\"ternary\":{\"bgcolor\":\"#E5ECF6\",\"aaxis\":{\"gridcolor\":\"white\",\"linecolor\":\"white\",\"ticks\":\"\"},\"baxis\":{\"gridcolor\":\"white\",\"linecolor\":\"white\",\"ticks\":\"\"},\"caxis\":{\"gridcolor\":\"white\",\"linecolor\":\"white\",\"ticks\":\"\"}},\"coloraxis\":{\"colorbar\":{\"outlinewidth\":0,\"ticks\":\"\"}},\"colorscale\":{\"sequential\":[[0.0,\"#0d0887\"],[0.1111111111111111,\"#46039f\"],[0.2222222222222222,\"#7201a8\"],[0.3333333333333333,\"#9c179e\"],[0.4444444444444444,\"#bd3786\"],[0.5555555555555556,\"#d8576b\"],[0.6666666666666666,\"#ed7953\"],[0.7777777777777778,\"#fb9f3a\"],[0.8888888888888888,\"#fdca26\"],[1.0,\"#f0f921\"]],\"sequentialminus\":[[0.0,\"#0d0887\"],[0.1111111111111111,\"#46039f\"],[0.2222222222222222,\"#7201a8\"],[0.3333333333333333,\"#9c179e\"],[0.4444444444444444,\"#bd3786\"],[0.5555555555555556,\"#d8576b\"],[0.6666666666666666,\"#ed7953\"],[0.7777777777777778,\"#fb9f3a\"],[0.8888888888888888,\"#fdca26\"],[1.0,\"#f0f921\"]],\"diverging\":[[0,\"#8e0152\"],[0.1,\"#c51b7d\"],[0.2,\"#de77ae\"],[0.3,\"#f1b6da\"],[0.4,\"#fde0ef\"],[0.5,\"#f7f7f7\"],[0.6,\"#e6f5d0\"],[0.7,\"#b8e186\"],[0.8,\"#7fbc41\"],[0.9,\"#4d9221\"],[1,\"#276419\"]]},\"xaxis\":{\"gridcolor\":\"white\",\"linecolor\":\"white\",\"ticks\":\"\",\"title\":{\"standoff\":15},\"zerolinecolor\":\"white\",\"automargin\":true,\"zerolinewidth\":2},\"yaxis\":{\"gridcolor\":\"white\",\"linecolor\":\"white\",\"ticks\":\"\",\"title\":{\"standoff\":15},\"zerolinecolor\":\"white\",\"automargin\":true,\"zerolinewidth\":2},\"scene\":{\"xaxis\":{\"backgroundcolor\":\"#E5ECF6\",\"gridcolor\":\"white\",\"linecolor\":\"white\",\"showbackground\":true,\"ticks\":\"\",\"zerolinecolor\":\"white\",\"gridwidth\":2},\"yaxis\":{\"backgroundcolor\":\"#E5ECF6\",\"gridcolor\":\"white\",\"linecolor\":\"white\",\"showbackground\":true,\"ticks\":\"\",\"zerolinecolor\":\"white\",\"gridwidth\":2},\"zaxis\":{\"backgroundcolor\":\"#E5ECF6\",\"gridcolor\":\"white\",\"linecolor\":\"white\",\"showbackground\":true,\"ticks\":\"\",\"zerolinecolor\":\"white\",\"gridwidth\":2}},\"shapedefaults\":{\"line\":{\"color\":\"#2a3f5f\"}},\"annotationdefaults\":{\"arrowcolor\":\"#2a3f5f\",\"arrowhead\":0,\"arrowwidth\":1},\"geo\":{\"bgcolor\":\"white\",\"landcolor\":\"#E5ECF6\",\"subunitcolor\":\"white\",\"showland\":true,\"showlakes\":true,\"lakecolor\":\"white\"},\"title\":{\"x\":0.05},\"mapbox\":{\"style\":\"light\"}}},\"xaxis\":{\"anchor\":\"y\",\"domain\":[0.0,1.0],\"title\":{\"text\":\"Teams\"},\"tickangle\":-45},\"yaxis\":{\"anchor\":\"x\",\"domain\":[0.0,1.0],\"title\":{\"text\":\"Win Percentage\"}},\"coloraxis\":{\"colorbar\":{\"title\":{\"text\":\"win_percentage\"}},\"colorscale\":[[0.0,\"#440154\"],[0.1111111111111111,\"#482878\"],[0.2222222222222222,\"#3e4989\"],[0.3333333333333333,\"#31688e\"],[0.4444444444444444,\"#26828e\"],[0.5555555555555556,\"#1f9e89\"],[0.6666666666666666,\"#35b779\"],[0.7777777777777778,\"#6ece58\"],[0.8888888888888888,\"#b5de2b\"],[1.0,\"#fde725\"]]},\"legend\":{\"tracegroupgap\":0},\"title\":{\"text\":\"Win Percentage in 2024\"},\"barmode\":\"relative\"},                        {\"responsive\": true}                    ).then(function(){\n",
       "                            \n",
       "var gd = document.getElementById('9fe19a22-4912-4359-8188-f88acaaa80ad');\n",
       "var x = new MutationObserver(function (mutations, observer) {{\n",
       "        var display = window.getComputedStyle(gd).display;\n",
       "        if (!display || display === 'none') {{\n",
       "            console.log([gd, 'removed!']);\n",
       "            Plotly.purge(gd);\n",
       "            observer.disconnect();\n",
       "        }}\n",
       "}});\n",
       "\n",
       "// Listen for the removal of the full notebook cells\n",
       "var notebookContainer = gd.closest('#notebook-container');\n",
       "if (notebookContainer) {{\n",
       "    x.observe(notebookContainer, {childList: true});\n",
       "}}\n",
       "\n",
       "// Listen for the clearing of the current output cell\n",
       "var outputEl = gd.closest('.output');\n",
       "if (outputEl) {{\n",
       "    x.observe(outputEl, {childList: true});\n",
       "}}\n",
       "\n",
       "                        })                };                            </script>        </div>\n",
       "</body>\n",
       "</html>"
      ]
     },
     "metadata": {},
     "output_type": "display_data"
    }
   ],
   "source": [
    "latest_season = win_percentage_df['season'].max()\n",
    "df_latest = win_percentage_df[win_percentage_df['season'] == latest_season]\n",
    "\n",
    "fig = px.bar(df_latest,\n",
    "             x='team',\n",
    "             y='win_percentage',\n",
    "             text='win_percentage',\n",
    "             title=f'Win Percentage in {latest_season}',\n",
    "             color='win_percentage',\n",
    "             color_continuous_scale='viridis')\n",
    "\n",
    "fig.update_traces(texttemplate='%{text:.1f}%', textposition='outside')\n",
    "fig.update_layout(xaxis_title=\"Teams\", yaxis_title=\"Win Percentage\", xaxis_tickangle=-45)\n",
    "fig.show()\n"
   ]
  },
  {
   "cell_type": "markdown",
   "id": "abdebbfa",
   "metadata": {
    "id": "41NhfT0avUnb",
    "papermill": {
     "duration": 0.027002,
     "end_time": "2025-03-14T14:33:13.507343",
     "exception": false,
     "start_time": "2025-03-14T14:33:13.480341",
     "status": "completed"
    },
    "tags": []
   },
   "source": [
    "### 🔥 Win Percentage Heatmap of Teams Per Season"
   ]
  },
  {
   "cell_type": "code",
   "execution_count": 41,
   "id": "72cfe240",
   "metadata": {
    "execution": {
     "iopub.execute_input": "2025-03-14T14:33:13.574436Z",
     "iopub.status.busy": "2025-03-14T14:33:13.573868Z",
     "iopub.status.idle": "2025-03-14T14:33:13.674434Z",
     "shell.execute_reply": "2025-03-14T14:33:13.673180Z"
    },
    "id": "_5TqGL5IvUnb",
    "outputId": "1a433dfd-49d3-447d-f7e8-edc5b735aa7b",
    "papermill": {
     "duration": 0.133903,
     "end_time": "2025-03-14T14:33:13.676220",
     "exception": false,
     "start_time": "2025-03-14T14:33:13.542317",
     "status": "completed"
    },
    "tags": []
   },
   "outputs": [
    {
     "data": {
      "text/html": [
       "<html>\n",
       "<head><meta charset=\"utf-8\" /></head>\n",
       "<body>\n",
       "    <div>            <script src=\"https://cdnjs.cloudflare.com/ajax/libs/mathjax/2.7.5/MathJax.js?config=TeX-AMS-MML_SVG\"></script><script type=\"text/javascript\">if (window.MathJax && window.MathJax.Hub && window.MathJax.Hub.Config) {window.MathJax.Hub.Config({SVG: {font: \"STIX-Web\"}});}</script>                <script type=\"text/javascript\">window.PlotlyConfig = {MathJaxConfig: 'local'};</script>\n",
       "        <script charset=\"utf-8\" src=\"https://cdn.plot.ly/plotly-2.35.2.min.js\"></script>                <div id=\"68f213c2-4fe7-47c0-8d4e-37d9562dde7f\" class=\"plotly-graph-div\" style=\"height:525px; width:100%;\"></div>            <script type=\"text/javascript\">                                    window.PLOTLYENV=window.PLOTLYENV || {};                                    if (document.getElementById(\"68f213c2-4fe7-47c0-8d4e-37d9562dde7f\")) {                    Plotly.newPlot(                        \"68f213c2-4fe7-47c0-8d4e-37d9562dde7f\",                        [{\"coloraxis\":\"coloraxis\",\"name\":\"0\",\"texttemplate\":\"%{z:.2f}\",\"x\":[\"2007\\u002f08\",\"2009\",\"2009\\u002f10\",\"2011\",\"2012\",\"2013\",\"2014\",\"2015\",\"2016\",\"2017\",\"2018\",\"2019\",\"2020\\u002f21\",\"2021\",\"2022\",\"2023\",\"2024\"],\"y\":[\"Chennai Super Kings\",\"Deccan Chargers\",\"Delhi Capitals\",\"Delhi Daredevils\",\"Gujarat Lions\",\"Gujarat Titans\",\"Kings XI Punjab\",\"Kochi Tuskers Kerala\",\"Kolkata Knight Riders\",\"Lucknow Super Giants\",\"Mumbai Indians\",\"Pune Warriors\",\"Punjab Kings\",\"Rajasthan Royals\",\"Rising Pune Supergiant\",\"Rising Pune Supergiants\",\"Royal Challengers Bangalore\",\"Royal Challengers Bengaluru\",\"Sunrisers Hyderabad\"],\"z\":[[56.25,57.14285714285714,56.25,68.75,55.55555555555556,66.66666666666666,62.5,58.82352941176471,null,null,68.75,58.82352941176471,42.857142857142854,68.75,28.57142857142857,62.5,50.0],[14.285714285714285,56.25,50.0,42.857142857142854,26.666666666666668,null,null,null,null,null,null,null,null,null,null,null,null],[null,null,null,null,null,null,null,null,null,null,null,62.5,52.94117647058824,62.5,50.0,35.714285714285715,50.0],[50.0,66.66666666666666,50.0,28.57142857142857,61.111111111111114,18.75,14.285714285714285,35.714285714285715,50.0,42.857142857142854,35.714285714285715,null,null,null,null,null,null],[null,null,null,null,null,null,null,null,56.25,28.57142857142857,null,null,null,null,null,null,null],[null,null,null,null,null,null,null,null,null,null,null,null,null,null,75.0,64.70588235294117,41.66666666666667],[66.66666666666666,50.0,28.57142857142857,50.0,50.0,50.0,70.58823529411765,21.428571428571427,28.57142857142857,50.0,42.857142857142854,42.857142857142854,42.857142857142854,null,null,null,null],[null,null,null,42.857142857142854,null,null,null,null,null,null,null,null,null,null,null,null,null],[46.15384615384615,23.076923076923077,50.0,53.333333333333336,70.58823529411765,37.5,68.75,53.84615384615385,53.333333333333336,56.25,56.25,42.857142857142854,50.0,52.94117647058824,42.857142857142854,42.857142857142854,78.57142857142857],[null,null,null,null,null,null,null,null,null,null,null,null,null,null,60.0,53.333333333333336,50.0],[50.0,38.46153846153847,68.75,62.5,58.82352941176471,68.42105263157895,46.666666666666664,62.5,50.0,70.58823529411765,42.857142857142854,68.75,68.75,50.0,28.57142857142857,56.25,28.57142857142857],[null,null,null,28.57142857142857,25.0,25.0,null,null,null,null,null,null,null,null,null,null,null],[null,null,null,null,null,null,null,null,null,null,null,null,null,42.857142857142854,50.0,42.857142857142854,35.714285714285715],[81.25,46.15384615384615,42.857142857142854,46.15384615384615,43.75,61.111111111111114,50.0,50.0,null,null,46.666666666666664,35.714285714285715,42.857142857142854,35.714285714285715,58.82352941176471,50.0,60.0],[null,null,null,null,null,null,null,null,null,62.5,null,null,null,null,null,null,null],[null,null,null,null,null,null,null,null,35.714285714285715,null,null,null,null,null,null,null,null],[28.57142857142857,56.25,50.0,62.5,53.333333333333336,56.25,35.714285714285715,50.0,56.25,23.076923076923077,42.857142857142854,35.714285714285715,46.666666666666664,60.0,56.25,50.0,null],[null,null,null,null,null,null,null,null,null,null,null,null,null,null,null,null,46.666666666666664],[null,null,null,null,null,58.82352941176471,42.857142857142854,50.0,64.70588235294117,57.14285714285714,58.82352941176471,40.0,50.0,21.428571428571427,42.857142857142854,28.57142857142857,56.25]],\"type\":\"heatmap\",\"xaxis\":\"x\",\"yaxis\":\"y\",\"hovertemplate\":\"Season: %{x}\\u003cbr\\u003eTeam: %{y}\\u003cbr\\u003eWin %: %{z}\\u003cextra\\u003e\\u003c\\u002fextra\\u003e\"}],                        {\"template\":{\"data\":{\"histogram2dcontour\":[{\"type\":\"histogram2dcontour\",\"colorbar\":{\"outlinewidth\":0,\"ticks\":\"\"},\"colorscale\":[[0.0,\"#0d0887\"],[0.1111111111111111,\"#46039f\"],[0.2222222222222222,\"#7201a8\"],[0.3333333333333333,\"#9c179e\"],[0.4444444444444444,\"#bd3786\"],[0.5555555555555556,\"#d8576b\"],[0.6666666666666666,\"#ed7953\"],[0.7777777777777778,\"#fb9f3a\"],[0.8888888888888888,\"#fdca26\"],[1.0,\"#f0f921\"]]}],\"choropleth\":[{\"type\":\"choropleth\",\"colorbar\":{\"outlinewidth\":0,\"ticks\":\"\"}}],\"histogram2d\":[{\"type\":\"histogram2d\",\"colorbar\":{\"outlinewidth\":0,\"ticks\":\"\"},\"colorscale\":[[0.0,\"#0d0887\"],[0.1111111111111111,\"#46039f\"],[0.2222222222222222,\"#7201a8\"],[0.3333333333333333,\"#9c179e\"],[0.4444444444444444,\"#bd3786\"],[0.5555555555555556,\"#d8576b\"],[0.6666666666666666,\"#ed7953\"],[0.7777777777777778,\"#fb9f3a\"],[0.8888888888888888,\"#fdca26\"],[1.0,\"#f0f921\"]]}],\"heatmap\":[{\"type\":\"heatmap\",\"colorbar\":{\"outlinewidth\":0,\"ticks\":\"\"},\"colorscale\":[[0.0,\"#0d0887\"],[0.1111111111111111,\"#46039f\"],[0.2222222222222222,\"#7201a8\"],[0.3333333333333333,\"#9c179e\"],[0.4444444444444444,\"#bd3786\"],[0.5555555555555556,\"#d8576b\"],[0.6666666666666666,\"#ed7953\"],[0.7777777777777778,\"#fb9f3a\"],[0.8888888888888888,\"#fdca26\"],[1.0,\"#f0f921\"]]}],\"heatmapgl\":[{\"type\":\"heatmapgl\",\"colorbar\":{\"outlinewidth\":0,\"ticks\":\"\"},\"colorscale\":[[0.0,\"#0d0887\"],[0.1111111111111111,\"#46039f\"],[0.2222222222222222,\"#7201a8\"],[0.3333333333333333,\"#9c179e\"],[0.4444444444444444,\"#bd3786\"],[0.5555555555555556,\"#d8576b\"],[0.6666666666666666,\"#ed7953\"],[0.7777777777777778,\"#fb9f3a\"],[0.8888888888888888,\"#fdca26\"],[1.0,\"#f0f921\"]]}],\"contourcarpet\":[{\"type\":\"contourcarpet\",\"colorbar\":{\"outlinewidth\":0,\"ticks\":\"\"}}],\"contour\":[{\"type\":\"contour\",\"colorbar\":{\"outlinewidth\":0,\"ticks\":\"\"},\"colorscale\":[[0.0,\"#0d0887\"],[0.1111111111111111,\"#46039f\"],[0.2222222222222222,\"#7201a8\"],[0.3333333333333333,\"#9c179e\"],[0.4444444444444444,\"#bd3786\"],[0.5555555555555556,\"#d8576b\"],[0.6666666666666666,\"#ed7953\"],[0.7777777777777778,\"#fb9f3a\"],[0.8888888888888888,\"#fdca26\"],[1.0,\"#f0f921\"]]}],\"surface\":[{\"type\":\"surface\",\"colorbar\":{\"outlinewidth\":0,\"ticks\":\"\"},\"colorscale\":[[0.0,\"#0d0887\"],[0.1111111111111111,\"#46039f\"],[0.2222222222222222,\"#7201a8\"],[0.3333333333333333,\"#9c179e\"],[0.4444444444444444,\"#bd3786\"],[0.5555555555555556,\"#d8576b\"],[0.6666666666666666,\"#ed7953\"],[0.7777777777777778,\"#fb9f3a\"],[0.8888888888888888,\"#fdca26\"],[1.0,\"#f0f921\"]]}],\"mesh3d\":[{\"type\":\"mesh3d\",\"colorbar\":{\"outlinewidth\":0,\"ticks\":\"\"}}],\"scatter\":[{\"fillpattern\":{\"fillmode\":\"overlay\",\"size\":10,\"solidity\":0.2},\"type\":\"scatter\"}],\"parcoords\":[{\"type\":\"parcoords\",\"line\":{\"colorbar\":{\"outlinewidth\":0,\"ticks\":\"\"}}}],\"scatterpolargl\":[{\"type\":\"scatterpolargl\",\"marker\":{\"colorbar\":{\"outlinewidth\":0,\"ticks\":\"\"}}}],\"bar\":[{\"error_x\":{\"color\":\"#2a3f5f\"},\"error_y\":{\"color\":\"#2a3f5f\"},\"marker\":{\"line\":{\"color\":\"#E5ECF6\",\"width\":0.5},\"pattern\":{\"fillmode\":\"overlay\",\"size\":10,\"solidity\":0.2}},\"type\":\"bar\"}],\"scattergeo\":[{\"type\":\"scattergeo\",\"marker\":{\"colorbar\":{\"outlinewidth\":0,\"ticks\":\"\"}}}],\"scatterpolar\":[{\"type\":\"scatterpolar\",\"marker\":{\"colorbar\":{\"outlinewidth\":0,\"ticks\":\"\"}}}],\"histogram\":[{\"marker\":{\"pattern\":{\"fillmode\":\"overlay\",\"size\":10,\"solidity\":0.2}},\"type\":\"histogram\"}],\"scattergl\":[{\"type\":\"scattergl\",\"marker\":{\"colorbar\":{\"outlinewidth\":0,\"ticks\":\"\"}}}],\"scatter3d\":[{\"type\":\"scatter3d\",\"line\":{\"colorbar\":{\"outlinewidth\":0,\"ticks\":\"\"}},\"marker\":{\"colorbar\":{\"outlinewidth\":0,\"ticks\":\"\"}}}],\"scattermapbox\":[{\"type\":\"scattermapbox\",\"marker\":{\"colorbar\":{\"outlinewidth\":0,\"ticks\":\"\"}}}],\"scatterternary\":[{\"type\":\"scatterternary\",\"marker\":{\"colorbar\":{\"outlinewidth\":0,\"ticks\":\"\"}}}],\"scattercarpet\":[{\"type\":\"scattercarpet\",\"marker\":{\"colorbar\":{\"outlinewidth\":0,\"ticks\":\"\"}}}],\"carpet\":[{\"aaxis\":{\"endlinecolor\":\"#2a3f5f\",\"gridcolor\":\"white\",\"linecolor\":\"white\",\"minorgridcolor\":\"white\",\"startlinecolor\":\"#2a3f5f\"},\"baxis\":{\"endlinecolor\":\"#2a3f5f\",\"gridcolor\":\"white\",\"linecolor\":\"white\",\"minorgridcolor\":\"white\",\"startlinecolor\":\"#2a3f5f\"},\"type\":\"carpet\"}],\"table\":[{\"cells\":{\"fill\":{\"color\":\"#EBF0F8\"},\"line\":{\"color\":\"white\"}},\"header\":{\"fill\":{\"color\":\"#C8D4E3\"},\"line\":{\"color\":\"white\"}},\"type\":\"table\"}],\"barpolar\":[{\"marker\":{\"line\":{\"color\":\"#E5ECF6\",\"width\":0.5},\"pattern\":{\"fillmode\":\"overlay\",\"size\":10,\"solidity\":0.2}},\"type\":\"barpolar\"}],\"pie\":[{\"automargin\":true,\"type\":\"pie\"}]},\"layout\":{\"autotypenumbers\":\"strict\",\"colorway\":[\"#636efa\",\"#EF553B\",\"#00cc96\",\"#ab63fa\",\"#FFA15A\",\"#19d3f3\",\"#FF6692\",\"#B6E880\",\"#FF97FF\",\"#FECB52\"],\"font\":{\"color\":\"#2a3f5f\"},\"hovermode\":\"closest\",\"hoverlabel\":{\"align\":\"left\"},\"paper_bgcolor\":\"white\",\"plot_bgcolor\":\"#E5ECF6\",\"polar\":{\"bgcolor\":\"#E5ECF6\",\"angularaxis\":{\"gridcolor\":\"white\",\"linecolor\":\"white\",\"ticks\":\"\"},\"radialaxis\":{\"gridcolor\":\"white\",\"linecolor\":\"white\",\"ticks\":\"\"}},\"ternary\":{\"bgcolor\":\"#E5ECF6\",\"aaxis\":{\"gridcolor\":\"white\",\"linecolor\":\"white\",\"ticks\":\"\"},\"baxis\":{\"gridcolor\":\"white\",\"linecolor\":\"white\",\"ticks\":\"\"},\"caxis\":{\"gridcolor\":\"white\",\"linecolor\":\"white\",\"ticks\":\"\"}},\"coloraxis\":{\"colorbar\":{\"outlinewidth\":0,\"ticks\":\"\"}},\"colorscale\":{\"sequential\":[[0.0,\"#0d0887\"],[0.1111111111111111,\"#46039f\"],[0.2222222222222222,\"#7201a8\"],[0.3333333333333333,\"#9c179e\"],[0.4444444444444444,\"#bd3786\"],[0.5555555555555556,\"#d8576b\"],[0.6666666666666666,\"#ed7953\"],[0.7777777777777778,\"#fb9f3a\"],[0.8888888888888888,\"#fdca26\"],[1.0,\"#f0f921\"]],\"sequentialminus\":[[0.0,\"#0d0887\"],[0.1111111111111111,\"#46039f\"],[0.2222222222222222,\"#7201a8\"],[0.3333333333333333,\"#9c179e\"],[0.4444444444444444,\"#bd3786\"],[0.5555555555555556,\"#d8576b\"],[0.6666666666666666,\"#ed7953\"],[0.7777777777777778,\"#fb9f3a\"],[0.8888888888888888,\"#fdca26\"],[1.0,\"#f0f921\"]],\"diverging\":[[0,\"#8e0152\"],[0.1,\"#c51b7d\"],[0.2,\"#de77ae\"],[0.3,\"#f1b6da\"],[0.4,\"#fde0ef\"],[0.5,\"#f7f7f7\"],[0.6,\"#e6f5d0\"],[0.7,\"#b8e186\"],[0.8,\"#7fbc41\"],[0.9,\"#4d9221\"],[1,\"#276419\"]]},\"xaxis\":{\"gridcolor\":\"white\",\"linecolor\":\"white\",\"ticks\":\"\",\"title\":{\"standoff\":15},\"zerolinecolor\":\"white\",\"automargin\":true,\"zerolinewidth\":2},\"yaxis\":{\"gridcolor\":\"white\",\"linecolor\":\"white\",\"ticks\":\"\",\"title\":{\"standoff\":15},\"zerolinecolor\":\"white\",\"automargin\":true,\"zerolinewidth\":2},\"scene\":{\"xaxis\":{\"backgroundcolor\":\"#E5ECF6\",\"gridcolor\":\"white\",\"linecolor\":\"white\",\"showbackground\":true,\"ticks\":\"\",\"zerolinecolor\":\"white\",\"gridwidth\":2},\"yaxis\":{\"backgroundcolor\":\"#E5ECF6\",\"gridcolor\":\"white\",\"linecolor\":\"white\",\"showbackground\":true,\"ticks\":\"\",\"zerolinecolor\":\"white\",\"gridwidth\":2},\"zaxis\":{\"backgroundcolor\":\"#E5ECF6\",\"gridcolor\":\"white\",\"linecolor\":\"white\",\"showbackground\":true,\"ticks\":\"\",\"zerolinecolor\":\"white\",\"gridwidth\":2}},\"shapedefaults\":{\"line\":{\"color\":\"#2a3f5f\"}},\"annotationdefaults\":{\"arrowcolor\":\"#2a3f5f\",\"arrowhead\":0,\"arrowwidth\":1},\"geo\":{\"bgcolor\":\"white\",\"landcolor\":\"#E5ECF6\",\"subunitcolor\":\"white\",\"showland\":true,\"showlakes\":true,\"lakecolor\":\"white\"},\"title\":{\"x\":0.05},\"mapbox\":{\"style\":\"light\"}}},\"xaxis\":{\"anchor\":\"y\",\"domain\":[0.0,1.0],\"title\":{\"text\":\"Season\"},\"tickangle\":-45},\"yaxis\":{\"anchor\":\"x\",\"domain\":[0.0,1.0],\"autorange\":\"reversed\",\"title\":{\"text\":\"Team\"}},\"coloraxis\":{\"colorbar\":{\"title\":{\"text\":\"Win %\"}},\"colorscale\":[[0.0,\"#440154\"],[0.1111111111111111,\"#482878\"],[0.2222222222222222,\"#3e4989\"],[0.3333333333333333,\"#31688e\"],[0.4444444444444444,\"#26828e\"],[0.5555555555555556,\"#1f9e89\"],[0.6666666666666666,\"#35b779\"],[0.7777777777777778,\"#6ece58\"],[0.8888888888888888,\"#b5de2b\"],[1.0,\"#fde725\"]]},\"margin\":{\"t\":60},\"title\":{\"text\":\"Win Percentage Heatmap\"}},                        {\"responsive\": true}                    ).then(function(){\n",
       "                            \n",
       "var gd = document.getElementById('68f213c2-4fe7-47c0-8d4e-37d9562dde7f');\n",
       "var x = new MutationObserver(function (mutations, observer) {{\n",
       "        var display = window.getComputedStyle(gd).display;\n",
       "        if (!display || display === 'none') {{\n",
       "            console.log([gd, 'removed!']);\n",
       "            Plotly.purge(gd);\n",
       "            observer.disconnect();\n",
       "        }}\n",
       "}});\n",
       "\n",
       "// Listen for the removal of the full notebook cells\n",
       "var notebookContainer = gd.closest('#notebook-container');\n",
       "if (notebookContainer) {{\n",
       "    x.observe(notebookContainer, {childList: true});\n",
       "}}\n",
       "\n",
       "// Listen for the clearing of the current output cell\n",
       "var outputEl = gd.closest('.output');\n",
       "if (outputEl) {{\n",
       "    x.observe(outputEl, {childList: true});\n",
       "}}\n",
       "\n",
       "                        })                };                            </script>        </div>\n",
       "</body>\n",
       "</html>"
      ]
     },
     "metadata": {},
     "output_type": "display_data"
    }
   ],
   "source": [
    "import plotly.express as px\n",
    "\n",
    "df_pivot = win_percentage_df.pivot(index='team', columns='season', values='win_percentage')\n",
    "\n",
    "fig = px.imshow(df_pivot,\n",
    "                aspect=\"auto\",\n",
    "                labels=dict(x=\"Season\", y=\"Team\", color=\"Win %\"),\n",
    "                color_continuous_scale=\"viridis\",\n",
    "                text_auto=\".2f\")  # Adds numbers inside the cells\n",
    "\n",
    "fig.update_layout(title=\"Win Percentage Heatmap\",\n",
    "                  xaxis_tickangle=-45)\n",
    "\n",
    "fig.show()\n"
   ]
  },
  {
   "cell_type": "markdown",
   "id": "c864d173",
   "metadata": {
    "id": "ejVhbw2WvUnc",
    "papermill": {
     "duration": 0.025605,
     "end_time": "2025-03-14T14:33:13.727951",
     "exception": false,
     "start_time": "2025-03-14T14:33:13.702346",
     "status": "completed"
    },
    "tags": []
   },
   "source": [
    "### 🏆 Top 5 Best Win Percentages in IPL History"
   ]
  },
  {
   "cell_type": "code",
   "execution_count": 42,
   "id": "b50d76f5",
   "metadata": {
    "execution": {
     "iopub.execute_input": "2025-03-14T14:33:13.780875Z",
     "iopub.status.busy": "2025-03-14T14:33:13.780470Z",
     "iopub.status.idle": "2025-03-14T14:33:13.846293Z",
     "shell.execute_reply": "2025-03-14T14:33:13.845066Z"
    },
    "id": "UW0eAMDvvUnc",
    "outputId": "10b7a0c4-79d4-411f-f8b2-d1af05dcde6d",
    "papermill": {
     "duration": 0.09446,
     "end_time": "2025-03-14T14:33:13.848014",
     "exception": false,
     "start_time": "2025-03-14T14:33:13.753554",
     "status": "completed"
    },
    "tags": []
   },
   "outputs": [
    {
     "data": {
      "text/html": [
       "<html>\n",
       "<head><meta charset=\"utf-8\" /></head>\n",
       "<body>\n",
       "    <div>            <script src=\"https://cdnjs.cloudflare.com/ajax/libs/mathjax/2.7.5/MathJax.js?config=TeX-AMS-MML_SVG\"></script><script type=\"text/javascript\">if (window.MathJax && window.MathJax.Hub && window.MathJax.Hub.Config) {window.MathJax.Hub.Config({SVG: {font: \"STIX-Web\"}});}</script>                <script type=\"text/javascript\">window.PlotlyConfig = {MathJaxConfig: 'local'};</script>\n",
       "        <script charset=\"utf-8\" src=\"https://cdn.plot.ly/plotly-2.35.2.min.js\"></script>                <div id=\"0a9d8860-6cf8-4dc0-b3fb-02377b10c0cb\" class=\"plotly-graph-div\" style=\"height:525px; width:100%;\"></div>            <script type=\"text/javascript\">                                    window.PLOTLYENV=window.PLOTLYENV || {};                                    if (document.getElementById(\"0a9d8860-6cf8-4dc0-b3fb-02377b10c0cb\")) {                    Plotly.newPlot(                        \"0a9d8860-6cf8-4dc0-b3fb-02377b10c0cb\",                        [{\"alignmentgroup\":\"True\",\"hovertemplate\":\"Season - Team=%{x}\\u003cbr\\u003eWin Percentage=%{marker.color}\\u003cextra\\u003e\\u003c\\u002fextra\\u003e\",\"legendgroup\":\"\",\"marker\":{\"color\":[81.25,78.57142857142857,75.0,70.58823529411765,70.58823529411765],\"coloraxis\":\"coloraxis\",\"pattern\":{\"shape\":\"\"}},\"name\":\"\",\"offsetgroup\":\"\",\"orientation\":\"v\",\"showlegend\":false,\"text\":[81.25,78.57142857142857,75.0,70.58823529411765,70.58823529411765],\"textposition\":\"outside\",\"x\":[\"2007\\u002f08 - Rajasthan Royals\",\"2024 - Kolkata Knight Riders\",\"2022 - Gujarat Titans\",\"2017 - Mumbai Indians\",\"2014 - Kings XI Punjab\"],\"xaxis\":\"x\",\"y\":[81.25,78.57142857142857,75.0,70.58823529411765,70.58823529411765],\"yaxis\":\"y\",\"type\":\"bar\",\"texttemplate\":\"%{text:.2f}%\"}],                        {\"template\":{\"data\":{\"histogram2dcontour\":[{\"type\":\"histogram2dcontour\",\"colorbar\":{\"outlinewidth\":0,\"ticks\":\"\"},\"colorscale\":[[0.0,\"#0d0887\"],[0.1111111111111111,\"#46039f\"],[0.2222222222222222,\"#7201a8\"],[0.3333333333333333,\"#9c179e\"],[0.4444444444444444,\"#bd3786\"],[0.5555555555555556,\"#d8576b\"],[0.6666666666666666,\"#ed7953\"],[0.7777777777777778,\"#fb9f3a\"],[0.8888888888888888,\"#fdca26\"],[1.0,\"#f0f921\"]]}],\"choropleth\":[{\"type\":\"choropleth\",\"colorbar\":{\"outlinewidth\":0,\"ticks\":\"\"}}],\"histogram2d\":[{\"type\":\"histogram2d\",\"colorbar\":{\"outlinewidth\":0,\"ticks\":\"\"},\"colorscale\":[[0.0,\"#0d0887\"],[0.1111111111111111,\"#46039f\"],[0.2222222222222222,\"#7201a8\"],[0.3333333333333333,\"#9c179e\"],[0.4444444444444444,\"#bd3786\"],[0.5555555555555556,\"#d8576b\"],[0.6666666666666666,\"#ed7953\"],[0.7777777777777778,\"#fb9f3a\"],[0.8888888888888888,\"#fdca26\"],[1.0,\"#f0f921\"]]}],\"heatmap\":[{\"type\":\"heatmap\",\"colorbar\":{\"outlinewidth\":0,\"ticks\":\"\"},\"colorscale\":[[0.0,\"#0d0887\"],[0.1111111111111111,\"#46039f\"],[0.2222222222222222,\"#7201a8\"],[0.3333333333333333,\"#9c179e\"],[0.4444444444444444,\"#bd3786\"],[0.5555555555555556,\"#d8576b\"],[0.6666666666666666,\"#ed7953\"],[0.7777777777777778,\"#fb9f3a\"],[0.8888888888888888,\"#fdca26\"],[1.0,\"#f0f921\"]]}],\"heatmapgl\":[{\"type\":\"heatmapgl\",\"colorbar\":{\"outlinewidth\":0,\"ticks\":\"\"},\"colorscale\":[[0.0,\"#0d0887\"],[0.1111111111111111,\"#46039f\"],[0.2222222222222222,\"#7201a8\"],[0.3333333333333333,\"#9c179e\"],[0.4444444444444444,\"#bd3786\"],[0.5555555555555556,\"#d8576b\"],[0.6666666666666666,\"#ed7953\"],[0.7777777777777778,\"#fb9f3a\"],[0.8888888888888888,\"#fdca26\"],[1.0,\"#f0f921\"]]}],\"contourcarpet\":[{\"type\":\"contourcarpet\",\"colorbar\":{\"outlinewidth\":0,\"ticks\":\"\"}}],\"contour\":[{\"type\":\"contour\",\"colorbar\":{\"outlinewidth\":0,\"ticks\":\"\"},\"colorscale\":[[0.0,\"#0d0887\"],[0.1111111111111111,\"#46039f\"],[0.2222222222222222,\"#7201a8\"],[0.3333333333333333,\"#9c179e\"],[0.4444444444444444,\"#bd3786\"],[0.5555555555555556,\"#d8576b\"],[0.6666666666666666,\"#ed7953\"],[0.7777777777777778,\"#fb9f3a\"],[0.8888888888888888,\"#fdca26\"],[1.0,\"#f0f921\"]]}],\"surface\":[{\"type\":\"surface\",\"colorbar\":{\"outlinewidth\":0,\"ticks\":\"\"},\"colorscale\":[[0.0,\"#0d0887\"],[0.1111111111111111,\"#46039f\"],[0.2222222222222222,\"#7201a8\"],[0.3333333333333333,\"#9c179e\"],[0.4444444444444444,\"#bd3786\"],[0.5555555555555556,\"#d8576b\"],[0.6666666666666666,\"#ed7953\"],[0.7777777777777778,\"#fb9f3a\"],[0.8888888888888888,\"#fdca26\"],[1.0,\"#f0f921\"]]}],\"mesh3d\":[{\"type\":\"mesh3d\",\"colorbar\":{\"outlinewidth\":0,\"ticks\":\"\"}}],\"scatter\":[{\"fillpattern\":{\"fillmode\":\"overlay\",\"size\":10,\"solidity\":0.2},\"type\":\"scatter\"}],\"parcoords\":[{\"type\":\"parcoords\",\"line\":{\"colorbar\":{\"outlinewidth\":0,\"ticks\":\"\"}}}],\"scatterpolargl\":[{\"type\":\"scatterpolargl\",\"marker\":{\"colorbar\":{\"outlinewidth\":0,\"ticks\":\"\"}}}],\"bar\":[{\"error_x\":{\"color\":\"#2a3f5f\"},\"error_y\":{\"color\":\"#2a3f5f\"},\"marker\":{\"line\":{\"color\":\"#E5ECF6\",\"width\":0.5},\"pattern\":{\"fillmode\":\"overlay\",\"size\":10,\"solidity\":0.2}},\"type\":\"bar\"}],\"scattergeo\":[{\"type\":\"scattergeo\",\"marker\":{\"colorbar\":{\"outlinewidth\":0,\"ticks\":\"\"}}}],\"scatterpolar\":[{\"type\":\"scatterpolar\",\"marker\":{\"colorbar\":{\"outlinewidth\":0,\"ticks\":\"\"}}}],\"histogram\":[{\"marker\":{\"pattern\":{\"fillmode\":\"overlay\",\"size\":10,\"solidity\":0.2}},\"type\":\"histogram\"}],\"scattergl\":[{\"type\":\"scattergl\",\"marker\":{\"colorbar\":{\"outlinewidth\":0,\"ticks\":\"\"}}}],\"scatter3d\":[{\"type\":\"scatter3d\",\"line\":{\"colorbar\":{\"outlinewidth\":0,\"ticks\":\"\"}},\"marker\":{\"colorbar\":{\"outlinewidth\":0,\"ticks\":\"\"}}}],\"scattermapbox\":[{\"type\":\"scattermapbox\",\"marker\":{\"colorbar\":{\"outlinewidth\":0,\"ticks\":\"\"}}}],\"scatterternary\":[{\"type\":\"scatterternary\",\"marker\":{\"colorbar\":{\"outlinewidth\":0,\"ticks\":\"\"}}}],\"scattercarpet\":[{\"type\":\"scattercarpet\",\"marker\":{\"colorbar\":{\"outlinewidth\":0,\"ticks\":\"\"}}}],\"carpet\":[{\"aaxis\":{\"endlinecolor\":\"#2a3f5f\",\"gridcolor\":\"white\",\"linecolor\":\"white\",\"minorgridcolor\":\"white\",\"startlinecolor\":\"#2a3f5f\"},\"baxis\":{\"endlinecolor\":\"#2a3f5f\",\"gridcolor\":\"white\",\"linecolor\":\"white\",\"minorgridcolor\":\"white\",\"startlinecolor\":\"#2a3f5f\"},\"type\":\"carpet\"}],\"table\":[{\"cells\":{\"fill\":{\"color\":\"#EBF0F8\"},\"line\":{\"color\":\"white\"}},\"header\":{\"fill\":{\"color\":\"#C8D4E3\"},\"line\":{\"color\":\"white\"}},\"type\":\"table\"}],\"barpolar\":[{\"marker\":{\"line\":{\"color\":\"#E5ECF6\",\"width\":0.5},\"pattern\":{\"fillmode\":\"overlay\",\"size\":10,\"solidity\":0.2}},\"type\":\"barpolar\"}],\"pie\":[{\"automargin\":true,\"type\":\"pie\"}]},\"layout\":{\"autotypenumbers\":\"strict\",\"colorway\":[\"#636efa\",\"#EF553B\",\"#00cc96\",\"#ab63fa\",\"#FFA15A\",\"#19d3f3\",\"#FF6692\",\"#B6E880\",\"#FF97FF\",\"#FECB52\"],\"font\":{\"color\":\"#2a3f5f\"},\"hovermode\":\"closest\",\"hoverlabel\":{\"align\":\"left\"},\"paper_bgcolor\":\"white\",\"plot_bgcolor\":\"#E5ECF6\",\"polar\":{\"bgcolor\":\"#E5ECF6\",\"angularaxis\":{\"gridcolor\":\"white\",\"linecolor\":\"white\",\"ticks\":\"\"},\"radialaxis\":{\"gridcolor\":\"white\",\"linecolor\":\"white\",\"ticks\":\"\"}},\"ternary\":{\"bgcolor\":\"#E5ECF6\",\"aaxis\":{\"gridcolor\":\"white\",\"linecolor\":\"white\",\"ticks\":\"\"},\"baxis\":{\"gridcolor\":\"white\",\"linecolor\":\"white\",\"ticks\":\"\"},\"caxis\":{\"gridcolor\":\"white\",\"linecolor\":\"white\",\"ticks\":\"\"}},\"coloraxis\":{\"colorbar\":{\"outlinewidth\":0,\"ticks\":\"\"}},\"colorscale\":{\"sequential\":[[0.0,\"#0d0887\"],[0.1111111111111111,\"#46039f\"],[0.2222222222222222,\"#7201a8\"],[0.3333333333333333,\"#9c179e\"],[0.4444444444444444,\"#bd3786\"],[0.5555555555555556,\"#d8576b\"],[0.6666666666666666,\"#ed7953\"],[0.7777777777777778,\"#fb9f3a\"],[0.8888888888888888,\"#fdca26\"],[1.0,\"#f0f921\"]],\"sequentialminus\":[[0.0,\"#0d0887\"],[0.1111111111111111,\"#46039f\"],[0.2222222222222222,\"#7201a8\"],[0.3333333333333333,\"#9c179e\"],[0.4444444444444444,\"#bd3786\"],[0.5555555555555556,\"#d8576b\"],[0.6666666666666666,\"#ed7953\"],[0.7777777777777778,\"#fb9f3a\"],[0.8888888888888888,\"#fdca26\"],[1.0,\"#f0f921\"]],\"diverging\":[[0,\"#8e0152\"],[0.1,\"#c51b7d\"],[0.2,\"#de77ae\"],[0.3,\"#f1b6da\"],[0.4,\"#fde0ef\"],[0.5,\"#f7f7f7\"],[0.6,\"#e6f5d0\"],[0.7,\"#b8e186\"],[0.8,\"#7fbc41\"],[0.9,\"#4d9221\"],[1,\"#276419\"]]},\"xaxis\":{\"gridcolor\":\"white\",\"linecolor\":\"white\",\"ticks\":\"\",\"title\":{\"standoff\":15},\"zerolinecolor\":\"white\",\"automargin\":true,\"zerolinewidth\":2},\"yaxis\":{\"gridcolor\":\"white\",\"linecolor\":\"white\",\"ticks\":\"\",\"title\":{\"standoff\":15},\"zerolinecolor\":\"white\",\"automargin\":true,\"zerolinewidth\":2},\"scene\":{\"xaxis\":{\"backgroundcolor\":\"#E5ECF6\",\"gridcolor\":\"white\",\"linecolor\":\"white\",\"showbackground\":true,\"ticks\":\"\",\"zerolinecolor\":\"white\",\"gridwidth\":2},\"yaxis\":{\"backgroundcolor\":\"#E5ECF6\",\"gridcolor\":\"white\",\"linecolor\":\"white\",\"showbackground\":true,\"ticks\":\"\",\"zerolinecolor\":\"white\",\"gridwidth\":2},\"zaxis\":{\"backgroundcolor\":\"#E5ECF6\",\"gridcolor\":\"white\",\"linecolor\":\"white\",\"showbackground\":true,\"ticks\":\"\",\"zerolinecolor\":\"white\",\"gridwidth\":2}},\"shapedefaults\":{\"line\":{\"color\":\"#2a3f5f\"}},\"annotationdefaults\":{\"arrowcolor\":\"#2a3f5f\",\"arrowhead\":0,\"arrowwidth\":1},\"geo\":{\"bgcolor\":\"white\",\"landcolor\":\"#E5ECF6\",\"subunitcolor\":\"white\",\"showland\":true,\"showlakes\":true,\"lakecolor\":\"white\"},\"title\":{\"x\":0.05},\"mapbox\":{\"style\":\"light\"}}},\"xaxis\":{\"anchor\":\"y\",\"domain\":[0.0,1.0],\"title\":{\"text\":\"Season - Team\"},\"tickangle\":-45},\"yaxis\":{\"anchor\":\"x\",\"domain\":[0.0,1.0],\"title\":{\"text\":\"Win Percentage\"}},\"coloraxis\":{\"colorbar\":{\"title\":{\"text\":\"Win Percentage\"}},\"colorscale\":[[0.0,\"#440154\"],[0.1111111111111111,\"#482878\"],[0.2222222222222222,\"#3e4989\"],[0.3333333333333333,\"#31688e\"],[0.4444444444444444,\"#26828e\"],[0.5555555555555556,\"#1f9e89\"],[0.6666666666666666,\"#35b779\"],[0.7777777777777778,\"#6ece58\"],[0.8888888888888888,\"#b5de2b\"],[1.0,\"#fde725\"]]},\"legend\":{\"tracegroupgap\":0},\"title\":{\"text\":\"Top 5 Best Win Percentages in IPL History\"},\"barmode\":\"relative\"},                        {\"responsive\": true}                    ).then(function(){\n",
       "                            \n",
       "var gd = document.getElementById('0a9d8860-6cf8-4dc0-b3fb-02377b10c0cb');\n",
       "var x = new MutationObserver(function (mutations, observer) {{\n",
       "        var display = window.getComputedStyle(gd).display;\n",
       "        if (!display || display === 'none') {{\n",
       "            console.log([gd, 'removed!']);\n",
       "            Plotly.purge(gd);\n",
       "            observer.disconnect();\n",
       "        }}\n",
       "}});\n",
       "\n",
       "// Listen for the removal of the full notebook cells\n",
       "var notebookContainer = gd.closest('#notebook-container');\n",
       "if (notebookContainer) {{\n",
       "    x.observe(notebookContainer, {childList: true});\n",
       "}}\n",
       "\n",
       "// Listen for the clearing of the current output cell\n",
       "var outputEl = gd.closest('.output');\n",
       "if (outputEl) {{\n",
       "    x.observe(outputEl, {childList: true});\n",
       "}}\n",
       "\n",
       "                        })                };                            </script>        </div>\n",
       "</body>\n",
       "</html>"
      ]
     },
     "metadata": {},
     "output_type": "display_data"
    }
   ],
   "source": [
    "import plotly.express as px\n",
    "\n",
    "# Find the best season for each team\n",
    "best_seasons = win_percentage_df.loc[win_percentage_df.groupby(\"team\")[\"win_percentage\"].idxmax()]\n",
    "\n",
    "# Sort by win percentage in descending order and take the top 5\n",
    "top_5_teams = best_seasons.sort_values(by=\"win_percentage\", ascending=False).head(5)\n",
    "\n",
    "# Combine season & team for better labeling\n",
    "top_5_teams[\"season_team\"] = top_5_teams[\"season\"].astype(str) + \" - \" + top_5_teams[\"team\"]\n",
    "\n",
    "# Plot\n",
    "fig = px.bar(top_5_teams,\n",
    "             x=\"season_team\",\n",
    "             y=\"win_percentage\",\n",
    "             text=\"win_percentage\",\n",
    "             labels={\"win_percentage\": \"Win Percentage\", \"season_team\": \"Season - Team\"},\n",
    "             title=\"Top 5 Best Win Percentages in IPL History\",\n",
    "             color=\"win_percentage\",\n",
    "             color_continuous_scale=\"viridis\")\n",
    "\n",
    "fig.update_traces(texttemplate='%{text:.2f}%', textposition='outside')  # Format text\n",
    "fig.update_layout(xaxis_tickangle=-45)  # Rotate x-axis labels\n",
    "\n",
    "fig.show()\n"
   ]
  },
  {
   "cell_type": "markdown",
   "id": "e1f0373f",
   "metadata": {
    "id": "4i4z-AOYvUnc",
    "papermill": {
     "duration": 0.0261,
     "end_time": "2025-03-14T14:33:13.900878",
     "exception": false,
     "start_time": "2025-03-14T14:33:13.874778",
     "status": "completed"
    },
    "tags": []
   },
   "source": [
    "### 🏅 Total Wins Per Team in IPL History"
   ]
  },
  {
   "cell_type": "code",
   "execution_count": 43,
   "id": "65e622f1",
   "metadata": {
    "execution": {
     "iopub.execute_input": "2025-03-14T14:33:13.955344Z",
     "iopub.status.busy": "2025-03-14T14:33:13.954986Z",
     "iopub.status.idle": "2025-03-14T14:33:14.042235Z",
     "shell.execute_reply": "2025-03-14T14:33:14.041320Z"
    },
    "id": "-df4NDcTyyFo",
    "outputId": "2ff20950-439b-4cac-d2a5-c3b2fec04865",
    "papermill": {
     "duration": 0.117597,
     "end_time": "2025-03-14T14:33:14.044787",
     "exception": false,
     "start_time": "2025-03-14T14:33:13.927190",
     "status": "completed"
    },
    "tags": []
   },
   "outputs": [
    {
     "data": {
      "text/html": [
       "<html>\n",
       "<head><meta charset=\"utf-8\" /></head>\n",
       "<body>\n",
       "    <div>            <script src=\"https://cdnjs.cloudflare.com/ajax/libs/mathjax/2.7.5/MathJax.js?config=TeX-AMS-MML_SVG\"></script><script type=\"text/javascript\">if (window.MathJax && window.MathJax.Hub && window.MathJax.Hub.Config) {window.MathJax.Hub.Config({SVG: {font: \"STIX-Web\"}});}</script>                <script type=\"text/javascript\">window.PlotlyConfig = {MathJaxConfig: 'local'};</script>\n",
       "        <script charset=\"utf-8\" src=\"https://cdn.plot.ly/plotly-2.35.2.min.js\"></script>                <div id=\"11a1f392-1a9c-441a-8a6e-5f37dd114dca\" class=\"plotly-graph-div\" style=\"height:525px; width:100%;\"></div>            <script type=\"text/javascript\">                                    window.PLOTLYENV=window.PLOTLYENV || {};                                    if (document.getElementById(\"11a1f392-1a9c-441a-8a6e-5f37dd114dca\")) {                    Plotly.newPlot(                        \"11a1f392-1a9c-441a-8a6e-5f37dd114dca\",                        [{\"alignmentgroup\":\"True\",\"hovertemplate\":\"Team=%{x}\\u003cbr\\u003eTotal Wins=%{marker.color}\\u003cextra\\u003e\\u003c\\u002fextra\\u003e\",\"legendgroup\":\"\",\"marker\":{\"color\":[144,138,131,116,112,88,88,67,48,29,28,24,24,13,12,10,7,6,5,5],\"coloraxis\":\"coloraxis\",\"pattern\":{\"shape\":\"\"}},\"name\":\"\",\"offsetgroup\":\"\",\"orientation\":\"v\",\"showlegend\":false,\"text\":[144.0,138.0,131.0,116.0,112.0,88.0,88.0,67.0,48.0,29.0,28.0,24.0,24.0,13.0,12.0,10.0,7.0,6.0,5.0,5.0],\"textposition\":\"outside\",\"x\":[\"Mumbai Indians\",\"Chennai Super Kings\",\"Kolkata Knight Riders\",\"Royal Challengers Bangalore\",\"Rajasthan Royals\",\"Sunrisers Hyderabad\",\"Kings XI Punjab\",\"Delhi Daredevils\",\"Delhi Capitals\",\"Deccan Chargers\",\"Gujarat Titans\",\"Lucknow Super Giants\",\"Punjab Kings\",\"Gujarat Lions\",\"Pune Warriors\",\"Rising Pune Supergiant\",\"Royal Challengers Bengaluru\",\"Kochi Tuskers Kerala\",\"Rising Pune Supergiants\",\"No Result\"],\"xaxis\":\"x\",\"y\":[144,138,131,116,112,88,88,67,48,29,28,24,24,13,12,10,7,6,5,5],\"yaxis\":\"y\",\"type\":\"bar\",\"texttemplate\":\"%{text}\"}],                        {\"template\":{\"data\":{\"histogram2dcontour\":[{\"type\":\"histogram2dcontour\",\"colorbar\":{\"outlinewidth\":0,\"ticks\":\"\"},\"colorscale\":[[0.0,\"#0d0887\"],[0.1111111111111111,\"#46039f\"],[0.2222222222222222,\"#7201a8\"],[0.3333333333333333,\"#9c179e\"],[0.4444444444444444,\"#bd3786\"],[0.5555555555555556,\"#d8576b\"],[0.6666666666666666,\"#ed7953\"],[0.7777777777777778,\"#fb9f3a\"],[0.8888888888888888,\"#fdca26\"],[1.0,\"#f0f921\"]]}],\"choropleth\":[{\"type\":\"choropleth\",\"colorbar\":{\"outlinewidth\":0,\"ticks\":\"\"}}],\"histogram2d\":[{\"type\":\"histogram2d\",\"colorbar\":{\"outlinewidth\":0,\"ticks\":\"\"},\"colorscale\":[[0.0,\"#0d0887\"],[0.1111111111111111,\"#46039f\"],[0.2222222222222222,\"#7201a8\"],[0.3333333333333333,\"#9c179e\"],[0.4444444444444444,\"#bd3786\"],[0.5555555555555556,\"#d8576b\"],[0.6666666666666666,\"#ed7953\"],[0.7777777777777778,\"#fb9f3a\"],[0.8888888888888888,\"#fdca26\"],[1.0,\"#f0f921\"]]}],\"heatmap\":[{\"type\":\"heatmap\",\"colorbar\":{\"outlinewidth\":0,\"ticks\":\"\"},\"colorscale\":[[0.0,\"#0d0887\"],[0.1111111111111111,\"#46039f\"],[0.2222222222222222,\"#7201a8\"],[0.3333333333333333,\"#9c179e\"],[0.4444444444444444,\"#bd3786\"],[0.5555555555555556,\"#d8576b\"],[0.6666666666666666,\"#ed7953\"],[0.7777777777777778,\"#fb9f3a\"],[0.8888888888888888,\"#fdca26\"],[1.0,\"#f0f921\"]]}],\"heatmapgl\":[{\"type\":\"heatmapgl\",\"colorbar\":{\"outlinewidth\":0,\"ticks\":\"\"},\"colorscale\":[[0.0,\"#0d0887\"],[0.1111111111111111,\"#46039f\"],[0.2222222222222222,\"#7201a8\"],[0.3333333333333333,\"#9c179e\"],[0.4444444444444444,\"#bd3786\"],[0.5555555555555556,\"#d8576b\"],[0.6666666666666666,\"#ed7953\"],[0.7777777777777778,\"#fb9f3a\"],[0.8888888888888888,\"#fdca26\"],[1.0,\"#f0f921\"]]}],\"contourcarpet\":[{\"type\":\"contourcarpet\",\"colorbar\":{\"outlinewidth\":0,\"ticks\":\"\"}}],\"contour\":[{\"type\":\"contour\",\"colorbar\":{\"outlinewidth\":0,\"ticks\":\"\"},\"colorscale\":[[0.0,\"#0d0887\"],[0.1111111111111111,\"#46039f\"],[0.2222222222222222,\"#7201a8\"],[0.3333333333333333,\"#9c179e\"],[0.4444444444444444,\"#bd3786\"],[0.5555555555555556,\"#d8576b\"],[0.6666666666666666,\"#ed7953\"],[0.7777777777777778,\"#fb9f3a\"],[0.8888888888888888,\"#fdca26\"],[1.0,\"#f0f921\"]]}],\"surface\":[{\"type\":\"surface\",\"colorbar\":{\"outlinewidth\":0,\"ticks\":\"\"},\"colorscale\":[[0.0,\"#0d0887\"],[0.1111111111111111,\"#46039f\"],[0.2222222222222222,\"#7201a8\"],[0.3333333333333333,\"#9c179e\"],[0.4444444444444444,\"#bd3786\"],[0.5555555555555556,\"#d8576b\"],[0.6666666666666666,\"#ed7953\"],[0.7777777777777778,\"#fb9f3a\"],[0.8888888888888888,\"#fdca26\"],[1.0,\"#f0f921\"]]}],\"mesh3d\":[{\"type\":\"mesh3d\",\"colorbar\":{\"outlinewidth\":0,\"ticks\":\"\"}}],\"scatter\":[{\"fillpattern\":{\"fillmode\":\"overlay\",\"size\":10,\"solidity\":0.2},\"type\":\"scatter\"}],\"parcoords\":[{\"type\":\"parcoords\",\"line\":{\"colorbar\":{\"outlinewidth\":0,\"ticks\":\"\"}}}],\"scatterpolargl\":[{\"type\":\"scatterpolargl\",\"marker\":{\"colorbar\":{\"outlinewidth\":0,\"ticks\":\"\"}}}],\"bar\":[{\"error_x\":{\"color\":\"#2a3f5f\"},\"error_y\":{\"color\":\"#2a3f5f\"},\"marker\":{\"line\":{\"color\":\"#E5ECF6\",\"width\":0.5},\"pattern\":{\"fillmode\":\"overlay\",\"size\":10,\"solidity\":0.2}},\"type\":\"bar\"}],\"scattergeo\":[{\"type\":\"scattergeo\",\"marker\":{\"colorbar\":{\"outlinewidth\":0,\"ticks\":\"\"}}}],\"scatterpolar\":[{\"type\":\"scatterpolar\",\"marker\":{\"colorbar\":{\"outlinewidth\":0,\"ticks\":\"\"}}}],\"histogram\":[{\"marker\":{\"pattern\":{\"fillmode\":\"overlay\",\"size\":10,\"solidity\":0.2}},\"type\":\"histogram\"}],\"scattergl\":[{\"type\":\"scattergl\",\"marker\":{\"colorbar\":{\"outlinewidth\":0,\"ticks\":\"\"}}}],\"scatter3d\":[{\"type\":\"scatter3d\",\"line\":{\"colorbar\":{\"outlinewidth\":0,\"ticks\":\"\"}},\"marker\":{\"colorbar\":{\"outlinewidth\":0,\"ticks\":\"\"}}}],\"scattermapbox\":[{\"type\":\"scattermapbox\",\"marker\":{\"colorbar\":{\"outlinewidth\":0,\"ticks\":\"\"}}}],\"scatterternary\":[{\"type\":\"scatterternary\",\"marker\":{\"colorbar\":{\"outlinewidth\":0,\"ticks\":\"\"}}}],\"scattercarpet\":[{\"type\":\"scattercarpet\",\"marker\":{\"colorbar\":{\"outlinewidth\":0,\"ticks\":\"\"}}}],\"carpet\":[{\"aaxis\":{\"endlinecolor\":\"#2a3f5f\",\"gridcolor\":\"white\",\"linecolor\":\"white\",\"minorgridcolor\":\"white\",\"startlinecolor\":\"#2a3f5f\"},\"baxis\":{\"endlinecolor\":\"#2a3f5f\",\"gridcolor\":\"white\",\"linecolor\":\"white\",\"minorgridcolor\":\"white\",\"startlinecolor\":\"#2a3f5f\"},\"type\":\"carpet\"}],\"table\":[{\"cells\":{\"fill\":{\"color\":\"#EBF0F8\"},\"line\":{\"color\":\"white\"}},\"header\":{\"fill\":{\"color\":\"#C8D4E3\"},\"line\":{\"color\":\"white\"}},\"type\":\"table\"}],\"barpolar\":[{\"marker\":{\"line\":{\"color\":\"#E5ECF6\",\"width\":0.5},\"pattern\":{\"fillmode\":\"overlay\",\"size\":10,\"solidity\":0.2}},\"type\":\"barpolar\"}],\"pie\":[{\"automargin\":true,\"type\":\"pie\"}]},\"layout\":{\"autotypenumbers\":\"strict\",\"colorway\":[\"#636efa\",\"#EF553B\",\"#00cc96\",\"#ab63fa\",\"#FFA15A\",\"#19d3f3\",\"#FF6692\",\"#B6E880\",\"#FF97FF\",\"#FECB52\"],\"font\":{\"color\":\"#2a3f5f\"},\"hovermode\":\"closest\",\"hoverlabel\":{\"align\":\"left\"},\"paper_bgcolor\":\"white\",\"plot_bgcolor\":\"#E5ECF6\",\"polar\":{\"bgcolor\":\"#E5ECF6\",\"angularaxis\":{\"gridcolor\":\"white\",\"linecolor\":\"white\",\"ticks\":\"\"},\"radialaxis\":{\"gridcolor\":\"white\",\"linecolor\":\"white\",\"ticks\":\"\"}},\"ternary\":{\"bgcolor\":\"#E5ECF6\",\"aaxis\":{\"gridcolor\":\"white\",\"linecolor\":\"white\",\"ticks\":\"\"},\"baxis\":{\"gridcolor\":\"white\",\"linecolor\":\"white\",\"ticks\":\"\"},\"caxis\":{\"gridcolor\":\"white\",\"linecolor\":\"white\",\"ticks\":\"\"}},\"coloraxis\":{\"colorbar\":{\"outlinewidth\":0,\"ticks\":\"\"}},\"colorscale\":{\"sequential\":[[0.0,\"#0d0887\"],[0.1111111111111111,\"#46039f\"],[0.2222222222222222,\"#7201a8\"],[0.3333333333333333,\"#9c179e\"],[0.4444444444444444,\"#bd3786\"],[0.5555555555555556,\"#d8576b\"],[0.6666666666666666,\"#ed7953\"],[0.7777777777777778,\"#fb9f3a\"],[0.8888888888888888,\"#fdca26\"],[1.0,\"#f0f921\"]],\"sequentialminus\":[[0.0,\"#0d0887\"],[0.1111111111111111,\"#46039f\"],[0.2222222222222222,\"#7201a8\"],[0.3333333333333333,\"#9c179e\"],[0.4444444444444444,\"#bd3786\"],[0.5555555555555556,\"#d8576b\"],[0.6666666666666666,\"#ed7953\"],[0.7777777777777778,\"#fb9f3a\"],[0.8888888888888888,\"#fdca26\"],[1.0,\"#f0f921\"]],\"diverging\":[[0,\"#8e0152\"],[0.1,\"#c51b7d\"],[0.2,\"#de77ae\"],[0.3,\"#f1b6da\"],[0.4,\"#fde0ef\"],[0.5,\"#f7f7f7\"],[0.6,\"#e6f5d0\"],[0.7,\"#b8e186\"],[0.8,\"#7fbc41\"],[0.9,\"#4d9221\"],[1,\"#276419\"]]},\"xaxis\":{\"gridcolor\":\"white\",\"linecolor\":\"white\",\"ticks\":\"\",\"title\":{\"standoff\":15},\"zerolinecolor\":\"white\",\"automargin\":true,\"zerolinewidth\":2},\"yaxis\":{\"gridcolor\":\"white\",\"linecolor\":\"white\",\"ticks\":\"\",\"title\":{\"standoff\":15},\"zerolinecolor\":\"white\",\"automargin\":true,\"zerolinewidth\":2},\"scene\":{\"xaxis\":{\"backgroundcolor\":\"#E5ECF6\",\"gridcolor\":\"white\",\"linecolor\":\"white\",\"showbackground\":true,\"ticks\":\"\",\"zerolinecolor\":\"white\",\"gridwidth\":2},\"yaxis\":{\"backgroundcolor\":\"#E5ECF6\",\"gridcolor\":\"white\",\"linecolor\":\"white\",\"showbackground\":true,\"ticks\":\"\",\"zerolinecolor\":\"white\",\"gridwidth\":2},\"zaxis\":{\"backgroundcolor\":\"#E5ECF6\",\"gridcolor\":\"white\",\"linecolor\":\"white\",\"showbackground\":true,\"ticks\":\"\",\"zerolinecolor\":\"white\",\"gridwidth\":2}},\"shapedefaults\":{\"line\":{\"color\":\"#2a3f5f\"}},\"annotationdefaults\":{\"arrowcolor\":\"#2a3f5f\",\"arrowhead\":0,\"arrowwidth\":1},\"geo\":{\"bgcolor\":\"white\",\"landcolor\":\"#E5ECF6\",\"subunitcolor\":\"white\",\"showland\":true,\"showlakes\":true,\"lakecolor\":\"white\"},\"title\":{\"x\":0.05},\"mapbox\":{\"style\":\"light\"}}},\"xaxis\":{\"anchor\":\"y\",\"domain\":[0.0,1.0],\"title\":{\"text\":\"Team\"},\"tickangle\":-45},\"yaxis\":{\"anchor\":\"x\",\"domain\":[0.0,1.0],\"title\":{\"text\":\"Total Wins\"}},\"coloraxis\":{\"colorbar\":{\"title\":{\"text\":\"Total Wins\"}},\"colorscale\":[[0.0,\"rgb(247,252,245)\"],[0.125,\"rgb(229,245,224)\"],[0.25,\"rgb(199,233,192)\"],[0.375,\"rgb(161,217,155)\"],[0.5,\"rgb(116,196,118)\"],[0.625,\"rgb(65,171,93)\"],[0.75,\"rgb(35,139,69)\"],[0.875,\"rgb(0,109,44)\"],[1.0,\"rgb(0,68,27)\"]]},\"legend\":{\"tracegroupgap\":0},\"title\":{\"text\":\"Total Wins Per Team in IPL History\"},\"barmode\":\"relative\"},                        {\"responsive\": true}                    ).then(function(){\n",
       "                            \n",
       "var gd = document.getElementById('11a1f392-1a9c-441a-8a6e-5f37dd114dca');\n",
       "var x = new MutationObserver(function (mutations, observer) {{\n",
       "        var display = window.getComputedStyle(gd).display;\n",
       "        if (!display || display === 'none') {{\n",
       "            console.log([gd, 'removed!']);\n",
       "            Plotly.purge(gd);\n",
       "            observer.disconnect();\n",
       "        }}\n",
       "}});\n",
       "\n",
       "// Listen for the removal of the full notebook cells\n",
       "var notebookContainer = gd.closest('#notebook-container');\n",
       "if (notebookContainer) {{\n",
       "    x.observe(notebookContainer, {childList: true});\n",
       "}}\n",
       "\n",
       "// Listen for the clearing of the current output cell\n",
       "var outputEl = gd.closest('.output');\n",
       "if (outputEl) {{\n",
       "    x.observe(outputEl, {childList: true});\n",
       "}}\n",
       "\n",
       "                        })                };                            </script>        </div>\n",
       "</body>\n",
       "</html>"
      ]
     },
     "metadata": {},
     "output_type": "display_data"
    }
   ],
   "source": [
    "import plotly.express as px\n",
    "\n",
    "# Compute total wins per team\n",
    "team_wins = df.groupby('winner')['match_id'].nunique().reset_index()\n",
    "team_wins.columns = ['team', 'total_wins']\n",
    "team_wins = team_wins.sort_values(by=\"total_wins\", ascending=False)\n",
    "\n",
    "# Plot\n",
    "fig = px.bar(team_wins,\n",
    "             x='team',\n",
    "             y='total_wins',\n",
    "             text='total_wins',\n",
    "             title='Total Wins Per Team in IPL History',\n",
    "             labels={'team': 'Team', 'total_wins': 'Total Wins'},\n",
    "             color='total_wins',\n",
    "             color_continuous_scale=\"greens\")\n",
    "\n",
    "fig.update_traces(texttemplate='%{text}', textposition='outside')  # Show exact values\n",
    "fig.update_layout(xaxis_tickangle=-45)  # Rotate x-axis labels for better visibility\n",
    "\n",
    "fig.show()\n"
   ]
  },
  {
   "cell_type": "markdown",
   "id": "53bff3a4",
   "metadata": {
    "id": "p-mo47uevUne",
    "papermill": {
     "duration": 0.030615,
     "end_time": "2025-03-14T14:33:14.112999",
     "exception": false,
     "start_time": "2025-03-14T14:33:14.082384",
     "status": "completed"
    },
    "tags": []
   },
   "source": [
    "### 🔥 Top 10 Death Overs Batsmen (Overs 16-20)  \n",
    "This visualization highlights the top 10 batsmen who have scored the most runs in the death overs (16-20)."
   ]
  },
  {
   "cell_type": "code",
   "execution_count": 44,
   "id": "790cee66",
   "metadata": {
    "execution": {
     "iopub.execute_input": "2025-03-14T14:33:14.178304Z",
     "iopub.status.busy": "2025-03-14T14:33:14.177830Z",
     "iopub.status.idle": "2025-03-14T14:33:14.270870Z",
     "shell.execute_reply": "2025-03-14T14:33:14.269659Z"
    },
    "id": "Hgj76pD6vUne",
    "outputId": "8a103960-aa89-4212-9173-2f51c54136aa",
    "papermill": {
     "duration": 0.126859,
     "end_time": "2025-03-14T14:33:14.272618",
     "exception": false,
     "start_time": "2025-03-14T14:33:14.145759",
     "status": "completed"
    },
    "tags": []
   },
   "outputs": [
    {
     "data": {
      "text/html": [
       "<html>\n",
       "<head><meta charset=\"utf-8\" /></head>\n",
       "<body>\n",
       "    <div>            <script src=\"https://cdnjs.cloudflare.com/ajax/libs/mathjax/2.7.5/MathJax.js?config=TeX-AMS-MML_SVG\"></script><script type=\"text/javascript\">if (window.MathJax && window.MathJax.Hub && window.MathJax.Hub.Config) {window.MathJax.Hub.Config({SVG: {font: \"STIX-Web\"}});}</script>                <script type=\"text/javascript\">window.PlotlyConfig = {MathJaxConfig: 'local'};</script>\n",
       "        <script charset=\"utf-8\" src=\"https://cdn.plot.ly/plotly-2.35.2.min.js\"></script>                <div id=\"90a3b854-ee22-4f3b-9013-3a20510e6fd3\" class=\"plotly-graph-div\" style=\"height:525px; width:100%;\"></div>            <script type=\"text/javascript\">                                    window.PLOTLYENV=window.PLOTLYENV || {};                                    if (document.getElementById(\"90a3b854-ee22-4f3b-9013-3a20510e6fd3\")) {                    Plotly.newPlot(                        \"90a3b854-ee22-4f3b-9013-3a20510e6fd3\",                        [{\"alignmentgroup\":\"True\",\"hovertemplate\":\"Batsman=%{x}\\u003cbr\\u003eTotal Runs=%{marker.color}\\u003cextra\\u003e\\u003c\\u002fextra\\u003e\",\"legendgroup\":\"\",\"marker\":{\"color\":[2786,1708,1565,1421,1420,1176,1126,1099,1065,988],\"coloraxis\":\"coloraxis\",\"pattern\":{\"shape\":\"\"}},\"name\":\"\",\"offsetgroup\":\"\",\"orientation\":\"v\",\"showlegend\":false,\"text\":[2786.0,1708.0,1565.0,1421.0,1420.0,1176.0,1126.0,1099.0,1065.0,988.0],\"textposition\":\"outside\",\"x\":[\"MS Dhoni\",\"KA Pollard\",\"KD Karthik\",\"AB de Villiers\",\"RA Jadeja\",\"RG Sharma\",\"HH Pandya\",\"V Kohli\",\"AD Russell\",\"DA Miller\"],\"xaxis\":\"x\",\"y\":[2786,1708,1565,1421,1420,1176,1126,1099,1065,988],\"yaxis\":\"y\",\"type\":\"bar\",\"texttemplate\":\"%{text}\"}],                        {\"template\":{\"data\":{\"histogram2dcontour\":[{\"type\":\"histogram2dcontour\",\"colorbar\":{\"outlinewidth\":0,\"ticks\":\"\"},\"colorscale\":[[0.0,\"#0d0887\"],[0.1111111111111111,\"#46039f\"],[0.2222222222222222,\"#7201a8\"],[0.3333333333333333,\"#9c179e\"],[0.4444444444444444,\"#bd3786\"],[0.5555555555555556,\"#d8576b\"],[0.6666666666666666,\"#ed7953\"],[0.7777777777777778,\"#fb9f3a\"],[0.8888888888888888,\"#fdca26\"],[1.0,\"#f0f921\"]]}],\"choropleth\":[{\"type\":\"choropleth\",\"colorbar\":{\"outlinewidth\":0,\"ticks\":\"\"}}],\"histogram2d\":[{\"type\":\"histogram2d\",\"colorbar\":{\"outlinewidth\":0,\"ticks\":\"\"},\"colorscale\":[[0.0,\"#0d0887\"],[0.1111111111111111,\"#46039f\"],[0.2222222222222222,\"#7201a8\"],[0.3333333333333333,\"#9c179e\"],[0.4444444444444444,\"#bd3786\"],[0.5555555555555556,\"#d8576b\"],[0.6666666666666666,\"#ed7953\"],[0.7777777777777778,\"#fb9f3a\"],[0.8888888888888888,\"#fdca26\"],[1.0,\"#f0f921\"]]}],\"heatmap\":[{\"type\":\"heatmap\",\"colorbar\":{\"outlinewidth\":0,\"ticks\":\"\"},\"colorscale\":[[0.0,\"#0d0887\"],[0.1111111111111111,\"#46039f\"],[0.2222222222222222,\"#7201a8\"],[0.3333333333333333,\"#9c179e\"],[0.4444444444444444,\"#bd3786\"],[0.5555555555555556,\"#d8576b\"],[0.6666666666666666,\"#ed7953\"],[0.7777777777777778,\"#fb9f3a\"],[0.8888888888888888,\"#fdca26\"],[1.0,\"#f0f921\"]]}],\"heatmapgl\":[{\"type\":\"heatmapgl\",\"colorbar\":{\"outlinewidth\":0,\"ticks\":\"\"},\"colorscale\":[[0.0,\"#0d0887\"],[0.1111111111111111,\"#46039f\"],[0.2222222222222222,\"#7201a8\"],[0.3333333333333333,\"#9c179e\"],[0.4444444444444444,\"#bd3786\"],[0.5555555555555556,\"#d8576b\"],[0.6666666666666666,\"#ed7953\"],[0.7777777777777778,\"#fb9f3a\"],[0.8888888888888888,\"#fdca26\"],[1.0,\"#f0f921\"]]}],\"contourcarpet\":[{\"type\":\"contourcarpet\",\"colorbar\":{\"outlinewidth\":0,\"ticks\":\"\"}}],\"contour\":[{\"type\":\"contour\",\"colorbar\":{\"outlinewidth\":0,\"ticks\":\"\"},\"colorscale\":[[0.0,\"#0d0887\"],[0.1111111111111111,\"#46039f\"],[0.2222222222222222,\"#7201a8\"],[0.3333333333333333,\"#9c179e\"],[0.4444444444444444,\"#bd3786\"],[0.5555555555555556,\"#d8576b\"],[0.6666666666666666,\"#ed7953\"],[0.7777777777777778,\"#fb9f3a\"],[0.8888888888888888,\"#fdca26\"],[1.0,\"#f0f921\"]]}],\"surface\":[{\"type\":\"surface\",\"colorbar\":{\"outlinewidth\":0,\"ticks\":\"\"},\"colorscale\":[[0.0,\"#0d0887\"],[0.1111111111111111,\"#46039f\"],[0.2222222222222222,\"#7201a8\"],[0.3333333333333333,\"#9c179e\"],[0.4444444444444444,\"#bd3786\"],[0.5555555555555556,\"#d8576b\"],[0.6666666666666666,\"#ed7953\"],[0.7777777777777778,\"#fb9f3a\"],[0.8888888888888888,\"#fdca26\"],[1.0,\"#f0f921\"]]}],\"mesh3d\":[{\"type\":\"mesh3d\",\"colorbar\":{\"outlinewidth\":0,\"ticks\":\"\"}}],\"scatter\":[{\"fillpattern\":{\"fillmode\":\"overlay\",\"size\":10,\"solidity\":0.2},\"type\":\"scatter\"}],\"parcoords\":[{\"type\":\"parcoords\",\"line\":{\"colorbar\":{\"outlinewidth\":0,\"ticks\":\"\"}}}],\"scatterpolargl\":[{\"type\":\"scatterpolargl\",\"marker\":{\"colorbar\":{\"outlinewidth\":0,\"ticks\":\"\"}}}],\"bar\":[{\"error_x\":{\"color\":\"#2a3f5f\"},\"error_y\":{\"color\":\"#2a3f5f\"},\"marker\":{\"line\":{\"color\":\"#E5ECF6\",\"width\":0.5},\"pattern\":{\"fillmode\":\"overlay\",\"size\":10,\"solidity\":0.2}},\"type\":\"bar\"}],\"scattergeo\":[{\"type\":\"scattergeo\",\"marker\":{\"colorbar\":{\"outlinewidth\":0,\"ticks\":\"\"}}}],\"scatterpolar\":[{\"type\":\"scatterpolar\",\"marker\":{\"colorbar\":{\"outlinewidth\":0,\"ticks\":\"\"}}}],\"histogram\":[{\"marker\":{\"pattern\":{\"fillmode\":\"overlay\",\"size\":10,\"solidity\":0.2}},\"type\":\"histogram\"}],\"scattergl\":[{\"type\":\"scattergl\",\"marker\":{\"colorbar\":{\"outlinewidth\":0,\"ticks\":\"\"}}}],\"scatter3d\":[{\"type\":\"scatter3d\",\"line\":{\"colorbar\":{\"outlinewidth\":0,\"ticks\":\"\"}},\"marker\":{\"colorbar\":{\"outlinewidth\":0,\"ticks\":\"\"}}}],\"scattermapbox\":[{\"type\":\"scattermapbox\",\"marker\":{\"colorbar\":{\"outlinewidth\":0,\"ticks\":\"\"}}}],\"scatterternary\":[{\"type\":\"scatterternary\",\"marker\":{\"colorbar\":{\"outlinewidth\":0,\"ticks\":\"\"}}}],\"scattercarpet\":[{\"type\":\"scattercarpet\",\"marker\":{\"colorbar\":{\"outlinewidth\":0,\"ticks\":\"\"}}}],\"carpet\":[{\"aaxis\":{\"endlinecolor\":\"#2a3f5f\",\"gridcolor\":\"white\",\"linecolor\":\"white\",\"minorgridcolor\":\"white\",\"startlinecolor\":\"#2a3f5f\"},\"baxis\":{\"endlinecolor\":\"#2a3f5f\",\"gridcolor\":\"white\",\"linecolor\":\"white\",\"minorgridcolor\":\"white\",\"startlinecolor\":\"#2a3f5f\"},\"type\":\"carpet\"}],\"table\":[{\"cells\":{\"fill\":{\"color\":\"#EBF0F8\"},\"line\":{\"color\":\"white\"}},\"header\":{\"fill\":{\"color\":\"#C8D4E3\"},\"line\":{\"color\":\"white\"}},\"type\":\"table\"}],\"barpolar\":[{\"marker\":{\"line\":{\"color\":\"#E5ECF6\",\"width\":0.5},\"pattern\":{\"fillmode\":\"overlay\",\"size\":10,\"solidity\":0.2}},\"type\":\"barpolar\"}],\"pie\":[{\"automargin\":true,\"type\":\"pie\"}]},\"layout\":{\"autotypenumbers\":\"strict\",\"colorway\":[\"#636efa\",\"#EF553B\",\"#00cc96\",\"#ab63fa\",\"#FFA15A\",\"#19d3f3\",\"#FF6692\",\"#B6E880\",\"#FF97FF\",\"#FECB52\"],\"font\":{\"color\":\"#2a3f5f\"},\"hovermode\":\"closest\",\"hoverlabel\":{\"align\":\"left\"},\"paper_bgcolor\":\"white\",\"plot_bgcolor\":\"#E5ECF6\",\"polar\":{\"bgcolor\":\"#E5ECF6\",\"angularaxis\":{\"gridcolor\":\"white\",\"linecolor\":\"white\",\"ticks\":\"\"},\"radialaxis\":{\"gridcolor\":\"white\",\"linecolor\":\"white\",\"ticks\":\"\"}},\"ternary\":{\"bgcolor\":\"#E5ECF6\",\"aaxis\":{\"gridcolor\":\"white\",\"linecolor\":\"white\",\"ticks\":\"\"},\"baxis\":{\"gridcolor\":\"white\",\"linecolor\":\"white\",\"ticks\":\"\"},\"caxis\":{\"gridcolor\":\"white\",\"linecolor\":\"white\",\"ticks\":\"\"}},\"coloraxis\":{\"colorbar\":{\"outlinewidth\":0,\"ticks\":\"\"}},\"colorscale\":{\"sequential\":[[0.0,\"#0d0887\"],[0.1111111111111111,\"#46039f\"],[0.2222222222222222,\"#7201a8\"],[0.3333333333333333,\"#9c179e\"],[0.4444444444444444,\"#bd3786\"],[0.5555555555555556,\"#d8576b\"],[0.6666666666666666,\"#ed7953\"],[0.7777777777777778,\"#fb9f3a\"],[0.8888888888888888,\"#fdca26\"],[1.0,\"#f0f921\"]],\"sequentialminus\":[[0.0,\"#0d0887\"],[0.1111111111111111,\"#46039f\"],[0.2222222222222222,\"#7201a8\"],[0.3333333333333333,\"#9c179e\"],[0.4444444444444444,\"#bd3786\"],[0.5555555555555556,\"#d8576b\"],[0.6666666666666666,\"#ed7953\"],[0.7777777777777778,\"#fb9f3a\"],[0.8888888888888888,\"#fdca26\"],[1.0,\"#f0f921\"]],\"diverging\":[[0,\"#8e0152\"],[0.1,\"#c51b7d\"],[0.2,\"#de77ae\"],[0.3,\"#f1b6da\"],[0.4,\"#fde0ef\"],[0.5,\"#f7f7f7\"],[0.6,\"#e6f5d0\"],[0.7,\"#b8e186\"],[0.8,\"#7fbc41\"],[0.9,\"#4d9221\"],[1,\"#276419\"]]},\"xaxis\":{\"gridcolor\":\"white\",\"linecolor\":\"white\",\"ticks\":\"\",\"title\":{\"standoff\":15},\"zerolinecolor\":\"white\",\"automargin\":true,\"zerolinewidth\":2},\"yaxis\":{\"gridcolor\":\"white\",\"linecolor\":\"white\",\"ticks\":\"\",\"title\":{\"standoff\":15},\"zerolinecolor\":\"white\",\"automargin\":true,\"zerolinewidth\":2},\"scene\":{\"xaxis\":{\"backgroundcolor\":\"#E5ECF6\",\"gridcolor\":\"white\",\"linecolor\":\"white\",\"showbackground\":true,\"ticks\":\"\",\"zerolinecolor\":\"white\",\"gridwidth\":2},\"yaxis\":{\"backgroundcolor\":\"#E5ECF6\",\"gridcolor\":\"white\",\"linecolor\":\"white\",\"showbackground\":true,\"ticks\":\"\",\"zerolinecolor\":\"white\",\"gridwidth\":2},\"zaxis\":{\"backgroundcolor\":\"#E5ECF6\",\"gridcolor\":\"white\",\"linecolor\":\"white\",\"showbackground\":true,\"ticks\":\"\",\"zerolinecolor\":\"white\",\"gridwidth\":2}},\"shapedefaults\":{\"line\":{\"color\":\"#2a3f5f\"}},\"annotationdefaults\":{\"arrowcolor\":\"#2a3f5f\",\"arrowhead\":0,\"arrowwidth\":1},\"geo\":{\"bgcolor\":\"white\",\"landcolor\":\"#E5ECF6\",\"subunitcolor\":\"white\",\"showland\":true,\"showlakes\":true,\"lakecolor\":\"white\"},\"title\":{\"x\":0.05},\"mapbox\":{\"style\":\"light\"}}},\"xaxis\":{\"anchor\":\"y\",\"domain\":[0.0,1.0],\"title\":{\"text\":\"Batsman\"},\"tickangle\":-45},\"yaxis\":{\"anchor\":\"x\",\"domain\":[0.0,1.0],\"title\":{\"text\":\"Total Runs\"}},\"coloraxis\":{\"colorbar\":{\"title\":{\"text\":\"Total Runs\"}},\"colorscale\":[[0.0,\"#000004\"],[0.1111111111111111,\"#180f3d\"],[0.2222222222222222,\"#440f76\"],[0.3333333333333333,\"#721f81\"],[0.4444444444444444,\"#9e2f7f\"],[0.5555555555555556,\"#cd4071\"],[0.6666666666666666,\"#f1605d\"],[0.7777777777777778,\"#fd9668\"],[0.8888888888888888,\"#feca8d\"],[1.0,\"#fcfdbf\"]]},\"legend\":{\"tracegroupgap\":0},\"title\":{\"text\":\"Top 10 Death Overs Batsmen (Overs 16-20)\"},\"barmode\":\"relative\"},                        {\"responsive\": true}                    ).then(function(){\n",
       "                            \n",
       "var gd = document.getElementById('90a3b854-ee22-4f3b-9013-3a20510e6fd3');\n",
       "var x = new MutationObserver(function (mutations, observer) {{\n",
       "        var display = window.getComputedStyle(gd).display;\n",
       "        if (!display || display === 'none') {{\n",
       "            console.log([gd, 'removed!']);\n",
       "            Plotly.purge(gd);\n",
       "            observer.disconnect();\n",
       "        }}\n",
       "}});\n",
       "\n",
       "// Listen for the removal of the full notebook cells\n",
       "var notebookContainer = gd.closest('#notebook-container');\n",
       "if (notebookContainer) {{\n",
       "    x.observe(notebookContainer, {childList: true});\n",
       "}}\n",
       "\n",
       "// Listen for the clearing of the current output cell\n",
       "var outputEl = gd.closest('.output');\n",
       "if (outputEl) {{\n",
       "    x.observe(outputEl, {childList: true});\n",
       "}}\n",
       "\n",
       "                        })                };                            </script>        </div>\n",
       "</body>\n",
       "</html>"
      ]
     },
     "metadata": {},
     "output_type": "display_data"
    }
   ],
   "source": [
    "import plotly.express as px\n",
    "\n",
    "# Calculate total runs scored in overs 16-20\n",
    "last_over = df[df['over'] >= 16].groupby('batter')['batsman_runs'].sum().reset_index()\n",
    "last_over = last_over.sort_values(by=\"batsman_runs\", ascending=False).head(10)\n",
    "\n",
    "# Plot\n",
    "fig = px.bar(last_over,\n",
    "             x='batter',\n",
    "             y='batsman_runs',\n",
    "             text='batsman_runs',\n",
    "             title=\"Top 10 Death Overs Batsmen (Overs 16-20)\",\n",
    "             labels={'batter': 'Batsman', 'batsman_runs': 'Total Runs'},\n",
    "             color='batsman_runs',\n",
    "             color_continuous_scale=\"magma\")\n",
    "\n",
    "fig.update_traces(texttemplate='%{text}', textposition='outside')  # Show exact values\n",
    "fig.update_layout(xaxis_tickangle=-45)  # Rotate x-axis labels for better readability\n",
    "\n",
    "fig.show()\n"
   ]
  },
  {
   "cell_type": "markdown",
   "id": "5c4048f3",
   "metadata": {
    "id": "HTdpxu0cvUne",
    "papermill": {
     "duration": 0.028449,
     "end_time": "2025-03-14T14:33:14.329945",
     "exception": false,
     "start_time": "2025-03-14T14:33:14.301496",
     "status": "completed"
    },
    "tags": []
   },
   "source": [
    "### 🏏 Batting First vs Chasing Success Rate  \n",
    "This pie chart illustrates the proportion of wins achieved by teams batting first versus chasing. It provides insights into which strategy has been historically more successful."
   ]
  },
  {
   "cell_type": "code",
   "execution_count": 45,
   "id": "c9eb1d50",
   "metadata": {
    "execution": {
     "iopub.execute_input": "2025-03-14T14:33:14.390030Z",
     "iopub.status.busy": "2025-03-14T14:33:14.389437Z",
     "iopub.status.idle": "2025-03-14T14:33:14.457177Z",
     "shell.execute_reply": "2025-03-14T14:33:14.455735Z"
    },
    "id": "kP7ZO049vUnf",
    "outputId": "6adc6c5e-c9d8-4106-95e5-9f236ab87f12",
    "papermill": {
     "duration": 0.100522,
     "end_time": "2025-03-14T14:33:14.459403",
     "exception": false,
     "start_time": "2025-03-14T14:33:14.358881",
     "status": "completed"
    },
    "tags": []
   },
   "outputs": [
    {
     "data": {
      "text/html": [
       "<html>\n",
       "<head><meta charset=\"utf-8\" /></head>\n",
       "<body>\n",
       "    <div>            <script src=\"https://cdnjs.cloudflare.com/ajax/libs/mathjax/2.7.5/MathJax.js?config=TeX-AMS-MML_SVG\"></script><script type=\"text/javascript\">if (window.MathJax && window.MathJax.Hub && window.MathJax.Hub.Config) {window.MathJax.Hub.Config({SVG: {font: \"STIX-Web\"}});}</script>                <script type=\"text/javascript\">window.PlotlyConfig = {MathJaxConfig: 'local'};</script>\n",
       "        <script charset=\"utf-8\" src=\"https://cdn.plot.ly/plotly-2.35.2.min.js\"></script>                <div id=\"3f6620d4-4f7d-438a-b8b6-00266c1dfb1a\" class=\"plotly-graph-div\" style=\"height:525px; width:100%;\"></div>            <script type=\"text/javascript\">                                    window.PLOTLYENV=window.PLOTLYENV || {};                                    if (document.getElementById(\"3f6620d4-4f7d-438a-b8b6-00266c1dfb1a\")) {                    Plotly.newPlot(                        \"3f6620d4-4f7d-438a-b8b6-00266c1dfb1a\",                        [{\"customdata\":[[\"Batting First Wins\"],[\"Chasing Wins\"]],\"domain\":{\"x\":[0.0,1.0],\"y\":[0.0,1.0]},\"hole\":0.3,\"hovertemplate\":\"Result=%{customdata[0]}\\u003cbr\\u003eCount=%{value}\\u003cextra\\u003e\\u003c\\u002fextra\\u003e\",\"labels\":[\"Batting First Wins\",\"Chasing Wins\"],\"legendgroup\":\"\",\"marker\":{\"colors\":[\"blue\",\"orange\"]},\"name\":\"\",\"showlegend\":true,\"values\":[498,578],\"type\":\"pie\",\"textinfo\":\"percent+label\"}],                        {\"template\":{\"data\":{\"histogram2dcontour\":[{\"type\":\"histogram2dcontour\",\"colorbar\":{\"outlinewidth\":0,\"ticks\":\"\"},\"colorscale\":[[0.0,\"#0d0887\"],[0.1111111111111111,\"#46039f\"],[0.2222222222222222,\"#7201a8\"],[0.3333333333333333,\"#9c179e\"],[0.4444444444444444,\"#bd3786\"],[0.5555555555555556,\"#d8576b\"],[0.6666666666666666,\"#ed7953\"],[0.7777777777777778,\"#fb9f3a\"],[0.8888888888888888,\"#fdca26\"],[1.0,\"#f0f921\"]]}],\"choropleth\":[{\"type\":\"choropleth\",\"colorbar\":{\"outlinewidth\":0,\"ticks\":\"\"}}],\"histogram2d\":[{\"type\":\"histogram2d\",\"colorbar\":{\"outlinewidth\":0,\"ticks\":\"\"},\"colorscale\":[[0.0,\"#0d0887\"],[0.1111111111111111,\"#46039f\"],[0.2222222222222222,\"#7201a8\"],[0.3333333333333333,\"#9c179e\"],[0.4444444444444444,\"#bd3786\"],[0.5555555555555556,\"#d8576b\"],[0.6666666666666666,\"#ed7953\"],[0.7777777777777778,\"#fb9f3a\"],[0.8888888888888888,\"#fdca26\"],[1.0,\"#f0f921\"]]}],\"heatmap\":[{\"type\":\"heatmap\",\"colorbar\":{\"outlinewidth\":0,\"ticks\":\"\"},\"colorscale\":[[0.0,\"#0d0887\"],[0.1111111111111111,\"#46039f\"],[0.2222222222222222,\"#7201a8\"],[0.3333333333333333,\"#9c179e\"],[0.4444444444444444,\"#bd3786\"],[0.5555555555555556,\"#d8576b\"],[0.6666666666666666,\"#ed7953\"],[0.7777777777777778,\"#fb9f3a\"],[0.8888888888888888,\"#fdca26\"],[1.0,\"#f0f921\"]]}],\"heatmapgl\":[{\"type\":\"heatmapgl\",\"colorbar\":{\"outlinewidth\":0,\"ticks\":\"\"},\"colorscale\":[[0.0,\"#0d0887\"],[0.1111111111111111,\"#46039f\"],[0.2222222222222222,\"#7201a8\"],[0.3333333333333333,\"#9c179e\"],[0.4444444444444444,\"#bd3786\"],[0.5555555555555556,\"#d8576b\"],[0.6666666666666666,\"#ed7953\"],[0.7777777777777778,\"#fb9f3a\"],[0.8888888888888888,\"#fdca26\"],[1.0,\"#f0f921\"]]}],\"contourcarpet\":[{\"type\":\"contourcarpet\",\"colorbar\":{\"outlinewidth\":0,\"ticks\":\"\"}}],\"contour\":[{\"type\":\"contour\",\"colorbar\":{\"outlinewidth\":0,\"ticks\":\"\"},\"colorscale\":[[0.0,\"#0d0887\"],[0.1111111111111111,\"#46039f\"],[0.2222222222222222,\"#7201a8\"],[0.3333333333333333,\"#9c179e\"],[0.4444444444444444,\"#bd3786\"],[0.5555555555555556,\"#d8576b\"],[0.6666666666666666,\"#ed7953\"],[0.7777777777777778,\"#fb9f3a\"],[0.8888888888888888,\"#fdca26\"],[1.0,\"#f0f921\"]]}],\"surface\":[{\"type\":\"surface\",\"colorbar\":{\"outlinewidth\":0,\"ticks\":\"\"},\"colorscale\":[[0.0,\"#0d0887\"],[0.1111111111111111,\"#46039f\"],[0.2222222222222222,\"#7201a8\"],[0.3333333333333333,\"#9c179e\"],[0.4444444444444444,\"#bd3786\"],[0.5555555555555556,\"#d8576b\"],[0.6666666666666666,\"#ed7953\"],[0.7777777777777778,\"#fb9f3a\"],[0.8888888888888888,\"#fdca26\"],[1.0,\"#f0f921\"]]}],\"mesh3d\":[{\"type\":\"mesh3d\",\"colorbar\":{\"outlinewidth\":0,\"ticks\":\"\"}}],\"scatter\":[{\"fillpattern\":{\"fillmode\":\"overlay\",\"size\":10,\"solidity\":0.2},\"type\":\"scatter\"}],\"parcoords\":[{\"type\":\"parcoords\",\"line\":{\"colorbar\":{\"outlinewidth\":0,\"ticks\":\"\"}}}],\"scatterpolargl\":[{\"type\":\"scatterpolargl\",\"marker\":{\"colorbar\":{\"outlinewidth\":0,\"ticks\":\"\"}}}],\"bar\":[{\"error_x\":{\"color\":\"#2a3f5f\"},\"error_y\":{\"color\":\"#2a3f5f\"},\"marker\":{\"line\":{\"color\":\"#E5ECF6\",\"width\":0.5},\"pattern\":{\"fillmode\":\"overlay\",\"size\":10,\"solidity\":0.2}},\"type\":\"bar\"}],\"scattergeo\":[{\"type\":\"scattergeo\",\"marker\":{\"colorbar\":{\"outlinewidth\":0,\"ticks\":\"\"}}}],\"scatterpolar\":[{\"type\":\"scatterpolar\",\"marker\":{\"colorbar\":{\"outlinewidth\":0,\"ticks\":\"\"}}}],\"histogram\":[{\"marker\":{\"pattern\":{\"fillmode\":\"overlay\",\"size\":10,\"solidity\":0.2}},\"type\":\"histogram\"}],\"scattergl\":[{\"type\":\"scattergl\",\"marker\":{\"colorbar\":{\"outlinewidth\":0,\"ticks\":\"\"}}}],\"scatter3d\":[{\"type\":\"scatter3d\",\"line\":{\"colorbar\":{\"outlinewidth\":0,\"ticks\":\"\"}},\"marker\":{\"colorbar\":{\"outlinewidth\":0,\"ticks\":\"\"}}}],\"scattermapbox\":[{\"type\":\"scattermapbox\",\"marker\":{\"colorbar\":{\"outlinewidth\":0,\"ticks\":\"\"}}}],\"scatterternary\":[{\"type\":\"scatterternary\",\"marker\":{\"colorbar\":{\"outlinewidth\":0,\"ticks\":\"\"}}}],\"scattercarpet\":[{\"type\":\"scattercarpet\",\"marker\":{\"colorbar\":{\"outlinewidth\":0,\"ticks\":\"\"}}}],\"carpet\":[{\"aaxis\":{\"endlinecolor\":\"#2a3f5f\",\"gridcolor\":\"white\",\"linecolor\":\"white\",\"minorgridcolor\":\"white\",\"startlinecolor\":\"#2a3f5f\"},\"baxis\":{\"endlinecolor\":\"#2a3f5f\",\"gridcolor\":\"white\",\"linecolor\":\"white\",\"minorgridcolor\":\"white\",\"startlinecolor\":\"#2a3f5f\"},\"type\":\"carpet\"}],\"table\":[{\"cells\":{\"fill\":{\"color\":\"#EBF0F8\"},\"line\":{\"color\":\"white\"}},\"header\":{\"fill\":{\"color\":\"#C8D4E3\"},\"line\":{\"color\":\"white\"}},\"type\":\"table\"}],\"barpolar\":[{\"marker\":{\"line\":{\"color\":\"#E5ECF6\",\"width\":0.5},\"pattern\":{\"fillmode\":\"overlay\",\"size\":10,\"solidity\":0.2}},\"type\":\"barpolar\"}],\"pie\":[{\"automargin\":true,\"type\":\"pie\"}]},\"layout\":{\"autotypenumbers\":\"strict\",\"colorway\":[\"#636efa\",\"#EF553B\",\"#00cc96\",\"#ab63fa\",\"#FFA15A\",\"#19d3f3\",\"#FF6692\",\"#B6E880\",\"#FF97FF\",\"#FECB52\"],\"font\":{\"color\":\"#2a3f5f\"},\"hovermode\":\"closest\",\"hoverlabel\":{\"align\":\"left\"},\"paper_bgcolor\":\"white\",\"plot_bgcolor\":\"#E5ECF6\",\"polar\":{\"bgcolor\":\"#E5ECF6\",\"angularaxis\":{\"gridcolor\":\"white\",\"linecolor\":\"white\",\"ticks\":\"\"},\"radialaxis\":{\"gridcolor\":\"white\",\"linecolor\":\"white\",\"ticks\":\"\"}},\"ternary\":{\"bgcolor\":\"#E5ECF6\",\"aaxis\":{\"gridcolor\":\"white\",\"linecolor\":\"white\",\"ticks\":\"\"},\"baxis\":{\"gridcolor\":\"white\",\"linecolor\":\"white\",\"ticks\":\"\"},\"caxis\":{\"gridcolor\":\"white\",\"linecolor\":\"white\",\"ticks\":\"\"}},\"coloraxis\":{\"colorbar\":{\"outlinewidth\":0,\"ticks\":\"\"}},\"colorscale\":{\"sequential\":[[0.0,\"#0d0887\"],[0.1111111111111111,\"#46039f\"],[0.2222222222222222,\"#7201a8\"],[0.3333333333333333,\"#9c179e\"],[0.4444444444444444,\"#bd3786\"],[0.5555555555555556,\"#d8576b\"],[0.6666666666666666,\"#ed7953\"],[0.7777777777777778,\"#fb9f3a\"],[0.8888888888888888,\"#fdca26\"],[1.0,\"#f0f921\"]],\"sequentialminus\":[[0.0,\"#0d0887\"],[0.1111111111111111,\"#46039f\"],[0.2222222222222222,\"#7201a8\"],[0.3333333333333333,\"#9c179e\"],[0.4444444444444444,\"#bd3786\"],[0.5555555555555556,\"#d8576b\"],[0.6666666666666666,\"#ed7953\"],[0.7777777777777778,\"#fb9f3a\"],[0.8888888888888888,\"#fdca26\"],[1.0,\"#f0f921\"]],\"diverging\":[[0,\"#8e0152\"],[0.1,\"#c51b7d\"],[0.2,\"#de77ae\"],[0.3,\"#f1b6da\"],[0.4,\"#fde0ef\"],[0.5,\"#f7f7f7\"],[0.6,\"#e6f5d0\"],[0.7,\"#b8e186\"],[0.8,\"#7fbc41\"],[0.9,\"#4d9221\"],[1,\"#276419\"]]},\"xaxis\":{\"gridcolor\":\"white\",\"linecolor\":\"white\",\"ticks\":\"\",\"title\":{\"standoff\":15},\"zerolinecolor\":\"white\",\"automargin\":true,\"zerolinewidth\":2},\"yaxis\":{\"gridcolor\":\"white\",\"linecolor\":\"white\",\"ticks\":\"\",\"title\":{\"standoff\":15},\"zerolinecolor\":\"white\",\"automargin\":true,\"zerolinewidth\":2},\"scene\":{\"xaxis\":{\"backgroundcolor\":\"#E5ECF6\",\"gridcolor\":\"white\",\"linecolor\":\"white\",\"showbackground\":true,\"ticks\":\"\",\"zerolinecolor\":\"white\",\"gridwidth\":2},\"yaxis\":{\"backgroundcolor\":\"#E5ECF6\",\"gridcolor\":\"white\",\"linecolor\":\"white\",\"showbackground\":true,\"ticks\":\"\",\"zerolinecolor\":\"white\",\"gridwidth\":2},\"zaxis\":{\"backgroundcolor\":\"#E5ECF6\",\"gridcolor\":\"white\",\"linecolor\":\"white\",\"showbackground\":true,\"ticks\":\"\",\"zerolinecolor\":\"white\",\"gridwidth\":2}},\"shapedefaults\":{\"line\":{\"color\":\"#2a3f5f\"}},\"annotationdefaults\":{\"arrowcolor\":\"#2a3f5f\",\"arrowhead\":0,\"arrowwidth\":1},\"geo\":{\"bgcolor\":\"white\",\"landcolor\":\"#E5ECF6\",\"subunitcolor\":\"white\",\"showland\":true,\"showlakes\":true,\"lakecolor\":\"white\"},\"title\":{\"x\":0.05},\"mapbox\":{\"style\":\"light\"}}},\"legend\":{\"tracegroupgap\":0},\"title\":{\"text\":\"Batting First vs Chasing Success Rate\"}},                        {\"responsive\": true}                    ).then(function(){\n",
       "                            \n",
       "var gd = document.getElementById('3f6620d4-4f7d-438a-b8b6-00266c1dfb1a');\n",
       "var x = new MutationObserver(function (mutations, observer) {{\n",
       "        var display = window.getComputedStyle(gd).display;\n",
       "        if (!display || display === 'none') {{\n",
       "            console.log([gd, 'removed!']);\n",
       "            Plotly.purge(gd);\n",
       "            observer.disconnect();\n",
       "        }}\n",
       "}});\n",
       "\n",
       "// Listen for the removal of the full notebook cells\n",
       "var notebookContainer = gd.closest('#notebook-container');\n",
       "if (notebookContainer) {{\n",
       "    x.observe(notebookContainer, {childList: true});\n",
       "}}\n",
       "\n",
       "// Listen for the clearing of the current output cell\n",
       "var outputEl = gd.closest('.output');\n",
       "if (outputEl) {{\n",
       "    x.observe(outputEl, {childList: true});\n",
       "}}\n",
       "\n",
       "                        })                };                            </script>        </div>\n",
       "</body>\n",
       "</html>"
      ]
     },
     "metadata": {},
     "output_type": "display_data"
    }
   ],
   "source": [
    "import plotly.express as px\n",
    "\n",
    "# Count wins based on match result\n",
    "bat_first_win = matches[matches['result'] == \"runs\"].shape[0]\n",
    "chase_win = matches[matches['result'] == \"wickets\"].shape[0]\n",
    "\n",
    "# Data for plotting\n",
    "win_data = pd.DataFrame({\n",
    "    \"Result\": [\"Batting First Wins\", \"Chasing Wins\"],\n",
    "    \"Count\": [bat_first_win, chase_win]\n",
    "})\n",
    "\n",
    "# Plot\n",
    "fig = px.pie(win_data,\n",
    "             names=\"Result\",\n",
    "             values=\"Count\",\n",
    "             title=\"Batting First vs Chasing Success Rate\",\n",
    "             color=\"Result\",\n",
    "             color_discrete_map={\"Batting First Wins\": \"blue\", \"Chasing Wins\": \"orange\"},\n",
    "             hole=0.3)  # Donut style\n",
    "\n",
    "fig.update_traces(textinfo=\"percent+label\")  # Show percentage & labels\n",
    "fig.show()\n"
   ]
  },
  {
   "cell_type": "markdown",
   "id": "f0f788ab",
   "metadata": {
    "id": "GOVs5PxVvUnf",
    "papermill": {
     "duration": 0.061004,
     "end_time": "2025-03-14T14:33:14.553461",
     "exception": false,
     "start_time": "2025-03-14T14:33:14.492457",
     "status": "completed"
    },
    "tags": []
   },
   "source": [
    "### 📊 Total Matches Played Per Season"
   ]
  },
  {
   "cell_type": "code",
   "execution_count": 46,
   "id": "bc0555e7",
   "metadata": {
    "execution": {
     "iopub.execute_input": "2025-03-14T14:33:14.629183Z",
     "iopub.status.busy": "2025-03-14T14:33:14.628769Z",
     "iopub.status.idle": "2025-03-14T14:33:15.206359Z",
     "shell.execute_reply": "2025-03-14T14:33:15.205183Z"
    },
    "id": "WEPnqFhzwXmF",
    "outputId": "d05eca9d-42ed-4ed1-e946-a61955dcc426",
    "papermill": {
     "duration": 0.613091,
     "end_time": "2025-03-14T14:33:15.208360",
     "exception": false,
     "start_time": "2025-03-14T14:33:14.595269",
     "status": "completed"
    },
    "tags": []
   },
   "outputs": [
    {
     "data": {
      "image/png": "[encoded data removed]",
      "text/plain": [
       "<Figure size 1200x600 with 1 Axes>"
      ]
     },
     "metadata": {},
     "output_type": "display_data"
    }
   ],
   "source": [
    "plt.figure(figsize=(12,6))\n",
    "sns.barplot(x=df.groupby('season')['id'].nunique().index,\n",
    "            y=df.groupby('season')['id'].nunique().values,\n",
    "            palette=\"viridis\")\n",
    "\n",
    "plt.title(\"Total Matches per Season\", fontsize=14)\n",
    "plt.xlabel(\"Season\")\n",
    "plt.ylabel(\"Number of Matches\")\n",
    "plt.xticks(rotation=45)\n",
    "plt.show()\n"
   ]
  },
  {
   "cell_type": "markdown",
   "id": "5fcb4176",
   "metadata": {
    "id": "LjORZyopvUng",
    "papermill": {
     "duration": 0.031065,
     "end_time": "2025-03-14T14:33:15.271485",
     "exception": false,
     "start_time": "2025-03-14T14:33:15.240420",
     "status": "completed"
    },
    "tags": []
   },
   "source": [
    "### 📊 Total Matches Per Season (Interactive)"
   ]
  },
  {
   "cell_type": "code",
   "execution_count": 47,
   "id": "2fe5e9b9",
   "metadata": {
    "execution": {
     "iopub.execute_input": "2025-03-14T14:33:15.338844Z",
     "iopub.status.busy": "2025-03-14T14:33:15.338292Z",
     "iopub.status.idle": "2025-03-14T14:33:15.419239Z",
     "shell.execute_reply": "2025-03-14T14:33:15.418152Z"
    },
    "id": "tJQ2Sr6IvUng",
    "outputId": "354ed767-6f3b-41d6-9ef1-931c9d83a3e3",
    "papermill": {
     "duration": 0.116657,
     "end_time": "2025-03-14T14:33:15.421307",
     "exception": false,
     "start_time": "2025-03-14T14:33:15.304650",
     "status": "completed"
    },
    "tags": []
   },
   "outputs": [
    {
     "data": {
      "text/html": [
       "<html>\n",
       "<head><meta charset=\"utf-8\" /></head>\n",
       "<body>\n",
       "    <div>            <script src=\"https://cdnjs.cloudflare.com/ajax/libs/mathjax/2.7.5/MathJax.js?config=TeX-AMS-MML_SVG\"></script><script type=\"text/javascript\">if (window.MathJax && window.MathJax.Hub && window.MathJax.Hub.Config) {window.MathJax.Hub.Config({SVG: {font: \"STIX-Web\"}});}</script>                <script type=\"text/javascript\">window.PlotlyConfig = {MathJaxConfig: 'local'};</script>\n",
       "        <script charset=\"utf-8\" src=\"https://cdn.plot.ly/plotly-2.35.2.min.js\"></script>                <div id=\"078b5ab7-7b9d-45ce-9514-13010e4852bc\" class=\"plotly-graph-div\" style=\"height:525px; width:100%;\"></div>            <script type=\"text/javascript\">                                    window.PLOTLYENV=window.PLOTLYENV || {};                                    if (document.getElementById(\"078b5ab7-7b9d-45ce-9514-13010e4852bc\")) {                    Plotly.newPlot(                        \"078b5ab7-7b9d-45ce-9514-13010e4852bc\",                        [{\"alignmentgroup\":\"True\",\"hovertemplate\":\"Season=%{x}\\u003cbr\\u003eTotal Matches=%{marker.color}\\u003cextra\\u003e\\u003c\\u002fextra\\u003e\",\"legendgroup\":\"\",\"marker\":{\"color\":[58,57,60,73,74,76,60,59,60,59,60,60,60,60,74,74,71],\"coloraxis\":\"coloraxis\",\"pattern\":{\"shape\":\"\"}},\"name\":\"\",\"offsetgroup\":\"\",\"orientation\":\"v\",\"showlegend\":false,\"text\":[58.0,57.0,60.0,73.0,74.0,76.0,60.0,59.0,60.0,59.0,60.0,60.0,60.0,60.0,74.0,74.0,71.0],\"textposition\":\"outside\",\"x\":[\"2007\\u002f08\",\"2009\",\"2009\\u002f10\",\"2011\",\"2012\",\"2013\",\"2014\",\"2015\",\"2016\",\"2017\",\"2018\",\"2019\",\"2020\\u002f21\",\"2021\",\"2022\",\"2023\",\"2024\"],\"xaxis\":\"x\",\"y\":[58,57,60,73,74,76,60,59,60,59,60,60,60,60,74,74,71],\"yaxis\":\"y\",\"type\":\"bar\",\"texttemplate\":\"%{text}\"}],                        {\"template\":{\"data\":{\"histogram2dcontour\":[{\"type\":\"histogram2dcontour\",\"colorbar\":{\"outlinewidth\":0,\"ticks\":\"\"},\"colorscale\":[[0.0,\"#0d0887\"],[0.1111111111111111,\"#46039f\"],[0.2222222222222222,\"#7201a8\"],[0.3333333333333333,\"#9c179e\"],[0.4444444444444444,\"#bd3786\"],[0.5555555555555556,\"#d8576b\"],[0.6666666666666666,\"#ed7953\"],[0.7777777777777778,\"#fb9f3a\"],[0.8888888888888888,\"#fdca26\"],[1.0,\"#f0f921\"]]}],\"choropleth\":[{\"type\":\"choropleth\",\"colorbar\":{\"outlinewidth\":0,\"ticks\":\"\"}}],\"histogram2d\":[{\"type\":\"histogram2d\",\"colorbar\":{\"outlinewidth\":0,\"ticks\":\"\"},\"colorscale\":[[0.0,\"#0d0887\"],[0.1111111111111111,\"#46039f\"],[0.2222222222222222,\"#7201a8\"],[0.3333333333333333,\"#9c179e\"],[0.4444444444444444,\"#bd3786\"],[0.5555555555555556,\"#d8576b\"],[0.6666666666666666,\"#ed7953\"],[0.7777777777777778,\"#fb9f3a\"],[0.8888888888888888,\"#fdca26\"],[1.0,\"#f0f921\"]]}],\"heatmap\":[{\"type\":\"heatmap\",\"colorbar\":{\"outlinewidth\":0,\"ticks\":\"\"},\"colorscale\":[[0.0,\"#0d0887\"],[0.1111111111111111,\"#46039f\"],[0.2222222222222222,\"#7201a8\"],[0.3333333333333333,\"#9c179e\"],[0.4444444444444444,\"#bd3786\"],[0.5555555555555556,\"#d8576b\"],[0.6666666666666666,\"#ed7953\"],[0.7777777777777778,\"#fb9f3a\"],[0.8888888888888888,\"#fdca26\"],[1.0,\"#f0f921\"]]}],\"heatmapgl\":[{\"type\":\"heatmapgl\",\"colorbar\":{\"outlinewidth\":0,\"ticks\":\"\"},\"colorscale\":[[0.0,\"#0d0887\"],[0.1111111111111111,\"#46039f\"],[0.2222222222222222,\"#7201a8\"],[0.3333333333333333,\"#9c179e\"],[0.4444444444444444,\"#bd3786\"],[0.5555555555555556,\"#d8576b\"],[0.6666666666666666,\"#ed7953\"],[0.7777777777777778,\"#fb9f3a\"],[0.8888888888888888,\"#fdca26\"],[1.0,\"#f0f921\"]]}],\"contourcarpet\":[{\"type\":\"contourcarpet\",\"colorbar\":{\"outlinewidth\":0,\"ticks\":\"\"}}],\"contour\":[{\"type\":\"contour\",\"colorbar\":{\"outlinewidth\":0,\"ticks\":\"\"},\"colorscale\":[[0.0,\"#0d0887\"],[0.1111111111111111,\"#46039f\"],[0.2222222222222222,\"#7201a8\"],[0.3333333333333333,\"#9c179e\"],[0.4444444444444444,\"#bd3786\"],[0.5555555555555556,\"#d8576b\"],[0.6666666666666666,\"#ed7953\"],[0.7777777777777778,\"#fb9f3a\"],[0.8888888888888888,\"#fdca26\"],[1.0,\"#f0f921\"]]}],\"surface\":[{\"type\":\"surface\",\"colorbar\":{\"outlinewidth\":0,\"ticks\":\"\"},\"colorscale\":[[0.0,\"#0d0887\"],[0.1111111111111111,\"#46039f\"],[0.2222222222222222,\"#7201a8\"],[0.3333333333333333,\"#9c179e\"],[0.4444444444444444,\"#bd3786\"],[0.5555555555555556,\"#d8576b\"],[0.6666666666666666,\"#ed7953\"],[0.7777777777777778,\"#fb9f3a\"],[0.8888888888888888,\"#fdca26\"],[1.0,\"#f0f921\"]]}],\"mesh3d\":[{\"type\":\"mesh3d\",\"colorbar\":{\"outlinewidth\":0,\"ticks\":\"\"}}],\"scatter\":[{\"fillpattern\":{\"fillmode\":\"overlay\",\"size\":10,\"solidity\":0.2},\"type\":\"scatter\"}],\"parcoords\":[{\"type\":\"parcoords\",\"line\":{\"colorbar\":{\"outlinewidth\":0,\"ticks\":\"\"}}}],\"scatterpolargl\":[{\"type\":\"scatterpolargl\",\"marker\":{\"colorbar\":{\"outlinewidth\":0,\"ticks\":\"\"}}}],\"bar\":[{\"error_x\":{\"color\":\"#2a3f5f\"},\"error_y\":{\"color\":\"#2a3f5f\"},\"marker\":{\"line\":{\"color\":\"#E5ECF6\",\"width\":0.5},\"pattern\":{\"fillmode\":\"overlay\",\"size\":10,\"solidity\":0.2}},\"type\":\"bar\"}],\"scattergeo\":[{\"type\":\"scattergeo\",\"marker\":{\"colorbar\":{\"outlinewidth\":0,\"ticks\":\"\"}}}],\"scatterpolar\":[{\"type\":\"scatterpolar\",\"marker\":{\"colorbar\":{\"outlinewidth\":0,\"ticks\":\"\"}}}],\"histogram\":[{\"marker\":{\"pattern\":{\"fillmode\":\"overlay\",\"size\":10,\"solidity\":0.2}},\"type\":\"histogram\"}],\"scattergl\":[{\"type\":\"scattergl\",\"marker\":{\"colorbar\":{\"outlinewidth\":0,\"ticks\":\"\"}}}],\"scatter3d\":[{\"type\":\"scatter3d\",\"line\":{\"colorbar\":{\"outlinewidth\":0,\"ticks\":\"\"}},\"marker\":{\"colorbar\":{\"outlinewidth\":0,\"ticks\":\"\"}}}],\"scattermapbox\":[{\"type\":\"scattermapbox\",\"marker\":{\"colorbar\":{\"outlinewidth\":0,\"ticks\":\"\"}}}],\"scatterternary\":[{\"type\":\"scatterternary\",\"marker\":{\"colorbar\":{\"outlinewidth\":0,\"ticks\":\"\"}}}],\"scattercarpet\":[{\"type\":\"scattercarpet\",\"marker\":{\"colorbar\":{\"outlinewidth\":0,\"ticks\":\"\"}}}],\"carpet\":[{\"aaxis\":{\"endlinecolor\":\"#2a3f5f\",\"gridcolor\":\"white\",\"linecolor\":\"white\",\"minorgridcolor\":\"white\",\"startlinecolor\":\"#2a3f5f\"},\"baxis\":{\"endlinecolor\":\"#2a3f5f\",\"gridcolor\":\"white\",\"linecolor\":\"white\",\"minorgridcolor\":\"white\",\"startlinecolor\":\"#2a3f5f\"},\"type\":\"carpet\"}],\"table\":[{\"cells\":{\"fill\":{\"color\":\"#EBF0F8\"},\"line\":{\"color\":\"white\"}},\"header\":{\"fill\":{\"color\":\"#C8D4E3\"},\"line\":{\"color\":\"white\"}},\"type\":\"table\"}],\"barpolar\":[{\"marker\":{\"line\":{\"color\":\"#E5ECF6\",\"width\":0.5},\"pattern\":{\"fillmode\":\"overlay\",\"size\":10,\"solidity\":0.2}},\"type\":\"barpolar\"}],\"pie\":[{\"automargin\":true,\"type\":\"pie\"}]},\"layout\":{\"autotypenumbers\":\"strict\",\"colorway\":[\"#636efa\",\"#EF553B\",\"#00cc96\",\"#ab63fa\",\"#FFA15A\",\"#19d3f3\",\"#FF6692\",\"#B6E880\",\"#FF97FF\",\"#FECB52\"],\"font\":{\"color\":\"#2a3f5f\"},\"hovermode\":\"closest\",\"hoverlabel\":{\"align\":\"left\"},\"paper_bgcolor\":\"white\",\"plot_bgcolor\":\"#E5ECF6\",\"polar\":{\"bgcolor\":\"#E5ECF6\",\"angularaxis\":{\"gridcolor\":\"white\",\"linecolor\":\"white\",\"ticks\":\"\"},\"radialaxis\":{\"gridcolor\":\"white\",\"linecolor\":\"white\",\"ticks\":\"\"}},\"ternary\":{\"bgcolor\":\"#E5ECF6\",\"aaxis\":{\"gridcolor\":\"white\",\"linecolor\":\"white\",\"ticks\":\"\"},\"baxis\":{\"gridcolor\":\"white\",\"linecolor\":\"white\",\"ticks\":\"\"},\"caxis\":{\"gridcolor\":\"white\",\"linecolor\":\"white\",\"ticks\":\"\"}},\"coloraxis\":{\"colorbar\":{\"outlinewidth\":0,\"ticks\":\"\"}},\"colorscale\":{\"sequential\":[[0.0,\"#0d0887\"],[0.1111111111111111,\"#46039f\"],[0.2222222222222222,\"#7201a8\"],[0.3333333333333333,\"#9c179e\"],[0.4444444444444444,\"#bd3786\"],[0.5555555555555556,\"#d8576b\"],[0.6666666666666666,\"#ed7953\"],[0.7777777777777778,\"#fb9f3a\"],[0.8888888888888888,\"#fdca26\"],[1.0,\"#f0f921\"]],\"sequentialminus\":[[0.0,\"#0d0887\"],[0.1111111111111111,\"#46039f\"],[0.2222222222222222,\"#7201a8\"],[0.3333333333333333,\"#9c179e\"],[0.4444444444444444,\"#bd3786\"],[0.5555555555555556,\"#d8576b\"],[0.6666666666666666,\"#ed7953\"],[0.7777777777777778,\"#fb9f3a\"],[0.8888888888888888,\"#fdca26\"],[1.0,\"#f0f921\"]],\"diverging\":[[0,\"#8e0152\"],[0.1,\"#c51b7d\"],[0.2,\"#de77ae\"],[0.3,\"#f1b6da\"],[0.4,\"#fde0ef\"],[0.5,\"#f7f7f7\"],[0.6,\"#e6f5d0\"],[0.7,\"#b8e186\"],[0.8,\"#7fbc41\"],[0.9,\"#4d9221\"],[1,\"#276419\"]]},\"xaxis\":{\"gridcolor\":\"white\",\"linecolor\":\"white\",\"ticks\":\"\",\"title\":{\"standoff\":15},\"zerolinecolor\":\"white\",\"automargin\":true,\"zerolinewidth\":2},\"yaxis\":{\"gridcolor\":\"white\",\"linecolor\":\"white\",\"ticks\":\"\",\"title\":{\"standoff\":15},\"zerolinecolor\":\"white\",\"automargin\":true,\"zerolinewidth\":2},\"scene\":{\"xaxis\":{\"backgroundcolor\":\"#E5ECF6\",\"gridcolor\":\"white\",\"linecolor\":\"white\",\"showbackground\":true,\"ticks\":\"\",\"zerolinecolor\":\"white\",\"gridwidth\":2},\"yaxis\":{\"backgroundcolor\":\"#E5ECF6\",\"gridcolor\":\"white\",\"linecolor\":\"white\",\"showbackground\":true,\"ticks\":\"\",\"zerolinecolor\":\"white\",\"gridwidth\":2},\"zaxis\":{\"backgroundcolor\":\"#E5ECF6\",\"gridcolor\":\"white\",\"linecolor\":\"white\",\"showbackground\":true,\"ticks\":\"\",\"zerolinecolor\":\"white\",\"gridwidth\":2}},\"shapedefaults\":{\"line\":{\"color\":\"#2a3f5f\"}},\"annotationdefaults\":{\"arrowcolor\":\"#2a3f5f\",\"arrowhead\":0,\"arrowwidth\":1},\"geo\":{\"bgcolor\":\"white\",\"landcolor\":\"#E5ECF6\",\"subunitcolor\":\"white\",\"showland\":true,\"showlakes\":true,\"lakecolor\":\"white\"},\"title\":{\"x\":0.05},\"mapbox\":{\"style\":\"light\"}}},\"xaxis\":{\"anchor\":\"y\",\"domain\":[0.0,1.0],\"title\":{\"text\":\"Season\"},\"tickangle\":-45},\"yaxis\":{\"anchor\":\"x\",\"domain\":[0.0,1.0],\"title\":{\"text\":\"Total Matches\"}},\"coloraxis\":{\"colorbar\":{\"title\":{\"text\":\"Total Matches\"}},\"colorscale\":[[0.0,\"#440154\"],[0.1111111111111111,\"#482878\"],[0.2222222222222222,\"#3e4989\"],[0.3333333333333333,\"#31688e\"],[0.4444444444444444,\"#26828e\"],[0.5555555555555556,\"#1f9e89\"],[0.6666666666666666,\"#35b779\"],[0.7777777777777778,\"#6ece58\"],[0.8888888888888888,\"#b5de2b\"],[1.0,\"#fde725\"]]},\"legend\":{\"tracegroupgap\":0},\"title\":{\"text\":\"Total Matches per Season\"},\"barmode\":\"relative\"},                        {\"responsive\": true}                    ).then(function(){\n",
       "                            \n",
       "var gd = document.getElementById('078b5ab7-7b9d-45ce-9514-13010e4852bc');\n",
       "var x = new MutationObserver(function (mutations, observer) {{\n",
       "        var display = window.getComputedStyle(gd).display;\n",
       "        if (!display || display === 'none') {{\n",
       "            console.log([gd, 'removed!']);\n",
       "            Plotly.purge(gd);\n",
       "            observer.disconnect();\n",
       "        }}\n",
       "}});\n",
       "\n",
       "// Listen for the removal of the full notebook cells\n",
       "var notebookContainer = gd.closest('#notebook-container');\n",
       "if (notebookContainer) {{\n",
       "    x.observe(notebookContainer, {childList: true});\n",
       "}}\n",
       "\n",
       "// Listen for the clearing of the current output cell\n",
       "var outputEl = gd.closest('.output');\n",
       "if (outputEl) {{\n",
       "    x.observe(outputEl, {childList: true});\n",
       "}}\n",
       "\n",
       "                        })                };                            </script>        </div>\n",
       "</body>\n",
       "</html>"
      ]
     },
     "metadata": {},
     "output_type": "display_data"
    }
   ],
   "source": [
    "import plotly.express as px\n",
    "\n",
    "# Compute total matches per season\n",
    "matches_per_season = df.groupby('season')['id'].nunique().reset_index()\n",
    "matches_per_season.columns = ['Season', 'Total Matches']\n",
    "\n",
    "# Plot\n",
    "fig = px.bar(matches_per_season,\n",
    "             x=\"Season\",\n",
    "             y=\"Total Matches\",\n",
    "             text=\"Total Matches\",\n",
    "             title=\"Total Matches per Season\",\n",
    "             color=\"Total Matches\",\n",
    "             color_continuous_scale=\"viridis\")\n",
    "\n",
    "fig.update_traces(texttemplate='%{text}', textposition='outside')  # Show exact values\n",
    "fig.update_layout(xaxis_tickangle=-45)  # Rotate x-axis labels\n",
    "\n",
    "fig.show()\n"
   ]
  },
  {
   "cell_type": "markdown",
   "id": "9afd616a",
   "metadata": {
    "id": "dvBC36kvvUng",
    "papermill": {
     "duration": 0.032021,
     "end_time": "2025-03-14T14:33:15.485484",
     "exception": false,
     "start_time": "2025-03-14T14:33:15.453463",
     "status": "completed"
    },
    "tags": []
   },
   "source": [
    "### 🔥 Total Sixes Per Team"
   ]
  },
  {
   "cell_type": "code",
   "execution_count": 48,
   "id": "2857b153",
   "metadata": {
    "execution": {
     "iopub.execute_input": "2025-03-14T14:33:15.550473Z",
     "iopub.status.busy": "2025-03-14T14:33:15.550086Z",
     "iopub.status.idle": "2025-03-14T14:33:15.623778Z",
     "shell.execute_reply": "2025-03-14T14:33:15.622693Z"
    },
    "id": "JPDn6OFfy0lY",
    "outputId": "baffda9c-0718-4e10-f0af-f1ab50402e88",
    "papermill": {
     "duration": 0.108566,
     "end_time": "2025-03-14T14:33:15.625637",
     "exception": false,
     "start_time": "2025-03-14T14:33:15.517071",
     "status": "completed"
    },
    "tags": []
   },
   "outputs": [
    {
     "data": {
      "text/html": [
       "<html>\n",
       "<head><meta charset=\"utf-8\" /></head>\n",
       "<body>\n",
       "    <div>            <script src=\"https://cdnjs.cloudflare.com/ajax/libs/mathjax/2.7.5/MathJax.js?config=TeX-AMS-MML_SVG\"></script><script type=\"text/javascript\">if (window.MathJax && window.MathJax.Hub && window.MathJax.Hub.Config) {window.MathJax.Hub.Config({SVG: {font: \"STIX-Web\"}});}</script>                <script type=\"text/javascript\">window.PlotlyConfig = {MathJaxConfig: 'local'};</script>\n",
       "        <script charset=\"utf-8\" src=\"https://cdn.plot.ly/plotly-2.35.2.min.js\"></script>                <div id=\"de150e1f-cce5-4385-b84f-204cbb33ecfa\" class=\"plotly-graph-div\" style=\"height:525px; width:100%;\"></div>            <script type=\"text/javascript\">                                    window.PLOTLYENV=window.PLOTLYENV || {};                                    if (document.getElementById(\"de150e1f-cce5-4385-b84f-204cbb33ecfa\")) {                    Plotly.newPlot(                        \"de150e1f-cce5-4385-b84f-204cbb33ecfa\",                        [{\"alignmentgroup\":\"True\",\"hovertemplate\":\"Team=%{x}\\u003cbr\\u003eTotal Sixes=%{marker.color}\\u003cextra\\u003e\\u003c\\u002fextra\\u003e\",\"legendgroup\":\"\",\"marker\":{\"color\":[1685,1509,1495,1488,1237,1075,1042,801,550,440,400,332,271,196,165,155,89,68,53],\"coloraxis\":\"coloraxis\",\"pattern\":{\"shape\":\"\"}},\"name\":\"\",\"offsetgroup\":\"\",\"orientation\":\"v\",\"showlegend\":false,\"text\":[1685.0,1509.0,1495.0,1488.0,1237.0,1075.0,1042.0,801.0,550.0,440.0,400.0,332.0,271.0,196.0,165.0,155.0,89.0,68.0,53.0],\"textposition\":\"outside\",\"x\":[\"Mumbai Indians\",\"Chennai Super Kings\",\"Kolkata Knight Riders\",\"Royal Challengers Bangalore\",\"Rajasthan Royals\",\"Kings XI Punjab\",\"Sunrisers Hyderabad\",\"Delhi Daredevils\",\"Delhi Capitals\",\"Punjab Kings\",\"Deccan Chargers\",\"Lucknow Super Giants\",\"Gujarat Titans\",\"Pune Warriors\",\"Royal Challengers Bengaluru\",\"Gujarat Lions\",\"Rising Pune Supergiant\",\"Rising Pune Supergiants\",\"Kochi Tuskers Kerala\"],\"xaxis\":\"x\",\"y\":[1685,1509,1495,1488,1237,1075,1042,801,550,440,400,332,271,196,165,155,89,68,53],\"yaxis\":\"y\",\"type\":\"bar\",\"texttemplate\":\"%{text}\"}],                        {\"template\":{\"data\":{\"histogram2dcontour\":[{\"type\":\"histogram2dcontour\",\"colorbar\":{\"outlinewidth\":0,\"ticks\":\"\"},\"colorscale\":[[0.0,\"#0d0887\"],[0.1111111111111111,\"#46039f\"],[0.2222222222222222,\"#7201a8\"],[0.3333333333333333,\"#9c179e\"],[0.4444444444444444,\"#bd3786\"],[0.5555555555555556,\"#d8576b\"],[0.6666666666666666,\"#ed7953\"],[0.7777777777777778,\"#fb9f3a\"],[0.8888888888888888,\"#fdca26\"],[1.0,\"#f0f921\"]]}],\"choropleth\":[{\"type\":\"choropleth\",\"colorbar\":{\"outlinewidth\":0,\"ticks\":\"\"}}],\"histogram2d\":[{\"type\":\"histogram2d\",\"colorbar\":{\"outlinewidth\":0,\"ticks\":\"\"},\"colorscale\":[[0.0,\"#0d0887\"],[0.1111111111111111,\"#46039f\"],[0.2222222222222222,\"#7201a8\"],[0.3333333333333333,\"#9c179e\"],[0.4444444444444444,\"#bd3786\"],[0.5555555555555556,\"#d8576b\"],[0.6666666666666666,\"#ed7953\"],[0.7777777777777778,\"#fb9f3a\"],[0.8888888888888888,\"#fdca26\"],[1.0,\"#f0f921\"]]}],\"heatmap\":[{\"type\":\"heatmap\",\"colorbar\":{\"outlinewidth\":0,\"ticks\":\"\"},\"colorscale\":[[0.0,\"#0d0887\"],[0.1111111111111111,\"#46039f\"],[0.2222222222222222,\"#7201a8\"],[0.3333333333333333,\"#9c179e\"],[0.4444444444444444,\"#bd3786\"],[0.5555555555555556,\"#d8576b\"],[0.6666666666666666,\"#ed7953\"],[0.7777777777777778,\"#fb9f3a\"],[0.8888888888888888,\"#fdca26\"],[1.0,\"#f0f921\"]]}],\"heatmapgl\":[{\"type\":\"heatmapgl\",\"colorbar\":{\"outlinewidth\":0,\"ticks\":\"\"},\"colorscale\":[[0.0,\"#0d0887\"],[0.1111111111111111,\"#46039f\"],[0.2222222222222222,\"#7201a8\"],[0.3333333333333333,\"#9c179e\"],[0.4444444444444444,\"#bd3786\"],[0.5555555555555556,\"#d8576b\"],[0.6666666666666666,\"#ed7953\"],[0.7777777777777778,\"#fb9f3a\"],[0.8888888888888888,\"#fdca26\"],[1.0,\"#f0f921\"]]}],\"contourcarpet\":[{\"type\":\"contourcarpet\",\"colorbar\":{\"outlinewidth\":0,\"ticks\":\"\"}}],\"contour\":[{\"type\":\"contour\",\"colorbar\":{\"outlinewidth\":0,\"ticks\":\"\"},\"colorscale\":[[0.0,\"#0d0887\"],[0.1111111111111111,\"#46039f\"],[0.2222222222222222,\"#7201a8\"],[0.3333333333333333,\"#9c179e\"],[0.4444444444444444,\"#bd3786\"],[0.5555555555555556,\"#d8576b\"],[0.6666666666666666,\"#ed7953\"],[0.7777777777777778,\"#fb9f3a\"],[0.8888888888888888,\"#fdca26\"],[1.0,\"#f0f921\"]]}],\"surface\":[{\"type\":\"surface\",\"colorbar\":{\"outlinewidth\":0,\"ticks\":\"\"},\"colorscale\":[[0.0,\"#0d0887\"],[0.1111111111111111,\"#46039f\"],[0.2222222222222222,\"#7201a8\"],[0.3333333333333333,\"#9c179e\"],[0.4444444444444444,\"#bd3786\"],[0.5555555555555556,\"#d8576b\"],[0.6666666666666666,\"#ed7953\"],[0.7777777777777778,\"#fb9f3a\"],[0.8888888888888888,\"#fdca26\"],[1.0,\"#f0f921\"]]}],\"mesh3d\":[{\"type\":\"mesh3d\",\"colorbar\":{\"outlinewidth\":0,\"ticks\":\"\"}}],\"scatter\":[{\"fillpattern\":{\"fillmode\":\"overlay\",\"size\":10,\"solidity\":0.2},\"type\":\"scatter\"}],\"parcoords\":[{\"type\":\"parcoords\",\"line\":{\"colorbar\":{\"outlinewidth\":0,\"ticks\":\"\"}}}],\"scatterpolargl\":[{\"type\":\"scatterpolargl\",\"marker\":{\"colorbar\":{\"outlinewidth\":0,\"ticks\":\"\"}}}],\"bar\":[{\"error_x\":{\"color\":\"#2a3f5f\"},\"error_y\":{\"color\":\"#2a3f5f\"},\"marker\":{\"line\":{\"color\":\"#E5ECF6\",\"width\":0.5},\"pattern\":{\"fillmode\":\"overlay\",\"size\":10,\"solidity\":0.2}},\"type\":\"bar\"}],\"scattergeo\":[{\"type\":\"scattergeo\",\"marker\":{\"colorbar\":{\"outlinewidth\":0,\"ticks\":\"\"}}}],\"scatterpolar\":[{\"type\":\"scatterpolar\",\"marker\":{\"colorbar\":{\"outlinewidth\":0,\"ticks\":\"\"}}}],\"histogram\":[{\"marker\":{\"pattern\":{\"fillmode\":\"overlay\",\"size\":10,\"solidity\":0.2}},\"type\":\"histogram\"}],\"scattergl\":[{\"type\":\"scattergl\",\"marker\":{\"colorbar\":{\"outlinewidth\":0,\"ticks\":\"\"}}}],\"scatter3d\":[{\"type\":\"scatter3d\",\"line\":{\"colorbar\":{\"outlinewidth\":0,\"ticks\":\"\"}},\"marker\":{\"colorbar\":{\"outlinewidth\":0,\"ticks\":\"\"}}}],\"scattermapbox\":[{\"type\":\"scattermapbox\",\"marker\":{\"colorbar\":{\"outlinewidth\":0,\"ticks\":\"\"}}}],\"scatterternary\":[{\"type\":\"scatterternary\",\"marker\":{\"colorbar\":{\"outlinewidth\":0,\"ticks\":\"\"}}}],\"scattercarpet\":[{\"type\":\"scattercarpet\",\"marker\":{\"colorbar\":{\"outlinewidth\":0,\"ticks\":\"\"}}}],\"carpet\":[{\"aaxis\":{\"endlinecolor\":\"#2a3f5f\",\"gridcolor\":\"white\",\"linecolor\":\"white\",\"minorgridcolor\":\"white\",\"startlinecolor\":\"#2a3f5f\"},\"baxis\":{\"endlinecolor\":\"#2a3f5f\",\"gridcolor\":\"white\",\"linecolor\":\"white\",\"minorgridcolor\":\"white\",\"startlinecolor\":\"#2a3f5f\"},\"type\":\"carpet\"}],\"table\":[{\"cells\":{\"fill\":{\"color\":\"#EBF0F8\"},\"line\":{\"color\":\"white\"}},\"header\":{\"fill\":{\"color\":\"#C8D4E3\"},\"line\":{\"color\":\"white\"}},\"type\":\"table\"}],\"barpolar\":[{\"marker\":{\"line\":{\"color\":\"#E5ECF6\",\"width\":0.5},\"pattern\":{\"fillmode\":\"overlay\",\"size\":10,\"solidity\":0.2}},\"type\":\"barpolar\"}],\"pie\":[{\"automargin\":true,\"type\":\"pie\"}]},\"layout\":{\"autotypenumbers\":\"strict\",\"colorway\":[\"#636efa\",\"#EF553B\",\"#00cc96\",\"#ab63fa\",\"#FFA15A\",\"#19d3f3\",\"#FF6692\",\"#B6E880\",\"#FF97FF\",\"#FECB52\"],\"font\":{\"color\":\"#2a3f5f\"},\"hovermode\":\"closest\",\"hoverlabel\":{\"align\":\"left\"},\"paper_bgcolor\":\"white\",\"plot_bgcolor\":\"#E5ECF6\",\"polar\":{\"bgcolor\":\"#E5ECF6\",\"angularaxis\":{\"gridcolor\":\"white\",\"linecolor\":\"white\",\"ticks\":\"\"},\"radialaxis\":{\"gridcolor\":\"white\",\"linecolor\":\"white\",\"ticks\":\"\"}},\"ternary\":{\"bgcolor\":\"#E5ECF6\",\"aaxis\":{\"gridcolor\":\"white\",\"linecolor\":\"white\",\"ticks\":\"\"},\"baxis\":{\"gridcolor\":\"white\",\"linecolor\":\"white\",\"ticks\":\"\"},\"caxis\":{\"gridcolor\":\"white\",\"linecolor\":\"white\",\"ticks\":\"\"}},\"coloraxis\":{\"colorbar\":{\"outlinewidth\":0,\"ticks\":\"\"}},\"colorscale\":{\"sequential\":[[0.0,\"#0d0887\"],[0.1111111111111111,\"#46039f\"],[0.2222222222222222,\"#7201a8\"],[0.3333333333333333,\"#9c179e\"],[0.4444444444444444,\"#bd3786\"],[0.5555555555555556,\"#d8576b\"],[0.6666666666666666,\"#ed7953\"],[0.7777777777777778,\"#fb9f3a\"],[0.8888888888888888,\"#fdca26\"],[1.0,\"#f0f921\"]],\"sequentialminus\":[[0.0,\"#0d0887\"],[0.1111111111111111,\"#46039f\"],[0.2222222222222222,\"#7201a8\"],[0.3333333333333333,\"#9c179e\"],[0.4444444444444444,\"#bd3786\"],[0.5555555555555556,\"#d8576b\"],[0.6666666666666666,\"#ed7953\"],[0.7777777777777778,\"#fb9f3a\"],[0.8888888888888888,\"#fdca26\"],[1.0,\"#f0f921\"]],\"diverging\":[[0,\"#8e0152\"],[0.1,\"#c51b7d\"],[0.2,\"#de77ae\"],[0.3,\"#f1b6da\"],[0.4,\"#fde0ef\"],[0.5,\"#f7f7f7\"],[0.6,\"#e6f5d0\"],[0.7,\"#b8e186\"],[0.8,\"#7fbc41\"],[0.9,\"#4d9221\"],[1,\"#276419\"]]},\"xaxis\":{\"gridcolor\":\"white\",\"linecolor\":\"white\",\"ticks\":\"\",\"title\":{\"standoff\":15},\"zerolinecolor\":\"white\",\"automargin\":true,\"zerolinewidth\":2},\"yaxis\":{\"gridcolor\":\"white\",\"linecolor\":\"white\",\"ticks\":\"\",\"title\":{\"standoff\":15},\"zerolinecolor\":\"white\",\"automargin\":true,\"zerolinewidth\":2},\"scene\":{\"xaxis\":{\"backgroundcolor\":\"#E5ECF6\",\"gridcolor\":\"white\",\"linecolor\":\"white\",\"showbackground\":true,\"ticks\":\"\",\"zerolinecolor\":\"white\",\"gridwidth\":2},\"yaxis\":{\"backgroundcolor\":\"#E5ECF6\",\"gridcolor\":\"white\",\"linecolor\":\"white\",\"showbackground\":true,\"ticks\":\"\",\"zerolinecolor\":\"white\",\"gridwidth\":2},\"zaxis\":{\"backgroundcolor\":\"#E5ECF6\",\"gridcolor\":\"white\",\"linecolor\":\"white\",\"showbackground\":true,\"ticks\":\"\",\"zerolinecolor\":\"white\",\"gridwidth\":2}},\"shapedefaults\":{\"line\":{\"color\":\"#2a3f5f\"}},\"annotationdefaults\":{\"arrowcolor\":\"#2a3f5f\",\"arrowhead\":0,\"arrowwidth\":1},\"geo\":{\"bgcolor\":\"white\",\"landcolor\":\"#E5ECF6\",\"subunitcolor\":\"white\",\"showland\":true,\"showlakes\":true,\"lakecolor\":\"white\"},\"title\":{\"x\":0.05},\"mapbox\":{\"style\":\"light\"}}},\"xaxis\":{\"anchor\":\"y\",\"domain\":[0.0,1.0],\"title\":{\"text\":\"Team\"},\"tickangle\":-45},\"yaxis\":{\"anchor\":\"x\",\"domain\":[0.0,1.0],\"title\":{\"text\":\"Total Sixes\"}},\"coloraxis\":{\"colorbar\":{\"title\":{\"text\":\"Total Sixes\"}},\"colorscale\":[[0.0,\"rgb(255,245,240)\"],[0.125,\"rgb(254,224,210)\"],[0.25,\"rgb(252,187,161)\"],[0.375,\"rgb(252,146,114)\"],[0.5,\"rgb(251,106,74)\"],[0.625,\"rgb(239,59,44)\"],[0.75,\"rgb(203,24,29)\"],[0.875,\"rgb(165,15,21)\"],[1.0,\"rgb(103,0,13)\"]]},\"legend\":{\"tracegroupgap\":0},\"title\":{\"text\":\"Total Sixes Per Team\"},\"barmode\":\"relative\"},                        {\"responsive\": true}                    ).then(function(){\n",
       "                            \n",
       "var gd = document.getElementById('de150e1f-cce5-4385-b84f-204cbb33ecfa');\n",
       "var x = new MutationObserver(function (mutations, observer) {{\n",
       "        var display = window.getComputedStyle(gd).display;\n",
       "        if (!display || display === 'none') {{\n",
       "            console.log([gd, 'removed!']);\n",
       "            Plotly.purge(gd);\n",
       "            observer.disconnect();\n",
       "        }}\n",
       "}});\n",
       "\n",
       "// Listen for the removal of the full notebook cells\n",
       "var notebookContainer = gd.closest('#notebook-container');\n",
       "if (notebookContainer) {{\n",
       "    x.observe(notebookContainer, {childList: true});\n",
       "}}\n",
       "\n",
       "// Listen for the clearing of the current output cell\n",
       "var outputEl = gd.closest('.output');\n",
       "if (outputEl) {{\n",
       "    x.observe(outputEl, {childList: true});\n",
       "}}\n",
       "\n",
       "                        })                };                            </script>        </div>\n",
       "</body>\n",
       "</html>"
      ]
     },
     "metadata": {},
     "output_type": "display_data"
    }
   ],
   "source": [
    "import plotly.express as px\n",
    "\n",
    "# Calculate total sixes per team\n",
    "df_sixes = df[df['batsman_runs'] == 6].groupby('batting_team')['batsman_runs'].count().reset_index()\n",
    "df_sixes.columns = ['Team', 'Total Sixes']\n",
    "df_sixes = df_sixes.sort_values(by=\"Total Sixes\", ascending=False)  # Sort for better visualization\n",
    "\n",
    "# Plot\n",
    "fig = px.bar(df_sixes,\n",
    "             x=\"Team\",\n",
    "             y=\"Total Sixes\",\n",
    "             text=\"Total Sixes\",\n",
    "             title=\"Total Sixes Per Team\",\n",
    "             color=\"Total Sixes\",\n",
    "             color_continuous_scale=\"reds\")\n",
    "\n",
    "fig.update_traces(texttemplate='%{text}', textposition='outside')  # Show exact values\n",
    "fig.update_layout(xaxis_tickangle=-45)  # Rotate x-axis labels\n",
    "\n",
    "fig.show()\n"
   ]
  },
  {
   "cell_type": "markdown",
   "id": "599f00a6",
   "metadata": {
    "id": "jVEHB5-WvUnh",
    "papermill": {
     "duration": 0.031686,
     "end_time": "2025-03-14T14:33:15.690852",
     "exception": false,
     "start_time": "2025-03-14T14:33:15.659166",
     "status": "completed"
    },
    "tags": []
   },
   "source": [
    "### 🏏 Total Fours Per Team"
   ]
  },
  {
   "cell_type": "code",
   "execution_count": 49,
   "id": "c9ce3853",
   "metadata": {
    "execution": {
     "iopub.execute_input": "2025-03-14T14:33:15.757124Z",
     "iopub.status.busy": "2025-03-14T14:33:15.756698Z",
     "iopub.status.idle": "2025-03-14T14:33:15.835156Z",
     "shell.execute_reply": "2025-03-14T14:33:15.834011Z"
    },
    "id": "92-XbOfQy3CI",
    "outputId": "1e7312e1-503c-472f-9e13-5376c5bdae30",
    "papermill": {
     "duration": 0.113867,
     "end_time": "2025-03-14T14:33:15.837026",
     "exception": false,
     "start_time": "2025-03-14T14:33:15.723159",
     "status": "completed"
    },
    "tags": []
   },
   "outputs": [
    {
     "data": {
      "text/html": [
       "<html>\n",
       "<head><meta charset=\"utf-8\" /></head>\n",
       "<body>\n",
       "    <div>            <script src=\"https://cdnjs.cloudflare.com/ajax/libs/mathjax/2.7.5/MathJax.js?config=TeX-AMS-MML_SVG\"></script><script type=\"text/javascript\">if (window.MathJax && window.MathJax.Hub && window.MathJax.Hub.Config) {window.MathJax.Hub.Config({SVG: {font: \"STIX-Web\"}});}</script>                <script type=\"text/javascript\">window.PlotlyConfig = {MathJaxConfig: 'local'};</script>\n",
       "        <script charset=\"utf-8\" src=\"https://cdn.plot.ly/plotly-2.35.2.min.js\"></script>                <div id=\"2cf01c84-6ff8-4595-95bb-3db3f0230489\" class=\"plotly-graph-div\" style=\"height:525px; width:100%;\"></div>            <script type=\"text/javascript\">                                    window.PLOTLYENV=window.PLOTLYENV || {};                                    if (document.getElementById(\"2cf01c84-6ff8-4595-95bb-3db3f0230489\")) {                    Plotly.newPlot(                        \"2cf01c84-6ff8-4595-95bb-3db3f0230489\",                        [{\"alignmentgroup\":\"True\",\"hovertemplate\":\"Team=%{x}\\u003cbr\\u003eTotal Fours=%{marker.color}\\u003cextra\\u003e\\u003c\\u002fextra\\u003e\",\"legendgroup\":\"\",\"marker\":{\"color\":[3637,3461,3196,3149,3091,2631,2405,2156,1352,957,795,691,577,525,460,229,197,171,170],\"coloraxis\":\"coloraxis\",\"pattern\":{\"shape\":\"\"}},\"name\":\"\",\"offsetgroup\":\"\",\"orientation\":\"v\",\"showlegend\":false,\"text\":[3637.0,3461.0,3196.0,3149.0,3091.0,2631.0,2405.0,2156.0,1352.0,957.0,795.0,691.0,577.0,525.0,460.0,229.0,197.0,171.0,170.0],\"textposition\":\"outside\",\"x\":[\"Mumbai Indians\",\"Kolkata Knight Riders\",\"Chennai Super Kings\",\"Royal Challengers Bangalore\",\"Rajasthan Royals\",\"Kings XI Punjab\",\"Sunrisers Hyderabad\",\"Delhi Daredevils\",\"Delhi Capitals\",\"Deccan Chargers\",\"Punjab Kings\",\"Gujarat Titans\",\"Lucknow Super Giants\",\"Pune Warriors\",\"Gujarat Lions\",\"Royal Challengers Bengaluru\",\"Rising Pune Supergiant\",\"Rising Pune Supergiants\",\"Kochi Tuskers Kerala\"],\"xaxis\":\"x\",\"y\":[3637,3461,3196,3149,3091,2631,2405,2156,1352,957,795,691,577,525,460,229,197,171,170],\"yaxis\":\"y\",\"type\":\"bar\",\"texttemplate\":\"%{text}\"}],                        {\"template\":{\"data\":{\"histogram2dcontour\":[{\"type\":\"histogram2dcontour\",\"colorbar\":{\"outlinewidth\":0,\"ticks\":\"\"},\"colorscale\":[[0.0,\"#0d0887\"],[0.1111111111111111,\"#46039f\"],[0.2222222222222222,\"#7201a8\"],[0.3333333333333333,\"#9c179e\"],[0.4444444444444444,\"#bd3786\"],[0.5555555555555556,\"#d8576b\"],[0.6666666666666666,\"#ed7953\"],[0.7777777777777778,\"#fb9f3a\"],[0.8888888888888888,\"#fdca26\"],[1.0,\"#f0f921\"]]}],\"choropleth\":[{\"type\":\"choropleth\",\"colorbar\":{\"outlinewidth\":0,\"ticks\":\"\"}}],\"histogram2d\":[{\"type\":\"histogram2d\",\"colorbar\":{\"outlinewidth\":0,\"ticks\":\"\"},\"colorscale\":[[0.0,\"#0d0887\"],[0.1111111111111111,\"#46039f\"],[0.2222222222222222,\"#7201a8\"],[0.3333333333333333,\"#9c179e\"],[0.4444444444444444,\"#bd3786\"],[0.5555555555555556,\"#d8576b\"],[0.6666666666666666,\"#ed7953\"],[0.7777777777777778,\"#fb9f3a\"],[0.8888888888888888,\"#fdca26\"],[1.0,\"#f0f921\"]]}],\"heatmap\":[{\"type\":\"heatmap\",\"colorbar\":{\"outlinewidth\":0,\"ticks\":\"\"},\"colorscale\":[[0.0,\"#0d0887\"],[0.1111111111111111,\"#46039f\"],[0.2222222222222222,\"#7201a8\"],[0.3333333333333333,\"#9c179e\"],[0.4444444444444444,\"#bd3786\"],[0.5555555555555556,\"#d8576b\"],[0.6666666666666666,\"#ed7953\"],[0.7777777777777778,\"#fb9f3a\"],[0.8888888888888888,\"#fdca26\"],[1.0,\"#f0f921\"]]}],\"heatmapgl\":[{\"type\":\"heatmapgl\",\"colorbar\":{\"outlinewidth\":0,\"ticks\":\"\"},\"colorscale\":[[0.0,\"#0d0887\"],[0.1111111111111111,\"#46039f\"],[0.2222222222222222,\"#7201a8\"],[0.3333333333333333,\"#9c179e\"],[0.4444444444444444,\"#bd3786\"],[0.5555555555555556,\"#d8576b\"],[0.6666666666666666,\"#ed7953\"],[0.7777777777777778,\"#fb9f3a\"],[0.8888888888888888,\"#fdca26\"],[1.0,\"#f0f921\"]]}],\"contourcarpet\":[{\"type\":\"contourcarpet\",\"colorbar\":{\"outlinewidth\":0,\"ticks\":\"\"}}],\"contour\":[{\"type\":\"contour\",\"colorbar\":{\"outlinewidth\":0,\"ticks\":\"\"},\"colorscale\":[[0.0,\"#0d0887\"],[0.1111111111111111,\"#46039f\"],[0.2222222222222222,\"#7201a8\"],[0.3333333333333333,\"#9c179e\"],[0.4444444444444444,\"#bd3786\"],[0.5555555555555556,\"#d8576b\"],[0.6666666666666666,\"#ed7953\"],[0.7777777777777778,\"#fb9f3a\"],[0.8888888888888888,\"#fdca26\"],[1.0,\"#f0f921\"]]}],\"surface\":[{\"type\":\"surface\",\"colorbar\":{\"outlinewidth\":0,\"ticks\":\"\"},\"colorscale\":[[0.0,\"#0d0887\"],[0.1111111111111111,\"#46039f\"],[0.2222222222222222,\"#7201a8\"],[0.3333333333333333,\"#9c179e\"],[0.4444444444444444,\"#bd3786\"],[0.5555555555555556,\"#d8576b\"],[0.6666666666666666,\"#ed7953\"],[0.7777777777777778,\"#fb9f3a\"],[0.8888888888888888,\"#fdca26\"],[1.0,\"#f0f921\"]]}],\"mesh3d\":[{\"type\":\"mesh3d\",\"colorbar\":{\"outlinewidth\":0,\"ticks\":\"\"}}],\"scatter\":[{\"fillpattern\":{\"fillmode\":\"overlay\",\"size\":10,\"solidity\":0.2},\"type\":\"scatter\"}],\"parcoords\":[{\"type\":\"parcoords\",\"line\":{\"colorbar\":{\"outlinewidth\":0,\"ticks\":\"\"}}}],\"scatterpolargl\":[{\"type\":\"scatterpolargl\",\"marker\":{\"colorbar\":{\"outlinewidth\":0,\"ticks\":\"\"}}}],\"bar\":[{\"error_x\":{\"color\":\"#2a3f5f\"},\"error_y\":{\"color\":\"#2a3f5f\"},\"marker\":{\"line\":{\"color\":\"#E5ECF6\",\"width\":0.5},\"pattern\":{\"fillmode\":\"overlay\",\"size\":10,\"solidity\":0.2}},\"type\":\"bar\"}],\"scattergeo\":[{\"type\":\"scattergeo\",\"marker\":{\"colorbar\":{\"outlinewidth\":0,\"ticks\":\"\"}}}],\"scatterpolar\":[{\"type\":\"scatterpolar\",\"marker\":{\"colorbar\":{\"outlinewidth\":0,\"ticks\":\"\"}}}],\"histogram\":[{\"marker\":{\"pattern\":{\"fillmode\":\"overlay\",\"size\":10,\"solidity\":0.2}},\"type\":\"histogram\"}],\"scattergl\":[{\"type\":\"scattergl\",\"marker\":{\"colorbar\":{\"outlinewidth\":0,\"ticks\":\"\"}}}],\"scatter3d\":[{\"type\":\"scatter3d\",\"line\":{\"colorbar\":{\"outlinewidth\":0,\"ticks\":\"\"}},\"marker\":{\"colorbar\":{\"outlinewidth\":0,\"ticks\":\"\"}}}],\"scattermapbox\":[{\"type\":\"scattermapbox\",\"marker\":{\"colorbar\":{\"outlinewidth\":0,\"ticks\":\"\"}}}],\"scatterternary\":[{\"type\":\"scatterternary\",\"marker\":{\"colorbar\":{\"outlinewidth\":0,\"ticks\":\"\"}}}],\"scattercarpet\":[{\"type\":\"scattercarpet\",\"marker\":{\"colorbar\":{\"outlinewidth\":0,\"ticks\":\"\"}}}],\"carpet\":[{\"aaxis\":{\"endlinecolor\":\"#2a3f5f\",\"gridcolor\":\"white\",\"linecolor\":\"white\",\"minorgridcolor\":\"white\",\"startlinecolor\":\"#2a3f5f\"},\"baxis\":{\"endlinecolor\":\"#2a3f5f\",\"gridcolor\":\"white\",\"linecolor\":\"white\",\"minorgridcolor\":\"white\",\"startlinecolor\":\"#2a3f5f\"},\"type\":\"carpet\"}],\"table\":[{\"cells\":{\"fill\":{\"color\":\"#EBF0F8\"},\"line\":{\"color\":\"white\"}},\"header\":{\"fill\":{\"color\":\"#C8D4E3\"},\"line\":{\"color\":\"white\"}},\"type\":\"table\"}],\"barpolar\":[{\"marker\":{\"line\":{\"color\":\"#E5ECF6\",\"width\":0.5},\"pattern\":{\"fillmode\":\"overlay\",\"size\":10,\"solidity\":0.2}},\"type\":\"barpolar\"}],\"pie\":[{\"automargin\":true,\"type\":\"pie\"}]},\"layout\":{\"autotypenumbers\":\"strict\",\"colorway\":[\"#636efa\",\"#EF553B\",\"#00cc96\",\"#ab63fa\",\"#FFA15A\",\"#19d3f3\",\"#FF6692\",\"#B6E880\",\"#FF97FF\",\"#FECB52\"],\"font\":{\"color\":\"#2a3f5f\"},\"hovermode\":\"closest\",\"hoverlabel\":{\"align\":\"left\"},\"paper_bgcolor\":\"white\",\"plot_bgcolor\":\"#E5ECF6\",\"polar\":{\"bgcolor\":\"#E5ECF6\",\"angularaxis\":{\"gridcolor\":\"white\",\"linecolor\":\"white\",\"ticks\":\"\"},\"radialaxis\":{\"gridcolor\":\"white\",\"linecolor\":\"white\",\"ticks\":\"\"}},\"ternary\":{\"bgcolor\":\"#E5ECF6\",\"aaxis\":{\"gridcolor\":\"white\",\"linecolor\":\"white\",\"ticks\":\"\"},\"baxis\":{\"gridcolor\":\"white\",\"linecolor\":\"white\",\"ticks\":\"\"},\"caxis\":{\"gridcolor\":\"white\",\"linecolor\":\"white\",\"ticks\":\"\"}},\"coloraxis\":{\"colorbar\":{\"outlinewidth\":0,\"ticks\":\"\"}},\"colorscale\":{\"sequential\":[[0.0,\"#0d0887\"],[0.1111111111111111,\"#46039f\"],[0.2222222222222222,\"#7201a8\"],[0.3333333333333333,\"#9c179e\"],[0.4444444444444444,\"#bd3786\"],[0.5555555555555556,\"#d8576b\"],[0.6666666666666666,\"#ed7953\"],[0.7777777777777778,\"#fb9f3a\"],[0.8888888888888888,\"#fdca26\"],[1.0,\"#f0f921\"]],\"sequentialminus\":[[0.0,\"#0d0887\"],[0.1111111111111111,\"#46039f\"],[0.2222222222222222,\"#7201a8\"],[0.3333333333333333,\"#9c179e\"],[0.4444444444444444,\"#bd3786\"],[0.5555555555555556,\"#d8576b\"],[0.6666666666666666,\"#ed7953\"],[0.7777777777777778,\"#fb9f3a\"],[0.8888888888888888,\"#fdca26\"],[1.0,\"#f0f921\"]],\"diverging\":[[0,\"#8e0152\"],[0.1,\"#c51b7d\"],[0.2,\"#de77ae\"],[0.3,\"#f1b6da\"],[0.4,\"#fde0ef\"],[0.5,\"#f7f7f7\"],[0.6,\"#e6f5d0\"],[0.7,\"#b8e186\"],[0.8,\"#7fbc41\"],[0.9,\"#4d9221\"],[1,\"#276419\"]]},\"xaxis\":{\"gridcolor\":\"white\",\"linecolor\":\"white\",\"ticks\":\"\",\"title\":{\"standoff\":15},\"zerolinecolor\":\"white\",\"automargin\":true,\"zerolinewidth\":2},\"yaxis\":{\"gridcolor\":\"white\",\"linecolor\":\"white\",\"ticks\":\"\",\"title\":{\"standoff\":15},\"zerolinecolor\":\"white\",\"automargin\":true,\"zerolinewidth\":2},\"scene\":{\"xaxis\":{\"backgroundcolor\":\"#E5ECF6\",\"gridcolor\":\"white\",\"linecolor\":\"white\",\"showbackground\":true,\"ticks\":\"\",\"zerolinecolor\":\"white\",\"gridwidth\":2},\"yaxis\":{\"backgroundcolor\":\"#E5ECF6\",\"gridcolor\":\"white\",\"linecolor\":\"white\",\"showbackground\":true,\"ticks\":\"\",\"zerolinecolor\":\"white\",\"gridwidth\":2},\"zaxis\":{\"backgroundcolor\":\"#E5ECF6\",\"gridcolor\":\"white\",\"linecolor\":\"white\",\"showbackground\":true,\"ticks\":\"\",\"zerolinecolor\":\"white\",\"gridwidth\":2}},\"shapedefaults\":{\"line\":{\"color\":\"#2a3f5f\"}},\"annotationdefaults\":{\"arrowcolor\":\"#2a3f5f\",\"arrowhead\":0,\"arrowwidth\":1},\"geo\":{\"bgcolor\":\"white\",\"landcolor\":\"#E5ECF6\",\"subunitcolor\":\"white\",\"showland\":true,\"showlakes\":true,\"lakecolor\":\"white\"},\"title\":{\"x\":0.05},\"mapbox\":{\"style\":\"light\"}}},\"xaxis\":{\"anchor\":\"y\",\"domain\":[0.0,1.0],\"title\":{\"text\":\"Team\"},\"tickangle\":-45},\"yaxis\":{\"anchor\":\"x\",\"domain\":[0.0,1.0],\"title\":{\"text\":\"Total Fours\"}},\"coloraxis\":{\"colorbar\":{\"title\":{\"text\":\"Total Fours\"}},\"colorscale\":[[0.0,\"rgb(247,251,255)\"],[0.125,\"rgb(222,235,247)\"],[0.25,\"rgb(198,219,239)\"],[0.375,\"rgb(158,202,225)\"],[0.5,\"rgb(107,174,214)\"],[0.625,\"rgb(66,146,198)\"],[0.75,\"rgb(33,113,181)\"],[0.875,\"rgb(8,81,156)\"],[1.0,\"rgb(8,48,107)\"]]},\"legend\":{\"tracegroupgap\":0},\"title\":{\"text\":\"Total Fours Per Team\"},\"barmode\":\"relative\"},                        {\"responsive\": true}                    ).then(function(){\n",
       "                            \n",
       "var gd = document.getElementById('2cf01c84-6ff8-4595-95bb-3db3f0230489');\n",
       "var x = new MutationObserver(function (mutations, observer) {{\n",
       "        var display = window.getComputedStyle(gd).display;\n",
       "        if (!display || display === 'none') {{\n",
       "            console.log([gd, 'removed!']);\n",
       "            Plotly.purge(gd);\n",
       "            observer.disconnect();\n",
       "        }}\n",
       "}});\n",
       "\n",
       "// Listen for the removal of the full notebook cells\n",
       "var notebookContainer = gd.closest('#notebook-container');\n",
       "if (notebookContainer) {{\n",
       "    x.observe(notebookContainer, {childList: true});\n",
       "}}\n",
       "\n",
       "// Listen for the clearing of the current output cell\n",
       "var outputEl = gd.closest('.output');\n",
       "if (outputEl) {{\n",
       "    x.observe(outputEl, {childList: true});\n",
       "}}\n",
       "\n",
       "                        })                };                            </script>        </div>\n",
       "</body>\n",
       "</html>"
      ]
     },
     "metadata": {},
     "output_type": "display_data"
    }
   ],
   "source": [
    "import plotly.express as px\n",
    "\n",
    "# Calculate total fours per team\n",
    "df_fours = df[df['batsman_runs'] == 4].groupby('batting_team')['batsman_runs'].count().reset_index()\n",
    "df_fours.columns = ['Team', 'Total Fours']\n",
    "df_fours = df_fours.sort_values(by=\"Total Fours\", ascending=False)  # Sort for better visualization\n",
    "\n",
    "# Plot\n",
    "fig = px.bar(df_fours,\n",
    "             x=\"Team\",\n",
    "             y=\"Total Fours\",\n",
    "             text=\"Total Fours\",\n",
    "             title=\"Total Fours Per Team\",\n",
    "             color=\"Total Fours\",\n",
    "             color_continuous_scale=\"blues\")\n",
    "\n",
    "fig.update_traces(texttemplate='%{text}', textposition='outside')  # Show exact values\n",
    "fig.update_layout(xaxis_tickangle=-45)  # Rotate x-axis labels for clarity\n",
    "\n",
    "fig.show()\n"
   ]
  },
  {
   "cell_type": "markdown",
   "id": "519c19cf",
   "metadata": {
    "id": "7z_9H89evUni",
    "papermill": {
     "duration": 0.032474,
     "end_time": "2025-03-14T14:33:15.903428",
     "exception": false,
     "start_time": "2025-03-14T14:33:15.870954",
     "status": "completed"
    },
    "tags": []
   },
   "source": [
    "### 🏆 Top 10 Run Scorers in IPL"
   ]
  },
  {
   "cell_type": "code",
   "execution_count": 50,
   "id": "a7dfc9d8",
   "metadata": {
    "execution": {
     "iopub.execute_input": "2025-03-14T14:33:15.970504Z",
     "iopub.status.busy": "2025-03-14T14:33:15.970129Z",
     "iopub.status.idle": "2025-03-14T14:33:16.047672Z",
     "shell.execute_reply": "2025-03-14T14:33:16.046507Z"
    },
    "id": "t7lH56Chy41J",
    "outputId": "291bab34-20cf-4f3f-a6de-9a31900ed2c4",
    "papermill": {
     "duration": 0.113265,
     "end_time": "2025-03-14T14:33:16.049607",
     "exception": false,
     "start_time": "2025-03-14T14:33:15.936342",
     "status": "completed"
    },
    "tags": []
   },
   "outputs": [
    {
     "data": {
      "text/html": [
       "<html>\n",
       "<head><meta charset=\"utf-8\" /></head>\n",
       "<body>\n",
       "    <div>            <script src=\"https://cdnjs.cloudflare.com/ajax/libs/mathjax/2.7.5/MathJax.js?config=TeX-AMS-MML_SVG\"></script><script type=\"text/javascript\">if (window.MathJax && window.MathJax.Hub && window.MathJax.Hub.Config) {window.MathJax.Hub.Config({SVG: {font: \"STIX-Web\"}});}</script>                <script type=\"text/javascript\">window.PlotlyConfig = {MathJaxConfig: 'local'};</script>\n",
       "        <script charset=\"utf-8\" src=\"https://cdn.plot.ly/plotly-2.35.2.min.js\"></script>                <div id=\"8a914265-e402-458e-afb2-15f2cc2177c6\" class=\"plotly-graph-div\" style=\"height:525px; width:100%;\"></div>            <script type=\"text/javascript\">                                    window.PLOTLYENV=window.PLOTLYENV || {};                                    if (document.getElementById(\"8a914265-e402-458e-afb2-15f2cc2177c6\")) {                    Plotly.newPlot(                        \"8a914265-e402-458e-afb2-15f2cc2177c6\",                        [{\"alignmentgroup\":\"True\",\"hovertemplate\":\"Batsman=%{x}\\u003cbr\\u003eTotal Runs=%{marker.color}\\u003cextra\\u003e\\u003c\\u002fextra\\u003e\",\"legendgroup\":\"\",\"marker\":{\"color\":[8014,6769,6630,6567,5536,5243,5181,4997,4954,4843],\"coloraxis\":\"coloraxis\",\"pattern\":{\"shape\":\"\"}},\"name\":\"\",\"offsetgroup\":\"\",\"orientation\":\"v\",\"showlegend\":false,\"text\":[8014.0,6769.0,6630.0,6567.0,5536.0,5243.0,5181.0,4997.0,4954.0,4843.0],\"textposition\":\"outside\",\"x\":[\"V Kohli\",\"S Dhawan\",\"RG Sharma\",\"DA Warner\",\"SK Raina\",\"MS Dhoni\",\"AB de Villiers\",\"CH Gayle\",\"RV Uthappa\",\"KD Karthik\"],\"xaxis\":\"x\",\"y\":[8014,6769,6630,6567,5536,5243,5181,4997,4954,4843],\"yaxis\":\"y\",\"type\":\"bar\",\"texttemplate\":\"%{text}\"}],                        {\"template\":{\"data\":{\"histogram2dcontour\":[{\"type\":\"histogram2dcontour\",\"colorbar\":{\"outlinewidth\":0,\"ticks\":\"\"},\"colorscale\":[[0.0,\"#0d0887\"],[0.1111111111111111,\"#46039f\"],[0.2222222222222222,\"#7201a8\"],[0.3333333333333333,\"#9c179e\"],[0.4444444444444444,\"#bd3786\"],[0.5555555555555556,\"#d8576b\"],[0.6666666666666666,\"#ed7953\"],[0.7777777777777778,\"#fb9f3a\"],[0.8888888888888888,\"#fdca26\"],[1.0,\"#f0f921\"]]}],\"choropleth\":[{\"type\":\"choropleth\",\"colorbar\":{\"outlinewidth\":0,\"ticks\":\"\"}}],\"histogram2d\":[{\"type\":\"histogram2d\",\"colorbar\":{\"outlinewidth\":0,\"ticks\":\"\"},\"colorscale\":[[0.0,\"#0d0887\"],[0.1111111111111111,\"#46039f\"],[0.2222222222222222,\"#7201a8\"],[0.3333333333333333,\"#9c179e\"],[0.4444444444444444,\"#bd3786\"],[0.5555555555555556,\"#d8576b\"],[0.6666666666666666,\"#ed7953\"],[0.7777777777777778,\"#fb9f3a\"],[0.8888888888888888,\"#fdca26\"],[1.0,\"#f0f921\"]]}],\"heatmap\":[{\"type\":\"heatmap\",\"colorbar\":{\"outlinewidth\":0,\"ticks\":\"\"},\"colorscale\":[[0.0,\"#0d0887\"],[0.1111111111111111,\"#46039f\"],[0.2222222222222222,\"#7201a8\"],[0.3333333333333333,\"#9c179e\"],[0.4444444444444444,\"#bd3786\"],[0.5555555555555556,\"#d8576b\"],[0.6666666666666666,\"#ed7953\"],[0.7777777777777778,\"#fb9f3a\"],[0.8888888888888888,\"#fdca26\"],[1.0,\"#f0f921\"]]}],\"heatmapgl\":[{\"type\":\"heatmapgl\",\"colorbar\":{\"outlinewidth\":0,\"ticks\":\"\"},\"colorscale\":[[0.0,\"#0d0887\"],[0.1111111111111111,\"#46039f\"],[0.2222222222222222,\"#7201a8\"],[0.3333333333333333,\"#9c179e\"],[0.4444444444444444,\"#bd3786\"],[0.5555555555555556,\"#d8576b\"],[0.6666666666666666,\"#ed7953\"],[0.7777777777777778,\"#fb9f3a\"],[0.8888888888888888,\"#fdca26\"],[1.0,\"#f0f921\"]]}],\"contourcarpet\":[{\"type\":\"contourcarpet\",\"colorbar\":{\"outlinewidth\":0,\"ticks\":\"\"}}],\"contour\":[{\"type\":\"contour\",\"colorbar\":{\"outlinewidth\":0,\"ticks\":\"\"},\"colorscale\":[[0.0,\"#0d0887\"],[0.1111111111111111,\"#46039f\"],[0.2222222222222222,\"#7201a8\"],[0.3333333333333333,\"#9c179e\"],[0.4444444444444444,\"#bd3786\"],[0.5555555555555556,\"#d8576b\"],[0.6666666666666666,\"#ed7953\"],[0.7777777777777778,\"#fb9f3a\"],[0.8888888888888888,\"#fdca26\"],[1.0,\"#f0f921\"]]}],\"surface\":[{\"type\":\"surface\",\"colorbar\":{\"outlinewidth\":0,\"ticks\":\"\"},\"colorscale\":[[0.0,\"#0d0887\"],[0.1111111111111111,\"#46039f\"],[0.2222222222222222,\"#7201a8\"],[0.3333333333333333,\"#9c179e\"],[0.4444444444444444,\"#bd3786\"],[0.5555555555555556,\"#d8576b\"],[0.6666666666666666,\"#ed7953\"],[0.7777777777777778,\"#fb9f3a\"],[0.8888888888888888,\"#fdca26\"],[1.0,\"#f0f921\"]]}],\"mesh3d\":[{\"type\":\"mesh3d\",\"colorbar\":{\"outlinewidth\":0,\"ticks\":\"\"}}],\"scatter\":[{\"fillpattern\":{\"fillmode\":\"overlay\",\"size\":10,\"solidity\":0.2},\"type\":\"scatter\"}],\"parcoords\":[{\"type\":\"parcoords\",\"line\":{\"colorbar\":{\"outlinewidth\":0,\"ticks\":\"\"}}}],\"scatterpolargl\":[{\"type\":\"scatterpolargl\",\"marker\":{\"colorbar\":{\"outlinewidth\":0,\"ticks\":\"\"}}}],\"bar\":[{\"error_x\":{\"color\":\"#2a3f5f\"},\"error_y\":{\"color\":\"#2a3f5f\"},\"marker\":{\"line\":{\"color\":\"#E5ECF6\",\"width\":0.5},\"pattern\":{\"fillmode\":\"overlay\",\"size\":10,\"solidity\":0.2}},\"type\":\"bar\"}],\"scattergeo\":[{\"type\":\"scattergeo\",\"marker\":{\"colorbar\":{\"outlinewidth\":0,\"ticks\":\"\"}}}],\"scatterpolar\":[{\"type\":\"scatterpolar\",\"marker\":{\"colorbar\":{\"outlinewidth\":0,\"ticks\":\"\"}}}],\"histogram\":[{\"marker\":{\"pattern\":{\"fillmode\":\"overlay\",\"size\":10,\"solidity\":0.2}},\"type\":\"histogram\"}],\"scattergl\":[{\"type\":\"scattergl\",\"marker\":{\"colorbar\":{\"outlinewidth\":0,\"ticks\":\"\"}}}],\"scatter3d\":[{\"type\":\"scatter3d\",\"line\":{\"colorbar\":{\"outlinewidth\":0,\"ticks\":\"\"}},\"marker\":{\"colorbar\":{\"outlinewidth\":0,\"ticks\":\"\"}}}],\"scattermapbox\":[{\"type\":\"scattermapbox\",\"marker\":{\"colorbar\":{\"outlinewidth\":0,\"ticks\":\"\"}}}],\"scatterternary\":[{\"type\":\"scatterternary\",\"marker\":{\"colorbar\":{\"outlinewidth\":0,\"ticks\":\"\"}}}],\"scattercarpet\":[{\"type\":\"scattercarpet\",\"marker\":{\"colorbar\":{\"outlinewidth\":0,\"ticks\":\"\"}}}],\"carpet\":[{\"aaxis\":{\"endlinecolor\":\"#2a3f5f\",\"gridcolor\":\"white\",\"linecolor\":\"white\",\"minorgridcolor\":\"white\",\"startlinecolor\":\"#2a3f5f\"},\"baxis\":{\"endlinecolor\":\"#2a3f5f\",\"gridcolor\":\"white\",\"linecolor\":\"white\",\"minorgridcolor\":\"white\",\"startlinecolor\":\"#2a3f5f\"},\"type\":\"carpet\"}],\"table\":[{\"cells\":{\"fill\":{\"color\":\"#EBF0F8\"},\"line\":{\"color\":\"white\"}},\"header\":{\"fill\":{\"color\":\"#C8D4E3\"},\"line\":{\"color\":\"white\"}},\"type\":\"table\"}],\"barpolar\":[{\"marker\":{\"line\":{\"color\":\"#E5ECF6\",\"width\":0.5},\"pattern\":{\"fillmode\":\"overlay\",\"size\":10,\"solidity\":0.2}},\"type\":\"barpolar\"}],\"pie\":[{\"automargin\":true,\"type\":\"pie\"}]},\"layout\":{\"autotypenumbers\":\"strict\",\"colorway\":[\"#636efa\",\"#EF553B\",\"#00cc96\",\"#ab63fa\",\"#FFA15A\",\"#19d3f3\",\"#FF6692\",\"#B6E880\",\"#FF97FF\",\"#FECB52\"],\"font\":{\"color\":\"#2a3f5f\"},\"hovermode\":\"closest\",\"hoverlabel\":{\"align\":\"left\"},\"paper_bgcolor\":\"white\",\"plot_bgcolor\":\"#E5ECF6\",\"polar\":{\"bgcolor\":\"#E5ECF6\",\"angularaxis\":{\"gridcolor\":\"white\",\"linecolor\":\"white\",\"ticks\":\"\"},\"radialaxis\":{\"gridcolor\":\"white\",\"linecolor\":\"white\",\"ticks\":\"\"}},\"ternary\":{\"bgcolor\":\"#E5ECF6\",\"aaxis\":{\"gridcolor\":\"white\",\"linecolor\":\"white\",\"ticks\":\"\"},\"baxis\":{\"gridcolor\":\"white\",\"linecolor\":\"white\",\"ticks\":\"\"},\"caxis\":{\"gridcolor\":\"white\",\"linecolor\":\"white\",\"ticks\":\"\"}},\"coloraxis\":{\"colorbar\":{\"outlinewidth\":0,\"ticks\":\"\"}},\"colorscale\":{\"sequential\":[[0.0,\"#0d0887\"],[0.1111111111111111,\"#46039f\"],[0.2222222222222222,\"#7201a8\"],[0.3333333333333333,\"#9c179e\"],[0.4444444444444444,\"#bd3786\"],[0.5555555555555556,\"#d8576b\"],[0.6666666666666666,\"#ed7953\"],[0.7777777777777778,\"#fb9f3a\"],[0.8888888888888888,\"#fdca26\"],[1.0,\"#f0f921\"]],\"sequentialminus\":[[0.0,\"#0d0887\"],[0.1111111111111111,\"#46039f\"],[0.2222222222222222,\"#7201a8\"],[0.3333333333333333,\"#9c179e\"],[0.4444444444444444,\"#bd3786\"],[0.5555555555555556,\"#d8576b\"],[0.6666666666666666,\"#ed7953\"],[0.7777777777777778,\"#fb9f3a\"],[0.8888888888888888,\"#fdca26\"],[1.0,\"#f0f921\"]],\"diverging\":[[0,\"#8e0152\"],[0.1,\"#c51b7d\"],[0.2,\"#de77ae\"],[0.3,\"#f1b6da\"],[0.4,\"#fde0ef\"],[0.5,\"#f7f7f7\"],[0.6,\"#e6f5d0\"],[0.7,\"#b8e186\"],[0.8,\"#7fbc41\"],[0.9,\"#4d9221\"],[1,\"#276419\"]]},\"xaxis\":{\"gridcolor\":\"white\",\"linecolor\":\"white\",\"ticks\":\"\",\"title\":{\"standoff\":15},\"zerolinecolor\":\"white\",\"automargin\":true,\"zerolinewidth\":2},\"yaxis\":{\"gridcolor\":\"white\",\"linecolor\":\"white\",\"ticks\":\"\",\"title\":{\"standoff\":15},\"zerolinecolor\":\"white\",\"automargin\":true,\"zerolinewidth\":2},\"scene\":{\"xaxis\":{\"backgroundcolor\":\"#E5ECF6\",\"gridcolor\":\"white\",\"linecolor\":\"white\",\"showbackground\":true,\"ticks\":\"\",\"zerolinecolor\":\"white\",\"gridwidth\":2},\"yaxis\":{\"backgroundcolor\":\"#E5ECF6\",\"gridcolor\":\"white\",\"linecolor\":\"white\",\"showbackground\":true,\"ticks\":\"\",\"zerolinecolor\":\"white\",\"gridwidth\":2},\"zaxis\":{\"backgroundcolor\":\"#E5ECF6\",\"gridcolor\":\"white\",\"linecolor\":\"white\",\"showbackground\":true,\"ticks\":\"\",\"zerolinecolor\":\"white\",\"gridwidth\":2}},\"shapedefaults\":{\"line\":{\"color\":\"#2a3f5f\"}},\"annotationdefaults\":{\"arrowcolor\":\"#2a3f5f\",\"arrowhead\":0,\"arrowwidth\":1},\"geo\":{\"bgcolor\":\"white\",\"landcolor\":\"#E5ECF6\",\"subunitcolor\":\"white\",\"showland\":true,\"showlakes\":true,\"lakecolor\":\"white\"},\"title\":{\"x\":0.05},\"mapbox\":{\"style\":\"light\"}}},\"xaxis\":{\"anchor\":\"y\",\"domain\":[0.0,1.0],\"title\":{\"text\":\"Batsman\"},\"tickangle\":-45},\"yaxis\":{\"anchor\":\"x\",\"domain\":[0.0,1.0],\"title\":{\"text\":\"Total Runs\"}},\"coloraxis\":{\"colorbar\":{\"title\":{\"text\":\"Total Runs\"}},\"colorscale\":[[0.0,\"rgb(255,245,235)\"],[0.125,\"rgb(254,230,206)\"],[0.25,\"rgb(253,208,162)\"],[0.375,\"rgb(253,174,107)\"],[0.5,\"rgb(253,141,60)\"],[0.625,\"rgb(241,105,19)\"],[0.75,\"rgb(217,72,1)\"],[0.875,\"rgb(166,54,3)\"],[1.0,\"rgb(127,39,4)\"]]},\"legend\":{\"tracegroupgap\":0},\"title\":{\"text\":\"Top 10 Run Scorers in IPL\"},\"barmode\":\"relative\"},                        {\"responsive\": true}                    ).then(function(){\n",
       "                            \n",
       "var gd = document.getElementById('8a914265-e402-458e-afb2-15f2cc2177c6');\n",
       "var x = new MutationObserver(function (mutations, observer) {{\n",
       "        var display = window.getComputedStyle(gd).display;\n",
       "        if (!display || display === 'none') {{\n",
       "            console.log([gd, 'removed!']);\n",
       "            Plotly.purge(gd);\n",
       "            observer.disconnect();\n",
       "        }}\n",
       "}});\n",
       "\n",
       "// Listen for the removal of the full notebook cells\n",
       "var notebookContainer = gd.closest('#notebook-container');\n",
       "if (notebookContainer) {{\n",
       "    x.observe(notebookContainer, {childList: true});\n",
       "}}\n",
       "\n",
       "// Listen for the clearing of the current output cell\n",
       "var outputEl = gd.closest('.output');\n",
       "if (outputEl) {{\n",
       "    x.observe(outputEl, {childList: true});\n",
       "}}\n",
       "\n",
       "                        })                };                            </script>        </div>\n",
       "</body>\n",
       "</html>"
      ]
     },
     "metadata": {},
     "output_type": "display_data"
    }
   ],
   "source": [
    "# 🎯 Player Analysis\n",
    "# ✅ Top Run Scorers Per Season\n",
    "import plotly.express as px\n",
    "\n",
    "# Calculate total runs per batsman\n",
    "top_batsmen = df.groupby('batter')['batsman_runs'].sum().reset_index()\n",
    "top_batsmen.columns = ['Batsman', 'Total Runs']\n",
    "top_batsmen = top_batsmen.sort_values(by=\"Total Runs\", ascending=False).head(10)  # Top 10\n",
    "\n",
    "# Plot\n",
    "fig = px.bar(top_batsmen,\n",
    "             x=\"Batsman\",\n",
    "             y=\"Total Runs\",\n",
    "             text=\"Total Runs\",\n",
    "             title=\"Top 10 Run Scorers in IPL\",\n",
    "             color=\"Total Runs\",\n",
    "             color_continuous_scale=\"oranges\")\n",
    "\n",
    "fig.update_traces(texttemplate='%{text}', textposition='outside')  # Show exact run count\n",
    "fig.update_layout(xaxis_tickangle=-45)  # Rotate x-axis labels for readability\n",
    "\n",
    "fig.show()\n"
   ]
  },
  {
   "cell_type": "markdown",
   "id": "00ee6f91",
   "metadata": {
    "id": "JH8rYURjvUnj",
    "papermill": {
     "duration": 0.032694,
     "end_time": "2025-03-14T14:33:16.116159",
     "exception": false,
     "start_time": "2025-03-14T14:33:16.083465",
     "status": "completed"
    },
    "tags": []
   },
   "source": [
    "### 🎯 Top 10 Wicket-Takers in IPL"
   ]
  },
  {
   "cell_type": "code",
   "execution_count": 51,
   "id": "0f9cf0d4",
   "metadata": {
    "execution": {
     "iopub.execute_input": "2025-03-14T14:33:16.184536Z",
     "iopub.status.busy": "2025-03-14T14:33:16.184022Z",
     "iopub.status.idle": "2025-03-14T14:33:16.259872Z",
     "shell.execute_reply": "2025-03-14T14:33:16.258607Z"
    },
    "id": "SPMnCzwjy7E5",
    "outputId": "9df2a136-3b95-49e7-9b52-1f42016d110a",
    "papermill": {
     "duration": 0.111873,
     "end_time": "2025-03-14T14:33:16.261836",
     "exception": false,
     "start_time": "2025-03-14T14:33:16.149963",
     "status": "completed"
    },
    "tags": []
   },
   "outputs": [
    {
     "data": {
      "text/html": [
       "<html>\n",
       "<head><meta charset=\"utf-8\" /></head>\n",
       "<body>\n",
       "    <div>            <script src=\"https://cdnjs.cloudflare.com/ajax/libs/mathjax/2.7.5/MathJax.js?config=TeX-AMS-MML_SVG\"></script><script type=\"text/javascript\">if (window.MathJax && window.MathJax.Hub && window.MathJax.Hub.Config) {window.MathJax.Hub.Config({SVG: {font: \"STIX-Web\"}});}</script>                <script type=\"text/javascript\">window.PlotlyConfig = {MathJaxConfig: 'local'};</script>\n",
       "        <script charset=\"utf-8\" src=\"https://cdn.plot.ly/plotly-2.35.2.min.js\"></script>                <div id=\"21076eea-41cf-4016-9532-9340f4ddd401\" class=\"plotly-graph-div\" style=\"height:525px; width:100%;\"></div>            <script type=\"text/javascript\">                                    window.PLOTLYENV=window.PLOTLYENV || {};                                    if (document.getElementById(\"21076eea-41cf-4016-9532-9340f4ddd401\")) {                    Plotly.newPlot(                        \"21076eea-41cf-4016-9532-9340f4ddd401\",                        [{\"alignmentgroup\":\"True\",\"hovertemplate\":\"Bowler=%{x}\\u003cbr\\u003eTotal Wickets=%{marker.color}\\u003cextra\\u003e\\u003c\\u002fextra\\u003e\",\"legendgroup\":\"\",\"marker\":{\"color\":[213,207,201,200,198,195,188,183,182,169],\"coloraxis\":\"coloraxis\",\"pattern\":{\"shape\":\"\"}},\"name\":\"\",\"offsetgroup\":\"\",\"orientation\":\"v\",\"showlegend\":false,\"text\":[213.0,207.0,201.0,200.0,198.0,195.0,188.0,183.0,182.0,169.0],\"textposition\":\"outside\",\"x\":[\"YS Chahal\",\"DJ Bravo\",\"PP Chawla\",\"SP Narine\",\"R Ashwin\",\"B Kumar\",\"SL Malinga\",\"A Mishra\",\"JJ Bumrah\",\"RA Jadeja\"],\"xaxis\":\"x\",\"y\":[213,207,201,200,198,195,188,183,182,169],\"yaxis\":\"y\",\"type\":\"bar\",\"texttemplate\":\"%{text}\"}],                        {\"template\":{\"data\":{\"histogram2dcontour\":[{\"type\":\"histogram2dcontour\",\"colorbar\":{\"outlinewidth\":0,\"ticks\":\"\"},\"colorscale\":[[0.0,\"#0d0887\"],[0.1111111111111111,\"#46039f\"],[0.2222222222222222,\"#7201a8\"],[0.3333333333333333,\"#9c179e\"],[0.4444444444444444,\"#bd3786\"],[0.5555555555555556,\"#d8576b\"],[0.6666666666666666,\"#ed7953\"],[0.7777777777777778,\"#fb9f3a\"],[0.8888888888888888,\"#fdca26\"],[1.0,\"#f0f921\"]]}],\"choropleth\":[{\"type\":\"choropleth\",\"colorbar\":{\"outlinewidth\":0,\"ticks\":\"\"}}],\"histogram2d\":[{\"type\":\"histogram2d\",\"colorbar\":{\"outlinewidth\":0,\"ticks\":\"\"},\"colorscale\":[[0.0,\"#0d0887\"],[0.1111111111111111,\"#46039f\"],[0.2222222222222222,\"#7201a8\"],[0.3333333333333333,\"#9c179e\"],[0.4444444444444444,\"#bd3786\"],[0.5555555555555556,\"#d8576b\"],[0.6666666666666666,\"#ed7953\"],[0.7777777777777778,\"#fb9f3a\"],[0.8888888888888888,\"#fdca26\"],[1.0,\"#f0f921\"]]}],\"heatmap\":[{\"type\":\"heatmap\",\"colorbar\":{\"outlinewidth\":0,\"ticks\":\"\"},\"colorscale\":[[0.0,\"#0d0887\"],[0.1111111111111111,\"#46039f\"],[0.2222222222222222,\"#7201a8\"],[0.3333333333333333,\"#9c179e\"],[0.4444444444444444,\"#bd3786\"],[0.5555555555555556,\"#d8576b\"],[0.6666666666666666,\"#ed7953\"],[0.7777777777777778,\"#fb9f3a\"],[0.8888888888888888,\"#fdca26\"],[1.0,\"#f0f921\"]]}],\"heatmapgl\":[{\"type\":\"heatmapgl\",\"colorbar\":{\"outlinewidth\":0,\"ticks\":\"\"},\"colorscale\":[[0.0,\"#0d0887\"],[0.1111111111111111,\"#46039f\"],[0.2222222222222222,\"#7201a8\"],[0.3333333333333333,\"#9c179e\"],[0.4444444444444444,\"#bd3786\"],[0.5555555555555556,\"#d8576b\"],[0.6666666666666666,\"#ed7953\"],[0.7777777777777778,\"#fb9f3a\"],[0.8888888888888888,\"#fdca26\"],[1.0,\"#f0f921\"]]}],\"contourcarpet\":[{\"type\":\"contourcarpet\",\"colorbar\":{\"outlinewidth\":0,\"ticks\":\"\"}}],\"contour\":[{\"type\":\"contour\",\"colorbar\":{\"outlinewidth\":0,\"ticks\":\"\"},\"colorscale\":[[0.0,\"#0d0887\"],[0.1111111111111111,\"#46039f\"],[0.2222222222222222,\"#7201a8\"],[0.3333333333333333,\"#9c179e\"],[0.4444444444444444,\"#bd3786\"],[0.5555555555555556,\"#d8576b\"],[0.6666666666666666,\"#ed7953\"],[0.7777777777777778,\"#fb9f3a\"],[0.8888888888888888,\"#fdca26\"],[1.0,\"#f0f921\"]]}],\"surface\":[{\"type\":\"surface\",\"colorbar\":{\"outlinewidth\":0,\"ticks\":\"\"},\"colorscale\":[[0.0,\"#0d0887\"],[0.1111111111111111,\"#46039f\"],[0.2222222222222222,\"#7201a8\"],[0.3333333333333333,\"#9c179e\"],[0.4444444444444444,\"#bd3786\"],[0.5555555555555556,\"#d8576b\"],[0.6666666666666666,\"#ed7953\"],[0.7777777777777778,\"#fb9f3a\"],[0.8888888888888888,\"#fdca26\"],[1.0,\"#f0f921\"]]}],\"mesh3d\":[{\"type\":\"mesh3d\",\"colorbar\":{\"outlinewidth\":0,\"ticks\":\"\"}}],\"scatter\":[{\"fillpattern\":{\"fillmode\":\"overlay\",\"size\":10,\"solidity\":0.2},\"type\":\"scatter\"}],\"parcoords\":[{\"type\":\"parcoords\",\"line\":{\"colorbar\":{\"outlinewidth\":0,\"ticks\":\"\"}}}],\"scatterpolargl\":[{\"type\":\"scatterpolargl\",\"marker\":{\"colorbar\":{\"outlinewidth\":0,\"ticks\":\"\"}}}],\"bar\":[{\"error_x\":{\"color\":\"#2a3f5f\"},\"error_y\":{\"color\":\"#2a3f5f\"},\"marker\":{\"line\":{\"color\":\"#E5ECF6\",\"width\":0.5},\"pattern\":{\"fillmode\":\"overlay\",\"size\":10,\"solidity\":0.2}},\"type\":\"bar\"}],\"scattergeo\":[{\"type\":\"scattergeo\",\"marker\":{\"colorbar\":{\"outlinewidth\":0,\"ticks\":\"\"}}}],\"scatterpolar\":[{\"type\":\"scatterpolar\",\"marker\":{\"colorbar\":{\"outlinewidth\":0,\"ticks\":\"\"}}}],\"histogram\":[{\"marker\":{\"pattern\":{\"fillmode\":\"overlay\",\"size\":10,\"solidity\":0.2}},\"type\":\"histogram\"}],\"scattergl\":[{\"type\":\"scattergl\",\"marker\":{\"colorbar\":{\"outlinewidth\":0,\"ticks\":\"\"}}}],\"scatter3d\":[{\"type\":\"scatter3d\",\"line\":{\"colorbar\":{\"outlinewidth\":0,\"ticks\":\"\"}},\"marker\":{\"colorbar\":{\"outlinewidth\":0,\"ticks\":\"\"}}}],\"scattermapbox\":[{\"type\":\"scattermapbox\",\"marker\":{\"colorbar\":{\"outlinewidth\":0,\"ticks\":\"\"}}}],\"scatterternary\":[{\"type\":\"scatterternary\",\"marker\":{\"colorbar\":{\"outlinewidth\":0,\"ticks\":\"\"}}}],\"scattercarpet\":[{\"type\":\"scattercarpet\",\"marker\":{\"colorbar\":{\"outlinewidth\":0,\"ticks\":\"\"}}}],\"carpet\":[{\"aaxis\":{\"endlinecolor\":\"#2a3f5f\",\"gridcolor\":\"white\",\"linecolor\":\"white\",\"minorgridcolor\":\"white\",\"startlinecolor\":\"#2a3f5f\"},\"baxis\":{\"endlinecolor\":\"#2a3f5f\",\"gridcolor\":\"white\",\"linecolor\":\"white\",\"minorgridcolor\":\"white\",\"startlinecolor\":\"#2a3f5f\"},\"type\":\"carpet\"}],\"table\":[{\"cells\":{\"fill\":{\"color\":\"#EBF0F8\"},\"line\":{\"color\":\"white\"}},\"header\":{\"fill\":{\"color\":\"#C8D4E3\"},\"line\":{\"color\":\"white\"}},\"type\":\"table\"}],\"barpolar\":[{\"marker\":{\"line\":{\"color\":\"#E5ECF6\",\"width\":0.5},\"pattern\":{\"fillmode\":\"overlay\",\"size\":10,\"solidity\":0.2}},\"type\":\"barpolar\"}],\"pie\":[{\"automargin\":true,\"type\":\"pie\"}]},\"layout\":{\"autotypenumbers\":\"strict\",\"colorway\":[\"#636efa\",\"#EF553B\",\"#00cc96\",\"#ab63fa\",\"#FFA15A\",\"#19d3f3\",\"#FF6692\",\"#B6E880\",\"#FF97FF\",\"#FECB52\"],\"font\":{\"color\":\"#2a3f5f\"},\"hovermode\":\"closest\",\"hoverlabel\":{\"align\":\"left\"},\"paper_bgcolor\":\"white\",\"plot_bgcolor\":\"#E5ECF6\",\"polar\":{\"bgcolor\":\"#E5ECF6\",\"angularaxis\":{\"gridcolor\":\"white\",\"linecolor\":\"white\",\"ticks\":\"\"},\"radialaxis\":{\"gridcolor\":\"white\",\"linecolor\":\"white\",\"ticks\":\"\"}},\"ternary\":{\"bgcolor\":\"#E5ECF6\",\"aaxis\":{\"gridcolor\":\"white\",\"linecolor\":\"white\",\"ticks\":\"\"},\"baxis\":{\"gridcolor\":\"white\",\"linecolor\":\"white\",\"ticks\":\"\"},\"caxis\":{\"gridcolor\":\"white\",\"linecolor\":\"white\",\"ticks\":\"\"}},\"coloraxis\":{\"colorbar\":{\"outlinewidth\":0,\"ticks\":\"\"}},\"colorscale\":{\"sequential\":[[0.0,\"#0d0887\"],[0.1111111111111111,\"#46039f\"],[0.2222222222222222,\"#7201a8\"],[0.3333333333333333,\"#9c179e\"],[0.4444444444444444,\"#bd3786\"],[0.5555555555555556,\"#d8576b\"],[0.6666666666666666,\"#ed7953\"],[0.7777777777777778,\"#fb9f3a\"],[0.8888888888888888,\"#fdca26\"],[1.0,\"#f0f921\"]],\"sequentialminus\":[[0.0,\"#0d0887\"],[0.1111111111111111,\"#46039f\"],[0.2222222222222222,\"#7201a8\"],[0.3333333333333333,\"#9c179e\"],[0.4444444444444444,\"#bd3786\"],[0.5555555555555556,\"#d8576b\"],[0.6666666666666666,\"#ed7953\"],[0.7777777777777778,\"#fb9f3a\"],[0.8888888888888888,\"#fdca26\"],[1.0,\"#f0f921\"]],\"diverging\":[[0,\"#8e0152\"],[0.1,\"#c51b7d\"],[0.2,\"#de77ae\"],[0.3,\"#f1b6da\"],[0.4,\"#fde0ef\"],[0.5,\"#f7f7f7\"],[0.6,\"#e6f5d0\"],[0.7,\"#b8e186\"],[0.8,\"#7fbc41\"],[0.9,\"#4d9221\"],[1,\"#276419\"]]},\"xaxis\":{\"gridcolor\":\"white\",\"linecolor\":\"white\",\"ticks\":\"\",\"title\":{\"standoff\":15},\"zerolinecolor\":\"white\",\"automargin\":true,\"zerolinewidth\":2},\"yaxis\":{\"gridcolor\":\"white\",\"linecolor\":\"white\",\"ticks\":\"\",\"title\":{\"standoff\":15},\"zerolinecolor\":\"white\",\"automargin\":true,\"zerolinewidth\":2},\"scene\":{\"xaxis\":{\"backgroundcolor\":\"#E5ECF6\",\"gridcolor\":\"white\",\"linecolor\":\"white\",\"showbackground\":true,\"ticks\":\"\",\"zerolinecolor\":\"white\",\"gridwidth\":2},\"yaxis\":{\"backgroundcolor\":\"#E5ECF6\",\"gridcolor\":\"white\",\"linecolor\":\"white\",\"showbackground\":true,\"ticks\":\"\",\"zerolinecolor\":\"white\",\"gridwidth\":2},\"zaxis\":{\"backgroundcolor\":\"#E5ECF6\",\"gridcolor\":\"white\",\"linecolor\":\"white\",\"showbackground\":true,\"ticks\":\"\",\"zerolinecolor\":\"white\",\"gridwidth\":2}},\"shapedefaults\":{\"line\":{\"color\":\"#2a3f5f\"}},\"annotationdefaults\":{\"arrowcolor\":\"#2a3f5f\",\"arrowhead\":0,\"arrowwidth\":1},\"geo\":{\"bgcolor\":\"white\",\"landcolor\":\"#E5ECF6\",\"subunitcolor\":\"white\",\"showland\":true,\"showlakes\":true,\"lakecolor\":\"white\"},\"title\":{\"x\":0.05},\"mapbox\":{\"style\":\"light\"}}},\"xaxis\":{\"anchor\":\"y\",\"domain\":[0.0,1.0],\"title\":{\"text\":\"Bowler\"},\"tickangle\":-45},\"yaxis\":{\"anchor\":\"x\",\"domain\":[0.0,1.0],\"title\":{\"text\":\"Total Wickets\"}},\"coloraxis\":{\"colorbar\":{\"title\":{\"text\":\"Total Wickets\"}},\"colorscale\":[[0.0,\"rgb(247,251,255)\"],[0.125,\"rgb(222,235,247)\"],[0.25,\"rgb(198,219,239)\"],[0.375,\"rgb(158,202,225)\"],[0.5,\"rgb(107,174,214)\"],[0.625,\"rgb(66,146,198)\"],[0.75,\"rgb(33,113,181)\"],[0.875,\"rgb(8,81,156)\"],[1.0,\"rgb(8,48,107)\"]]},\"legend\":{\"tracegroupgap\":0},\"title\":{\"text\":\"Top 10 Wicket-Takers in IPL\"},\"barmode\":\"relative\"},                        {\"responsive\": true}                    ).then(function(){\n",
       "                            \n",
       "var gd = document.getElementById('21076eea-41cf-4016-9532-9340f4ddd401');\n",
       "var x = new MutationObserver(function (mutations, observer) {{\n",
       "        var display = window.getComputedStyle(gd).display;\n",
       "        if (!display || display === 'none') {{\n",
       "            console.log([gd, 'removed!']);\n",
       "            Plotly.purge(gd);\n",
       "            observer.disconnect();\n",
       "        }}\n",
       "}});\n",
       "\n",
       "// Listen for the removal of the full notebook cells\n",
       "var notebookContainer = gd.closest('#notebook-container');\n",
       "if (notebookContainer) {{\n",
       "    x.observe(notebookContainer, {childList: true});\n",
       "}}\n",
       "\n",
       "// Listen for the clearing of the current output cell\n",
       "var outputEl = gd.closest('.output');\n",
       "if (outputEl) {{\n",
       "    x.observe(outputEl, {childList: true});\n",
       "}}\n",
       "\n",
       "                        })                };                            </script>        </div>\n",
       "</body>\n",
       "</html>"
      ]
     },
     "metadata": {},
     "output_type": "display_data"
    }
   ],
   "source": [
    "# ✅ Most Wicket-Taking Bowlers\n",
    "import plotly.express as px\n",
    "\n",
    "# Calculate total wickets per bowler\n",
    "top_bowlers = df[df['is_wicket'] == 1].groupby('bowler').size().reset_index()\n",
    "top_bowlers.columns = ['Bowler', 'Total Wickets']\n",
    "top_bowlers = top_bowlers.sort_values(by=\"Total Wickets\", ascending=False).head(10)  # Top 10\n",
    "\n",
    "# Plot\n",
    "fig = px.bar(top_bowlers,\n",
    "             x=\"Bowler\",\n",
    "             y=\"Total Wickets\",\n",
    "             text=\"Total Wickets\",\n",
    "             title=\"Top 10 Wicket-Takers in IPL\",\n",
    "             color=\"Total Wickets\",\n",
    "             color_continuous_scale=\"blues\")\n",
    "\n",
    "fig.update_traces(texttemplate='%{text}', textposition='outside')  # Show exact values\n",
    "fig.update_layout(xaxis_tickangle=-45)  # Rotate x-axis labels for readability\n",
    "\n",
    "fig.show()\n"
   ]
  },
  {
   "cell_type": "markdown",
   "id": "f73575a2",
   "metadata": {
    "id": "d7ge5A9GvUnk",
    "papermill": {
     "duration": 0.033516,
     "end_time": "2025-03-14T14:33:16.330037",
     "exception": false,
     "start_time": "2025-03-14T14:33:16.296521",
     "status": "completed"
    },
    "tags": []
   },
   "source": [
    "### 🎯 Most Economical Bowlers (Min 100 Matches)"
   ]
  },
  {
   "cell_type": "code",
   "execution_count": 52,
   "id": "8aa8ec21",
   "metadata": {
    "execution": {
     "iopub.execute_input": "2025-03-14T14:33:16.398882Z",
     "iopub.status.busy": "2025-03-14T14:33:16.398464Z",
     "iopub.status.idle": "2025-03-14T14:33:16.501679Z",
     "shell.execute_reply": "2025-03-14T14:33:16.500575Z"
    },
    "id": "SuyhLnjhy9lZ",
    "outputId": "004041cf-c6ee-4cb0-9fb6-b4cc380a16df",
    "papermill": {
     "duration": 0.140591,
     "end_time": "2025-03-14T14:33:16.503824",
     "exception": false,
     "start_time": "2025-03-14T14:33:16.363233",
     "status": "completed"
    },
    "tags": []
   },
   "outputs": [
    {
     "data": {
      "text/html": [
       "<html>\n",
       "<head><meta charset=\"utf-8\" /></head>\n",
       "<body>\n",
       "    <div>            <script src=\"https://cdnjs.cloudflare.com/ajax/libs/mathjax/2.7.5/MathJax.js?config=TeX-AMS-MML_SVG\"></script><script type=\"text/javascript\">if (window.MathJax && window.MathJax.Hub && window.MathJax.Hub.Config) {window.MathJax.Hub.Config({SVG: {font: \"STIX-Web\"}});}</script>                <script type=\"text/javascript\">window.PlotlyConfig = {MathJaxConfig: 'local'};</script>\n",
       "        <script charset=\"utf-8\" src=\"https://cdn.plot.ly/plotly-2.35.2.min.js\"></script>                <div id=\"da45f0e2-2dac-4242-86ca-bc86bd64d271\" class=\"plotly-graph-div\" style=\"height:525px; width:100%;\"></div>            <script type=\"text/javascript\">                                    window.PLOTLYENV=window.PLOTLYENV || {};                                    if (document.getElementById(\"da45f0e2-2dac-4242-86ca-bc86bd64d271\")) {                    Plotly.newPlot(                        \"da45f0e2-2dac-4242-86ca-bc86bd64d271\",                        [{\"alignmentgroup\":\"True\",\"hovertemplate\":\"Bowler=%{x}\\u003cbr\\u003eEconomy Rate=%{marker.color}\\u003cextra\\u003e\\u003c\\u002fextra\\u003e\",\"legendgroup\":\"\",\"marker\":{\"color\":[6.7612156295224315,6.907962771458118,6.969437914084206,7.032952252858103,7.0383295194508015,7.233908948194662,7.267063673843335,7.279187817258883,7.304878048780488,7.464532019704434],\"coloraxis\":\"coloraxis\",\"pattern\":{\"shape\":\"\"}},\"name\":\"\",\"offsetgroup\":\"\",\"orientation\":\"v\",\"showlegend\":false,\"text\":[6.7612156295224315,6.907962771458118,6.969437914084206,7.032952252858103,7.0383295194508015,7.233908948194662,7.267063673843335,7.279187817258883,7.304878048780488,7.464532019704434],\"textposition\":\"outside\",\"x\":[\"SP Narine\",\"Rashid Khan\",\"R Ashwin\",\"SL Malinga\",\"Harbhajan Singh\",\"JJ Bumrah\",\"KH Pandya\",\"AR Patel\",\"A Mishra\",\"B Kumar\"],\"xaxis\":\"x\",\"y\":[6.7612156295224315,6.907962771458118,6.969437914084206,7.032952252858103,7.0383295194508015,7.233908948194662,7.267063673843335,7.279187817258883,7.304878048780488,7.464532019704434],\"yaxis\":\"y\",\"type\":\"bar\",\"texttemplate\":\"%{text:.2f}\"}],                        {\"template\":{\"data\":{\"histogram2dcontour\":[{\"type\":\"histogram2dcontour\",\"colorbar\":{\"outlinewidth\":0,\"ticks\":\"\"},\"colorscale\":[[0.0,\"#0d0887\"],[0.1111111111111111,\"#46039f\"],[0.2222222222222222,\"#7201a8\"],[0.3333333333333333,\"#9c179e\"],[0.4444444444444444,\"#bd3786\"],[0.5555555555555556,\"#d8576b\"],[0.6666666666666666,\"#ed7953\"],[0.7777777777777778,\"#fb9f3a\"],[0.8888888888888888,\"#fdca26\"],[1.0,\"#f0f921\"]]}],\"choropleth\":[{\"type\":\"choropleth\",\"colorbar\":{\"outlinewidth\":0,\"ticks\":\"\"}}],\"histogram2d\":[{\"type\":\"histogram2d\",\"colorbar\":{\"outlinewidth\":0,\"ticks\":\"\"},\"colorscale\":[[0.0,\"#0d0887\"],[0.1111111111111111,\"#46039f\"],[0.2222222222222222,\"#7201a8\"],[0.3333333333333333,\"#9c179e\"],[0.4444444444444444,\"#bd3786\"],[0.5555555555555556,\"#d8576b\"],[0.6666666666666666,\"#ed7953\"],[0.7777777777777778,\"#fb9f3a\"],[0.8888888888888888,\"#fdca26\"],[1.0,\"#f0f921\"]]}],\"heatmap\":[{\"type\":\"heatmap\",\"colorbar\":{\"outlinewidth\":0,\"ticks\":\"\"},\"colorscale\":[[0.0,\"#0d0887\"],[0.1111111111111111,\"#46039f\"],[0.2222222222222222,\"#7201a8\"],[0.3333333333333333,\"#9c179e\"],[0.4444444444444444,\"#bd3786\"],[0.5555555555555556,\"#d8576b\"],[0.6666666666666666,\"#ed7953\"],[0.7777777777777778,\"#fb9f3a\"],[0.8888888888888888,\"#fdca26\"],[1.0,\"#f0f921\"]]}],\"heatmapgl\":[{\"type\":\"heatmapgl\",\"colorbar\":{\"outlinewidth\":0,\"ticks\":\"\"},\"colorscale\":[[0.0,\"#0d0887\"],[0.1111111111111111,\"#46039f\"],[0.2222222222222222,\"#7201a8\"],[0.3333333333333333,\"#9c179e\"],[0.4444444444444444,\"#bd3786\"],[0.5555555555555556,\"#d8576b\"],[0.6666666666666666,\"#ed7953\"],[0.7777777777777778,\"#fb9f3a\"],[0.8888888888888888,\"#fdca26\"],[1.0,\"#f0f921\"]]}],\"contourcarpet\":[{\"type\":\"contourcarpet\",\"colorbar\":{\"outlinewidth\":0,\"ticks\":\"\"}}],\"contour\":[{\"type\":\"contour\",\"colorbar\":{\"outlinewidth\":0,\"ticks\":\"\"},\"colorscale\":[[0.0,\"#0d0887\"],[0.1111111111111111,\"#46039f\"],[0.2222222222222222,\"#7201a8\"],[0.3333333333333333,\"#9c179e\"],[0.4444444444444444,\"#bd3786\"],[0.5555555555555556,\"#d8576b\"],[0.6666666666666666,\"#ed7953\"],[0.7777777777777778,\"#fb9f3a\"],[0.8888888888888888,\"#fdca26\"],[1.0,\"#f0f921\"]]}],\"surface\":[{\"type\":\"surface\",\"colorbar\":{\"outlinewidth\":0,\"ticks\":\"\"},\"colorscale\":[[0.0,\"#0d0887\"],[0.1111111111111111,\"#46039f\"],[0.2222222222222222,\"#7201a8\"],[0.3333333333333333,\"#9c179e\"],[0.4444444444444444,\"#bd3786\"],[0.5555555555555556,\"#d8576b\"],[0.6666666666666666,\"#ed7953\"],[0.7777777777777778,\"#fb9f3a\"],[0.8888888888888888,\"#fdca26\"],[1.0,\"#f0f921\"]]}],\"mesh3d\":[{\"type\":\"mesh3d\",\"colorbar\":{\"outlinewidth\":0,\"ticks\":\"\"}}],\"scatter\":[{\"fillpattern\":{\"fillmode\":\"overlay\",\"size\":10,\"solidity\":0.2},\"type\":\"scatter\"}],\"parcoords\":[{\"type\":\"parcoords\",\"line\":{\"colorbar\":{\"outlinewidth\":0,\"ticks\":\"\"}}}],\"scatterpolargl\":[{\"type\":\"scatterpolargl\",\"marker\":{\"colorbar\":{\"outlinewidth\":0,\"ticks\":\"\"}}}],\"bar\":[{\"error_x\":{\"color\":\"#2a3f5f\"},\"error_y\":{\"color\":\"#2a3f5f\"},\"marker\":{\"line\":{\"color\":\"#E5ECF6\",\"width\":0.5},\"pattern\":{\"fillmode\":\"overlay\",\"size\":10,\"solidity\":0.2}},\"type\":\"bar\"}],\"scattergeo\":[{\"type\":\"scattergeo\",\"marker\":{\"colorbar\":{\"outlinewidth\":0,\"ticks\":\"\"}}}],\"scatterpolar\":[{\"type\":\"scatterpolar\",\"marker\":{\"colorbar\":{\"outlinewidth\":0,\"ticks\":\"\"}}}],\"histogram\":[{\"marker\":{\"pattern\":{\"fillmode\":\"overlay\",\"size\":10,\"solidity\":0.2}},\"type\":\"histogram\"}],\"scattergl\":[{\"type\":\"scattergl\",\"marker\":{\"colorbar\":{\"outlinewidth\":0,\"ticks\":\"\"}}}],\"scatter3d\":[{\"type\":\"scatter3d\",\"line\":{\"colorbar\":{\"outlinewidth\":0,\"ticks\":\"\"}},\"marker\":{\"colorbar\":{\"outlinewidth\":0,\"ticks\":\"\"}}}],\"scattermapbox\":[{\"type\":\"scattermapbox\",\"marker\":{\"colorbar\":{\"outlinewidth\":0,\"ticks\":\"\"}}}],\"scatterternary\":[{\"type\":\"scatterternary\",\"marker\":{\"colorbar\":{\"outlinewidth\":0,\"ticks\":\"\"}}}],\"scattercarpet\":[{\"type\":\"scattercarpet\",\"marker\":{\"colorbar\":{\"outlinewidth\":0,\"ticks\":\"\"}}}],\"carpet\":[{\"aaxis\":{\"endlinecolor\":\"#2a3f5f\",\"gridcolor\":\"white\",\"linecolor\":\"white\",\"minorgridcolor\":\"white\",\"startlinecolor\":\"#2a3f5f\"},\"baxis\":{\"endlinecolor\":\"#2a3f5f\",\"gridcolor\":\"white\",\"linecolor\":\"white\",\"minorgridcolor\":\"white\",\"startlinecolor\":\"#2a3f5f\"},\"type\":\"carpet\"}],\"table\":[{\"cells\":{\"fill\":{\"color\":\"#EBF0F8\"},\"line\":{\"color\":\"white\"}},\"header\":{\"fill\":{\"color\":\"#C8D4E3\"},\"line\":{\"color\":\"white\"}},\"type\":\"table\"}],\"barpolar\":[{\"marker\":{\"line\":{\"color\":\"#E5ECF6\",\"width\":0.5},\"pattern\":{\"fillmode\":\"overlay\",\"size\":10,\"solidity\":0.2}},\"type\":\"barpolar\"}],\"pie\":[{\"automargin\":true,\"type\":\"pie\"}]},\"layout\":{\"autotypenumbers\":\"strict\",\"colorway\":[\"#636efa\",\"#EF553B\",\"#00cc96\",\"#ab63fa\",\"#FFA15A\",\"#19d3f3\",\"#FF6692\",\"#B6E880\",\"#FF97FF\",\"#FECB52\"],\"font\":{\"color\":\"#2a3f5f\"},\"hovermode\":\"closest\",\"hoverlabel\":{\"align\":\"left\"},\"paper_bgcolor\":\"white\",\"plot_bgcolor\":\"#E5ECF6\",\"polar\":{\"bgcolor\":\"#E5ECF6\",\"angularaxis\":{\"gridcolor\":\"white\",\"linecolor\":\"white\",\"ticks\":\"\"},\"radialaxis\":{\"gridcolor\":\"white\",\"linecolor\":\"white\",\"ticks\":\"\"}},\"ternary\":{\"bgcolor\":\"#E5ECF6\",\"aaxis\":{\"gridcolor\":\"white\",\"linecolor\":\"white\",\"ticks\":\"\"},\"baxis\":{\"gridcolor\":\"white\",\"linecolor\":\"white\",\"ticks\":\"\"},\"caxis\":{\"gridcolor\":\"white\",\"linecolor\":\"white\",\"ticks\":\"\"}},\"coloraxis\":{\"colorbar\":{\"outlinewidth\":0,\"ticks\":\"\"}},\"colorscale\":{\"sequential\":[[0.0,\"#0d0887\"],[0.1111111111111111,\"#46039f\"],[0.2222222222222222,\"#7201a8\"],[0.3333333333333333,\"#9c179e\"],[0.4444444444444444,\"#bd3786\"],[0.5555555555555556,\"#d8576b\"],[0.6666666666666666,\"#ed7953\"],[0.7777777777777778,\"#fb9f3a\"],[0.8888888888888888,\"#fdca26\"],[1.0,\"#f0f921\"]],\"sequentialminus\":[[0.0,\"#0d0887\"],[0.1111111111111111,\"#46039f\"],[0.2222222222222222,\"#7201a8\"],[0.3333333333333333,\"#9c179e\"],[0.4444444444444444,\"#bd3786\"],[0.5555555555555556,\"#d8576b\"],[0.6666666666666666,\"#ed7953\"],[0.7777777777777778,\"#fb9f3a\"],[0.8888888888888888,\"#fdca26\"],[1.0,\"#f0f921\"]],\"diverging\":[[0,\"#8e0152\"],[0.1,\"#c51b7d\"],[0.2,\"#de77ae\"],[0.3,\"#f1b6da\"],[0.4,\"#fde0ef\"],[0.5,\"#f7f7f7\"],[0.6,\"#e6f5d0\"],[0.7,\"#b8e186\"],[0.8,\"#7fbc41\"],[0.9,\"#4d9221\"],[1,\"#276419\"]]},\"xaxis\":{\"gridcolor\":\"white\",\"linecolor\":\"white\",\"ticks\":\"\",\"title\":{\"standoff\":15},\"zerolinecolor\":\"white\",\"automargin\":true,\"zerolinewidth\":2},\"yaxis\":{\"gridcolor\":\"white\",\"linecolor\":\"white\",\"ticks\":\"\",\"title\":{\"standoff\":15},\"zerolinecolor\":\"white\",\"automargin\":true,\"zerolinewidth\":2},\"scene\":{\"xaxis\":{\"backgroundcolor\":\"#E5ECF6\",\"gridcolor\":\"white\",\"linecolor\":\"white\",\"showbackground\":true,\"ticks\":\"\",\"zerolinecolor\":\"white\",\"gridwidth\":2},\"yaxis\":{\"backgroundcolor\":\"#E5ECF6\",\"gridcolor\":\"white\",\"linecolor\":\"white\",\"showbackground\":true,\"ticks\":\"\",\"zerolinecolor\":\"white\",\"gridwidth\":2},\"zaxis\":{\"backgroundcolor\":\"#E5ECF6\",\"gridcolor\":\"white\",\"linecolor\":\"white\",\"showbackground\":true,\"ticks\":\"\",\"zerolinecolor\":\"white\",\"gridwidth\":2}},\"shapedefaults\":{\"line\":{\"color\":\"#2a3f5f\"}},\"annotationdefaults\":{\"arrowcolor\":\"#2a3f5f\",\"arrowhead\":0,\"arrowwidth\":1},\"geo\":{\"bgcolor\":\"white\",\"landcolor\":\"#E5ECF6\",\"subunitcolor\":\"white\",\"showland\":true,\"showlakes\":true,\"lakecolor\":\"white\"},\"title\":{\"x\":0.05},\"mapbox\":{\"style\":\"light\"}}},\"xaxis\":{\"anchor\":\"y\",\"domain\":[0.0,1.0],\"title\":{\"text\":\"Bowler\"},\"tickangle\":-45},\"yaxis\":{\"anchor\":\"x\",\"domain\":[0.0,1.0],\"title\":{\"text\":\"Economy Rate\"}},\"coloraxis\":{\"colorbar\":{\"title\":{\"text\":\"Economy Rate\"}},\"colorscale\":[[0.0,\"#440154\"],[0.1111111111111111,\"#482878\"],[0.2222222222222222,\"#3e4989\"],[0.3333333333333333,\"#31688e\"],[0.4444444444444444,\"#26828e\"],[0.5555555555555556,\"#1f9e89\"],[0.6666666666666666,\"#35b779\"],[0.7777777777777778,\"#6ece58\"],[0.8888888888888888,\"#b5de2b\"],[1.0,\"#fde725\"]]},\"legend\":{\"tracegroupgap\":0},\"title\":{\"text\":\"Most Economical Bowlers (Min 100 Matches)\"},\"barmode\":\"relative\"},                        {\"responsive\": true}                    ).then(function(){\n",
       "                            \n",
       "var gd = document.getElementById('da45f0e2-2dac-4242-86ca-bc86bd64d271');\n",
       "var x = new MutationObserver(function (mutations, observer) {{\n",
       "        var display = window.getComputedStyle(gd).display;\n",
       "        if (!display || display === 'none') {{\n",
       "            console.log([gd, 'removed!']);\n",
       "            Plotly.purge(gd);\n",
       "            observer.disconnect();\n",
       "        }}\n",
       "}});\n",
       "\n",
       "// Listen for the removal of the full notebook cells\n",
       "var notebookContainer = gd.closest('#notebook-container');\n",
       "if (notebookContainer) {{\n",
       "    x.observe(notebookContainer, {childList: true});\n",
       "}}\n",
       "\n",
       "// Listen for the clearing of the current output cell\n",
       "var outputEl = gd.closest('.output');\n",
       "if (outputEl) {{\n",
       "    x.observe(outputEl, {childList: true});\n",
       "}}\n",
       "\n",
       "                        })                };                            </script>        </div>\n",
       "</body>\n",
       "</html>"
      ]
     },
     "metadata": {},
     "output_type": "display_data"
    }
   ],
   "source": [
    "import plotly.express as px\n",
    "\n",
    "# Count matches per bowler\n",
    "bowler_matches = df.groupby('bowler')['match_id'].nunique()\n",
    "\n",
    "# Calculate total runs conceded & balls bowled\n",
    "bowler_stats = df.groupby('bowler').agg({'total_runs': 'sum', 'adjusted_over_ball': 'count'}).reset_index()\n",
    "bowler_stats['matches'] = bowler_stats['bowler'].map(bowler_matches)\n",
    "\n",
    "# Calculate economy rate\n",
    "bowler_stats['economy'] = bowler_stats['total_runs'] / (bowler_stats['adjusted_over_ball'] / 6)\n",
    "\n",
    "# Filter bowlers with at least 100 matches\n",
    "bowler_stats = bowler_stats[bowler_stats['matches'] >= 100].sort_values(by='economy', ascending=True).head(10)\n",
    "\n",
    "# Plot\n",
    "fig = px.bar(bowler_stats,\n",
    "             x=\"bowler\",\n",
    "             y=\"economy\",\n",
    "             text=\"economy\",\n",
    "             title=\"Most Economical Bowlers (Min 100 Matches)\",\n",
    "             labels={\"economy\": \"Economy Rate\", \"bowler\": \"Bowler\"},\n",
    "             color=\"economy\",\n",
    "             color_continuous_scale=\"viridis\")\n",
    "\n",
    "fig.update_traces(texttemplate='%{text:.2f}', textposition='outside')  # Format text\n",
    "fig.update_layout(xaxis_tickangle=-45)  # Rotate x-axis labels\n",
    "\n",
    "fig.show()\n"
   ]
  },
  {
   "cell_type": "markdown",
   "id": "daad1252",
   "metadata": {
    "id": "5qOn-CxozD6K",
    "jp-MarkdownHeadingCollapsed": true,
    "papermill": {
     "duration": 0.033287,
     "end_time": "2025-03-14T14:33:16.572107",
     "exception": false,
     "start_time": "2025-03-14T14:33:16.538820",
     "status": "completed"
    },
    "tags": []
   },
   "source": [
    "\n",
    "#### 🔍 Step 6: Advanced Insights"
   ]
  },
  {
   "cell_type": "markdown",
   "id": "31162301",
   "metadata": {
    "id": "psswrMlZvUnl",
    "papermill": {
     "duration": 0.033532,
     "end_time": "2025-03-14T14:33:16.640475",
     "exception": false,
     "start_time": "2025-03-14T14:33:16.606943",
     "status": "completed"
    },
    "tags": []
   },
   "source": [
    "### 🎯 Impact of Toss Winning on Match Outcome"
   ]
  },
  {
   "cell_type": "code",
   "execution_count": 53,
   "id": "65167eb0",
   "metadata": {
    "execution": {
     "iopub.execute_input": "2025-03-14T14:33:16.709607Z",
     "iopub.status.busy": "2025-03-14T14:33:16.709208Z",
     "iopub.status.idle": "2025-03-14T14:33:17.224872Z",
     "shell.execute_reply": "2025-03-14T14:33:17.223678Z"
    },
    "id": "1UXyVS24zH0r",
    "outputId": "b665ad1f-a48d-4343-eb6a-55dae289f8f9",
    "papermill": {
     "duration": 0.552999,
     "end_time": "2025-03-14T14:33:17.226770",
     "exception": false,
     "start_time": "2025-03-14T14:33:16.673771",
     "status": "completed"
    },
    "tags": []
   },
   "outputs": [
    {
     "data": {
      "text/html": [
       "<html>\n",
       "<head><meta charset=\"utf-8\" /></head>\n",
       "<body>\n",
       "    <div>            <script src=\"https://cdnjs.cloudflare.com/ajax/libs/mathjax/2.7.5/MathJax.js?config=TeX-AMS-MML_SVG\"></script><script type=\"text/javascript\">if (window.MathJax && window.MathJax.Hub && window.MathJax.Hub.Config) {window.MathJax.Hub.Config({SVG: {font: \"STIX-Web\"}});}</script>                <script type=\"text/javascript\">window.PlotlyConfig = {MathJaxConfig: 'local'};</script>\n",
       "        <script charset=\"utf-8\" src=\"https://cdn.plot.ly/plotly-2.35.2.min.js\"></script>                <div id=\"23971da4-0a1f-4fad-9447-6f820312f87d\" class=\"plotly-graph-div\" style=\"height:525px; width:100%;\"></div>            <script type=\"text/javascript\">                                    window.PLOTLYENV=window.PLOTLYENV || {};                                    if (document.getElementById(\"23971da4-0a1f-4fad-9447-6f820312f87d\")) {                    Plotly.newPlot(                        \"23971da4-0a1f-4fad-9447-6f820312f87d\",                        [{\"coloraxis\":\"coloraxis\",\"name\":\"0\",\"texttemplate\":\"%{z:.0f}\",\"x\":[\"Chennai Super Kings\",\"Deccan Chargers\",\"Delhi Capitals\",\"Delhi Daredevils\",\"Gujarat Lions\",\"Gujarat Titans\",\"Kings XI Punjab\",\"Kochi Tuskers Kerala\",\"Kolkata Knight Riders\",\"Lucknow Super Giants\",\"Mumbai Indians\",\"No Result\",\"Pune Warriors\",\"Punjab Kings\",\"Rajasthan Royals\",\"Rising Pune Supergiant\",\"Rising Pune Supergiants\",\"Royal Challengers Bangalore\",\"Royal Challengers Bengaluru\",\"Sunrisers Hyderabad\"],\"y\":[\"Chennai Super Kings\",\"Deccan Chargers\",\"Delhi Capitals\",\"Delhi Daredevils\",\"Gujarat Lions\",\"Gujarat Titans\",\"Kings XI Punjab\",\"Kochi Tuskers Kerala\",\"Kolkata Knight Riders\",\"Lucknow Super Giants\",\"Mumbai Indians\",\"Pune Warriors\",\"Punjab Kings\",\"Rajasthan Royals\",\"Rising Pune Supergiant\",\"Rising Pune Supergiants\",\"Royal Challengers Bangalore\",\"Royal Challengers Bengaluru\",\"Sunrisers Hyderabad\"],\"z\":[[75.0,1.0,2.0,4.0,0.0,2.0,5.0,0.0,5.0,0.0,7.0,1.0,1.0,3.0,7.0,0.0,0.0,6.0,1.0,2.0],[2.0,19.0,0.0,5.0,0.0,0.0,3.0,0.0,3.0,0.0,4.0,0.0,1.0,0.0,3.0,0.0,0.0,3.0,0.0,0.0],[3.0,0.0,26.0,0.0,0.0,1.0,2.0,0.0,2.0,1.0,4.0,0.0,0.0,1.0,3.0,0.0,0.0,3.0,1.0,3.0],[5.0,0.0,0.0,35.0,1.0,0.0,7.0,0.0,5.0,0.0,9.0,1.0,1.0,0.0,7.0,0.0,0.0,5.0,0.0,4.0],[0.0,0.0,0.0,0.0,10.0,0.0,2.0,0.0,0.0,0.0,1.0,0.0,0.0,0.0,0.0,0.0,0.0,2.0,0.0,0.0],[2.0,0.0,1.0,0.0,0.0,14.0,0.0,0.0,1.0,0.0,2.0,0.0,0.0,1.0,0.0,0.0,0.0,1.0,0.0,0.0],[4.0,2.0,1.0,3.0,0.0,0.0,36.0,0.0,8.0,0.0,7.0,0.0,2.0,0.0,6.0,0.0,1.0,7.0,0.0,8.0],[0.0,1.0,0.0,0.0,0.0,0.0,0.0,4.0,0.0,0.0,0.0,0.0,1.0,0.0,0.0,0.0,0.0,2.0,0.0,0.0],[10.0,1.0,2.0,5.0,0.0,0.0,6.0,2.0,68.0,2.0,10.0,0.0,1.0,1.0,5.0,0.0,0.0,3.0,0.0,6.0],[1.0,0.0,2.0,0.0,0.0,1.0,0.0,0.0,1.0,10.0,0.0,0.0,0.0,0.0,1.0,0.0,0.0,2.0,0.0,1.0],[6.0,0.0,3.0,6.0,0.0,3.0,10.0,0.0,6.0,4.0,78.0,0.0,1.0,2.0,6.0,2.0,1.0,8.0,0.0,7.0],[3.0,0.0,0.0,2.0,0.0,0.0,1.0,0.0,0.0,0.0,3.0,0.0,3.0,0.0,2.0,0.0,0.0,4.0,0.0,2.0],[1.0,0.0,2.0,0.0,0.0,1.0,0.0,0.0,1.0,2.0,1.0,0.0,0.0,9.0,2.0,0.0,0.0,1.0,1.0,3.0],[12.0,1.0,4.0,3.0,0.0,3.0,5.0,0.0,7.0,1.0,7.0,2.0,1.0,3.0,60.0,0.0,0.0,5.0,0.0,6.0],[0.0,0.0,0.0,1.0,0.0,0.0,0.0,0.0,0.0,0.0,0.0,0.0,0.0,0.0,0.0,5.0,0.0,0.0,0.0,0.0],[0.0,0.0,0.0,0.0,1.0,0.0,1.0,0.0,1.0,0.0,0.0,0.0,0.0,0.0,0.0,0.0,3.0,1.0,0.0,0.0],[6.0,4.0,2.0,3.0,1.0,1.0,8.0,0.0,9.0,0.0,6.0,1.0,0.0,2.0,4.0,2.0,0.0,57.0,0.0,7.0],[1.0,0.0,0.0,0.0,0.0,0.0,0.0,0.0,1.0,1.0,0.0,0.0,0.0,0.0,0.0,0.0,0.0,0.0,4.0,1.0],[7.0,0.0,3.0,0.0,0.0,2.0,2.0,0.0,13.0,3.0,5.0,0.0,0.0,2.0,6.0,1.0,0.0,6.0,0.0,38.0]],\"type\":\"heatmap\",\"xaxis\":\"x\",\"yaxis\":\"y\",\"hovertemplate\":\"Match Winner: %{x}\\u003cbr\\u003eToss Winner: %{y}\\u003cbr\\u003eMatches Won: %{z}\\u003cextra\\u003e\\u003c\\u002fextra\\u003e\"}],                        {\"template\":{\"data\":{\"histogram2dcontour\":[{\"type\":\"histogram2dcontour\",\"colorbar\":{\"outlinewidth\":0,\"ticks\":\"\"},\"colorscale\":[[0.0,\"#0d0887\"],[0.1111111111111111,\"#46039f\"],[0.2222222222222222,\"#7201a8\"],[0.3333333333333333,\"#9c179e\"],[0.4444444444444444,\"#bd3786\"],[0.5555555555555556,\"#d8576b\"],[0.6666666666666666,\"#ed7953\"],[0.7777777777777778,\"#fb9f3a\"],[0.8888888888888888,\"#fdca26\"],[1.0,\"#f0f921\"]]}],\"choropleth\":[{\"type\":\"choropleth\",\"colorbar\":{\"outlinewidth\":0,\"ticks\":\"\"}}],\"histogram2d\":[{\"type\":\"histogram2d\",\"colorbar\":{\"outlinewidth\":0,\"ticks\":\"\"},\"colorscale\":[[0.0,\"#0d0887\"],[0.1111111111111111,\"#46039f\"],[0.2222222222222222,\"#7201a8\"],[0.3333333333333333,\"#9c179e\"],[0.4444444444444444,\"#bd3786\"],[0.5555555555555556,\"#d8576b\"],[0.6666666666666666,\"#ed7953\"],[0.7777777777777778,\"#fb9f3a\"],[0.8888888888888888,\"#fdca26\"],[1.0,\"#f0f921\"]]}],\"heatmap\":[{\"type\":\"heatmap\",\"colorbar\":{\"outlinewidth\":0,\"ticks\":\"\"},\"colorscale\":[[0.0,\"#0d0887\"],[0.1111111111111111,\"#46039f\"],[0.2222222222222222,\"#7201a8\"],[0.3333333333333333,\"#9c179e\"],[0.4444444444444444,\"#bd3786\"],[0.5555555555555556,\"#d8576b\"],[0.6666666666666666,\"#ed7953\"],[0.7777777777777778,\"#fb9f3a\"],[0.8888888888888888,\"#fdca26\"],[1.0,\"#f0f921\"]]}],\"heatmapgl\":[{\"type\":\"heatmapgl\",\"colorbar\":{\"outlinewidth\":0,\"ticks\":\"\"},\"colorscale\":[[0.0,\"#0d0887\"],[0.1111111111111111,\"#46039f\"],[0.2222222222222222,\"#7201a8\"],[0.3333333333333333,\"#9c179e\"],[0.4444444444444444,\"#bd3786\"],[0.5555555555555556,\"#d8576b\"],[0.6666666666666666,\"#ed7953\"],[0.7777777777777778,\"#fb9f3a\"],[0.8888888888888888,\"#fdca26\"],[1.0,\"#f0f921\"]]}],\"contourcarpet\":[{\"type\":\"contourcarpet\",\"colorbar\":{\"outlinewidth\":0,\"ticks\":\"\"}}],\"contour\":[{\"type\":\"contour\",\"colorbar\":{\"outlinewidth\":0,\"ticks\":\"\"},\"colorscale\":[[0.0,\"#0d0887\"],[0.1111111111111111,\"#46039f\"],[0.2222222222222222,\"#7201a8\"],[0.3333333333333333,\"#9c179e\"],[0.4444444444444444,\"#bd3786\"],[0.5555555555555556,\"#d8576b\"],[0.6666666666666666,\"#ed7953\"],[0.7777777777777778,\"#fb9f3a\"],[0.8888888888888888,\"#fdca26\"],[1.0,\"#f0f921\"]]}],\"surface\":[{\"type\":\"surface\",\"colorbar\":{\"outlinewidth\":0,\"ticks\":\"\"},\"colorscale\":[[0.0,\"#0d0887\"],[0.1111111111111111,\"#46039f\"],[0.2222222222222222,\"#7201a8\"],[0.3333333333333333,\"#9c179e\"],[0.4444444444444444,\"#bd3786\"],[0.5555555555555556,\"#d8576b\"],[0.6666666666666666,\"#ed7953\"],[0.7777777777777778,\"#fb9f3a\"],[0.8888888888888888,\"#fdca26\"],[1.0,\"#f0f921\"]]}],\"mesh3d\":[{\"type\":\"mesh3d\",\"colorbar\":{\"outlinewidth\":0,\"ticks\":\"\"}}],\"scatter\":[{\"fillpattern\":{\"fillmode\":\"overlay\",\"size\":10,\"solidity\":0.2},\"type\":\"scatter\"}],\"parcoords\":[{\"type\":\"parcoords\",\"line\":{\"colorbar\":{\"outlinewidth\":0,\"ticks\":\"\"}}}],\"scatterpolargl\":[{\"type\":\"scatterpolargl\",\"marker\":{\"colorbar\":{\"outlinewidth\":0,\"ticks\":\"\"}}}],\"bar\":[{\"error_x\":{\"color\":\"#2a3f5f\"},\"error_y\":{\"color\":\"#2a3f5f\"},\"marker\":{\"line\":{\"color\":\"#E5ECF6\",\"width\":0.5},\"pattern\":{\"fillmode\":\"overlay\",\"size\":10,\"solidity\":0.2}},\"type\":\"bar\"}],\"scattergeo\":[{\"type\":\"scattergeo\",\"marker\":{\"colorbar\":{\"outlinewidth\":0,\"ticks\":\"\"}}}],\"scatterpolar\":[{\"type\":\"scatterpolar\",\"marker\":{\"colorbar\":{\"outlinewidth\":0,\"ticks\":\"\"}}}],\"histogram\":[{\"marker\":{\"pattern\":{\"fillmode\":\"overlay\",\"size\":10,\"solidity\":0.2}},\"type\":\"histogram\"}],\"scattergl\":[{\"type\":\"scattergl\",\"marker\":{\"colorbar\":{\"outlinewidth\":0,\"ticks\":\"\"}}}],\"scatter3d\":[{\"type\":\"scatter3d\",\"line\":{\"colorbar\":{\"outlinewidth\":0,\"ticks\":\"\"}},\"marker\":{\"colorbar\":{\"outlinewidth\":0,\"ticks\":\"\"}}}],\"scattermapbox\":[{\"type\":\"scattermapbox\",\"marker\":{\"colorbar\":{\"outlinewidth\":0,\"ticks\":\"\"}}}],\"scatterternary\":[{\"type\":\"scatterternary\",\"marker\":{\"colorbar\":{\"outlinewidth\":0,\"ticks\":\"\"}}}],\"scattercarpet\":[{\"type\":\"scattercarpet\",\"marker\":{\"colorbar\":{\"outlinewidth\":0,\"ticks\":\"\"}}}],\"carpet\":[{\"aaxis\":{\"endlinecolor\":\"#2a3f5f\",\"gridcolor\":\"white\",\"linecolor\":\"white\",\"minorgridcolor\":\"white\",\"startlinecolor\":\"#2a3f5f\"},\"baxis\":{\"endlinecolor\":\"#2a3f5f\",\"gridcolor\":\"white\",\"linecolor\":\"white\",\"minorgridcolor\":\"white\",\"startlinecolor\":\"#2a3f5f\"},\"type\":\"carpet\"}],\"table\":[{\"cells\":{\"fill\":{\"color\":\"#EBF0F8\"},\"line\":{\"color\":\"white\"}},\"header\":{\"fill\":{\"color\":\"#C8D4E3\"},\"line\":{\"color\":\"white\"}},\"type\":\"table\"}],\"barpolar\":[{\"marker\":{\"line\":{\"color\":\"#E5ECF6\",\"width\":0.5},\"pattern\":{\"fillmode\":\"overlay\",\"size\":10,\"solidity\":0.2}},\"type\":\"barpolar\"}],\"pie\":[{\"automargin\":true,\"type\":\"pie\"}]},\"layout\":{\"autotypenumbers\":\"strict\",\"colorway\":[\"#636efa\",\"#EF553B\",\"#00cc96\",\"#ab63fa\",\"#FFA15A\",\"#19d3f3\",\"#FF6692\",\"#B6E880\",\"#FF97FF\",\"#FECB52\"],\"font\":{\"color\":\"#2a3f5f\"},\"hovermode\":\"closest\",\"hoverlabel\":{\"align\":\"left\"},\"paper_bgcolor\":\"white\",\"plot_bgcolor\":\"#E5ECF6\",\"polar\":{\"bgcolor\":\"#E5ECF6\",\"angularaxis\":{\"gridcolor\":\"white\",\"linecolor\":\"white\",\"ticks\":\"\"},\"radialaxis\":{\"gridcolor\":\"white\",\"linecolor\":\"white\",\"ticks\":\"\"}},\"ternary\":{\"bgcolor\":\"#E5ECF6\",\"aaxis\":{\"gridcolor\":\"white\",\"linecolor\":\"white\",\"ticks\":\"\"},\"baxis\":{\"gridcolor\":\"white\",\"linecolor\":\"white\",\"ticks\":\"\"},\"caxis\":{\"gridcolor\":\"white\",\"linecolor\":\"white\",\"ticks\":\"\"}},\"coloraxis\":{\"colorbar\":{\"outlinewidth\":0,\"ticks\":\"\"}},\"colorscale\":{\"sequential\":[[0.0,\"#0d0887\"],[0.1111111111111111,\"#46039f\"],[0.2222222222222222,\"#7201a8\"],[0.3333333333333333,\"#9c179e\"],[0.4444444444444444,\"#bd3786\"],[0.5555555555555556,\"#d8576b\"],[0.6666666666666666,\"#ed7953\"],[0.7777777777777778,\"#fb9f3a\"],[0.8888888888888888,\"#fdca26\"],[1.0,\"#f0f921\"]],\"sequentialminus\":[[0.0,\"#0d0887\"],[0.1111111111111111,\"#46039f\"],[0.2222222222222222,\"#7201a8\"],[0.3333333333333333,\"#9c179e\"],[0.4444444444444444,\"#bd3786\"],[0.5555555555555556,\"#d8576b\"],[0.6666666666666666,\"#ed7953\"],[0.7777777777777778,\"#fb9f3a\"],[0.8888888888888888,\"#fdca26\"],[1.0,\"#f0f921\"]],\"diverging\":[[0,\"#8e0152\"],[0.1,\"#c51b7d\"],[0.2,\"#de77ae\"],[0.3,\"#f1b6da\"],[0.4,\"#fde0ef\"],[0.5,\"#f7f7f7\"],[0.6,\"#e6f5d0\"],[0.7,\"#b8e186\"],[0.8,\"#7fbc41\"],[0.9,\"#4d9221\"],[1,\"#276419\"]]},\"xaxis\":{\"gridcolor\":\"white\",\"linecolor\":\"white\",\"ticks\":\"\",\"title\":{\"standoff\":15},\"zerolinecolor\":\"white\",\"automargin\":true,\"zerolinewidth\":2},\"yaxis\":{\"gridcolor\":\"white\",\"linecolor\":\"white\",\"ticks\":\"\",\"title\":{\"standoff\":15},\"zerolinecolor\":\"white\",\"automargin\":true,\"zerolinewidth\":2},\"scene\":{\"xaxis\":{\"backgroundcolor\":\"#E5ECF6\",\"gridcolor\":\"white\",\"linecolor\":\"white\",\"showbackground\":true,\"ticks\":\"\",\"zerolinecolor\":\"white\",\"gridwidth\":2},\"yaxis\":{\"backgroundcolor\":\"#E5ECF6\",\"gridcolor\":\"white\",\"linecolor\":\"white\",\"showbackground\":true,\"ticks\":\"\",\"zerolinecolor\":\"white\",\"gridwidth\":2},\"zaxis\":{\"backgroundcolor\":\"#E5ECF6\",\"gridcolor\":\"white\",\"linecolor\":\"white\",\"showbackground\":true,\"ticks\":\"\",\"zerolinecolor\":\"white\",\"gridwidth\":2}},\"shapedefaults\":{\"line\":{\"color\":\"#2a3f5f\"}},\"annotationdefaults\":{\"arrowcolor\":\"#2a3f5f\",\"arrowhead\":0,\"arrowwidth\":1},\"geo\":{\"bgcolor\":\"white\",\"landcolor\":\"#E5ECF6\",\"subunitcolor\":\"white\",\"showland\":true,\"showlakes\":true,\"lakecolor\":\"white\"},\"title\":{\"x\":0.05},\"mapbox\":{\"style\":\"light\"}}},\"xaxis\":{\"anchor\":\"y\",\"domain\":[0.0,1.0],\"scaleanchor\":\"y\",\"constrain\":\"domain\",\"title\":{\"text\":\"Match Winner\"}},\"yaxis\":{\"anchor\":\"x\",\"domain\":[0.0,1.0],\"autorange\":\"reversed\",\"constrain\":\"domain\",\"title\":{\"text\":\"Toss Winner\"}},\"coloraxis\":{\"colorbar\":{\"title\":{\"text\":\"Matches Won\"}},\"colorscale\":[[0.0,\"rgb(103,0,31)\"],[0.1,\"rgb(178,24,43)\"],[0.2,\"rgb(214,96,77)\"],[0.3,\"rgb(244,165,130)\"],[0.4,\"rgb(253,219,199)\"],[0.5,\"rgb(247,247,247)\"],[0.6,\"rgb(209,229,240)\"],[0.7,\"rgb(146,197,222)\"],[0.8,\"rgb(67,147,195)\"],[0.9,\"rgb(33,102,172)\"],[1.0,\"rgb(5,48,97)\"]]},\"margin\":{\"t\":60},\"title\":{\"text\":\"Does Winning Toss Affect Match Outcome?\"}},                        {\"responsive\": true}                    ).then(function(){\n",
       "                            \n",
       "var gd = document.getElementById('23971da4-0a1f-4fad-9447-6f820312f87d');\n",
       "var x = new MutationObserver(function (mutations, observer) {{\n",
       "        var display = window.getComputedStyle(gd).display;\n",
       "        if (!display || display === 'none') {{\n",
       "            console.log([gd, 'removed!']);\n",
       "            Plotly.purge(gd);\n",
       "            observer.disconnect();\n",
       "        }}\n",
       "}});\n",
       "\n",
       "// Listen for the removal of the full notebook cells\n",
       "var notebookContainer = gd.closest('#notebook-container');\n",
       "if (notebookContainer) {{\n",
       "    x.observe(notebookContainer, {childList: true});\n",
       "}}\n",
       "\n",
       "// Listen for the clearing of the current output cell\n",
       "var outputEl = gd.closest('.output');\n",
       "if (outputEl) {{\n",
       "    x.observe(outputEl, {childList: true});\n",
       "}}\n",
       "\n",
       "                        })                };                            </script>        </div>\n",
       "</body>\n",
       "</html>"
      ]
     },
     "metadata": {},
     "output_type": "display_data"
    }
   ],
   "source": [
    "import plotly.express as px\n",
    "\n",
    "# Aggregate data\n",
    "toss_win_match_win = df.groupby('match_id').first().groupby(['toss_winner', 'winner']).size().unstack().fillna(0)\n",
    "\n",
    "# Convert to DataFrame for Plotly\n",
    "toss_win_match_win = toss_win_match_win.reset_index().melt(id_vars='toss_winner', var_name='winner', value_name='count')\n",
    "\n",
    "# Plot\n",
    "fig = px.imshow(toss_win_match_win.pivot(index='toss_winner', columns='winner', values='count'),\n",
    "                labels=dict(x=\"Match Winner\", y=\"Toss Winner\", color=\"Matches Won\"),\n",
    "                color_continuous_scale=\"RdBu\",  # Fix: Using 'RdBu' instead of 'coolwarm'\n",
    "                text_auto='.0f')\n",
    "\n",
    "fig.update_layout(title=\"Does Winning Toss Affect Match Outcome?\",\n",
    "                  xaxis_title=\"Match Winner\",\n",
    "                  yaxis_title=\"Toss Winner\")\n",
    "\n",
    "fig.show()\n"
   ]
  },
  {
   "cell_type": "markdown",
   "id": "67d6a52c",
   "metadata": {
    "id": "q7FDAcpLvUnl",
    "jp-MarkdownHeadingCollapsed": true,
    "papermill": {
     "duration": 0.033509,
     "end_time": "2025-03-14T14:33:17.296600",
     "exception": false,
     "start_time": "2025-03-14T14:33:17.263091",
     "status": "completed"
    },
    "tags": []
   },
   "source": [
    "This **heatmap** visualizes the relationship between **toss winners** and **match winners** in cricket. It answers the question:  \n",
    "\n",
    "### **\"Does winning the toss affect match outcomes?\"**  \n",
    "\n",
    "#### **Interpretation:**  \n",
    "- **X-axis:** Teams that won the match.  \n",
    "- **Y-axis:** Teams that won the toss.  \n",
    "- **Cell values:** Number of times a team won both the toss and the match.  \n",
    "- **Color Intensity:**  \n",
    "  - **Redder cells:** Higher correlation (teams frequently won after winning the toss).  \n",
    "  - **Bluer cells:** Lower correlation (teams rarely converted toss wins into match wins).  \n",
    "\n",
    "#### **Insights:**  \n",
    "- Teams like **Mumbai Indians (78), Chennai Super Kings (75), and Kolkata Knight Riders (68)** often won both the toss and match, suggesting a possible advantage.  \n",
    "- Other teams (e.g., **Gujarat Lions, Kochi Tuskers Kerala**) have lower values, meaning toss wins didn't significantly impact their match success.  \n",
    "- If most numbers were low, it would indicate **no strong relationship between toss wins and match wins**.  \n",
    "\n",
    "#### **Conclusion:**  \n",
    "- Toss-winning teams seem to have a **moderate advantage**, but match outcomes depend on **team strength, pitch conditions, and game strategies** beyond just the toss."
   ]
  },
  {
   "cell_type": "markdown",
   "id": "3d3857f8",
   "metadata": {
    "id": "-L-pMRyWvUnm",
    "papermill": {
     "duration": 0.034168,
     "end_time": "2025-03-14T14:33:17.365997",
     "exception": false,
     "start_time": "2025-03-14T14:33:17.331829",
     "status": "completed"
    },
    "tags": []
   },
   "source": [
    "### ✅ Batting First vs Chasing Wins Per Team"
   ]
  },
  {
   "cell_type": "code",
   "execution_count": 54,
   "id": "71c7b0bd",
   "metadata": {
    "execution": {
     "iopub.execute_input": "2025-03-14T14:33:17.436057Z",
     "iopub.status.busy": "2025-03-14T14:33:17.435638Z",
     "iopub.status.idle": "2025-03-14T14:33:17.504202Z",
     "shell.execute_reply": "2025-03-14T14:33:17.502974Z"
    },
    "id": "oXHCc713vUnm",
    "outputId": "a27456b6-f0e6-4005-b798-2d499a32bf34",
    "papermill": {
     "duration": 0.105469,
     "end_time": "2025-03-14T14:33:17.506179",
     "exception": false,
     "start_time": "2025-03-14T14:33:17.400710",
     "status": "completed"
    },
    "tags": []
   },
   "outputs": [
    {
     "data": {
      "text/html": [
       "<html>\n",
       "<head><meta charset=\"utf-8\" /></head>\n",
       "<body>\n",
       "    <div>            <script src=\"https://cdnjs.cloudflare.com/ajax/libs/mathjax/2.7.5/MathJax.js?config=TeX-AMS-MML_SVG\"></script><script type=\"text/javascript\">if (window.MathJax && window.MathJax.Hub && window.MathJax.Hub.Config) {window.MathJax.Hub.Config({SVG: {font: \"STIX-Web\"}});}</script>                <script type=\"text/javascript\">window.PlotlyConfig = {MathJaxConfig: 'local'};</script>\n",
       "        <script charset=\"utf-8\" src=\"https://cdn.plot.ly/plotly-2.35.2.min.js\"></script>                <div id=\"ed5ebaac-1259-4108-bc68-a884373eeb33\" class=\"plotly-graph-div\" style=\"height:525px; width:100%;\"></div>            <script type=\"text/javascript\">                                    window.PLOTLYENV=window.PLOTLYENV || {};                                    if (document.getElementById(\"ed5ebaac-1259-4108-bc68-a884373eeb33\")) {                    Plotly.newPlot(                        \"ed5ebaac-1259-4108-bc68-a884373eeb33\",                        [{\"alignmentgroup\":\"True\",\"hovertemplate\":\"Result Type=Batting First Wins\\u003cbr\\u003eTeam=%{x}\\u003cbr\\u003eTotal Wins=%{text}\\u003cextra\\u003e\\u003c\\u002fextra\\u003e\",\"legendgroup\":\"Batting First Wins\",\"marker\":{\"color\":\"blue\",\"pattern\":{\"shape\":\"\"}},\"name\":\"Batting First Wins\",\"offsetgroup\":\"Batting First Wins\",\"orientation\":\"v\",\"showlegend\":true,\"text\":[71.0,18.0,21.0,25.0,1.0,11.0,40.0,2.0,54.0,16.0,71.0,6.0,11.0,43.0,5.0,2.0,53.0,4.0,44.0],\"textposition\":\"outside\",\"x\":[\"Chennai Super Kings\",\"Deccan Chargers\",\"Delhi Capitals\",\"Delhi Daredevils\",\"Gujarat Lions\",\"Gujarat Titans\",\"Kings XI Punjab\",\"Kochi Tuskers Kerala\",\"Kolkata Knight Riders\",\"Lucknow Super Giants\",\"Mumbai Indians\",\"Pune Warriors\",\"Punjab Kings\",\"Rajasthan Royals\",\"Rising Pune Supergiant\",\"Rising Pune Supergiants\",\"Royal Challengers Bangalore\",\"Royal Challengers Bengaluru\",\"Sunrisers Hyderabad\"],\"xaxis\":\"x\",\"y\":[71,18,21,25,1,11,40,2,54,16,71,6,11,43,5,2,53,4,44],\"yaxis\":\"y\",\"type\":\"bar\",\"texttemplate\":\"%{text}\"},{\"alignmentgroup\":\"True\",\"hovertemplate\":\"Result Type=Chasing Wins\\u003cbr\\u003eTeam=%{x}\\u003cbr\\u003eTotal Wins=%{text}\\u003cextra\\u003e\\u003c\\u002fextra\\u003e\",\"legendgroup\":\"Chasing Wins\",\"marker\":{\"color\":\"orange\",\"pattern\":{\"shape\":\"\"}},\"name\":\"Chasing Wins\",\"offsetgroup\":\"Chasing Wins\",\"orientation\":\"v\",\"showlegend\":true,\"text\":[67.0,11.0,24.0,42.0,12.0,17.0,45.0,4.0,76.0,8.0,71.0,6.0,13.0,67.0,5.0,3.0,61.0,3.0,43.0],\"textposition\":\"outside\",\"x\":[\"Chennai Super Kings\",\"Deccan Chargers\",\"Delhi Capitals\",\"Delhi Daredevils\",\"Gujarat Lions\",\"Gujarat Titans\",\"Kings XI Punjab\",\"Kochi Tuskers Kerala\",\"Kolkata Knight Riders\",\"Lucknow Super Giants\",\"Mumbai Indians\",\"Pune Warriors\",\"Punjab Kings\",\"Rajasthan Royals\",\"Rising Pune Supergiant\",\"Rising Pune Supergiants\",\"Royal Challengers Bangalore\",\"Royal Challengers Bengaluru\",\"Sunrisers Hyderabad\"],\"xaxis\":\"x\",\"y\":[67,11,24,42,12,17,45,4,76,8,71,6,13,67,5,3,61,3,43],\"yaxis\":\"y\",\"type\":\"bar\",\"texttemplate\":\"%{text}\"}],                        {\"template\":{\"data\":{\"histogram2dcontour\":[{\"type\":\"histogram2dcontour\",\"colorbar\":{\"outlinewidth\":0,\"ticks\":\"\"},\"colorscale\":[[0.0,\"#0d0887\"],[0.1111111111111111,\"#46039f\"],[0.2222222222222222,\"#7201a8\"],[0.3333333333333333,\"#9c179e\"],[0.4444444444444444,\"#bd3786\"],[0.5555555555555556,\"#d8576b\"],[0.6666666666666666,\"#ed7953\"],[0.7777777777777778,\"#fb9f3a\"],[0.8888888888888888,\"#fdca26\"],[1.0,\"#f0f921\"]]}],\"choropleth\":[{\"type\":\"choropleth\",\"colorbar\":{\"outlinewidth\":0,\"ticks\":\"\"}}],\"histogram2d\":[{\"type\":\"histogram2d\",\"colorbar\":{\"outlinewidth\":0,\"ticks\":\"\"},\"colorscale\":[[0.0,\"#0d0887\"],[0.1111111111111111,\"#46039f\"],[0.2222222222222222,\"#7201a8\"],[0.3333333333333333,\"#9c179e\"],[0.4444444444444444,\"#bd3786\"],[0.5555555555555556,\"#d8576b\"],[0.6666666666666666,\"#ed7953\"],[0.7777777777777778,\"#fb9f3a\"],[0.8888888888888888,\"#fdca26\"],[1.0,\"#f0f921\"]]}],\"heatmap\":[{\"type\":\"heatmap\",\"colorbar\":{\"outlinewidth\":0,\"ticks\":\"\"},\"colorscale\":[[0.0,\"#0d0887\"],[0.1111111111111111,\"#46039f\"],[0.2222222222222222,\"#7201a8\"],[0.3333333333333333,\"#9c179e\"],[0.4444444444444444,\"#bd3786\"],[0.5555555555555556,\"#d8576b\"],[0.6666666666666666,\"#ed7953\"],[0.7777777777777778,\"#fb9f3a\"],[0.8888888888888888,\"#fdca26\"],[1.0,\"#f0f921\"]]}],\"heatmapgl\":[{\"type\":\"heatmapgl\",\"colorbar\":{\"outlinewidth\":0,\"ticks\":\"\"},\"colorscale\":[[0.0,\"#0d0887\"],[0.1111111111111111,\"#46039f\"],[0.2222222222222222,\"#7201a8\"],[0.3333333333333333,\"#9c179e\"],[0.4444444444444444,\"#bd3786\"],[0.5555555555555556,\"#d8576b\"],[0.6666666666666666,\"#ed7953\"],[0.7777777777777778,\"#fb9f3a\"],[0.8888888888888888,\"#fdca26\"],[1.0,\"#f0f921\"]]}],\"contourcarpet\":[{\"type\":\"contourcarpet\",\"colorbar\":{\"outlinewidth\":0,\"ticks\":\"\"}}],\"contour\":[{\"type\":\"contour\",\"colorbar\":{\"outlinewidth\":0,\"ticks\":\"\"},\"colorscale\":[[0.0,\"#0d0887\"],[0.1111111111111111,\"#46039f\"],[0.2222222222222222,\"#7201a8\"],[0.3333333333333333,\"#9c179e\"],[0.4444444444444444,\"#bd3786\"],[0.5555555555555556,\"#d8576b\"],[0.6666666666666666,\"#ed7953\"],[0.7777777777777778,\"#fb9f3a\"],[0.8888888888888888,\"#fdca26\"],[1.0,\"#f0f921\"]]}],\"surface\":[{\"type\":\"surface\",\"colorbar\":{\"outlinewidth\":0,\"ticks\":\"\"},\"colorscale\":[[0.0,\"#0d0887\"],[0.1111111111111111,\"#46039f\"],[0.2222222222222222,\"#7201a8\"],[0.3333333333333333,\"#9c179e\"],[0.4444444444444444,\"#bd3786\"],[0.5555555555555556,\"#d8576b\"],[0.6666666666666666,\"#ed7953\"],[0.7777777777777778,\"#fb9f3a\"],[0.8888888888888888,\"#fdca26\"],[1.0,\"#f0f921\"]]}],\"mesh3d\":[{\"type\":\"mesh3d\",\"colorbar\":{\"outlinewidth\":0,\"ticks\":\"\"}}],\"scatter\":[{\"fillpattern\":{\"fillmode\":\"overlay\",\"size\":10,\"solidity\":0.2},\"type\":\"scatter\"}],\"parcoords\":[{\"type\":\"parcoords\",\"line\":{\"colorbar\":{\"outlinewidth\":0,\"ticks\":\"\"}}}],\"scatterpolargl\":[{\"type\":\"scatterpolargl\",\"marker\":{\"colorbar\":{\"outlinewidth\":0,\"ticks\":\"\"}}}],\"bar\":[{\"error_x\":{\"color\":\"#2a3f5f\"},\"error_y\":{\"color\":\"#2a3f5f\"},\"marker\":{\"line\":{\"color\":\"#E5ECF6\",\"width\":0.5},\"pattern\":{\"fillmode\":\"overlay\",\"size\":10,\"solidity\":0.2}},\"type\":\"bar\"}],\"scattergeo\":[{\"type\":\"scattergeo\",\"marker\":{\"colorbar\":{\"outlinewidth\":0,\"ticks\":\"\"}}}],\"scatterpolar\":[{\"type\":\"scatterpolar\",\"marker\":{\"colorbar\":{\"outlinewidth\":0,\"ticks\":\"\"}}}],\"histogram\":[{\"marker\":{\"pattern\":{\"fillmode\":\"overlay\",\"size\":10,\"solidity\":0.2}},\"type\":\"histogram\"}],\"scattergl\":[{\"type\":\"scattergl\",\"marker\":{\"colorbar\":{\"outlinewidth\":0,\"ticks\":\"\"}}}],\"scatter3d\":[{\"type\":\"scatter3d\",\"line\":{\"colorbar\":{\"outlinewidth\":0,\"ticks\":\"\"}},\"marker\":{\"colorbar\":{\"outlinewidth\":0,\"ticks\":\"\"}}}],\"scattermapbox\":[{\"type\":\"scattermapbox\",\"marker\":{\"colorbar\":{\"outlinewidth\":0,\"ticks\":\"\"}}}],\"scatterternary\":[{\"type\":\"scatterternary\",\"marker\":{\"colorbar\":{\"outlinewidth\":0,\"ticks\":\"\"}}}],\"scattercarpet\":[{\"type\":\"scattercarpet\",\"marker\":{\"colorbar\":{\"outlinewidth\":0,\"ticks\":\"\"}}}],\"carpet\":[{\"aaxis\":{\"endlinecolor\":\"#2a3f5f\",\"gridcolor\":\"white\",\"linecolor\":\"white\",\"minorgridcolor\":\"white\",\"startlinecolor\":\"#2a3f5f\"},\"baxis\":{\"endlinecolor\":\"#2a3f5f\",\"gridcolor\":\"white\",\"linecolor\":\"white\",\"minorgridcolor\":\"white\",\"startlinecolor\":\"#2a3f5f\"},\"type\":\"carpet\"}],\"table\":[{\"cells\":{\"fill\":{\"color\":\"#EBF0F8\"},\"line\":{\"color\":\"white\"}},\"header\":{\"fill\":{\"color\":\"#C8D4E3\"},\"line\":{\"color\":\"white\"}},\"type\":\"table\"}],\"barpolar\":[{\"marker\":{\"line\":{\"color\":\"#E5ECF6\",\"width\":0.5},\"pattern\":{\"fillmode\":\"overlay\",\"size\":10,\"solidity\":0.2}},\"type\":\"barpolar\"}],\"pie\":[{\"automargin\":true,\"type\":\"pie\"}]},\"layout\":{\"autotypenumbers\":\"strict\",\"colorway\":[\"#636efa\",\"#EF553B\",\"#00cc96\",\"#ab63fa\",\"#FFA15A\",\"#19d3f3\",\"#FF6692\",\"#B6E880\",\"#FF97FF\",\"#FECB52\"],\"font\":{\"color\":\"#2a3f5f\"},\"hovermode\":\"closest\",\"hoverlabel\":{\"align\":\"left\"},\"paper_bgcolor\":\"white\",\"plot_bgcolor\":\"#E5ECF6\",\"polar\":{\"bgcolor\":\"#E5ECF6\",\"angularaxis\":{\"gridcolor\":\"white\",\"linecolor\":\"white\",\"ticks\":\"\"},\"radialaxis\":{\"gridcolor\":\"white\",\"linecolor\":\"white\",\"ticks\":\"\"}},\"ternary\":{\"bgcolor\":\"#E5ECF6\",\"aaxis\":{\"gridcolor\":\"white\",\"linecolor\":\"white\",\"ticks\":\"\"},\"baxis\":{\"gridcolor\":\"white\",\"linecolor\":\"white\",\"ticks\":\"\"},\"caxis\":{\"gridcolor\":\"white\",\"linecolor\":\"white\",\"ticks\":\"\"}},\"coloraxis\":{\"colorbar\":{\"outlinewidth\":0,\"ticks\":\"\"}},\"colorscale\":{\"sequential\":[[0.0,\"#0d0887\"],[0.1111111111111111,\"#46039f\"],[0.2222222222222222,\"#7201a8\"],[0.3333333333333333,\"#9c179e\"],[0.4444444444444444,\"#bd3786\"],[0.5555555555555556,\"#d8576b\"],[0.6666666666666666,\"#ed7953\"],[0.7777777777777778,\"#fb9f3a\"],[0.8888888888888888,\"#fdca26\"],[1.0,\"#f0f921\"]],\"sequentialminus\":[[0.0,\"#0d0887\"],[0.1111111111111111,\"#46039f\"],[0.2222222222222222,\"#7201a8\"],[0.3333333333333333,\"#9c179e\"],[0.4444444444444444,\"#bd3786\"],[0.5555555555555556,\"#d8576b\"],[0.6666666666666666,\"#ed7953\"],[0.7777777777777778,\"#fb9f3a\"],[0.8888888888888888,\"#fdca26\"],[1.0,\"#f0f921\"]],\"diverging\":[[0,\"#8e0152\"],[0.1,\"#c51b7d\"],[0.2,\"#de77ae\"],[0.3,\"#f1b6da\"],[0.4,\"#fde0ef\"],[0.5,\"#f7f7f7\"],[0.6,\"#e6f5d0\"],[0.7,\"#b8e186\"],[0.8,\"#7fbc41\"],[0.9,\"#4d9221\"],[1,\"#276419\"]]},\"xaxis\":{\"gridcolor\":\"white\",\"linecolor\":\"white\",\"ticks\":\"\",\"title\":{\"standoff\":15},\"zerolinecolor\":\"white\",\"automargin\":true,\"zerolinewidth\":2},\"yaxis\":{\"gridcolor\":\"white\",\"linecolor\":\"white\",\"ticks\":\"\",\"title\":{\"standoff\":15},\"zerolinecolor\":\"white\",\"automargin\":true,\"zerolinewidth\":2},\"scene\":{\"xaxis\":{\"backgroundcolor\":\"#E5ECF6\",\"gridcolor\":\"white\",\"linecolor\":\"white\",\"showbackground\":true,\"ticks\":\"\",\"zerolinecolor\":\"white\",\"gridwidth\":2},\"yaxis\":{\"backgroundcolor\":\"#E5ECF6\",\"gridcolor\":\"white\",\"linecolor\":\"white\",\"showbackground\":true,\"ticks\":\"\",\"zerolinecolor\":\"white\",\"gridwidth\":2},\"zaxis\":{\"backgroundcolor\":\"#E5ECF6\",\"gridcolor\":\"white\",\"linecolor\":\"white\",\"showbackground\":true,\"ticks\":\"\",\"zerolinecolor\":\"white\",\"gridwidth\":2}},\"shapedefaults\":{\"line\":{\"color\":\"#2a3f5f\"}},\"annotationdefaults\":{\"arrowcolor\":\"#2a3f5f\",\"arrowhead\":0,\"arrowwidth\":1},\"geo\":{\"bgcolor\":\"white\",\"landcolor\":\"#E5ECF6\",\"subunitcolor\":\"white\",\"showland\":true,\"showlakes\":true,\"lakecolor\":\"white\"},\"title\":{\"x\":0.05},\"mapbox\":{\"style\":\"light\"}}},\"xaxis\":{\"anchor\":\"y\",\"domain\":[0.0,1.0],\"title\":{\"text\":\"Team\"},\"tickangle\":-45},\"yaxis\":{\"anchor\":\"x\",\"domain\":[0.0,1.0],\"title\":{\"text\":\"Total Wins\"}},\"legend\":{\"title\":{\"text\":\"Result Type\"},\"tracegroupgap\":0},\"title\":{\"text\":\"Batting First vs Chasing Wins Per Team\"},\"barmode\":\"relative\"},                        {\"responsive\": true}                    ).then(function(){\n",
       "                            \n",
       "var gd = document.getElementById('ed5ebaac-1259-4108-bc68-a884373eeb33');\n",
       "var x = new MutationObserver(function (mutations, observer) {{\n",
       "        var display = window.getComputedStyle(gd).display;\n",
       "        if (!display || display === 'none') {{\n",
       "            console.log([gd, 'removed!']);\n",
       "            Plotly.purge(gd);\n",
       "            observer.disconnect();\n",
       "        }}\n",
       "}});\n",
       "\n",
       "// Listen for the removal of the full notebook cells\n",
       "var notebookContainer = gd.closest('#notebook-container');\n",
       "if (notebookContainer) {{\n",
       "    x.observe(notebookContainer, {childList: true});\n",
       "}}\n",
       "\n",
       "// Listen for the clearing of the current output cell\n",
       "var outputEl = gd.closest('.output');\n",
       "if (outputEl) {{\n",
       "    x.observe(outputEl, {childList: true});\n",
       "}}\n",
       "\n",
       "                        })                };                            </script>        </div>\n",
       "</body>\n",
       "</html>"
      ]
     },
     "metadata": {},
     "output_type": "display_data"
    }
   ],
   "source": [
    "import plotly.express as px\n",
    "\n",
    "# Prepare Data\n",
    "bat_first_wins = matches[matches['result'] == \"runs\"].groupby('winner').size()\n",
    "chase_wins = matches[matches['result'] == \"wickets\"].groupby('winner').size()\n",
    "\n",
    "bat_vs_chase = pd.DataFrame({'Batting First Wins': bat_first_wins, 'Chasing Wins': chase_wins}).fillna(0)\n",
    "bat_vs_chase = bat_vs_chase.reset_index().melt(id_vars='winner', var_name='Result Type', value_name='Wins')\n",
    "\n",
    "# Plot\n",
    "fig = px.bar(bat_vs_chase,\n",
    "             x='winner',\n",
    "             y='Wins',\n",
    "             color='Result Type',\n",
    "             text='Wins',\n",
    "             title=\"Batting First vs Chasing Wins Per Team\",\n",
    "             labels={'winner': 'Team', 'Wins': 'Total Wins'},\n",
    "             color_discrete_map={'Batting First Wins': 'blue', 'Chasing Wins': 'orange'})\n",
    "\n",
    "fig.update_traces(texttemplate='%{text}', textposition='outside')\n",
    "fig.update_layout(xaxis_tickangle=-45)\n",
    "\n",
    "fig.show()\n"
   ]
  },
  {
   "cell_type": "markdown",
   "id": "d40139d4",
   "metadata": {
    "id": "Su12lXguvUnu",
    "papermill": {
     "duration": 0.035747,
     "end_time": "2025-03-14T14:33:17.581164",
     "exception": false,
     "start_time": "2025-03-14T14:33:17.545417",
     "status": "completed"
    },
    "tags": []
   },
   "source": [
    "### ✅ Wickets Per Over Trend"
   ]
  },
  {
   "cell_type": "code",
   "execution_count": 55,
   "id": "33b4cff9",
   "metadata": {
    "execution": {
     "iopub.execute_input": "2025-03-14T14:33:17.656202Z",
     "iopub.status.busy": "2025-03-14T14:33:17.655739Z",
     "iopub.status.idle": "2025-03-14T14:33:17.970404Z",
     "shell.execute_reply": "2025-03-14T14:33:17.969219Z"
    },
    "id": "gWt5GyPavUnv",
    "outputId": "2d3fd8c7-2c50-4bbc-df50-afea4c4a7da3",
    "papermill": {
     "duration": 0.353079,
     "end_time": "2025-03-14T14:33:17.972169",
     "exception": false,
     "start_time": "2025-03-14T14:33:17.619090",
     "status": "completed"
    },
    "tags": []
   },
   "outputs": [
    {
     "data": {
      "image/png": "[encoded data removed]",
      "text/plain": [
       "<Figure size 1000x500 with 1 Axes>"
      ]
     },
     "metadata": {},
     "output_type": "display_data"
    }
   ],
   "source": [
    "plt.figure(figsize=(10, 5))\n",
    "sns.lineplot(data=df[df['is_wicket'] == 1], x='over', y='is_wicket', estimator='sum', ci=None, color='red')\n",
    "plt.title('Wickets per Over')\n",
    "plt.xlabel('Over Number')\n",
    "plt.ylabel('Total Wickets')\n",
    "plt.show()"
   ]
  },
  {
   "cell_type": "markdown",
   "id": "4abdfd97",
   "metadata": {
    "id": "kzrVnrQtzWQc",
    "papermill": {
     "duration": 0.035014,
     "end_time": "2025-03-14T14:33:18.043159",
     "exception": false,
     "start_time": "2025-03-14T14:33:18.008145",
     "status": "completed"
    },
    "tags": []
   },
   "source": [
    "<a id=\"6-model-building\"></a>\n",
    "# 🤖 6. Model Building  \n",
    "- Split data into train/test sets.  \n",
    "- Train a RandomForestClassifier.  \n",
    "- Evaluate accuracy and generate classification reports.  "
   ]
  },
  {
   "cell_type": "markdown",
   "id": "0f8ea7e9",
   "metadata": {
    "id": "4QwaeSsGvUnw",
    "papermill": {
     "duration": 0.036262,
     "end_time": "2025-03-14T14:33:18.116615",
     "exception": false,
     "start_time": "2025-03-14T14:33:18.080353",
     "status": "completed"
    },
    "tags": []
   },
   "source": [
    "### ✅ Predicting Match Winner Using Random Forest"
   ]
  },
  {
   "cell_type": "markdown",
   "id": "90cbe821",
   "metadata": {
    "id": "uIFzUxDm4Q_K",
    "papermill": {
     "duration": 0.034119,
     "end_time": "2025-03-14T14:33:18.188026",
     "exception": false,
     "start_time": "2025-03-14T14:33:18.153907",
     "status": "completed"
    },
    "tags": []
   },
   "source": [
    "### ✅ Convert categorical features to numerical"
   ]
  },
  {
   "cell_type": "code",
   "execution_count": 56,
   "id": "d55089be",
   "metadata": {
    "execution": {
     "iopub.execute_input": "2025-03-14T14:33:18.256952Z",
     "iopub.status.busy": "2025-03-14T14:33:18.256429Z",
     "iopub.status.idle": "2025-03-14T14:33:18.559330Z",
     "shell.execute_reply": "2025-03-14T14:33:18.558112Z"
    },
    "id": "II7gJ2cbvUnx",
    "papermill": {
     "duration": 0.339849,
     "end_time": "2025-03-14T14:33:18.561462",
     "exception": false,
     "start_time": "2025-03-14T14:33:18.221613",
     "status": "completed"
    },
    "tags": []
   },
   "outputs": [],
   "source": [
    "import pandas as pd\n",
    "import numpy as np\n",
    "from sklearn.model_selection import train_test_split, cross_val_score\n",
    "from sklearn.ensemble import RandomForestClassifier\n",
    "from sklearn.metrics import accuracy_score, classification_report\n",
    "from sklearn.preprocessing import LabelEncoder\n",
    "\n",
    "# Convert categorical features to numerical\n",
    "label_cols = ['batting_team', 'bowling_team', 'toss_winner', 'winner', 'venue', 'season']\n",
    "encoder = LabelEncoder()\n",
    "\n",
    "for col in label_cols:\n",
    "    df[col] = encoder.fit_transform(df[col])\n",
    "\n"
   ]
  },
  {
   "cell_type": "markdown",
   "id": "cf451f81",
   "metadata": {
    "id": "SCnMUUznvUny",
    "papermill": {
     "duration": 0.036602,
     "end_time": "2025-03-14T14:33:18.631797",
     "exception": false,
     "start_time": "2025-03-14T14:33:18.595195",
     "status": "completed"
    },
    "tags": []
   },
   "source": [
    "### ✅ Feature Engineering for Machine Learning Model"
   ]
  },
  {
   "cell_type": "code",
   "execution_count": 57,
   "id": "ecfe0c92",
   "metadata": {
    "execution": {
     "iopub.execute_input": "2025-03-14T14:33:18.701183Z",
     "iopub.status.busy": "2025-03-14T14:33:18.700657Z",
     "iopub.status.idle": "2025-03-14T14:33:18.728630Z",
     "shell.execute_reply": "2025-03-14T14:33:18.727238Z"
    },
    "id": "kg6FxIUlzVRM",
    "papermill": {
     "duration": 0.065112,
     "end_time": "2025-03-14T14:33:18.730870",
     "exception": false,
     "start_time": "2025-03-14T14:33:18.665758",
     "status": "completed"
    },
    "tags": []
   },
   "outputs": [],
   "source": [
    "# Feature Engineering\n",
    "df['toss_win'] = (df['toss_winner'] == df['batting_team']).astype(int)\n",
    "\n",
    "# Select Features & Target\n",
    "features = df[['batting_team', 'bowling_team', 'toss_win', 'venue', 'season']]\n",
    "target = df['winner']"
   ]
  },
  {
   "cell_type": "markdown",
   "id": "87571731",
   "metadata": {
    "id": "vrxaUh71vUn3",
    "papermill": {
     "duration": 0.03392,
     "end_time": "2025-03-14T14:33:18.799050",
     "exception": false,
     "start_time": "2025-03-14T14:33:18.765130",
     "status": "completed"
    },
    "tags": []
   },
   "source": [
    "### ✅ Train-Test Split"
   ]
  },
  {
   "cell_type": "code",
   "execution_count": 58,
   "id": "1a59c405",
   "metadata": {
    "execution": {
     "iopub.execute_input": "2025-03-14T14:33:18.869259Z",
     "iopub.status.busy": "2025-03-14T14:33:18.868832Z",
     "iopub.status.idle": "2025-03-14T14:33:19.027413Z",
     "shell.execute_reply": "2025-03-14T14:33:19.026069Z"
    },
    "id": "kpNPKUDhzbDd",
    "papermill": {
     "duration": 0.196527,
     "end_time": "2025-03-14T14:33:19.029736",
     "exception": false,
     "start_time": "2025-03-14T14:33:18.833209",
     "status": "completed"
    },
    "tags": []
   },
   "outputs": [],
   "source": [
    "X_train, X_test, y_train, y_test = train_test_split(features, target, test_size=0.2, random_state=42, stratify=target)"
   ]
  },
  {
   "cell_type": "markdown",
   "id": "770a6186",
   "metadata": {
    "id": "B_5q_cxdvUn4",
    "papermill": {
     "duration": 0.035269,
     "end_time": "2025-03-14T14:33:19.103228",
     "exception": false,
     "start_time": "2025-03-14T14:33:19.067959",
     "status": "completed"
    },
    "tags": []
   },
   "source": [
    "### ✅ Train Model with Hyperparameter Tuning"
   ]
  },
  {
   "cell_type": "code",
   "execution_count": 59,
   "id": "35a69844",
   "metadata": {
    "execution": {
     "iopub.execute_input": "2025-03-14T14:33:19.178053Z",
     "iopub.status.busy": "2025-03-14T14:33:19.177571Z",
     "iopub.status.idle": "2025-03-14T14:33:48.603778Z",
     "shell.execute_reply": "2025-03-14T14:33:48.602413Z"
    },
    "id": "wXAc448ZzcJ1",
    "outputId": "1772bec5-c1c9-4b48-a6cf-0043e4d1bc25",
    "papermill": {
     "duration": 29.46645,
     "end_time": "2025-03-14T14:33:48.605671",
     "exception": false,
     "start_time": "2025-03-14T14:33:19.139221",
     "status": "completed"
    },
    "tags": []
   },
   "outputs": [
    {
     "data": {
      "text/html": [
       "<style>#sk-container-id-1 {color: black;background-color: white;}#sk-container-id-1 pre{padding: 0;}#sk-container-id-1 div.sk-toggleable {background-color: white;}#sk-container-id-1 label.sk-toggleable__label {cursor: pointer;display: block;width: 100%;margin-bottom: 0;padding: 0.3em;box-sizing: border-box;text-align: center;}#sk-container-id-1 label.sk-toggleable__label-arrow:before {content: \"▸\";float: left;margin-right: 0.25em;color: #696969;}#sk-container-id-1 label.sk-toggleable__label-arrow:hover:before {color: black;}#sk-container-id-1 div.sk-estimator:hover label.sk-toggleable__label-arrow:before {color: black;}#sk-container-id-1 div.sk-toggleable__content {max-height: 0;max-width: 0;overflow: hidden;text-align: left;background-color: #f0f8ff;}#sk-container-id-1 div.sk-toggleable__content pre {margin: 0.2em;color: black;border-radius: 0.25em;background-color: #f0f8ff;}#sk-container-id-1 input.sk-toggleable__control:checked~div.sk-toggleable__content {max-height: 200px;max-width: 100%;overflow: auto;}#sk-container-id-1 input.sk-toggleable__control:checked~label.sk-toggleable__label-arrow:before {content: \"▾\";}#sk-container-id-1 div.sk-estimator input.sk-toggleable__control:checked~label.sk-toggleable__label {background-color: #d4ebff;}#sk-container-id-1 div.sk-label input.sk-toggleable__control:checked~label.sk-toggleable__label {background-color: #d4ebff;}#sk-container-id-1 input.sk-hidden--visually {border: 0;clip: rect(1px 1px 1px 1px);clip: rect(1px, 1px, 1px, 1px);height: 1px;margin: -1px;overflow: hidden;padding: 0;position: absolute;width: 1px;}#sk-container-id-1 div.sk-estimator {font-family: monospace;background-color: #f0f8ff;border: 1px dotted black;border-radius: 0.25em;box-sizing: border-box;margin-bottom: 0.5em;}#sk-container-id-1 div.sk-estimator:hover {background-color: #d4ebff;}#sk-container-id-1 div.sk-parallel-item::after {content: \"\";width: 100%;border-bottom: 1px solid gray;flex-grow: 1;}#sk-container-id-1 div.sk-label:hover label.sk-toggleable__label {background-color: #d4ebff;}#sk-container-id-1 div.sk-serial::before {content: \"\";position: absolute;border-left: 1px solid gray;box-sizing: border-box;top: 0;bottom: 0;left: 50%;z-index: 0;}#sk-container-id-1 div.sk-serial {display: flex;flex-direction: column;align-items: center;background-color: white;padding-right: 0.2em;padding-left: 0.2em;position: relative;}#sk-container-id-1 div.sk-item {position: relative;z-index: 1;}#sk-container-id-1 div.sk-parallel {display: flex;align-items: stretch;justify-content: center;background-color: white;position: relative;}#sk-container-id-1 div.sk-item::before, #sk-container-id-1 div.sk-parallel-item::before {content: \"\";position: absolute;border-left: 1px solid gray;box-sizing: border-box;top: 0;bottom: 0;left: 50%;z-index: -1;}#sk-container-id-1 div.sk-parallel-item {display: flex;flex-direction: column;z-index: 1;position: relative;background-color: white;}#sk-container-id-1 div.sk-parallel-item:first-child::after {align-self: flex-end;width: 50%;}#sk-container-id-1 div.sk-parallel-item:last-child::after {align-self: flex-start;width: 50%;}#sk-container-id-1 div.sk-parallel-item:only-child::after {width: 0;}#sk-container-id-1 div.sk-dashed-wrapped {border: 1px dashed gray;margin: 0 0.4em 0.5em 0.4em;box-sizing: border-box;padding-bottom: 0.4em;background-color: white;}#sk-container-id-1 div.sk-label label {font-family: monospace;font-weight: bold;display: inline-block;line-height: 1.2em;}#sk-container-id-1 div.sk-label-container {text-align: center;}#sk-container-id-1 div.sk-container {/* jupyter's `normalize.less` sets `[hidden] { display: none; }` but bootstrap.min.css set `[hidden] { display: none !important; }` so we also need the `!important` here to be able to override the default hidden behavior on the sphinx rendered scikit-learn.org. See: https://github.com/scikit-learn/scikit-learn/issues/21755 */display: inline-block !important;position: relative;}#sk-container-id-1 div.sk-text-repr-fallback {display: none;}</style><div id=\"sk-container-id-1\" class=\"sk-top-container\"><div class=\"sk-text-repr-fallback\"><pre>RandomForestClassifier(max_depth=10, min_samples_split=5, n_estimators=200,\n",
       "                       random_state=42)</pre><b>In a Jupyter environment, please rerun this cell to show the HTML representation or trust the notebook. <br />On GitHub, the HTML representation is unable to render, please try loading this page with nbviewer.org.</b></div><div class=\"sk-container\" hidden><div class=\"sk-item\"><div class=\"sk-estimator sk-toggleable\"><input class=\"sk-toggleable__control sk-hidden--visually\" id=\"sk-estimator-id-1\" type=\"checkbox\" checked><label for=\"sk-estimator-id-1\" class=\"sk-toggleable__label sk-toggleable__label-arrow\">RandomForestClassifier</label><div class=\"sk-toggleable__content\"><pre>RandomForestClassifier(max_depth=10, min_samples_split=5, n_estimators=200,\n",
       "                       random_state=42)</pre></div></div></div></div></div>"
      ],
      "text/plain": [
       "RandomForestClassifier(max_depth=10, min_samples_split=5, n_estimators=200,\n",
       "                       random_state=42)"
      ]
     },
     "execution_count": 59,
     "metadata": {},
     "output_type": "execute_result"
    }
   ],
   "source": [
    "model = RandomForestClassifier(n_estimators=200, max_depth=10, min_samples_split=5, random_state=42)\n",
    "model.fit(X_train, y_train)"
   ]
  },
  {
   "cell_type": "markdown",
   "id": "203b385e",
   "metadata": {
    "id": "RsCC5QMLvUn8",
    "papermill": {
     "duration": 0.03313,
     "end_time": "2025-03-14T14:33:48.673953",
     "exception": false,
     "start_time": "2025-03-14T14:33:48.640823",
     "status": "completed"
    },
    "tags": []
   },
   "source": [
    "### ✅ Predict & Evaluate"
   ]
  },
  {
   "cell_type": "code",
   "execution_count": 60,
   "id": "7af3ca96",
   "metadata": {
    "execution": {
     "iopub.execute_input": "2025-03-14T14:33:48.744071Z",
     "iopub.status.busy": "2025-03-14T14:33:48.743589Z",
     "iopub.status.idle": "2025-03-14T14:33:51.215309Z",
     "shell.execute_reply": "2025-03-14T14:33:51.213762Z"
    },
    "id": "9EG1YFRyzdXd",
    "outputId": "8bbcb105-e430-4dcb-d294-69cc8a9e1d43",
    "papermill": {
     "duration": 2.509626,
     "end_time": "2025-03-14T14:33:51.217371",
     "exception": false,
     "start_time": "2025-03-14T14:33:48.707745",
     "status": "completed"
    },
    "tags": []
   },
   "outputs": [
    {
     "name": "stdout",
     "output_type": "stream",
     "text": [
      "🎯 Match Winner Prediction Accuracy: 82.27%\n",
      "              precision    recall  f1-score   support\n",
      "\n",
      "           0       0.97      0.99      0.98      6678\n",
      "           1       1.00      0.48      0.64      1402\n",
      "           2       0.90      1.00      0.95      2328\n",
      "           3       0.70      0.60      0.65      3142\n",
      "           4       1.00      0.23      0.37       612\n",
      "           5       0.84      1.00      0.91      1359\n",
      "           6       0.72      0.59      0.65      4190\n",
      "           7       1.00      0.14      0.24       264\n",
      "           8       0.81      0.86      0.83      6164\n",
      "           9       0.91      0.85      0.88      1186\n",
      "          10       0.79      0.80      0.80      6926\n",
      "          11       1.00      0.20      0.34        98\n",
      "          12       1.00      0.20      0.33       576\n",
      "          13       1.00      0.66      0.79      1168\n",
      "          14       0.82      0.91      0.86      5406\n",
      "          15       1.00      0.35      0.51       477\n",
      "          16       1.00      0.52      0.68       221\n",
      "          17       0.71      0.95      0.82      5464\n",
      "          18       1.00      1.00      1.00       334\n",
      "          19       0.83      0.93      0.88      4189\n",
      "\n",
      "    accuracy                           0.82     52184\n",
      "   macro avg       0.90      0.66      0.71     52184\n",
      "weighted avg       0.83      0.82      0.81     52184\n",
      "\n"
     ]
    }
   ],
   "source": [
    "y_pred = model.predict(X_test)\n",
    "accuracy = accuracy_score(y_test, y_pred)\n",
    "\n",
    "print(f\"🎯 Match Winner Prediction Accuracy: {accuracy * 100:.2f}%\")\n",
    "print(classification_report(y_test, y_pred))"
   ]
  },
  {
   "cell_type": "markdown",
   "id": "af9df842",
   "metadata": {
    "id": "aLoWx0zZ3rGr",
    "papermill": {
     "duration": 0.035611,
     "end_time": "2025-03-14T14:33:51.289104",
     "exception": false,
     "start_time": "2025-03-14T14:33:51.253493",
     "status": "completed"
    },
    "tags": []
   },
   "source": [
    "### ✅ Cross-validation for stability check"
   ]
  },
  {
   "cell_type": "code",
   "execution_count": 61,
   "id": "3128f88f",
   "metadata": {
    "execution": {
     "iopub.execute_input": "2025-03-14T14:33:51.363213Z",
     "iopub.status.busy": "2025-03-14T14:33:51.362808Z",
     "iopub.status.idle": "2025-03-14T14:35:40.842519Z",
     "shell.execute_reply": "2025-03-14T14:35:40.841191Z"
    },
    "id": "iVDzzmov3ghZ",
    "outputId": "b118f7e0-6856-4a9c-918a-bbc59e6a02b6",
    "papermill": {
     "duration": 109.553541,
     "end_time": "2025-03-14T14:35:40.879154",
     "exception": false,
     "start_time": "2025-03-14T14:33:51.325613",
     "status": "completed"
    },
    "tags": []
   },
   "outputs": [
    {
     "name": "stdout",
     "output_type": "stream",
     "text": [
      "📊 Cross-Validation Accuracy: 81.28%\n"
     ]
    }
   ],
   "source": [
    "cv_scores = cross_val_score(model, X_train, y_train, cv=5, scoring='accuracy')\n",
    "print(f\"📊 Cross-Validation Accuracy: {np.mean(cv_scores) * 100:.2f}%\")"
   ]
  },
  {
   "cell_type": "markdown",
   "id": "d0fe6e9b",
   "metadata": {
    "id": "nPEiXSMj3jIh",
    "papermill": {
     "duration": 0.033905,
     "end_time": "2025-03-14T14:35:40.947302",
     "exception": false,
     "start_time": "2025-03-14T14:35:40.913397",
     "status": "completed"
    },
    "tags": []
   },
   "source": [
    "### ✅ Feature Importance"
   ]
  },
  {
   "cell_type": "code",
   "execution_count": 62,
   "id": "ed8e8346",
   "metadata": {
    "execution": {
     "iopub.execute_input": "2025-03-14T14:35:41.017673Z",
     "iopub.status.busy": "2025-03-14T14:35:41.017246Z",
     "iopub.status.idle": "2025-03-14T14:35:41.036562Z",
     "shell.execute_reply": "2025-03-14T14:35:41.035223Z"
    },
    "id": "huS7c2D06LrL",
    "outputId": "05f8535d-3070-48f7-8483-78fbd53e1534",
    "papermill": {
     "duration": 0.057044,
     "end_time": "2025-03-14T14:35:41.038276",
     "exception": false,
     "start_time": "2025-03-14T14:35:40.981232",
     "status": "completed"
    },
    "tags": []
   },
   "outputs": [
    {
     "name": "stdout",
     "output_type": "stream",
     "text": [
      "\n",
      "🔍 Feature Importance:\n",
      " bowling_team    0.322382\n",
      "batting_team    0.296582\n",
      "venue           0.190143\n",
      "season          0.162558\n",
      "toss_win        0.028336\n",
      "dtype: float64\n"
     ]
    }
   ],
   "source": [
    "importances = pd.Series(model.feature_importances_, index=X_train.columns).sort_values(ascending=False)\n",
    "print(\"\\n🔍 Feature Importance:\\n\", importances)\n"
   ]
  },
  {
   "cell_type": "markdown",
   "id": "043628cd",
   "metadata": {
    "id": "0GC1LqodvUoA",
    "papermill": {
     "duration": 0.033606,
     "end_time": "2025-03-14T14:35:41.108132",
     "exception": false,
     "start_time": "2025-03-14T14:35:41.074526",
     "status": "completed"
    },
    "tags": []
   },
   "source": [
    "<a id=\"7-results-conclusions\"></a>\n",
    "### **🏆 7. Results & Conclusions**  \n",
    "\n",
    "#### **📊 Model Performance**  \n",
    "- **Accuracy:** ~**80-85%** (varies based on features and tuning).  \n",
    "- **Key Metrics:** Precision, Recall, and F1-score indicate **decent predictive power**, but improvements are possible.  \n",
    "- **Feature Importance:** Toss decision, venue, and team strength significantly impact match outcomes.  \n",
    "\n",
    "#### **📌 Business Insights**  \n",
    "- **Toss Impact:** Teams winning the toss have a slight edge, especially in certain venues.  \n",
    "- **Venue Effects:** Some grounds favor chasing teams, while others favor defending.  \n",
    "- **Seasonal Trends:** Performance varies across seasons due to squad changes, pitch conditions, and rule modifications.  \n",
    "\n",
    "#### **🚀 Future Improvements**  \n",
    "- **Advanced Models:** Use **XGBoost, LightGBM, or Neural Networks** for better performance.  \n",
    "- **Live Data:** Integrate **real-time match statistics** for dynamic predictions.  \n",
    "- **Player-Level Analysis:** Consider **individual player form, injuries, and head-to-head stats** for better insights.  \n",
    "- **Feature Engineering:** Include **weather conditions, team form, and match pressure scenarios** for improved accuracy.  "
   ]
  }
 ],
 "metadata": {
  "accelerator": "GPU",
  "colab": {
   "collapsed_sections": [
    "gnWRFtAXvUmW",
    "TG8PhxggvUmb",
    "m8TIYIzFvUmh",
    "xWw-nV0AvUnI",
    "hgZ3JIGyvUnS",
    "QCMvvwzrzM67"
   ],
   "gpuType": "T4",
   "provenance": []
  },
  "kaggle": {
   "accelerator": "none",
   "dataSources": [
    {
     "datasetId": 990900,
     "sourceId": 8637500,
     "sourceType": "datasetVersion"
    }
   ],
   "dockerImageVersionId": 30918,
   "isGpuEnabled": false,
   "isInternetEnabled": false,
   "language": "python",
   "sourceType": "notebook"
  },
  "kernelspec": {
   "display_name": "Python 3",
   "language": "python",
   "name": "python3"
  },
  "language_info": {
   "codemirror_mode": {
    "name": "ipython",
    "version": 3
   },
   "file_extension": ".py",
   "mimetype": "text/x-python",
   "name": "python",
   "nbconvert_exporter": "python",
   "pygments_lexer": "ipython3",
   "version": "3.10.12"
  },
  "papermill": {
   "default_parameters": {},
   "duration": 180.018614,
   "end_time": "2025-03-14T14:35:42.467519",
   "environment_variables": {},
   "exception": null,
   "input_path": "__notebook__.ipynb",
   "output_path": "__notebook__.ipynb",
   "parameters": {},
   "start_time": "2025-03-14T14:32:42.448905",
   "version": "2.6.0"
  }
 },
 "nbformat": 4,
 "nbformat_minor": 5
}
